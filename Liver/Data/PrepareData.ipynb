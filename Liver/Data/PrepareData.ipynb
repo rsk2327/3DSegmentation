{
 "cells": [
  {
   "cell_type": "code",
   "execution_count": 1,
   "metadata": {},
   "outputs": [],
   "source": [
    "import os\n",
    "import numpy as np\n",
    "import nibabel\n",
    "\n",
    "data_path = '/home/roshansk/Covid/3dSeg/Liver/Data/OrigData/'\n",
    "#we will undersample our training 2D images later (for memory and speed)\n",
    "image_rows = int(512/2)\n",
    "image_cols = int(512/2) "
   ]
  },
  {
   "cell_type": "markdown",
   "metadata": {},
   "source": [
    "### NPY Method"
   ]
  },
  {
   "cell_type": "code",
   "execution_count": 17,
   "metadata": {},
   "outputs": [],
   "source": [
    "def create_train_data(train_data_path, masks, imgs, subset):\n",
    "    print('-'*30)\n",
    "    print('Creating training data...')\n",
    "    print('-'*30)\n",
    "    \n",
    "    masks_train = []\n",
    "    imgs_train = []\n",
    "        \n",
    "    for liver, orig in zip(masks, imgs):\n",
    "        #we load 3D training mask (shape=(512,512,129))\n",
    "        training_mask = nibabel.load(os.path.join(train_data_path, liver))\n",
    "        #we load 3D training image\n",
    "        training_image = nibabel.load(os.path.join(train_data_path, orig)) \n",
    "        \n",
    "        for k in range(training_mask.shape[2]):\n",
    "            #axial cuts are made along the z axis with undersampling\n",
    "            mask_2d = np.array(training_mask.get_data()[::2, ::2, k]) \n",
    "            image_2d = np.array(training_image.get_data()[::2, ::2, k])\n",
    "            #we only recover the 2D sections containing the liver\n",
    "            #if mask_2d contains only 0, it means that there is no liver\n",
    "            if len(np.unique(mask_2d)) != 1:\n",
    "                masks_train.append(mask_2d)\n",
    "                imgs_train.append(image_2d)\n",
    "                    \n",
    "    imgs = np.ndarray(\n",
    "            (len(imgs_train), image_rows, image_cols), dtype=np.uint8\n",
    "            )\n",
    "    imgs_mask = np.ndarray(\n",
    "            (len(masks_train), image_rows, image_cols), dtype=np.uint8\n",
    "            )\n",
    "    \n",
    "    for index, img in enumerate(imgs_train):\n",
    "        imgs[index, :, :] = img\n",
    "        \n",
    "    for index, img in enumerate(masks_train):\n",
    "        imgs_mask[index, :, :] = img\n",
    "\n",
    "    np.save(f'imgs_{subset}.npy', imgs)\n",
    "    np.save(f'masks_{subset}.npy', imgs_mask)\n",
    "    print('Saving to .npy files done.')"
   ]
  },
  {
   "cell_type": "code",
   "execution_count": 18,
   "metadata": {},
   "outputs": [],
   "source": [
    "\n",
    "imgFiles = sorted([x for x in os.listdir(data_path) if 'orig' in x])\n",
    "maskFiles = sorted([x for x in os.listdir(data_path) if 'liver' in x])\n",
    "\n",
    "## Performing Train-Test split\n",
    "train_img = imgFiles[:16]\n",
    "train_mask = maskFiles[:16]\n",
    "\n",
    "test_img = imgFiles[16:]\n",
    "test_mask = maskFiles[16:]"
   ]
  },
  {
   "cell_type": "code",
   "execution_count": 19,
   "metadata": {},
   "outputs": [
    {
     "name": "stdout",
     "output_type": "stream",
     "text": [
      "------------------------------\n",
      "Creating training data...\n",
      "------------------------------\n",
      "Saving to .npy files done.\n"
     ]
    }
   ],
   "source": [
    "create_train_data(data_path, train_mask, train_img, 'train')"
   ]
  },
  {
   "cell_type": "code",
   "execution_count": 20,
   "metadata": {},
   "outputs": [
    {
     "name": "stdout",
     "output_type": "stream",
     "text": [
      "------------------------------\n",
      "Creating training data...\n",
      "------------------------------\n",
      "Saving to .npy files done.\n"
     ]
    }
   ],
   "source": [
    "create_train_data(data_path, test_mask, test_img, 'test')"
   ]
  },
  {
   "cell_type": "code",
   "execution_count": null,
   "metadata": {},
   "outputs": [],
   "source": []
  },
  {
   "cell_type": "code",
   "execution_count": null,
   "metadata": {},
   "outputs": [],
   "source": []
  },
  {
   "cell_type": "code",
   "execution_count": null,
   "metadata": {},
   "outputs": [],
   "source": []
  }
 ],
 "metadata": {
  "kernelspec": {
   "display_name": "env",
   "language": "python",
   "name": "env"
  },
  "language_info": {
   "codemirror_mode": {
    "name": "ipython",
    "version": 3
   },
   "file_extension": ".py",
   "mimetype": "text/x-python",
   "name": "python",
   "nbconvert_exporter": "python",
   "pygments_lexer": "ipython3",
   "version": "3.6.4"
  }
 },
 "nbformat": 4,
 "nbformat_minor": 4
}
