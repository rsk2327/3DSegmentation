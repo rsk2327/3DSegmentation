{
 "cells": [
  {
   "cell_type": "code",
   "execution_count": 86,
   "metadata": {},
   "outputs": [
    {
     "name": "stdout",
     "output_type": "stream",
     "text": [
      "The autoreload extension is already loaded. To reload it, use:\n",
      "  %reload_ext autoreload\n"
     ]
    }
   ],
   "source": [
    "import pandas as pd\n",
    "import numpy as np\n",
    "import os\n",
    "\n",
    "from tqdm import tqdm\n",
    "\n",
    "import nibabel as nib\n",
    "\n",
    "import matplotlib.pyplot as plt\n",
    "%matplotlib inline\n",
    "\n",
    "from PIL import Image\n",
    "import PIL\n",
    "\n",
    "import sys\n",
    "import torch\n",
    "import torchvision\n",
    "from torch import Tensor\n",
    "import torchvision.transforms as transforms\n",
    "from torchvision.transforms import Resize, ToTensor\n",
    "# from models import *\n",
    "\n",
    "%load_ext autoreload\n",
    "%autoreload 2\n",
    "\n",
    "sys.path.insert(0,'/home/roshansk/Covid/CXRData/')\n",
    "from SegLearner import *\n",
    "\n",
    "import segmentation_models_pytorch as smp\n",
    "\n",
    "sys.path.insert(0,'/home/roshansk/Covid/RibFrac/Models/')\n",
    "from models import *"
   ]
  },
  {
   "cell_type": "code",
   "execution_count": 87,
   "metadata": {},
   "outputs": [],
   "source": [
    "from torchvision.transforms import Resize,ToTensor, RandomHorizontalFlip, RandomVerticalFlip,Normalize\n",
    "\n",
    "import timm\n",
    "import imgaug as ia\n",
    "from imgaug import augmenters as iaa"
   ]
  },
  {
   "cell_type": "code",
   "execution_count": 88,
   "metadata": {},
   "outputs": [
    {
     "name": "stdout",
     "output_type": "stream",
     "text": [
      "7837\n"
     ]
    }
   ],
   "source": [
    "trainFolder = '/home/roshansk/Covid/3dSeg/Liver/Data/OrigData/'\n",
    "sliceFolder = '/home/roshansk/Covid/3dSeg/Liver/Data/Slices/'\n",
    "\n",
    "dataFiles = os.listdir(trainFolder)\n",
    "\n",
    "imgFiles = [x for x in dataFiles if 'orig' in x]\n",
    "\n",
    "sliceList = sorted(os.listdir(sliceFolder))\n",
    "imgFiles = [x for x in sliceList if 'image' in x]\n",
    "labelFiles = [x.replace('image','label') for x in imgFiles]\n",
    "\n",
    "df = pd.DataFrame({'imgPath':imgFiles,'maskPath':labelFiles})\n",
    "df.imgPath = df.imgPath.apply(lambda x : os.path.join(sliceFolder, x))\n",
    "df.maskPath = df.maskPath.apply(lambda x : os.path.join(sliceFolder, x))\n",
    "\n",
    "def getAxis(x):\n",
    "    \n",
    "    if 'x' in x:\n",
    "        return 'x'\n",
    "    elif 'z' in x:\n",
    "        return 'z'\n",
    "    elif 'y' in x:\n",
    "        return 'y'\n",
    "    \n",
    "\n",
    "df['axis'] = df.imgPath.apply(lambda x : getAxis(x))\n",
    "\n",
    "df['patient'] = df.imgPath.apply(lambda x : x.split(\"/\")[-1].split(\"_\")[1])\n",
    "\n",
    "print(len(df))"
   ]
  },
  {
   "cell_type": "code",
   "execution_count": 89,
   "metadata": {},
   "outputs": [
    {
     "data": {
      "text/plain": [
       "6269.6"
      ]
     },
     "execution_count": 89,
     "metadata": {},
     "output_type": "execute_result"
    }
   ],
   "source": [
    "0.8*len(df)"
   ]
  },
  {
   "cell_type": "code",
   "execution_count": 79,
   "metadata": {},
   "outputs": [
    {
     "data": {
      "text/html": [
       "<div>\n",
       "<style scoped>\n",
       "    .dataframe tbody tr th:only-of-type {\n",
       "        vertical-align: middle;\n",
       "    }\n",
       "\n",
       "    .dataframe tbody tr th {\n",
       "        vertical-align: top;\n",
       "    }\n",
       "\n",
       "    .dataframe thead th {\n",
       "        text-align: right;\n",
       "    }\n",
       "</style>\n",
       "<table border=\"1\" class=\"dataframe\">\n",
       "  <thead>\n",
       "    <tr style=\"text-align: right;\">\n",
       "      <th></th>\n",
       "      <th>imgPath</th>\n",
       "      <th>maskPath</th>\n",
       "      <th>axis</th>\n",
       "      <th>patient</th>\n",
       "    </tr>\n",
       "  </thead>\n",
       "  <tbody>\n",
       "    <tr>\n",
       "      <th>0</th>\n",
       "      <td>/home/roshansk/Covid/3dSeg/Liver/Data/Slices/i...</td>\n",
       "      <td>/home/roshansk/Covid/3dSeg/Liver/Data/Slices/i...</td>\n",
       "      <td>x</td>\n",
       "      <td>e01</td>\n",
       "    </tr>\n",
       "    <tr>\n",
       "      <th>1</th>\n",
       "      <td>/home/roshansk/Covid/3dSeg/Liver/Data/Slices/i...</td>\n",
       "      <td>/home/roshansk/Covid/3dSeg/Liver/Data/Slices/i...</td>\n",
       "      <td>x</td>\n",
       "      <td>e01</td>\n",
       "    </tr>\n",
       "    <tr>\n",
       "      <th>2</th>\n",
       "      <td>/home/roshansk/Covid/3dSeg/Liver/Data/Slices/i...</td>\n",
       "      <td>/home/roshansk/Covid/3dSeg/Liver/Data/Slices/i...</td>\n",
       "      <td>x</td>\n",
       "      <td>e01</td>\n",
       "    </tr>\n",
       "    <tr>\n",
       "      <th>3</th>\n",
       "      <td>/home/roshansk/Covid/3dSeg/Liver/Data/Slices/i...</td>\n",
       "      <td>/home/roshansk/Covid/3dSeg/Liver/Data/Slices/i...</td>\n",
       "      <td>x</td>\n",
       "      <td>e01</td>\n",
       "    </tr>\n",
       "    <tr>\n",
       "      <th>4</th>\n",
       "      <td>/home/roshansk/Covid/3dSeg/Liver/Data/Slices/i...</td>\n",
       "      <td>/home/roshansk/Covid/3dSeg/Liver/Data/Slices/i...</td>\n",
       "      <td>x</td>\n",
       "      <td>e01</td>\n",
       "    </tr>\n",
       "  </tbody>\n",
       "</table>\n",
       "</div>"
      ],
      "text/plain": [
       "                                             imgPath  \\\n",
       "0  /home/roshansk/Covid/3dSeg/Liver/Data/Slices/i...   \n",
       "1  /home/roshansk/Covid/3dSeg/Liver/Data/Slices/i...   \n",
       "2  /home/roshansk/Covid/3dSeg/Liver/Data/Slices/i...   \n",
       "3  /home/roshansk/Covid/3dSeg/Liver/Data/Slices/i...   \n",
       "4  /home/roshansk/Covid/3dSeg/Liver/Data/Slices/i...   \n",
       "\n",
       "                                            maskPath axis patient  \n",
       "0  /home/roshansk/Covid/3dSeg/Liver/Data/Slices/i...    x     e01  \n",
       "1  /home/roshansk/Covid/3dSeg/Liver/Data/Slices/i...    x     e01  \n",
       "2  /home/roshansk/Covid/3dSeg/Liver/Data/Slices/i...    x     e01  \n",
       "3  /home/roshansk/Covid/3dSeg/Liver/Data/Slices/i...    x     e01  \n",
       "4  /home/roshansk/Covid/3dSeg/Liver/Data/Slices/i...    x     e01  "
      ]
     },
     "execution_count": 79,
     "metadata": {},
     "output_type": "execute_result"
    }
   ],
   "source": [
    "df.head()"
   ]
  },
  {
   "cell_type": "markdown",
   "metadata": {},
   "source": [
    "## Modeling"
   ]
  },
  {
   "cell_type": "code",
   "execution_count": 167,
   "metadata": {},
   "outputs": [],
   "source": [
    "imgSize = 512\n",
    "\n",
    "device = 'cuda:1'\n",
    "\n",
    "batchSize = 10"
   ]
  },
  {
   "cell_type": "code",
   "execution_count": 168,
   "metadata": {},
   "outputs": [],
   "source": [
    "class ImgAugTransform:\n",
    "  def __init__(self ):\n",
    "        \n",
    "    self.aug = iaa.Sequential([\n",
    "#         iaa.HorizontalFlip(p = 0.5),\n",
    "#         iaa.VerticalFlip(p = 0.5),\n",
    "#         iaa.Affine(scale=(0.5, 1.5)),\n",
    "        iaa.Dropout(p=(0, 0.2), per_channel=0.5),\n",
    "        iaa.SomeOf((1,2),[\n",
    "#                     iaa.Cutout(fill_mode=\"gaussian\", fill_per_channel=True),\n",
    "                    iaa.SaltAndPepper(0.1),\n",
    "#                     iaa.Affine(rotate=(-45, 45), shear=(-16, 16)),\n",
    "#                     iaa.imgcorruptlike.GaussianNoise(severity=1),\n",
    "#                     iaa.AveragePooling(2),\n",
    "                    iaa.AddToHueAndSaturation((-60, 60)),\n",
    "                    iaa.MultiplyBrightness(mul=(0.65, 1.35)),\n",
    "                    iaa.LinearContrast((0.5, 2.0)),\n",
    "                    iaa.GaussianBlur(sigma=(0.5, 2.0)),\n",
    "#                     iaa.CoarseDropout((0.01,0.1), size_percent = 0.01)\n",
    "        ])\n",
    "    ])\n",
    "    \n",
    "    \n",
    "      \n",
    "  def __call__(self, img):\n",
    "    img = np.array(img)\n",
    "    return PIL.Image.fromarray(self.aug.augment_image(img))\n",
    " \n",
    "    \n",
    "    \n",
    "imgTrainTransforms = transforms.Compose([Resize( (imgSize, imgSize) ),\n",
    "                                      ImgAugTransform(),\n",
    "                                       ToTensor(),\n",
    "                                       Normalize(mean=[0.485, 0.456, 0.406],std=[0.229, 0.224, 0.225])\n",
    "                                        ])\n",
    "\n",
    "maskTrainTransforms = transforms.Compose([Resize( (imgSize, imgSize) ),\n",
    "                                       ToTensor()])\n",
    "\n",
    "\n",
    "imgTestTransforms = transforms.Compose([Resize( (imgSize, imgSize) ),\n",
    "                                       ToTensor(),\n",
    "                                       Normalize(mean=[0.485, 0.456, 0.406],std=[0.229, 0.224, 0.225]) ])"
   ]
  },
  {
   "cell_type": "markdown",
   "metadata": {},
   "source": [
    "### Setup"
   ]
  },
  {
   "cell_type": "code",
   "execution_count": 169,
   "metadata": {},
   "outputs": [
    {
     "name": "stderr",
     "output_type": "stream",
     "text": [
      "100%|██████████| 6270/6270 [00:43<00:00, 144.27it/s]\n",
      "100%|██████████| 1567/1567 [00:10<00:00, 146.54it/s]\n"
     ]
    }
   ],
   "source": [
    "# model = ResNetDUC(num_classes=1)\n",
    "\n",
    "model = smp.Unet('resnet50', encoder_weights='imagenet', classes=1, activation='sigmoid')\n",
    "# model = smp.PSPNet('resnet34', encoder_weights='imagenet')\n",
    "\n",
    "\n",
    "\n",
    "criterion = torch.nn.BCELoss()\n",
    "\n",
    "optimizer = torch.optim.Adam([ \n",
    "    dict(params=model.parameters(), lr=0.0001),\n",
    "])\n",
    "model.to(device)\n",
    "\n",
    "\n",
    "trainTransforms = transforms.Compose([transforms.Resize((imgSize,imgSize)), \n",
    "                                      ToTensor()])\n",
    "\n",
    "\n",
    "# trainTransforms = transforms.Compose([transforms.RandomResizedCrop(size = 256,scale = (0.06,0.5), ratio=(0.75, 1.3)), \n",
    "#                                       ToTensor()])\n",
    "\n",
    "classLoss = nn.CrossEntropyLoss()\n",
    "reconLoss = nn.MSELoss()\n",
    "\n",
    "# optimizer = torch.optim.Adam(filter(lambda p: p.requires_grad, model.parameters()), lr=0.0001)\n",
    "\n",
    "\n",
    "trainDataset = SegDataset(df.iloc[0:6270], imgTrainTransforms, maskTrainTransforms, preload=True, imgSize = imgSize)\n",
    "testDataset = SegDataset(df.iloc[6270:len(df)], imgTestTransforms, maskTrainTransforms, preload =True, imgSize = imgSize)\n",
    "\n",
    "# trainDataset = SegDataset(df.iloc[0:62], imgTrainTransforms, maskTrainTransforms, preload=True, imgSize = 256)\n",
    "# testDataset = SegDataset(df.iloc[6270:len(df)], imgTestTransforms, maskTrainTransforms, preload =True, imgSize = 256)\n",
    "\n",
    "trainLoader = torch.utils.data.DataLoader(trainDataset, batch_size=batchSize, \n",
    "                                          shuffle=True, num_workers=6)\n",
    "\n",
    "\n",
    "testLoader = torch.utils.data.DataLoader(testDataset, batch_size=batchSize, \n",
    "                                          shuffle=False, num_workers=6)"
   ]
  },
  {
   "cell_type": "markdown",
   "metadata": {
    "heading_collapsed": true
   },
   "source": [
    "#### Checking Samples"
   ]
  },
  {
   "cell_type": "code",
   "execution_count": 28,
   "metadata": {
    "hidden": true
   },
   "outputs": [],
   "source": [
    "img,mask = trainDataset[45]"
   ]
  },
  {
   "cell_type": "code",
   "execution_count": 29,
   "metadata": {
    "hidden": true
   },
   "outputs": [
    {
     "data": {
      "text/plain": [
       "<matplotlib.image.AxesImage at 0x7f728badca90>"
      ]
     },
     "execution_count": 29,
     "metadata": {},
     "output_type": "execute_result"
    },
    {
     "data": {
      "image/png": "[encoded data removed]",
      "text/plain": [
       "<Figure size 432x288 with 1 Axes>"
      ]
     },
     "metadata": {
      "needs_background": "light"
     },
     "output_type": "display_data"
    }
   ],
   "source": [
    "plt.imshow(img.permute(1,2,0).numpy())"
   ]
  },
  {
   "cell_type": "code",
   "execution_count": 30,
   "metadata": {
    "hidden": true
   },
   "outputs": [
    {
     "data": {
      "text/plain": [
       "<matplotlib.image.AxesImage at 0x7f734f024710>"
      ]
     },
     "execution_count": 30,
     "metadata": {},
     "output_type": "execute_result"
    },
    {
     "data": {
      "image/png": "[encoded data removed]",
      "text/plain": [
       "<Figure size 432x288 with 1 Axes>"
      ]
     },
     "metadata": {
      "needs_background": "light"
     },
     "output_type": "display_data"
    }
   ],
   "source": [
    "plt.imshow(mask.numpy())"
   ]
  },
  {
   "cell_type": "code",
   "execution_count": null,
   "metadata": {
    "hidden": true
   },
   "outputs": [],
   "source": []
  },
  {
   "cell_type": "markdown",
   "metadata": {},
   "source": [
    "### Training"
   ]
  },
  {
   "cell_type": "code",
   "execution_count": 170,
   "metadata": {},
   "outputs": [],
   "source": [
    "learner = SegLearner(model, trainLoader, optimizer, criterion, testLoader, device = device)"
   ]
  },
  {
   "cell_type": "code",
   "execution_count": 171,
   "metadata": {
    "scrolled": true
   },
   "outputs": [
    {
     "name": "stderr",
     "output_type": "stream",
     "text": [
      "100%|██████████| 627/627 [08:28<00:00,  1.23it/s]\n",
      "100%|██████████| 627/627 [02:50<00:00,  3.69it/s]\n",
      "  0%|          | 0/157 [00:00<?, ?it/s]"
     ]
    },
    {
     "name": "stdout",
     "output_type": "stream",
     "text": [
      "Epoch Time : 0:11:19.001974\n",
      "Train Loss : 0.1861566154722962  Train IOU : 0.7596172094345093\n"
     ]
    },
    {
     "name": "stderr",
     "output_type": "stream",
     "text": [
      "100%|██████████| 157/157 [00:44<00:00,  3.52it/s]\n",
      "  0%|          | 0/627 [00:00<?, ?it/s]"
     ]
    },
    {
     "name": "stdout",
     "output_type": "stream",
     "text": [
      "Test IOU : 0.61435866355896\n"
     ]
    },
    {
     "name": "stderr",
     "output_type": "stream",
     "text": [
      "100%|██████████| 627/627 [08:32<00:00,  1.22it/s]\n",
      "100%|██████████| 627/627 [02:49<00:00,  3.70it/s]\n",
      "  0%|          | 0/157 [00:00<?, ?it/s]"
     ]
    },
    {
     "name": "stdout",
     "output_type": "stream",
     "text": [
      "Epoch Time : 0:11:21.753452\n",
      "Train Loss : 0.0457987406779752  Train IOU : 0.03800638020038605\n"
     ]
    },
    {
     "name": "stderr",
     "output_type": "stream",
     "text": [
      "100%|██████████| 157/157 [00:44<00:00,  3.52it/s]\n",
      "  0%|          | 0/627 [00:00<?, ?it/s]"
     ]
    },
    {
     "name": "stdout",
     "output_type": "stream",
     "text": [
      "Test IOU : 0.06847479194402695\n"
     ]
    },
    {
     "name": "stderr",
     "output_type": "stream",
     "text": [
      "100%|██████████| 627/627 [08:32<00:00,  1.22it/s]\n",
      "100%|██████████| 627/627 [02:49<00:00,  3.69it/s]\n",
      "  0%|          | 0/157 [00:00<?, ?it/s]"
     ]
    },
    {
     "name": "stdout",
     "output_type": "stream",
     "text": [
      "Epoch Time : 0:11:22.393898\n",
      "Train Loss : 0.029465323658674908  Train IOU : 0.8317543268203735\n"
     ]
    },
    {
     "name": "stderr",
     "output_type": "stream",
     "text": [
      "100%|██████████| 157/157 [00:44<00:00,  3.54it/s]"
     ]
    },
    {
     "name": "stdout",
     "output_type": "stream",
     "text": [
      "Test IOU : 0.6118060350418091\n"
     ]
    },
    {
     "name": "stderr",
     "output_type": "stream",
     "text": [
      "\n"
     ]
    }
   ],
   "source": [
    "learner.fit(num_epochs=3, save_best_model=False, save_every_epoch=False, useLogger = False)"
   ]
  },
  {
   "cell_type": "code",
   "execution_count": 209,
   "metadata": {},
   "outputs": [
    {
     "name": "stderr",
     "output_type": "stream",
     "text": [
      "100%|██████████| 627/627 [08:27<00:00,  1.24it/s]\n",
      "100%|██████████| 627/627 [02:49<00:00,  3.70it/s]\n",
      "  0%|          | 0/157 [00:00<?, ?it/s]"
     ]
    },
    {
     "name": "stdout",
     "output_type": "stream",
     "text": [
      "Epoch Time : 0:11:16.744346\n",
      "Train Loss : 0.011066299285353466  Train IOU : 0.9171929359436035\n"
     ]
    },
    {
     "name": "stderr",
     "output_type": "stream",
     "text": [
      "100%|██████████| 157/157 [00:44<00:00,  3.55it/s]\n",
      "  0%|          | 0/627 [00:00<?, ?it/s]"
     ]
    },
    {
     "name": "stdout",
     "output_type": "stream",
     "text": [
      "Test IOU : 0.6033183932304382\n"
     ]
    },
    {
     "name": "stderr",
     "output_type": "stream",
     "text": [
      "100%|██████████| 627/627 [08:32<00:00,  1.22it/s]\n",
      "100%|██████████| 627/627 [02:49<00:00,  3.70it/s]\n",
      "  0%|          | 0/157 [00:00<?, ?it/s]"
     ]
    },
    {
     "name": "stdout",
     "output_type": "stream",
     "text": [
      "Epoch Time : 0:11:21.515289\n",
      "Train Loss : 0.00989211462898569  Train IOU : 0.9281020760536194\n"
     ]
    },
    {
     "name": "stderr",
     "output_type": "stream",
     "text": [
      "100%|██████████| 157/157 [00:43<00:00,  3.57it/s]"
     ]
    },
    {
     "name": "stdout",
     "output_type": "stream",
     "text": [
      "Test IOU : 0.6408423781394958\n"
     ]
    },
    {
     "name": "stderr",
     "output_type": "stream",
     "text": [
      "\n"
     ]
    }
   ],
   "source": [
    "learner.optimizer = torch.optim.Adam([ \n",
    "    dict(params=model.parameters(), lr=0.00001),\n",
    "])\n",
    "\n",
    "learner.fit(num_epochs=2, save_best_model=False, save_every_epoch=False, useLogger = False)"
   ]
  },
  {
   "cell_type": "code",
   "execution_count": 75,
   "metadata": {},
   "outputs": [
    {
     "name": "stderr",
     "output_type": "stream",
     "text": [
      "100%|██████████| 627/627 [02:33<00:00,  4.09it/s]\n",
      "100%|██████████| 627/627 [00:46<00:00, 13.42it/s]\n",
      "  0%|          | 0/157 [00:00<?, ?it/s]"
     ]
    },
    {
     "name": "stdout",
     "output_type": "stream",
     "text": [
      "Epoch Time : 0:03:19.917093\n",
      "Train Loss : 0.015124490492022113  Train IOU : 0.8675916790962219\n"
     ]
    },
    {
     "name": "stderr",
     "output_type": "stream",
     "text": [
      "100%|██████████| 157/157 [00:12<00:00, 12.66it/s]\n",
      "  0%|          | 0/627 [00:00<?, ?it/s]"
     ]
    },
    {
     "name": "stdout",
     "output_type": "stream",
     "text": [
      "Test IOU : 0.3344607353210449\n"
     ]
    },
    {
     "name": "stderr",
     "output_type": "stream",
     "text": [
      "100%|██████████| 627/627 [02:33<00:00,  4.09it/s]\n",
      "100%|██████████| 627/627 [00:46<00:00, 13.43it/s]\n",
      "  0%|          | 0/157 [00:00<?, ?it/s]"
     ]
    },
    {
     "name": "stdout",
     "output_type": "stream",
     "text": [
      "Epoch Time : 0:03:19.842932\n",
      "Train Loss : 0.013702570508268366  Train IOU : 0.8751515746116638\n"
     ]
    },
    {
     "name": "stderr",
     "output_type": "stream",
     "text": [
      "100%|██████████| 157/157 [00:12<00:00, 12.54it/s]"
     ]
    },
    {
     "name": "stdout",
     "output_type": "stream",
     "text": [
      "Test IOU : 0.3449266254901886\n"
     ]
    },
    {
     "name": "stderr",
     "output_type": "stream",
     "text": [
      "\n"
     ]
    }
   ],
   "source": [
    "learner.optimizer = torch.optim.Adam([ \n",
    "    dict(params=model.parameters(), lr=0.00001),\n",
    "])\n",
    "\n",
    "learner.fit(num_epochs=2, save_best_model=False, save_every_epoch=False, useLogger = False)"
   ]
  },
  {
   "cell_type": "code",
   "execution_count": null,
   "metadata": {},
   "outputs": [],
   "source": [
    "a = 1"
   ]
  },
  {
   "cell_type": "code",
   "execution_count": null,
   "metadata": {},
   "outputs": [],
   "source": []
  },
  {
   "cell_type": "code",
   "execution_count": null,
   "metadata": {},
   "outputs": [],
   "source": []
  },
  {
   "cell_type": "markdown",
   "metadata": {
    "heading_collapsed": true
   },
   "source": [
    "### Using NPY files"
   ]
  },
  {
   "cell_type": "code",
   "execution_count": 11,
   "metadata": {
    "hidden": true
   },
   "outputs": [],
   "source": [
    "trainX = '/home/roshansk/Covid/Live/Deep-Learning-liver-segmentation/imgs_train.npy'\n",
    "testX = '/home/roshansk/Covid/Live/Deep-Learning-liver-segmentation/imgs_test.npy'\n",
    "\n",
    "trainy = '/home/roshansk/Covid/Live/Deep-Learning-liver-segmentation/masks_train.npy'\n",
    "testy = '/home/roshansk/Covid/Live/Deep-Learning-liver-segmentation/masks_test.npy'"
   ]
  },
  {
   "cell_type": "code",
   "execution_count": 12,
   "metadata": {
    "hidden": true
   },
   "outputs": [],
   "source": [
    "trainX = np.load(trainX)\n",
    "testX = np.load(testX)\n",
    "\n",
    "trainy = np.load(trainy)\n",
    "testy = np.load(testy)"
   ]
  },
  {
   "cell_type": "code",
   "execution_count": 70,
   "metadata": {
    "hidden": true
   },
   "outputs": [],
   "source": [
    "class SegDataset2(torch.utils.data.Dataset):\n",
    "    \n",
    "  def __init__(self, matrix, mask):\n",
    "\n",
    "\n",
    "    self.matrix = matrix\n",
    "    self.mask = mask\n",
    "    self.transforms = transforms\n",
    "\n",
    "\n",
    "  def __len__(self):\n",
    "\n",
    "    return self.matrix.shape[0]\n",
    "\n",
    "  def __getitem__(self, index):\n",
    "        \n",
    "        \n",
    "    img = self.matrix[index,:,:]\n",
    "    mask = self.mask[index,:,:]\n",
    "    \n",
    "    img = Tensor(img).unsqueeze(0).repeat(3,1,1)\n",
    "    mask = Tensor(mask).unsqueeze(0)\n",
    "    \n",
    "#     mask = mask.type(torch.uint8)\n",
    "\n",
    "    return img, mask"
   ]
  },
  {
   "cell_type": "code",
   "execution_count": 71,
   "metadata": {
    "hidden": true
   },
   "outputs": [],
   "source": [
    "trainDataset = SegDataset2(trainX, trainy)\n",
    "testDataset = SegDataset2(testX, testy)"
   ]
  },
  {
   "cell_type": "code",
   "execution_count": 72,
   "metadata": {
    "hidden": true
   },
   "outputs": [],
   "source": [
    "trainLoader = torch.utils.data.DataLoader(trainDataset, batch_size=batchSize, \n",
    "                                          shuffle=True, num_workers=1)\n",
    "\n",
    "\n",
    "testLoader = torch.utils.data.DataLoader(testDataset, batch_size=batchSize, \n",
    "                                          shuffle=False, num_workers=1)"
   ]
  },
  {
   "cell_type": "code",
   "execution_count": 53,
   "metadata": {
    "hidden": true
   },
   "outputs": [],
   "source": [
    "a = trainDataset[0][0]"
   ]
  },
  {
   "cell_type": "code",
   "execution_count": 62,
   "metadata": {
    "hidden": true
   },
   "outputs": [
    {
     "data": {
      "text/plain": [
       "torch.Size([3, 256, 256])"
      ]
     },
     "execution_count": 62,
     "metadata": {},
     "output_type": "execute_result"
    }
   ],
   "source": [
    "a.unsqueeze(0).repeat(3,1,1).shape"
   ]
  },
  {
   "cell_type": "code",
   "execution_count": 37,
   "metadata": {
    "hidden": true
   },
   "outputs": [
    {
     "data": {
      "text/plain": [
       "torch.float32"
      ]
     },
     "execution_count": 37,
     "metadata": {},
     "output_type": "execute_result"
    }
   ],
   "source": [
    "a[1].dtype"
   ]
  },
  {
   "cell_type": "code",
   "execution_count": 73,
   "metadata": {
    "hidden": true
   },
   "outputs": [],
   "source": [
    "learner = SegLearner(model, trainLoader, optimizer, criterion, testLoader, device = 'cuda:0')"
   ]
  },
  {
   "cell_type": "code",
   "execution_count": 74,
   "metadata": {
    "hidden": true
   },
   "outputs": [
    {
     "name": "stderr",
     "output_type": "stream",
     "text": [
      "100%|██████████| 272/272 [03:20<00:00,  1.35it/s]\n",
      "100%|██████████| 272/272 [01:03<00:00,  4.31it/s]\n",
      "  0%|          | 0/204 [00:00<?, ?it/s]"
     ]
    },
    {
     "name": "stdout",
     "output_type": "stream",
     "text": [
      "Epoch Time : 0:04:23.890350\n",
      "Train Loss : 0.6960874767426182  Train IOU : 0.309492290019989\n"
     ]
    },
    {
     "name": "stderr",
     "output_type": "stream",
     "text": [
      "100%|██████████| 204/204 [00:47<00:00,  4.32it/s]\n",
      "  0%|          | 0/272 [00:00<?, ?it/s]"
     ]
    },
    {
     "name": "stdout",
     "output_type": "stream",
     "text": [
      "Test IOU : 0.2537856101989746\n"
     ]
    },
    {
     "name": "stderr",
     "output_type": "stream",
     "text": [
      "100%|██████████| 272/272 [03:24<00:00,  1.33it/s]\n",
      "100%|██████████| 272/272 [01:03<00:00,  4.31it/s]\n",
      "  0%|          | 0/204 [00:00<?, ?it/s]"
     ]
    },
    {
     "name": "stdout",
     "output_type": "stream",
     "text": [
      "Epoch Time : 0:04:27.899459\n",
      "Train Loss : 0.6619658693671227  Train IOU : 0.5513613224029541\n"
     ]
    },
    {
     "name": "stderr",
     "output_type": "stream",
     "text": [
      "100%|██████████| 204/204 [00:47<00:00,  4.32it/s]\n",
      "  0%|          | 0/272 [00:00<?, ?it/s]"
     ]
    },
    {
     "name": "stdout",
     "output_type": "stream",
     "text": [
      "Test IOU : 0.35437560081481934\n"
     ]
    },
    {
     "name": "stderr",
     "output_type": "stream",
     "text": [
      "100%|██████████| 272/272 [03:25<00:00,  1.32it/s]\n",
      "100%|██████████| 272/272 [01:03<00:00,  4.31it/s]\n",
      "  0%|          | 0/204 [00:00<?, ?it/s]"
     ]
    },
    {
     "name": "stdout",
     "output_type": "stream",
     "text": [
      "Epoch Time : 0:04:28.421801\n",
      "Train Loss : 0.6582859603359419  Train IOU : 0.580426812171936\n"
     ]
    },
    {
     "name": "stderr",
     "output_type": "stream",
     "text": [
      "100%|██████████| 204/204 [00:47<00:00,  4.31it/s]\n"
     ]
    },
    {
     "name": "stdout",
     "output_type": "stream",
     "text": [
      "Test IOU : 0.3651917278766632\n"
     ]
    }
   ],
   "source": [
    "learner.fit(num_epochs=3, save_best_model=False, save_every_epoch=False, useLogger = False)"
   ]
  },
  {
   "cell_type": "code",
   "execution_count": 75,
   "metadata": {
    "hidden": true
   },
   "outputs": [
    {
     "name": "stderr",
     "output_type": "stream",
     "text": [
      "100%|██████████| 272/272 [03:21<00:00,  1.35it/s]\n",
      "100%|██████████| 272/272 [01:03<00:00,  4.31it/s]\n",
      "  0%|          | 0/204 [00:00<?, ?it/s]"
     ]
    },
    {
     "name": "stdout",
     "output_type": "stream",
     "text": [
      "Epoch Time : 0:04:24.470512\n",
      "Train Loss : 0.6563309336848119  Train IOU : 0.6831493973731995\n"
     ]
    },
    {
     "name": "stderr",
     "output_type": "stream",
     "text": [
      "100%|██████████| 204/204 [00:47<00:00,  4.32it/s]\n",
      "  0%|          | 0/272 [00:00<?, ?it/s]"
     ]
    },
    {
     "name": "stdout",
     "output_type": "stream",
     "text": [
      "Test IOU : 0.4163225293159485\n"
     ]
    },
    {
     "name": "stderr",
     "output_type": "stream",
     "text": [
      "100%|██████████| 272/272 [03:25<00:00,  1.33it/s]\n",
      "100%|██████████| 272/272 [01:03<00:00,  4.31it/s]\n",
      "  0%|          | 0/204 [00:00<?, ?it/s]"
     ]
    },
    {
     "name": "stdout",
     "output_type": "stream",
     "text": [
      "Epoch Time : 0:04:28.303623\n",
      "Train Loss : 0.6551946469527834  Train IOU : 0.6875644326210022\n"
     ]
    },
    {
     "name": "stderr",
     "output_type": "stream",
     "text": [
      "100%|██████████| 204/204 [00:47<00:00,  4.31it/s]\n",
      "  0%|          | 0/272 [00:00<?, ?it/s]"
     ]
    },
    {
     "name": "stdout",
     "output_type": "stream",
     "text": [
      "Test IOU : 0.45044249296188354\n"
     ]
    },
    {
     "name": "stderr",
     "output_type": "stream",
     "text": [
      "100%|██████████| 272/272 [03:25<00:00,  1.33it/s]\n",
      "100%|██████████| 272/272 [01:03<00:00,  4.31it/s]\n",
      "  0%|          | 0/204 [00:00<?, ?it/s]"
     ]
    },
    {
     "name": "stdout",
     "output_type": "stream",
     "text": [
      "Epoch Time : 0:04:28.197490\n",
      "Train Loss : 0.6542562193730298  Train IOU : 0.7507726550102234\n"
     ]
    },
    {
     "name": "stderr",
     "output_type": "stream",
     "text": [
      "100%|██████████| 204/204 [00:47<00:00,  4.31it/s]"
     ]
    },
    {
     "name": "stdout",
     "output_type": "stream",
     "text": [
      "Test IOU : 0.44316619634628296\n"
     ]
    },
    {
     "name": "stderr",
     "output_type": "stream",
     "text": [
      "\n"
     ]
    }
   ],
   "source": [
    "learner.fit(num_epochs=3, save_best_model=False, save_every_epoch=False, useLogger = False)"
   ]
  },
  {
   "cell_type": "code",
   "execution_count": 77,
   "metadata": {
    "hidden": true
   },
   "outputs": [
    {
     "name": "stderr",
     "output_type": "stream",
     "text": [
      "100%|██████████| 272/272 [03:20<00:00,  1.36it/s]\n",
      "100%|██████████| 272/272 [01:03<00:00,  4.30it/s]\n",
      "  0%|          | 0/204 [00:00<?, ?it/s]"
     ]
    },
    {
     "name": "stdout",
     "output_type": "stream",
     "text": [
      "Epoch Time : 0:04:23.707304\n",
      "Train Loss : 0.6510335700038601  Train IOU : 0.8704193830490112\n"
     ]
    },
    {
     "name": "stderr",
     "output_type": "stream",
     "text": [
      "100%|██████████| 204/204 [00:47<00:00,  4.31it/s]\n",
      "  0%|          | 0/272 [00:00<?, ?it/s]"
     ]
    },
    {
     "name": "stdout",
     "output_type": "stream",
     "text": [
      "Test IOU : 0.45024585723876953\n"
     ]
    },
    {
     "name": "stderr",
     "output_type": "stream",
     "text": [
      "100%|██████████| 272/272 [03:25<00:00,  1.33it/s]\n",
      "100%|██████████| 272/272 [01:03<00:00,  4.31it/s]\n",
      "  0%|          | 0/204 [00:00<?, ?it/s]"
     ]
    },
    {
     "name": "stdout",
     "output_type": "stream",
     "text": [
      "Epoch Time : 0:04:28.368771\n",
      "Train Loss : 0.6509412632269018  Train IOU : 0.8578366637229919\n"
     ]
    },
    {
     "name": "stderr",
     "output_type": "stream",
     "text": [
      "100%|██████████| 204/204 [00:47<00:00,  4.31it/s]\n",
      "  0%|          | 0/272 [00:00<?, ?it/s]"
     ]
    },
    {
     "name": "stdout",
     "output_type": "stream",
     "text": [
      "Test IOU : 0.44591936469078064\n"
     ]
    },
    {
     "name": "stderr",
     "output_type": "stream",
     "text": [
      "100%|██████████| 272/272 [03:25<00:00,  1.32it/s]\n",
      "100%|██████████| 272/272 [01:03<00:00,  4.31it/s]\n",
      "  0%|          | 0/204 [00:00<?, ?it/s]"
     ]
    },
    {
     "name": "stdout",
     "output_type": "stream",
     "text": [
      "Epoch Time : 0:04:28.423233\n",
      "Train Loss : 0.6506421730360564  Train IOU : 0.8682854771614075\n"
     ]
    },
    {
     "name": "stderr",
     "output_type": "stream",
     "text": [
      "100%|██████████| 204/204 [00:47<00:00,  4.31it/s]\n",
      "  0%|          | 0/272 [00:00<?, ?it/s]"
     ]
    },
    {
     "name": "stdout",
     "output_type": "stream",
     "text": [
      "Test IOU : 0.44542771577835083\n"
     ]
    },
    {
     "name": "stderr",
     "output_type": "stream",
     "text": [
      "100%|██████████| 272/272 [03:25<00:00,  1.32it/s]\n",
      "100%|██████████| 272/272 [01:03<00:00,  4.31it/s]\n",
      "  0%|          | 0/204 [00:00<?, ?it/s]"
     ]
    },
    {
     "name": "stdout",
     "output_type": "stream",
     "text": [
      "Epoch Time : 0:04:28.534365\n",
      "Train Loss : 0.6505153851912302  Train IOU : 0.8940397500991821\n"
     ]
    },
    {
     "name": "stderr",
     "output_type": "stream",
     "text": [
      "100%|██████████| 204/204 [00:47<00:00,  4.31it/s]\n",
      "  0%|          | 0/272 [00:00<?, ?it/s]"
     ]
    },
    {
     "name": "stdout",
     "output_type": "stream",
     "text": [
      "Test IOU : 0.45929205417633057\n"
     ]
    },
    {
     "name": "stderr",
     "output_type": "stream",
     "text": [
      "100%|██████████| 272/272 [03:25<00:00,  1.32it/s]\n",
      "100%|██████████| 272/272 [01:03<00:00,  4.31it/s]\n",
      "  0%|          | 0/204 [00:00<?, ?it/s]"
     ]
    },
    {
     "name": "stdout",
     "output_type": "stream",
     "text": [
      "Epoch Time : 0:04:28.514696\n",
      "Train Loss : 0.6504148880348486  Train IOU : 0.8957321643829346\n"
     ]
    },
    {
     "name": "stderr",
     "output_type": "stream",
     "text": [
      "100%|██████████| 204/204 [00:47<00:00,  4.31it/s]\n",
      "  0%|          | 0/272 [00:00<?, ?it/s]"
     ]
    },
    {
     "name": "stdout",
     "output_type": "stream",
     "text": [
      "Test IOU : 0.4533923268318176\n"
     ]
    },
    {
     "name": "stderr",
     "output_type": "stream",
     "text": [
      "100%|██████████| 272/272 [03:25<00:00,  1.33it/s]\n",
      "100%|██████████| 272/272 [01:03<00:00,  4.31it/s]\n",
      "  0%|          | 0/204 [00:00<?, ?it/s]"
     ]
    },
    {
     "name": "stdout",
     "output_type": "stream",
     "text": [
      "Epoch Time : 0:04:28.445800\n",
      "Train Loss : 0.6502281506271923  Train IOU : 0.9022810459136963\n"
     ]
    },
    {
     "name": "stderr",
     "output_type": "stream",
     "text": [
      "100%|██████████| 204/204 [00:47<00:00,  4.32it/s]\n",
      "  0%|          | 0/272 [00:00<?, ?it/s]"
     ]
    },
    {
     "name": "stdout",
     "output_type": "stream",
     "text": [
      "Test IOU : 0.4574238061904907\n"
     ]
    },
    {
     "name": "stderr",
     "output_type": "stream",
     "text": [
      "100%|██████████| 272/272 [03:25<00:00,  1.33it/s]\n",
      "100%|██████████| 272/272 [01:03<00:00,  4.31it/s]\n",
      "  0%|          | 0/204 [00:00<?, ?it/s]"
     ]
    },
    {
     "name": "stdout",
     "output_type": "stream",
     "text": [
      "Epoch Time : 0:04:28.303801\n",
      "Train Loss : 0.6500961554839331  Train IOU : 0.9001471996307373\n"
     ]
    },
    {
     "name": "stderr",
     "output_type": "stream",
     "text": [
      "100%|██████████| 204/204 [00:47<00:00,  4.32it/s]\n",
      "  0%|          | 0/272 [00:00<?, ?it/s]"
     ]
    },
    {
     "name": "stdout",
     "output_type": "stream",
     "text": [
      "Test IOU : 0.44660767912864685\n"
     ]
    },
    {
     "name": "stderr",
     "output_type": "stream",
     "text": [
      "100%|██████████| 272/272 [03:24<00:00,  1.33it/s]\n",
      "100%|██████████| 272/272 [01:03<00:00,  4.30it/s]\n",
      "  0%|          | 0/204 [00:00<?, ?it/s]"
     ]
    },
    {
     "name": "stdout",
     "output_type": "stream",
     "text": [
      "Epoch Time : 0:04:28.158554\n",
      "Train Loss : 0.649992504321477  Train IOU : 0.8989697694778442\n"
     ]
    },
    {
     "name": "stderr",
     "output_type": "stream",
     "text": [
      "100%|██████████| 204/204 [00:47<00:00,  4.31it/s]"
     ]
    },
    {
     "name": "stdout",
     "output_type": "stream",
     "text": [
      "Test IOU : 0.44739434123039246\n"
     ]
    },
    {
     "name": "stderr",
     "output_type": "stream",
     "text": [
      "\n"
     ]
    }
   ],
   "source": [
    "learner.fit(num_epochs=8, save_best_model=False, save_every_epoch=False, useLogger = False)"
   ]
  },
  {
   "cell_type": "code",
   "execution_count": null,
   "metadata": {
    "hidden": true
   },
   "outputs": [],
   "source": [
    "learner.fit(num_epochs=8, save_best_model=False, save_every_epoch=False, useLogger = False)"
   ]
  },
  {
   "cell_type": "markdown",
   "metadata": {},
   "source": [
    "## Testing"
   ]
  },
  {
   "cell_type": "code",
   "execution_count": 108,
   "metadata": {},
   "outputs": [],
   "source": [
    "trainDf = df.iloc[0:6270]\n",
    "testDf = df.iloc[6270:]"
   ]
  },
  {
   "cell_type": "code",
   "execution_count": 113,
   "metadata": {},
   "outputs": [],
   "source": [
    "index = 10\n",
    "img = Image.open(testDf.iloc[index]['imgPath'])\n",
    "mask = Image.open(testDf.iloc[index]['maskPath'])"
   ]
  },
  {
   "cell_type": "code",
   "execution_count": 112,
   "metadata": {},
   "outputs": [
    {
     "data": {
      "image/png": "[encoded data removed]",
      "text/plain": [
       "<PIL.JpegImagePlugin.JpegImageFile image mode=RGB size=155x512 at 0x7F91B9C17240>"
      ]
     },
     "execution_count": 112,
     "metadata": {},
     "output_type": "execute_result"
    }
   ],
   "source": [
    "img"
   ]
  },
  {
   "cell_type": "code",
   "execution_count": 107,
   "metadata": {},
   "outputs": [
    {
     "data": {
      "text/plain": [
       "<matplotlib.image.AxesImage at 0x7f91b24d5240>"
      ]
     },
     "execution_count": 107,
     "metadata": {},
     "output_type": "execute_result"
    },
    {
     "data": {
      "image/png": "[encoded data removed]",
      "text/plain": [
       "<Figure size 432x288 with 1 Axes>"
      ]
     },
     "metadata": {
      "needs_background": "light"
     },
     "output_type": "display_data"
    }
   ],
   "source": [
    "plt.imshow(np.array(mask)*255)"
   ]
  },
  {
   "cell_type": "markdown",
   "metadata": {},
   "source": [
    "### Testing specific samples"
   ]
  },
  {
   "cell_type": "code",
   "execution_count": 189,
   "metadata": {},
   "outputs": [],
   "source": [
    "def testSample(df, index, model, imgSize = 512, returnOutput = False, plot = True):\n",
    "    \n",
    "    testDataset = SegDataset(df.iloc[index:index+1], imgTestTransforms, maskTrainTransforms, preload =True, imgSize = imgSize)\n",
    "    \n",
    "    img,mask = testDataset[0]\n",
    "\n",
    "    img = img.to(device)\n",
    "    img = img.unsqueeze(0)\n",
    "\n",
    "    out = model(img)\n",
    "    out = out.detach().cpu().numpy()[0,0,:,:]\n",
    "\n",
    "    if plot:\n",
    "        plt.figure(figsize = (10,5))\n",
    "        plt.subplot(121)\n",
    "        plt.imshow(out)\n",
    "\n",
    "        plt.subplot(122)\n",
    "        plt.imshow(mask.cpu().numpy())\n",
    "    \n",
    "    pred_ = out>0.5\n",
    "    pred_ = pred_.astype('int')\n",
    "    \n",
    "    diceScore = dice(pred_, mask.cpu().numpy() )\n",
    "    \n",
    "    print(diceScore)\n",
    "    \n",
    "    if returnOutput:\n",
    "        return out, mask.cpu().numpy(), diceScore\n",
    "    "
   ]
  },
  {
   "cell_type": "code",
   "execution_count": 147,
   "metadata": {},
   "outputs": [
    {
     "name": "stderr",
     "output_type": "stream",
     "text": [
      "100%|██████████| 1/1 [00:00<00:00, 78.32it/s]\n"
     ]
    },
    {
     "data": {
      "image/png": "[encoded data removed]",
      "text/plain": [
       "<Figure size 720x360 with 2 Axes>"
      ]
     },
     "metadata": {
      "needs_background": "light"
     },
     "output_type": "display_data"
    }
   ],
   "source": [
    "testSample(testDf, 5, learner.model)"
   ]
  },
  {
   "cell_type": "code",
   "execution_count": 148,
   "metadata": {
    "scrolled": true
   },
   "outputs": [
    {
     "name": "stderr",
     "output_type": "stream",
     "text": [
      "100%|██████████| 1/1 [00:00<00:00, 79.78it/s]\n"
     ]
    },
    {
     "data": {
      "image/png": "[encoded data removed]",
      "text/plain": [
       "<Figure size 720x360 with 2 Axes>"
      ]
     },
     "metadata": {
      "needs_background": "light"
     },
     "output_type": "display_data"
    }
   ],
   "source": [
    "testSample(testDf, 15, learner.model)"
   ]
  },
  {
   "cell_type": "code",
   "execution_count": 188,
   "metadata": {},
   "outputs": [
    {
     "name": "stderr",
     "output_type": "stream",
     "text": [
      "100%|██████████| 1/1 [00:00<00:00, 63.06it/s]\n"
     ]
    },
    {
     "name": "stdout",
     "output_type": "stream",
     "text": [
      "0.9476600153146255\n"
     ]
    },
    {
     "data": {
      "image/png": "[encoded data removed]",
      "text/plain": [
       "<Figure size 720x360 with 2 Axes>"
      ]
     },
     "metadata": {
      "needs_background": "light"
     },
     "output_type": "display_data"
    }
   ],
   "source": [
    "testSample(testDf, 25, learner.model)"
   ]
  },
  {
   "cell_type": "code",
   "execution_count": 187,
   "metadata": {},
   "outputs": [
    {
     "name": "stderr",
     "output_type": "stream",
     "text": [
      "100%|██████████| 1/1 [00:00<00:00, 64.40it/s]\n"
     ]
    },
    {
     "name": "stdout",
     "output_type": "stream",
     "text": [
      "0.8172836133497245\n"
     ]
    },
    {
     "data": {
      "image/png": "[encoded data removed]",
      "text/plain": [
       "<Figure size 720x360 with 2 Axes>"
      ]
     },
     "metadata": {
      "needs_background": "light"
     },
     "output_type": "display_data"
    }
   ],
   "source": [
    "testSample(testDf, 125, learner.model)"
   ]
  },
  {
   "cell_type": "code",
   "execution_count": 186,
   "metadata": {},
   "outputs": [
    {
     "name": "stderr",
     "output_type": "stream",
     "text": [
      "100%|██████████| 1/1 [00:00<00:00, 62.77it/s]\n"
     ]
    },
    {
     "name": "stdout",
     "output_type": "stream",
     "text": [
      "0.9357436242545193\n"
     ]
    },
    {
     "data": {
      "image/png": "[encoded data removed]",
      "text/plain": [
       "<Figure size 720x360 with 2 Axes>"
      ]
     },
     "metadata": {
      "needs_background": "light"
     },
     "output_type": "display_data"
    }
   ],
   "source": [
    "testSample(testDf, 325, learner.model)"
   ]
  },
  {
   "cell_type": "code",
   "execution_count": 185,
   "metadata": {},
   "outputs": [
    {
     "name": "stderr",
     "output_type": "stream",
     "text": [
      "100%|██████████| 1/1 [00:00<00:00, 65.32it/s]\n"
     ]
    },
    {
     "name": "stdout",
     "output_type": "stream",
     "text": [
      "0.9476600153146255\n"
     ]
    },
    {
     "data": {
      "image/png": "[encoded data removed]",
      "text/plain": [
       "<Figure size 720x360 with 2 Axes>"
      ]
     },
     "metadata": {
      "needs_background": "light"
     },
     "output_type": "display_data"
    }
   ],
   "source": [
    "pred, mask, diceScore = testSample(testDf, 25, learner.model, returnOutput=True)"
   ]
  },
  {
   "cell_type": "code",
   "execution_count": 182,
   "metadata": {},
   "outputs": [],
   "source": []
  },
  {
   "cell_type": "code",
   "execution_count": 190,
   "metadata": {},
   "outputs": [
    {
     "name": "stderr",
     "output_type": "stream",
     "text": [
      "  0%|          | 0/1567 [00:00<?, ?it/s]\n",
      "100%|██████████| 1/1 [00:00<00:00, 56.83it/s]\n",
      "\n",
      "100%|██████████| 1/1 [00:00<00:00, 87.70it/s]\n",
      "  0%|          | 2/1567 [00:00<01:59, 13.15it/s]\n",
      "100%|██████████| 1/1 [00:00<00:00, 93.18it/s]\n",
      "\n",
      "100%|██████████| 1/1 [00:00<00:00, 93.73it/s]\n",
      "  0%|          | 4/1567 [00:00<01:52, 13.85it/s]\n",
      "  0%|          | 0/1 [00:00<?, ?it/s]\u001b[A"
     ]
    },
    {
     "name": "stdout",
     "output_type": "stream",
     "text": [
      "0.1317717874901858\n",
      "0.1916052766832277\n",
      "0.2339982137540935\n",
      "0.30088994483147424\n"
     ]
    },
    {
     "name": "stderr",
     "output_type": "stream",
     "text": [
      "100%|██████████| 1/1 [00:00<00:00, 93.43it/s]\n",
      "\n",
      "100%|██████████| 1/1 [00:00<00:00, 95.36it/s]\n",
      "  0%|          | 6/1567 [00:00<01:47, 14.58it/s]\n",
      "100%|██████████| 1/1 [00:00<00:00, 92.68it/s]\n",
      "\n",
      "100%|██████████| 1/1 [00:00<00:00, 94.77it/s]\n",
      "  1%|          | 8/1567 [00:00<01:43, 15.13it/s]\n",
      "100%|██████████| 1/1 [00:00<00:00, 92.93it/s]"
     ]
    },
    {
     "name": "stdout",
     "output_type": "stream",
     "text": [
      "0.32915879017013233\n",
      "0.3580888770824637\n",
      "0.4327633189842423\n",
      "0.5139155871291267\n"
     ]
    },
    {
     "name": "stderr",
     "output_type": "stream",
     "text": [
      "\n",
      "\n",
      "100%|██████████| 1/1 [00:00<00:00, 92.49it/s]\n",
      "  1%|          | 10/1567 [00:00<01:39, 15.58it/s]\n",
      "100%|██████████| 1/1 [00:00<00:00, 92.46it/s]\n",
      "\n",
      "100%|██████████| 1/1 [00:00<00:00, 93.88it/s]\n",
      "  1%|          | 12/1567 [00:00<01:37, 15.91it/s]\n",
      "100%|██████████| 1/1 [00:00<00:00, 95.88it/s]"
     ]
    },
    {
     "name": "stdout",
     "output_type": "stream",
     "text": [
      "0.5083146597476117\n",
      "0.647935944766745\n",
      "0.699866065992938\n",
      "0.8171317380144075\n"
     ]
    },
    {
     "name": "stderr",
     "output_type": "stream",
     "text": [
      "\n",
      "\n",
      "100%|██████████| 1/1 [00:00<00:00, 124.86it/s]\n",
      "  1%|          | 14/1567 [00:00<01:34, 16.51it/s]\n",
      "100%|██████████| 1/1 [00:00<00:00, 134.97it/s]\n",
      "\n",
      "100%|██████████| 1/1 [00:00<00:00, 133.10it/s]\n",
      "  1%|          | 16/1567 [00:00<01:30, 17.18it/s]\n",
      "100%|██████████| 1/1 [00:00<00:00, 132.99it/s]"
     ]
    },
    {
     "name": "stdout",
     "output_type": "stream",
     "text": [
      "0.8291471258828109\n",
      "0.8586825522537103\n",
      "0.8955528009373249\n",
      "0.9341687714526261\n"
     ]
    },
    {
     "name": "stderr",
     "output_type": "stream",
     "text": [
      "\n",
      "\n",
      "100%|██████████| 1/1 [00:00<00:00, 136.72it/s]\n",
      "  1%|          | 18/1567 [00:01<01:27, 17.71it/s]\n",
      "100%|██████████| 1/1 [00:00<00:00, 136.81it/s]\n",
      "\n",
      "100%|██████████| 1/1 [00:00<00:00, 136.94it/s]\n",
      "  1%|▏         | 20/1567 [00:01<01:25, 18.09it/s]\n",
      "100%|██████████| 1/1 [00:00<00:00, 134.71it/s]"
     ]
    },
    {
     "name": "stdout",
     "output_type": "stream",
     "text": [
      "0.910119326688949\n",
      "0.9381791374861777\n",
      "0.9400014087483272\n",
      "0.9379495798319327\n"
     ]
    },
    {
     "name": "stderr",
     "output_type": "stream",
     "text": [
      "\n",
      "\n",
      "100%|██████████| 1/1 [00:00<00:00, 136.21it/s]\n",
      "  1%|▏         | 22/1567 [00:01<01:24, 18.38it/s]\n",
      "100%|██████████| 1/1 [00:00<00:00, 134.00it/s]\n",
      "\n",
      "100%|██████████| 1/1 [00:00<00:00, 133.63it/s]\n",
      "  2%|▏         | 24/1567 [00:01<01:22, 18.60it/s]\n",
      "100%|██████████| 1/1 [00:00<00:00, 133.12it/s]"
     ]
    },
    {
     "name": "stdout",
     "output_type": "stream",
     "text": [
      "0.92057632159155\n",
      "0.9297550703201384\n",
      "0.9353935320475355\n",
      "0.9405533222984157\n"
     ]
    },
    {
     "name": "stderr",
     "output_type": "stream",
     "text": [
      "\n",
      "\n",
      "100%|██████████| 1/1 [00:00<00:00, 135.28it/s]\n",
      "  2%|▏         | 26/1567 [00:01<01:22, 18.74it/s]\n",
      "100%|██████████| 1/1 [00:00<00:00, 132.88it/s]\n",
      "\n",
      "100%|██████████| 1/1 [00:00<00:00, 133.31it/s]\n",
      "  2%|▏         | 28/1567 [00:01<01:21, 18.85it/s]\n",
      "100%|██████████| 1/1 [00:00<00:00, 136.37it/s]"
     ]
    },
    {
     "name": "stdout",
     "output_type": "stream",
     "text": [
      "0.931413763317017\n",
      "0.9476600153146255\n",
      "0.9547180315092134\n",
      "0.9481117726304811\n"
     ]
    },
    {
     "name": "stderr",
     "output_type": "stream",
     "text": [
      "\n",
      "\n",
      "100%|██████████| 1/1 [00:00<00:00, 131.16it/s]\n",
      "  2%|▏         | 30/1567 [00:01<01:21, 18.90it/s]\n",
      "100%|██████████| 1/1 [00:00<00:00, 131.85it/s]\n",
      "\n",
      "100%|██████████| 1/1 [00:00<00:00, 133.50it/s]\n",
      "  2%|▏         | 32/1567 [00:01<01:21, 18.91it/s]\n",
      "100%|██████████| 1/1 [00:00<00:00, 132.98it/s]"
     ]
    },
    {
     "name": "stdout",
     "output_type": "stream",
     "text": [
      "0.9591716167008604\n",
      "0.9607062676919406\n",
      "0.9607150670375347\n",
      "0.9642341521354044\n"
     ]
    },
    {
     "name": "stderr",
     "output_type": "stream",
     "text": [
      "\n",
      "\n",
      "100%|██████████| 1/1 [00:00<00:00, 133.91it/s]\n",
      "  2%|▏         | 34/1567 [00:01<01:20, 18.93it/s]\n",
      "100%|██████████| 1/1 [00:00<00:00, 132.86it/s]\n",
      "\n",
      "100%|██████████| 1/1 [00:00<00:00, 131.92it/s]\n",
      "  2%|▏         | 36/1567 [00:02<01:20, 18.94it/s]\n",
      "100%|██████████| 1/1 [00:00<00:00, 126.41it/s]"
     ]
    },
    {
     "name": "stdout",
     "output_type": "stream",
     "text": [
      "0.9690637665220667\n",
      "0.9724610491888801\n",
      "0.9705732573117517\n",
      "0.9645486398173301\n"
     ]
    },
    {
     "name": "stderr",
     "output_type": "stream",
     "text": [
      "\n",
      "\n",
      "100%|██████████| 1/1 [00:00<00:00, 130.35it/s]\n",
      "  2%|▏         | 38/1567 [00:02<01:20, 18.92it/s]\n",
      "100%|██████████| 1/1 [00:00<00:00, 131.93it/s]\n",
      "\n",
      "100%|██████████| 1/1 [00:00<00:00, 128.69it/s]\n",
      "  3%|▎         | 40/1567 [00:02<01:20, 18.92it/s]\n",
      "100%|██████████| 1/1 [00:00<00:00, 135.96it/s]"
     ]
    },
    {
     "name": "stdout",
     "output_type": "stream",
     "text": [
      "0.972972972972973\n",
      "0.9755776835485254\n",
      "0.9746930640946095\n",
      "0.974061067121108\n"
     ]
    },
    {
     "name": "stderr",
     "output_type": "stream",
     "text": [
      "\n",
      "\n",
      "100%|██████████| 1/1 [00:00<00:00, 133.00it/s]\n",
      "  3%|▎         | 42/1567 [00:02<01:20, 18.94it/s]\n",
      "100%|██████████| 1/1 [00:00<00:00, 132.98it/s]\n",
      "\n",
      "100%|██████████| 1/1 [00:00<00:00, 133.47it/s]\n",
      "  3%|▎         | 44/1567 [00:02<01:20, 18.99it/s]\n",
      "100%|██████████| 1/1 [00:00<00:00, 131.26it/s]"
     ]
    },
    {
     "name": "stdout",
     "output_type": "stream",
     "text": [
      "0.9142543558787214\n",
      "0.9477757676686595\n",
      "0.9263216108192354\n",
      "0.949666940638149\n"
     ]
    },
    {
     "name": "stderr",
     "output_type": "stream",
     "text": [
      "\n",
      "\n",
      "100%|██████████| 1/1 [00:00<00:00, 133.30it/s]\n",
      "  3%|▎         | 46/1567 [00:02<01:20, 18.98it/s]\n",
      "100%|██████████| 1/1 [00:00<00:00, 126.95it/s]\n",
      "\n",
      "100%|██████████| 1/1 [00:00<00:00, 126.05it/s]\n",
      "  3%|▎         | 48/1567 [00:02<01:20, 18.98it/s]\n",
      "100%|██████████| 1/1 [00:00<00:00, 133.19it/s]"
     ]
    },
    {
     "name": "stdout",
     "output_type": "stream",
     "text": [
      "0.9591979033925608\n",
      "0.9560922194317817\n",
      "0.9364182351272108\n",
      "0.953450254056712\n"
     ]
    },
    {
     "name": "stderr",
     "output_type": "stream",
     "text": [
      "\n",
      "\n",
      "100%|██████████| 1/1 [00:00<00:00, 130.70it/s]\n",
      "  3%|▎         | 50/1567 [00:02<01:19, 19.00it/s]\n",
      "100%|██████████| 1/1 [00:00<00:00, 133.63it/s]\n",
      "\n",
      "100%|██████████| 1/1 [00:00<00:00, 125.74it/s]\n",
      "  3%|▎         | 52/1567 [00:02<01:19, 18.99it/s]\n",
      "100%|██████████| 1/1 [00:00<00:00, 117.21it/s]"
     ]
    },
    {
     "name": "stdout",
     "output_type": "stream",
     "text": [
      "0.9709554229390263\n",
      "0.9777513606750347\n",
      "0.9742795237984297\n",
      "0.9620211898940505\n"
     ]
    },
    {
     "name": "stderr",
     "output_type": "stream",
     "text": [
      "\n",
      "\n",
      "100%|██████████| 1/1 [00:00<00:00, 133.39it/s]\n",
      "  3%|▎         | 54/1567 [00:02<01:19, 18.97it/s]\n",
      "100%|██████████| 1/1 [00:00<00:00, 54.17it/s]\n",
      "\n",
      "100%|██████████| 1/1 [00:00<00:00, 77.06it/s]\n",
      "  4%|▎         | 56/1567 [00:03<01:29, 16.89it/s]"
     ]
    },
    {
     "name": "stdout",
     "output_type": "stream",
     "text": [
      "0.9755743084857009\n",
      "0.9742191081904\n",
      "0.9717607586383653\n",
      "0.965795926825618\n"
     ]
    },
    {
     "name": "stderr",
     "output_type": "stream",
     "text": [
      "\n",
      "100%|██████████| 1/1 [00:00<00:00, 87.33it/s]\n",
      "\n",
      "100%|██████████| 1/1 [00:00<00:00, 92.33it/s]\n",
      "  4%|▎         | 58/1567 [00:03<01:30, 16.69it/s]\n",
      "100%|██████████| 1/1 [00:00<00:00, 91.64it/s]\n",
      "\n",
      "100%|██████████| 1/1 [00:00<00:00, 94.25it/s]\n",
      "  4%|▍         | 60/1567 [00:03<01:30, 16.62it/s]\n",
      "100%|██████████| 1/1 [00:00<00:00, 94.08it/s]"
     ]
    },
    {
     "name": "stdout",
     "output_type": "stream",
     "text": [
      "0.9621744261994523\n",
      "0.9640439158279963\n",
      "0.9663325917941427\n",
      "0.9644595525540108\n"
     ]
    },
    {
     "name": "stderr",
     "output_type": "stream",
     "text": [
      "\n",
      "\n",
      "100%|██████████| 1/1 [00:00<00:00, 93.67it/s]\n",
      "  4%|▍         | 62/1567 [00:03<01:31, 16.53it/s]\n",
      "100%|██████████| 1/1 [00:00<00:00, 91.86it/s]\n",
      "\n",
      "100%|██████████| 1/1 [00:00<00:00, 94.21it/s]\n",
      "  4%|▍         | 64/1567 [00:03<01:31, 16.48it/s]\n",
      "100%|██████████| 1/1 [00:00<00:00, 91.87it/s]"
     ]
    },
    {
     "name": "stdout",
     "output_type": "stream",
     "text": [
      "0.9475514793030494\n",
      "0.9586128840297305\n",
      "0.9694071995288085\n",
      "0.9705193552830969\n"
     ]
    },
    {
     "name": "stderr",
     "output_type": "stream",
     "text": [
      "\n",
      "\n",
      "100%|██████████| 1/1 [00:00<00:00, 94.53it/s]\n",
      "  4%|▍         | 66/1567 [00:03<01:31, 16.44it/s]\n",
      "100%|██████████| 1/1 [00:00<00:00, 93.71it/s]\n",
      "\n",
      "100%|██████████| 1/1 [00:00<00:00, 94.81it/s]\n",
      "  4%|▍         | 68/1567 [00:03<01:30, 16.52it/s]\n",
      "100%|██████████| 1/1 [00:00<00:00, 104.92it/s]"
     ]
    },
    {
     "name": "stdout",
     "output_type": "stream",
     "text": [
      "0.9748870780511912\n",
      "0.9683848321093714\n",
      "0.9689110749941955\n",
      "0.970956686512346\n"
     ]
    },
    {
     "name": "stderr",
     "output_type": "stream",
     "text": [
      "\n",
      "\n",
      "100%|██████████| 1/1 [00:00<00:00, 136.26it/s]\n",
      "  4%|▍         | 70/1567 [00:03<01:27, 17.08it/s]\n",
      "100%|██████████| 1/1 [00:00<00:00, 133.67it/s]\n",
      "\n",
      "100%|██████████| 1/1 [00:00<00:00, 131.72it/s]\n",
      "  5%|▍         | 72/1567 [00:04<01:24, 17.62it/s]\n",
      "100%|██████████| 1/1 [00:00<00:00, 134.52it/s]"
     ]
    },
    {
     "name": "stdout",
     "output_type": "stream",
     "text": [
      "0.9708646284090507\n",
      "0.9705864690551399\n",
      "0.9668572547963319\n",
      "0.9512494366267715\n"
     ]
    },
    {
     "name": "stderr",
     "output_type": "stream",
     "text": [
      "\n",
      "\n",
      "100%|██████████| 1/1 [00:00<00:00, 131.95it/s]\n",
      "  5%|▍         | 74/1567 [00:04<01:22, 18.01it/s]\n",
      "100%|██████████| 1/1 [00:00<00:00, 134.96it/s]\n",
      "\n",
      "100%|██████████| 1/1 [00:00<00:00, 133.08it/s]\n",
      "  5%|▍         | 76/1567 [00:04<01:21, 18.29it/s]\n",
      "100%|██████████| 1/1 [00:00<00:00, 131.63it/s]"
     ]
    },
    {
     "name": "stdout",
     "output_type": "stream",
     "text": [
      "0.945114990444185\n",
      "0.9636501431538764\n",
      "0.9517480585653335\n",
      "0.9473190558074097\n"
     ]
    },
    {
     "name": "stderr",
     "output_type": "stream",
     "text": [
      "\n",
      "\n",
      "100%|██████████| 1/1 [00:00<00:00, 127.79it/s]\n",
      "  5%|▍         | 78/1567 [00:04<01:20, 18.51it/s]\n",
      "100%|██████████| 1/1 [00:00<00:00, 133.56it/s]\n",
      "\n",
      "100%|██████████| 1/1 [00:00<00:00, 132.84it/s]\n",
      "  5%|▌         | 80/1567 [00:04<01:19, 18.69it/s]\n",
      "100%|██████████| 1/1 [00:00<00:00, 136.68it/s]"
     ]
    },
    {
     "name": "stdout",
     "output_type": "stream",
     "text": [
      "0.8989625879690886\n",
      "0.9014469125738741\n",
      "0.8823794705272178\n",
      "0.8225706524329219\n"
     ]
    },
    {
     "name": "stderr",
     "output_type": "stream",
     "text": [
      "\n",
      "\n",
      "100%|██████████| 1/1 [00:00<00:00, 140.42it/s]\n",
      "  5%|▌         | 82/1567 [00:04<01:18, 18.81it/s]\n",
      "100%|██████████| 1/1 [00:00<00:00, 55.48it/s]\n",
      "\n",
      "100%|██████████| 1/1 [00:00<00:00, 79.42it/s]\n",
      "  5%|▌         | 84/1567 [00:04<01:26, 17.08it/s]\n",
      "  0%|          | 0/1 [00:00<?, ?it/s]\u001b[A"
     ]
    },
    {
     "name": "stdout",
     "output_type": "stream",
     "text": [
      "0.8758169934640523\n",
      "0.8679936415785472\n",
      "0.6875\n",
      "0.5881431538802057\n"
     ]
    },
    {
     "name": "stderr",
     "output_type": "stream",
     "text": [
      "100%|██████████| 1/1 [00:00<00:00, 94.37it/s]\n",
      "\n",
      "100%|██████████| 1/1 [00:00<00:00, 98.25it/s]\n",
      "  5%|▌         | 86/1567 [00:04<01:26, 17.07it/s]\n",
      "100%|██████████| 1/1 [00:00<00:00, 98.52it/s]\n",
      "\n",
      "100%|██████████| 1/1 [00:00<00:00, 98.44it/s]\n",
      "  6%|▌         | 88/1567 [00:04<01:26, 17.17it/s]\n",
      "100%|██████████| 1/1 [00:00<00:00, 97.00it/s]"
     ]
    },
    {
     "name": "stdout",
     "output_type": "stream",
     "text": [
      "0.5035289304101742\n",
      "0.4008284840714074\n",
      "0.3873502708476387\n",
      "0.2796908450959759\n"
     ]
    },
    {
     "name": "stderr",
     "output_type": "stream",
     "text": [
      "\n",
      "\n",
      "100%|██████████| 1/1 [00:00<00:00, 99.45it/s]\n",
      "  6%|▌         | 90/1567 [00:05<01:26, 17.17it/s]\n",
      "100%|██████████| 1/1 [00:00<00:00, 97.35it/s]\n",
      "\n",
      "100%|██████████| 1/1 [00:00<00:00, 99.90it/s]\n",
      "  6%|▌         | 92/1567 [00:05<01:25, 17.22it/s]\n",
      "100%|██████████| 1/1 [00:00<00:00, 96.65it/s]"
     ]
    },
    {
     "name": "stdout",
     "output_type": "stream",
     "text": [
      "0.22489007837889505\n",
      "0.15042406785085613\n",
      "0.1006013705654748\n",
      "0.007380073800738007\n"
     ]
    },
    {
     "name": "stderr",
     "output_type": "stream",
     "text": [
      "\n",
      "\n",
      "100%|██████████| 1/1 [00:00<00:00, 96.29it/s]\n",
      "  6%|▌         | 94/1567 [00:05<01:26, 17.07it/s]\n",
      "100%|██████████| 1/1 [00:00<00:00, 97.27it/s]\n",
      "\n",
      "100%|██████████| 1/1 [00:00<00:00, 95.31it/s]\n",
      "  6%|▌         | 96/1567 [00:05<01:26, 16.94it/s]\n",
      "100%|██████████| 1/1 [00:00<00:00, 102.55it/s]"
     ]
    },
    {
     "name": "stdout",
     "output_type": "stream",
     "text": [
      "0.008554720133667502\n",
      "0.02451056758581295\n",
      "0.04273806841952821\n",
      "0.07931652779242696\n"
     ]
    },
    {
     "name": "stderr",
     "output_type": "stream",
     "text": [
      "\n",
      "\n",
      "100%|██████████| 1/1 [00:00<00:00, 132.79it/s]\n",
      "  6%|▋         | 98/1567 [00:05<01:24, 17.34it/s]\n",
      "100%|██████████| 1/1 [00:00<00:00, 135.81it/s]\n",
      "\n",
      "100%|██████████| 1/1 [00:00<00:00, 129.91it/s]\n",
      "  6%|▋         | 100/1567 [00:05<01:22, 17.81it/s]\n",
      "100%|██████████| 1/1 [00:00<00:00, 122.30it/s]"
     ]
    },
    {
     "name": "stdout",
     "output_type": "stream",
     "text": [
      "0.10221270521056389\n",
      "0.14854658659691264\n",
      "0.22577760111298817\n",
      "0.24236164902315174\n"
     ]
    },
    {
     "name": "stderr",
     "output_type": "stream",
     "text": [
      "\n",
      "\n",
      "100%|██████████| 1/1 [00:00<00:00, 127.37it/s]\n",
      "  7%|▋         | 102/1567 [00:05<01:20, 18.10it/s]\n",
      "100%|██████████| 1/1 [00:00<00:00, 130.91it/s]\n",
      "\n",
      "100%|██████████| 1/1 [00:00<00:00, 135.30it/s]\n",
      "  7%|▋         | 104/1567 [00:05<01:19, 18.39it/s]\n",
      "100%|██████████| 1/1 [00:00<00:00, 131.68it/s]"
     ]
    },
    {
     "name": "stdout",
     "output_type": "stream",
     "text": [
      "0.3061986557132188\n",
      "0.4742874287428743\n",
      "0.45280591735005626\n",
      "0.398626293085396\n"
     ]
    },
    {
     "name": "stderr",
     "output_type": "stream",
     "text": [
      "\n",
      "\n",
      "100%|██████████| 1/1 [00:00<00:00, 133.90it/s]\n",
      "  7%|▋         | 106/1567 [00:05<01:18, 18.57it/s]\n",
      "100%|██████████| 1/1 [00:00<00:00, 122.41it/s]\n",
      "\n",
      "100%|██████████| 1/1 [00:00<00:00, 132.52it/s]\n",
      "  7%|▋         | 108/1567 [00:06<01:18, 18.69it/s]\n",
      "100%|██████████| 1/1 [00:00<00:00, 54.64it/s]"
     ]
    },
    {
     "name": "stdout",
     "output_type": "stream",
     "text": [
      "0.5991833957128275\n",
      "0.5907004589902215\n",
      "0.6819221967963387\n",
      "0.6667873958710612\n"
     ]
    },
    {
     "name": "stderr",
     "output_type": "stream",
     "text": [
      "\n",
      "\n",
      "100%|██████████| 1/1 [00:00<00:00, 78.54it/s]\n",
      "  7%|▋         | 110/1567 [00:06<01:26, 16.80it/s]\n",
      "100%|██████████| 1/1 [00:00<00:00, 93.52it/s]\n",
      "\n",
      "100%|██████████| 1/1 [00:00<00:00, 98.95it/s]\n",
      "  7%|▋         | 112/1567 [00:06<01:26, 16.73it/s]\n",
      "100%|██████████| 1/1 [00:00<00:00, 93.03it/s]"
     ]
    },
    {
     "name": "stdout",
     "output_type": "stream",
     "text": [
      "0.7091693731369845\n",
      "0.9008954008954009\n",
      "0.8820493746803664\n",
      "0.8326825860013974\n"
     ]
    },
    {
     "name": "stderr",
     "output_type": "stream",
     "text": [
      "\n",
      "\n",
      "100%|██████████| 1/1 [00:00<00:00, 96.14it/s]\n",
      "  7%|▋         | 114/1567 [00:06<01:27, 16.68it/s]\n",
      "100%|██████████| 1/1 [00:00<00:00, 91.88it/s]\n",
      "\n",
      "100%|██████████| 1/1 [00:00<00:00, 99.52it/s]\n",
      "  7%|▋         | 116/1567 [00:06<01:27, 16.64it/s]\n",
      "100%|██████████| 1/1 [00:00<00:00, 95.83it/s]"
     ]
    },
    {
     "name": "stdout",
     "output_type": "stream",
     "text": [
      "0.8394010910357101\n",
      "0.8233172209797273\n",
      "0.7831757847238233\n",
      "0.8447272976117156\n"
     ]
    },
    {
     "name": "stderr",
     "output_type": "stream",
     "text": [
      "\n",
      "\n",
      "100%|██████████| 1/1 [00:00<00:00, 94.31it/s]\n",
      "  8%|▊         | 118/1567 [00:06<01:27, 16.60it/s]\n",
      "100%|██████████| 1/1 [00:00<00:00, 93.42it/s]\n",
      "\n",
      "100%|██████████| 1/1 [00:00<00:00, 102.91it/s]\n",
      "  8%|▊         | 120/1567 [00:06<01:27, 16.61it/s]\n",
      "100%|██████████| 1/1 [00:00<00:00, 93.57it/s]"
     ]
    },
    {
     "name": "stdout",
     "output_type": "stream",
     "text": [
      "0.7397590361445783\n",
      "0.750353312827334\n",
      "0.8801920918049145\n",
      "0.78216160055412\n"
     ]
    },
    {
     "name": "stderr",
     "output_type": "stream",
     "text": [
      "\n",
      "\n",
      "100%|██████████| 1/1 [00:00<00:00, 53.86it/s]\n",
      "  8%|▊         | 122/1567 [00:06<01:31, 15.80it/s]\n",
      "100%|██████████| 1/1 [00:00<00:00, 77.60it/s]\n",
      "\n",
      "100%|██████████| 1/1 [00:00<00:00, 93.06it/s]"
     ]
    },
    {
     "name": "stdout",
     "output_type": "stream",
     "text": [
      "0.7383230163196398\n",
      "0.735621301775148\n",
      "0.7429537252752273\n"
     ]
    },
    {
     "name": "stderr",
     "output_type": "stream",
     "text": [
      "\n",
      "  8%|▊         | 124/1567 [00:07<01:31, 15.77it/s]\n",
      "100%|██████████| 1/1 [00:00<00:00, 91.57it/s]\n",
      "\n",
      "100%|██████████| 1/1 [00:00<00:00, 95.38it/s]\n",
      "  8%|▊         | 126/1567 [00:07<01:30, 15.97it/s]\n",
      "100%|██████████| 1/1 [00:00<00:00, 93.11it/s]\n",
      "\n",
      "100%|██████████| 1/1 [00:00<00:00, 94.96it/s]"
     ]
    },
    {
     "name": "stdout",
     "output_type": "stream",
     "text": [
      "0.6974272005294507\n",
      "0.7958570452993399\n",
      "0.8172836133497245\n",
      "0.8713251163013764\n"
     ]
    },
    {
     "name": "stderr",
     "output_type": "stream",
     "text": [
      "\n",
      "  8%|▊         | 128/1567 [00:07<01:29, 16.11it/s]\n",
      "100%|██████████| 1/1 [00:00<00:00, 90.49it/s]\n",
      "\n",
      "100%|██████████| 1/1 [00:00<00:00, 94.16it/s]\n",
      "  8%|▊         | 130/1567 [00:07<01:28, 16.22it/s]\n",
      "100%|██████████| 1/1 [00:00<00:00, 92.44it/s]\n",
      "\n",
      "  0%|          | 0/1 [00:00<?, ?it/s]\u001b[A"
     ]
    },
    {
     "name": "stdout",
     "output_type": "stream",
     "text": [
      "0.7839950114321347\n",
      "0.8236698499317872\n",
      "0.7417506045431177\n",
      "0.8519040902679831\n"
     ]
    },
    {
     "name": "stderr",
     "output_type": "stream",
     "text": [
      "100%|██████████| 1/1 [00:00<00:00, 53.85it/s]\n",
      "  8%|▊         | 132/1567 [00:07<01:32, 15.46it/s]\n",
      "100%|██████████| 1/1 [00:00<00:00, 94.92it/s]\n",
      "\n",
      "100%|██████████| 1/1 [00:00<00:00, 92.52it/s]\n",
      "  9%|▊         | 134/1567 [00:07<01:31, 15.69it/s]\n",
      "100%|██████████| 1/1 [00:00<00:00, 92.37it/s]\n",
      "\n",
      "100%|██████████| 1/1 [00:00<00:00, 93.58it/s]"
     ]
    },
    {
     "name": "stdout",
     "output_type": "stream",
     "text": [
      "0.854957058283999\n",
      "0.8668680438704969\n",
      "0.8634853221652018\n",
      "0.8641814739016507\n"
     ]
    },
    {
     "name": "stderr",
     "output_type": "stream",
     "text": [
      "\n",
      "  9%|▊         | 136/1567 [00:07<01:29, 15.94it/s]\n",
      "100%|██████████| 1/1 [00:00<00:00, 92.12it/s]\n",
      "\n",
      "100%|██████████| 1/1 [00:00<00:00, 95.33it/s]\n",
      "  9%|▉         | 138/1567 [00:07<01:28, 16.12it/s]\n",
      "100%|██████████| 1/1 [00:00<00:00, 93.57it/s]\n",
      "\n",
      "  0%|          | 0/1 [00:00<?, ?it/s]\u001b[A"
     ]
    },
    {
     "name": "stdout",
     "output_type": "stream",
     "text": [
      "0.8707962578358707\n",
      "0.8782825163306942\n",
      "0.8787674845844626\n",
      "0.8788224799286352\n"
     ]
    },
    {
     "name": "stderr",
     "output_type": "stream",
     "text": [
      "100%|██████████| 1/1 [00:00<00:00, 53.03it/s]\n",
      "  9%|▉         | 140/1567 [00:08<01:32, 15.39it/s]\n",
      "100%|██████████| 1/1 [00:00<00:00, 75.33it/s]\n",
      "\n",
      "100%|██████████| 1/1 [00:00<00:00, 92.10it/s]\n",
      "  9%|▉         | 142/1567 [00:08<01:32, 15.34it/s]\n",
      "100%|██████████| 1/1 [00:00<00:00, 93.05it/s]\n",
      "\n",
      "  0%|          | 0/1 [00:00<?, ?it/s]\u001b[A"
     ]
    },
    {
     "name": "stdout",
     "output_type": "stream",
     "text": [
      "0.9034392656565485\n",
      "0.9132058093060741\n",
      "0.9110350039393501\n",
      "0.9444867166377957\n"
     ]
    },
    {
     "name": "stderr",
     "output_type": "stream",
     "text": [
      "100%|██████████| 1/1 [00:00<00:00, 92.17it/s]\n",
      "  9%|▉         | 144/1567 [00:08<01:31, 15.62it/s]\n",
      "100%|██████████| 1/1 [00:00<00:00, 91.78it/s]\n",
      "\n",
      "100%|██████████| 1/1 [00:00<00:00, 96.40it/s]\n",
      "  9%|▉         | 146/1567 [00:08<01:29, 15.84it/s]\n",
      "100%|██████████| 1/1 [00:00<00:00, 92.32it/s]\n",
      "\n",
      "100%|██████████| 1/1 [00:00<00:00, 94.42it/s]"
     ]
    },
    {
     "name": "stdout",
     "output_type": "stream",
     "text": [
      "0.9366413778962477\n",
      "0.9325345222614403\n",
      "0.8624099828808308\n",
      "0.9220259473722788\n"
     ]
    },
    {
     "name": "stderr",
     "output_type": "stream",
     "text": [
      "\n",
      "  9%|▉         | 148/1567 [00:08<01:28, 15.97it/s]\n",
      "100%|██████████| 1/1 [00:00<00:00, 90.68it/s]\n",
      "\n",
      "100%|██████████| 1/1 [00:00<00:00, 93.95it/s]\n",
      " 10%|▉         | 150/1567 [00:08<01:28, 16.09it/s]\n",
      "100%|██████████| 1/1 [00:00<00:00, 92.56it/s]\n",
      "\n",
      "100%|██████████| 1/1 [00:00<00:00, 94.96it/s]"
     ]
    },
    {
     "name": "stdout",
     "output_type": "stream",
     "text": [
      "0.8544911287976943\n",
      "0.8909965304290748\n",
      "0.9034079558923411\n",
      "0.912569007574785\n"
     ]
    },
    {
     "name": "stderr",
     "output_type": "stream",
     "text": [
      "\n",
      " 10%|▉         | 152/1567 [00:08<01:27, 16.16it/s]\n",
      "100%|██████████| 1/1 [00:00<00:00, 97.37it/s]\n",
      "\n",
      "100%|██████████| 1/1 [00:00<00:00, 131.99it/s]\n",
      " 10%|▉         | 154/1567 [00:08<01:24, 16.67it/s]\n",
      "100%|██████████| 1/1 [00:00<00:00, 129.26it/s]\n",
      "\n",
      "100%|██████████| 1/1 [00:00<00:00, 135.66it/s]"
     ]
    },
    {
     "name": "stdout",
     "output_type": "stream",
     "text": [
      "0.9042716927812682\n",
      "0.9432521617650601\n",
      "0.959909697586147\n",
      "0.9619152802023585\n"
     ]
    },
    {
     "name": "stderr",
     "output_type": "stream",
     "text": [
      "\n",
      " 10%|▉         | 156/1567 [00:09<01:21, 17.30it/s]\n",
      "100%|██████████| 1/1 [00:00<00:00, 132.74it/s]\n",
      "\n",
      "100%|██████████| 1/1 [00:00<00:00, 138.04it/s]\n",
      " 10%|█         | 158/1567 [00:09<01:19, 17.76it/s]\n",
      "100%|██████████| 1/1 [00:00<00:00, 131.92it/s]\n",
      "\n",
      "100%|██████████| 1/1 [00:00<00:00, 135.01it/s]"
     ]
    },
    {
     "name": "stdout",
     "output_type": "stream",
     "text": [
      "0.9570996137921436\n",
      "0.949510631117111\n",
      "0.9500179791441927\n",
      "0.9391562119527818\n"
     ]
    },
    {
     "name": "stderr",
     "output_type": "stream",
     "text": [
      "\n",
      " 10%|█         | 160/1567 [00:09<01:17, 18.07it/s]\n",
      "100%|██████████| 1/1 [00:00<00:00, 120.68it/s]\n",
      "\n",
      "100%|██████████| 1/1 [00:00<00:00, 133.92it/s]\n",
      " 10%|█         | 162/1567 [00:09<01:16, 18.29it/s]\n",
      "100%|██████████| 1/1 [00:00<00:00, 132.50it/s]\n",
      "\n",
      "100%|██████████| 1/1 [00:00<00:00, 136.60it/s]"
     ]
    },
    {
     "name": "stdout",
     "output_type": "stream",
     "text": [
      "0.9363387837210502\n",
      "0.9294678411970556\n",
      "0.9367073616059532\n",
      "0.9372822634048965\n"
     ]
    },
    {
     "name": "stderr",
     "output_type": "stream",
     "text": [
      "\n",
      " 10%|█         | 164/1567 [00:09<01:16, 18.45it/s]\n",
      "100%|██████████| 1/1 [00:00<00:00, 132.07it/s]\n",
      "\n",
      "100%|██████████| 1/1 [00:00<00:00, 138.22it/s]\n",
      " 11%|█         | 166/1567 [00:09<01:15, 18.59it/s]\n",
      "100%|██████████| 1/1 [00:00<00:00, 128.86it/s]\n",
      "\n",
      "100%|██████████| 1/1 [00:00<00:00, 139.81it/s]"
     ]
    },
    {
     "name": "stdout",
     "output_type": "stream",
     "text": [
      "0.9346935315228756\n",
      "0.9338731944148468\n",
      "0.9335960913235374\n",
      "0.9306896861793004\n"
     ]
    },
    {
     "name": "stderr",
     "output_type": "stream",
     "text": [
      "\n",
      " 11%|█         | 168/1567 [00:09<01:14, 18.67it/s]\n",
      "100%|██████████| 1/1 [00:00<00:00, 133.44it/s]\n",
      "\n",
      "100%|██████████| 1/1 [00:00<00:00, 137.93it/s]\n",
      " 11%|█         | 170/1567 [00:09<01:14, 18.75it/s]\n",
      "100%|██████████| 1/1 [00:00<00:00, 130.57it/s]\n",
      "\n",
      "100%|██████████| 1/1 [00:00<00:00, 132.87it/s]"
     ]
    },
    {
     "name": "stdout",
     "output_type": "stream",
     "text": [
      "0.943479931533168\n",
      "0.916878211603496\n",
      "0.9232067070201071\n",
      "0.9255064988830719\n"
     ]
    },
    {
     "name": "stderr",
     "output_type": "stream",
     "text": [
      "\n",
      " 11%|█         | 172/1567 [00:09<01:14, 18.78it/s]\n",
      "100%|██████████| 1/1 [00:00<00:00, 121.55it/s]\n",
      "\n",
      "100%|██████████| 1/1 [00:00<00:00, 135.74it/s]\n",
      " 11%|█         | 174/1567 [00:10<01:14, 18.76it/s]\n",
      "100%|██████████| 1/1 [00:00<00:00, 136.44it/s]\n",
      "\n",
      "100%|██████████| 1/1 [00:00<00:00, 123.42it/s]"
     ]
    },
    {
     "name": "stdout",
     "output_type": "stream",
     "text": [
      "0.9169133337922489\n",
      "0.9243534096820132\n",
      "0.9258612613379892\n",
      "0.9250491598518031\n"
     ]
    },
    {
     "name": "stderr",
     "output_type": "stream",
     "text": [
      "\n",
      " 11%|█         | 176/1567 [00:10<01:14, 18.77it/s]\n",
      "100%|██████████| 1/1 [00:00<00:00, 132.63it/s]\n",
      "\n",
      "100%|██████████| 1/1 [00:00<00:00, 129.40it/s]\n",
      " 11%|█▏        | 178/1567 [00:10<01:13, 18.79it/s]\n",
      "100%|██████████| 1/1 [00:00<00:00, 133.75it/s]\n",
      "\n",
      "100%|██████████| 1/1 [00:00<00:00, 137.22it/s]"
     ]
    },
    {
     "name": "stdout",
     "output_type": "stream",
     "text": [
      "0.9222839682353139\n",
      "0.9208417334510738\n",
      "0.9169288283251417\n",
      "0.9162959967650627\n"
     ]
    },
    {
     "name": "stderr",
     "output_type": "stream",
     "text": [
      "\n",
      " 11%|█▏        | 180/1567 [00:10<01:13, 18.83it/s]\n",
      "100%|██████████| 1/1 [00:00<00:00, 135.57it/s]\n",
      "\n",
      "100%|██████████| 1/1 [00:00<00:00, 139.82it/s]\n",
      " 12%|█▏        | 182/1567 [00:10<01:13, 18.88it/s]\n",
      "100%|██████████| 1/1 [00:00<00:00, 135.91it/s]\n",
      "\n",
      "100%|██████████| 1/1 [00:00<00:00, 129.50it/s]"
     ]
    },
    {
     "name": "stdout",
     "output_type": "stream",
     "text": [
      "0.9232509183968299\n",
      "0.9244942523999835\n",
      "0.9204410796576695\n",
      "0.9172593548811472\n"
     ]
    },
    {
     "name": "stderr",
     "output_type": "stream",
     "text": [
      "\n",
      " 12%|█▏        | 184/1567 [00:10<01:13, 18.84it/s]\n",
      "100%|██████████| 1/1 [00:00<00:00, 134.25it/s]\n",
      "\n",
      "100%|██████████| 1/1 [00:00<00:00, 137.66it/s]\n",
      " 12%|█▏        | 186/1567 [00:10<01:13, 18.88it/s]\n",
      "100%|██████████| 1/1 [00:00<00:00, 139.82it/s]\n",
      "\n",
      "100%|██████████| 1/1 [00:00<00:00, 135.46it/s]"
     ]
    },
    {
     "name": "stdout",
     "output_type": "stream",
     "text": [
      "0.9182298751333784\n",
      "0.9149174656678144\n",
      "0.9212921019506602\n",
      "0.9222555835648111\n"
     ]
    },
    {
     "name": "stderr",
     "output_type": "stream",
     "text": [
      "\n",
      " 12%|█▏        | 188/1567 [00:10<01:13, 18.86it/s]\n",
      "100%|██████████| 1/1 [00:00<00:00, 116.91it/s]\n",
      "\n",
      "100%|██████████| 1/1 [00:00<00:00, 138.79it/s]\n",
      " 12%|█▏        | 190/1567 [00:10<01:13, 18.79it/s]\n",
      "100%|██████████| 1/1 [00:00<00:00, 130.55it/s]\n",
      "\n",
      "100%|██████████| 1/1 [00:00<00:00, 137.06it/s]"
     ]
    },
    {
     "name": "stdout",
     "output_type": "stream",
     "text": [
      "0.9235772878749039\n",
      "0.9203946522689291\n",
      "0.920170342057842\n",
      "0.9200462562369096\n"
     ]
    },
    {
     "name": "stderr",
     "output_type": "stream",
     "text": [
      "\n",
      " 12%|█▏        | 192/1567 [00:10<01:13, 18.78it/s]\n",
      "100%|██████████| 1/1 [00:00<00:00, 131.90it/s]\n",
      "\n",
      "100%|██████████| 1/1 [00:00<00:00, 134.49it/s]\n",
      " 12%|█▏        | 194/1567 [00:11<01:13, 18.78it/s]\n",
      "100%|██████████| 1/1 [00:00<00:00, 130.61it/s]\n",
      "\n",
      "100%|██████████| 1/1 [00:00<00:00, 137.79it/s]"
     ]
    },
    {
     "name": "stdout",
     "output_type": "stream",
     "text": [
      "0.9253142875609992\n",
      "0.921598701562183\n",
      "0.9240458169749464\n",
      "0.9319988367584335\n"
     ]
    },
    {
     "name": "stderr",
     "output_type": "stream",
     "text": [
      "\n",
      " 13%|█▎        | 196/1567 [00:11<01:13, 18.77it/s]\n",
      "100%|██████████| 1/1 [00:00<00:00, 134.48it/s]\n",
      "\n",
      "100%|██████████| 1/1 [00:00<00:00, 135.81it/s]\n",
      " 13%|█▎        | 198/1567 [00:11<01:12, 18.79it/s]\n",
      "100%|██████████| 1/1 [00:00<00:00, 131.44it/s]\n",
      "\n",
      "100%|██████████| 1/1 [00:00<00:00, 137.73it/s]"
     ]
    },
    {
     "name": "stdout",
     "output_type": "stream",
     "text": [
      "0.9356062137618166\n",
      "0.9342119126932024\n",
      "0.9257646195253242\n",
      "0.9246198109330045\n"
     ]
    },
    {
     "name": "stderr",
     "output_type": "stream",
     "text": [
      "\n",
      " 13%|█▎        | 200/1567 [00:11<01:12, 18.77it/s]\n",
      "100%|██████████| 1/1 [00:00<00:00, 131.71it/s]\n",
      "\n",
      "100%|██████████| 1/1 [00:00<00:00, 132.86it/s]\n",
      " 13%|█▎        | 202/1567 [00:11<01:12, 18.76it/s]\n",
      "100%|██████████| 1/1 [00:00<00:00, 131.04it/s]\n",
      "\n",
      "100%|██████████| 1/1 [00:00<00:00, 134.81it/s]"
     ]
    },
    {
     "name": "stdout",
     "output_type": "stream",
     "text": [
      "0.9239510344713346\n",
      "0.9212585344784624\n",
      "0.921104176349512\n",
      "0.9243127126223493\n"
     ]
    },
    {
     "name": "stderr",
     "output_type": "stream",
     "text": [
      "\n",
      " 13%|█▎        | 204/1567 [00:11<01:12, 18.76it/s]\n",
      "100%|██████████| 1/1 [00:00<00:00, 131.40it/s]\n",
      "\n",
      "100%|██████████| 1/1 [00:00<00:00, 137.16it/s]\n",
      " 13%|█▎        | 206/1567 [00:11<01:12, 18.76it/s]\n",
      "100%|██████████| 1/1 [00:00<00:00, 139.08it/s]\n",
      "\n",
      "100%|██████████| 1/1 [00:00<00:00, 131.01it/s]"
     ]
    },
    {
     "name": "stdout",
     "output_type": "stream",
     "text": [
      "0.9223620425489162\n",
      "0.9244576402712642\n",
      "0.9324998527667236\n",
      "0.9279453074762243\n"
     ]
    },
    {
     "name": "stderr",
     "output_type": "stream",
     "text": [
      "\n",
      " 13%|█▎        | 208/1567 [00:11<01:12, 18.77it/s]\n",
      "100%|██████████| 1/1 [00:00<00:00, 129.86it/s]\n",
      "\n",
      "100%|██████████| 1/1 [00:00<00:00, 133.63it/s]\n",
      " 13%|█▎        | 210/1567 [00:11<01:12, 18.75it/s]\n",
      "100%|██████████| 1/1 [00:00<00:00, 118.68it/s]\n",
      "\n",
      "100%|██████████| 1/1 [00:00<00:00, 134.91it/s]"
     ]
    },
    {
     "name": "stdout",
     "output_type": "stream",
     "text": [
      "0.9077213133270198\n",
      "0.9072126520940387\n",
      "0.9144628136080669\n",
      "0.9269069329859604\n"
     ]
    },
    {
     "name": "stderr",
     "output_type": "stream",
     "text": [
      "\n",
      " 14%|█▎        | 212/1567 [00:12<01:12, 18.70it/s]\n",
      "100%|██████████| 1/1 [00:00<00:00, 132.76it/s]\n",
      "\n",
      "100%|██████████| 1/1 [00:00<00:00, 139.05it/s]\n",
      " 14%|█▎        | 214/1567 [00:12<01:12, 18.71it/s]\n",
      "100%|██████████| 1/1 [00:00<00:00, 129.51it/s]\n",
      "\n",
      "100%|██████████| 1/1 [00:00<00:00, 131.66it/s]"
     ]
    },
    {
     "name": "stdout",
     "output_type": "stream",
     "text": [
      "0.9284694131414303\n",
      "0.9279554049869086\n",
      "0.9382051645187178\n",
      "0.9376377446297329\n"
     ]
    },
    {
     "name": "stderr",
     "output_type": "stream",
     "text": [
      "\n",
      " 14%|█▍        | 216/1567 [00:12<01:12, 18.71it/s]\n",
      "100%|██████████| 1/1 [00:00<00:00, 130.79it/s]\n",
      "\n",
      "100%|██████████| 1/1 [00:00<00:00, 135.71it/s]\n",
      " 14%|█▍        | 218/1567 [00:12<01:12, 18.73it/s]\n",
      "100%|██████████| 1/1 [00:00<00:00, 136.78it/s]\n",
      "\n",
      "100%|██████████| 1/1 [00:00<00:00, 136.88it/s]"
     ]
    },
    {
     "name": "stdout",
     "output_type": "stream",
     "text": [
      "0.9457814080421382\n",
      "0.94027105517909\n",
      "0.913935003521481\n",
      "0.9103747630983676\n"
     ]
    },
    {
     "name": "stderr",
     "output_type": "stream",
     "text": [
      "\n",
      " 14%|█▍        | 220/1567 [00:12<01:11, 18.80it/s]\n",
      "100%|██████████| 1/1 [00:00<00:00, 116.70it/s]\n",
      "\n",
      "100%|██████████| 1/1 [00:00<00:00, 136.99it/s]\n",
      " 14%|█▍        | 222/1567 [00:12<01:11, 18.82it/s]\n",
      "100%|██████████| 1/1 [00:00<00:00, 125.49it/s]\n",
      "\n",
      "100%|██████████| 1/1 [00:00<00:00, 135.27it/s]"
     ]
    },
    {
     "name": "stdout",
     "output_type": "stream",
     "text": [
      "0.9119306834359221\n",
      "0.9219359309866876\n",
      "0.9253373561199396\n",
      "0.9272391926057943\n"
     ]
    },
    {
     "name": "stderr",
     "output_type": "stream",
     "text": [
      "\n",
      " 14%|█▍        | 224/1567 [00:12<01:11, 18.82it/s]\n",
      "100%|██████████| 1/1 [00:00<00:00, 135.31it/s]\n",
      "\n",
      "100%|██████████| 1/1 [00:00<00:00, 123.12it/s]\n",
      " 14%|█▍        | 226/1567 [00:12<01:11, 18.79it/s]\n",
      "100%|██████████| 1/1 [00:00<00:00, 127.58it/s]\n",
      "\n",
      "100%|██████████| 1/1 [00:00<00:00, 137.19it/s]"
     ]
    },
    {
     "name": "stdout",
     "output_type": "stream",
     "text": [
      "0.930965244571405\n",
      "0.9293320027571733\n",
      "0.9372213396197406\n",
      "0.9392384663246259\n"
     ]
    },
    {
     "name": "stderr",
     "output_type": "stream",
     "text": [
      "\n",
      " 15%|█▍        | 228/1567 [00:12<01:11, 18.81it/s]\n",
      "100%|██████████| 1/1 [00:00<00:00, 137.95it/s]\n",
      "\n",
      "100%|██████████| 1/1 [00:00<00:00, 138.67it/s]\n",
      " 15%|█▍        | 230/1567 [00:13<01:10, 18.88it/s]\n",
      "100%|██████████| 1/1 [00:00<00:00, 121.65it/s]\n",
      "\n",
      "100%|██████████| 1/1 [00:00<00:00, 123.35it/s]"
     ]
    },
    {
     "name": "stdout",
     "output_type": "stream",
     "text": [
      "0.9535152918240526\n",
      "0.9622206025267249\n",
      "0.9664829795593525\n",
      "0.9648561651486074\n"
     ]
    },
    {
     "name": "stderr",
     "output_type": "stream",
     "text": [
      "\n",
      " 15%|█▍        | 232/1567 [00:13<01:10, 18.80it/s]\n",
      "100%|██████████| 1/1 [00:00<00:00, 119.80it/s]\n",
      "\n",
      "100%|██████████| 1/1 [00:00<00:00, 126.90it/s]\n",
      " 15%|█▍        | 234/1567 [00:13<01:11, 18.77it/s]\n",
      "100%|██████████| 1/1 [00:00<00:00, 121.14it/s]\n",
      "\n",
      "100%|██████████| 1/1 [00:00<00:00, 137.90it/s]"
     ]
    },
    {
     "name": "stdout",
     "output_type": "stream",
     "text": [
      "0.9645347944083158\n",
      "0.9627169903854996\n",
      "0.9631794033510421\n",
      "0.9677856622064306\n"
     ]
    },
    {
     "name": "stderr",
     "output_type": "stream",
     "text": [
      "\n",
      " 15%|█▌        | 236/1567 [00:13<01:11, 18.72it/s]\n",
      "100%|██████████| 1/1 [00:00<00:00, 140.37it/s]\n",
      "\n",
      "100%|██████████| 1/1 [00:00<00:00, 139.26it/s]\n",
      " 15%|█▌        | 238/1567 [00:13<01:10, 18.81it/s]\n",
      "100%|██████████| 1/1 [00:00<00:00, 135.52it/s]\n",
      "\n",
      "100%|██████████| 1/1 [00:00<00:00, 134.40it/s]"
     ]
    },
    {
     "name": "stdout",
     "output_type": "stream",
     "text": [
      "0.9662378425258636\n",
      "0.9666300722911532\n",
      "0.9667058688841939\n",
      "0.9656522288167698\n"
     ]
    },
    {
     "name": "stderr",
     "output_type": "stream",
     "text": [
      "\n",
      " 15%|█▌        | 240/1567 [00:13<01:10, 18.83it/s]\n",
      "100%|██████████| 1/1 [00:00<00:00, 130.15it/s]\n",
      "\n",
      "100%|██████████| 1/1 [00:00<00:00, 139.29it/s]\n",
      " 15%|█▌        | 242/1567 [00:13<01:10, 18.86it/s]\n",
      "100%|██████████| 1/1 [00:00<00:00, 126.82it/s]\n",
      "\n",
      "100%|██████████| 1/1 [00:00<00:00, 137.89it/s]"
     ]
    },
    {
     "name": "stdout",
     "output_type": "stream",
     "text": [
      "0.9652293967714528\n",
      "0.9653062970568104\n",
      "0.9634120079248859\n",
      "0.9595680260583471\n"
     ]
    },
    {
     "name": "stderr",
     "output_type": "stream",
     "text": [
      "\n",
      " 16%|█▌        | 244/1567 [00:13<01:10, 18.87it/s]\n",
      "100%|██████████| 1/1 [00:00<00:00, 134.12it/s]\n",
      "\n",
      "100%|██████████| 1/1 [00:00<00:00, 140.35it/s]\n",
      " 16%|█▌        | 246/1567 [00:13<01:09, 18.91it/s]\n",
      "100%|██████████| 1/1 [00:00<00:00, 134.74it/s]\n",
      "\n",
      "100%|██████████| 1/1 [00:00<00:00, 136.94it/s]"
     ]
    },
    {
     "name": "stdout",
     "output_type": "stream",
     "text": [
      "0.9594499758761349\n",
      "0.9620748769562573\n",
      "0.9618385176117078\n",
      "0.9546918278649762\n"
     ]
    },
    {
     "name": "stderr",
     "output_type": "stream",
     "text": [
      "\n",
      " 16%|█▌        | 248/1567 [00:13<01:09, 18.97it/s]\n",
      "100%|██████████| 1/1 [00:00<00:00, 136.32it/s]\n",
      "\n",
      "100%|██████████| 1/1 [00:00<00:00, 139.32it/s]\n",
      " 16%|█▌        | 250/1567 [00:14<01:09, 18.99it/s]\n",
      "100%|██████████| 1/1 [00:00<00:00, 132.68it/s]\n",
      "\n",
      "100%|██████████| 1/1 [00:00<00:00, 133.90it/s]"
     ]
    },
    {
     "name": "stdout",
     "output_type": "stream",
     "text": [
      "0.958535358155704\n",
      "0.9506608652819966\n",
      "0.9471636952998379\n",
      "0.9475048446622314\n"
     ]
    },
    {
     "name": "stderr",
     "output_type": "stream",
     "text": [
      "\n",
      " 16%|█▌        | 252/1567 [00:14<01:09, 18.98it/s]\n",
      "100%|██████████| 1/1 [00:00<00:00, 136.28it/s]\n",
      "\n",
      "100%|██████████| 1/1 [00:00<00:00, 136.40it/s]\n",
      " 16%|█▌        | 254/1567 [00:14<01:09, 18.97it/s]\n",
      "100%|██████████| 1/1 [00:00<00:00, 136.35it/s]\n",
      "\n",
      "100%|██████████| 1/1 [00:00<00:00, 139.55it/s]"
     ]
    },
    {
     "name": "stdout",
     "output_type": "stream",
     "text": [
      "0.9428189287306541\n",
      "0.9428171150212716\n",
      "0.9328223565511701\n",
      "0.9466242861476372\n"
     ]
    },
    {
     "name": "stderr",
     "output_type": "stream",
     "text": [
      "\n",
      " 16%|█▋        | 256/1567 [00:14<01:09, 18.96it/s]\n",
      "100%|██████████| 1/1 [00:00<00:00, 134.14it/s]\n",
      "\n",
      "100%|██████████| 1/1 [00:00<00:00, 136.02it/s]\n",
      " 16%|█▋        | 258/1567 [00:14<01:08, 18.98it/s]\n",
      "100%|██████████| 1/1 [00:00<00:00, 137.67it/s]\n",
      "\n",
      "100%|██████████| 1/1 [00:00<00:00, 136.24it/s]"
     ]
    },
    {
     "name": "stdout",
     "output_type": "stream",
     "text": [
      "0.9483322604800252\n",
      "0.944706782388477\n",
      "0.9310523449640717\n",
      "0.9304975417357126\n"
     ]
    },
    {
     "name": "stderr",
     "output_type": "stream",
     "text": [
      "\n",
      " 17%|█▋        | 260/1567 [00:14<01:08, 18.99it/s]\n",
      "100%|██████████| 1/1 [00:00<00:00, 137.71it/s]\n",
      "\n",
      "100%|██████████| 1/1 [00:00<00:00, 135.92it/s]\n",
      " 17%|█▋        | 262/1567 [00:14<01:08, 19.00it/s]\n",
      "100%|██████████| 1/1 [00:00<00:00, 130.46it/s]\n",
      "\n",
      "100%|██████████| 1/1 [00:00<00:00, 136.18it/s]"
     ]
    },
    {
     "name": "stdout",
     "output_type": "stream",
     "text": [
      "0.9243050959629384\n",
      "0.9213973799126638\n",
      "0.903763823229999\n",
      "0.9001897533206831\n"
     ]
    },
    {
     "name": "stderr",
     "output_type": "stream",
     "text": [
      "\n",
      " 17%|█▋        | 264/1567 [00:14<01:08, 18.95it/s]\n",
      "100%|██████████| 1/1 [00:00<00:00, 136.49it/s]\n",
      "\n",
      "100%|██████████| 1/1 [00:00<00:00, 135.09it/s]\n",
      " 17%|█▋        | 266/1567 [00:14<01:08, 18.98it/s]\n",
      "100%|██████████| 1/1 [00:00<00:00, 132.96it/s]\n",
      "\n",
      "100%|██████████| 1/1 [00:00<00:00, 137.04it/s]"
     ]
    },
    {
     "name": "stdout",
     "output_type": "stream",
     "text": [
      "0.8975920600011278\n",
      "0.8971004142265391\n",
      "0.9015243164771353\n",
      "0.9008181426725994\n"
     ]
    },
    {
     "name": "stderr",
     "output_type": "stream",
     "text": [
      "\n",
      " 17%|█▋        | 268/1567 [00:15<01:08, 18.96it/s]\n",
      "100%|██████████| 1/1 [00:00<00:00, 133.89it/s]\n",
      "\n",
      "100%|██████████| 1/1 [00:00<00:00, 138.30it/s]\n",
      " 17%|█▋        | 270/1567 [00:15<01:08, 18.97it/s]\n",
      "100%|██████████| 1/1 [00:00<00:00, 121.56it/s]\n",
      "\n",
      "100%|██████████| 1/1 [00:00<00:00, 135.40it/s]"
     ]
    },
    {
     "name": "stdout",
     "output_type": "stream",
     "text": [
      "0.9034836743203025\n",
      "0.8936164133043777\n",
      "0.9072845780572544\n",
      "0.9039133722340319\n"
     ]
    },
    {
     "name": "stderr",
     "output_type": "stream",
     "text": [
      "\n",
      " 17%|█▋        | 272/1567 [00:15<01:08, 18.93it/s]\n",
      "100%|██████████| 1/1 [00:00<00:00, 137.31it/s]\n",
      "\n",
      "100%|██████████| 1/1 [00:00<00:00, 131.87it/s]\n",
      " 17%|█▋        | 274/1567 [00:15<01:08, 18.92it/s]\n",
      "100%|██████████| 1/1 [00:00<00:00, 124.02it/s]\n",
      "\n",
      "100%|██████████| 1/1 [00:00<00:00, 137.00it/s]"
     ]
    },
    {
     "name": "stdout",
     "output_type": "stream",
     "text": [
      "0.9107597289337489\n",
      "0.9032876017691636\n",
      "0.8882401292480372\n",
      "0.8892252494674291\n"
     ]
    },
    {
     "name": "stderr",
     "output_type": "stream",
     "text": [
      "\n",
      " 18%|█▊        | 276/1567 [00:15<01:08, 18.93it/s]\n",
      "100%|██████████| 1/1 [00:00<00:00, 135.81it/s]\n",
      "\n",
      "100%|██████████| 1/1 [00:00<00:00, 139.49it/s]\n",
      " 18%|█▊        | 278/1567 [00:15<01:07, 18.98it/s]\n",
      "100%|██████████| 1/1 [00:00<00:00, 137.19it/s]\n",
      "\n",
      "100%|██████████| 1/1 [00:00<00:00, 141.64it/s]"
     ]
    },
    {
     "name": "stdout",
     "output_type": "stream",
     "text": [
      "0.885123147203867\n",
      "0.885840683342144\n",
      "0.8896938960333273\n",
      "0.8842031425364759\n"
     ]
    },
    {
     "name": "stderr",
     "output_type": "stream",
     "text": [
      "\n",
      " 18%|█▊        | 280/1567 [00:15<01:07, 18.99it/s]\n",
      "100%|██████████| 1/1 [00:00<00:00, 137.42it/s]\n",
      "\n",
      "100%|██████████| 1/1 [00:00<00:00, 136.06it/s]\n",
      " 18%|█▊        | 282/1567 [00:15<01:07, 19.01it/s]\n",
      "100%|██████████| 1/1 [00:00<00:00, 122.69it/s]\n",
      "\n",
      "100%|██████████| 1/1 [00:00<00:00, 139.48it/s]"
     ]
    },
    {
     "name": "stdout",
     "output_type": "stream",
     "text": [
      "0.9069558629591178\n",
      "0.9224939815672142\n",
      "0.9336486886007518\n",
      "0.9369422710932543\n"
     ]
    },
    {
     "name": "stderr",
     "output_type": "stream",
     "text": [
      "\n",
      " 18%|█▊        | 284/1567 [00:15<01:07, 19.00it/s]\n",
      "100%|██████████| 1/1 [00:00<00:00, 137.32it/s]\n",
      "\n",
      "100%|██████████| 1/1 [00:00<00:00, 138.57it/s]\n",
      " 18%|█▊        | 286/1567 [00:15<01:07, 19.03it/s]\n",
      "100%|██████████| 1/1 [00:00<00:00, 135.62it/s]\n",
      "\n",
      "100%|██████████| 1/1 [00:00<00:00, 140.70it/s]"
     ]
    },
    {
     "name": "stdout",
     "output_type": "stream",
     "text": [
      "0.9426027280719167\n",
      "0.9361044513128629\n",
      "0.9484357470497181\n",
      "0.9447205686875109\n"
     ]
    },
    {
     "name": "stderr",
     "output_type": "stream",
     "text": [
      "\n",
      " 18%|█▊        | 288/1567 [00:16<01:07, 19.09it/s]\n",
      "100%|██████████| 1/1 [00:00<00:00, 139.60it/s]\n",
      "\n",
      "100%|██████████| 1/1 [00:00<00:00, 140.29it/s]\n",
      " 19%|█▊        | 290/1567 [00:16<01:06, 19.11it/s]\n",
      "100%|██████████| 1/1 [00:00<00:00, 134.20it/s]\n",
      "\n",
      "100%|██████████| 1/1 [00:00<00:00, 135.00it/s]"
     ]
    },
    {
     "name": "stdout",
     "output_type": "stream",
     "text": [
      "0.9601038042548338\n",
      "0.9546653597220821\n",
      "0.9456897804913504\n",
      "0.9534264219431515\n"
     ]
    },
    {
     "name": "stderr",
     "output_type": "stream",
     "text": [
      "\n",
      " 19%|█▊        | 292/1567 [00:16<01:06, 19.08it/s]\n",
      "100%|██████████| 1/1 [00:00<00:00, 126.86it/s]\n",
      "\n",
      "100%|██████████| 1/1 [00:00<00:00, 138.18it/s]\n",
      " 19%|█▉        | 294/1567 [00:16<01:06, 19.07it/s]\n",
      "100%|██████████| 1/1 [00:00<00:00, 135.00it/s]\n",
      "\n",
      "100%|██████████| 1/1 [00:00<00:00, 135.98it/s]"
     ]
    },
    {
     "name": "stdout",
     "output_type": "stream",
     "text": [
      "0.9488307954112021\n",
      "0.9461507540680969\n",
      "0.9436259771497294\n",
      "0.9481861331135631\n"
     ]
    },
    {
     "name": "stderr",
     "output_type": "stream",
     "text": [
      "\n",
      " 19%|█▉        | 296/1567 [00:16<01:06, 19.05it/s]\n",
      "100%|██████████| 1/1 [00:00<00:00, 137.04it/s]\n",
      "\n",
      "100%|██████████| 1/1 [00:00<00:00, 143.78it/s]\n",
      " 19%|█▉        | 298/1567 [00:16<01:06, 19.08it/s]\n",
      "100%|██████████| 1/1 [00:00<00:00, 138.52it/s]\n",
      "\n",
      "100%|██████████| 1/1 [00:00<00:00, 138.25it/s]"
     ]
    },
    {
     "name": "stdout",
     "output_type": "stream",
     "text": [
      "0.9364051849194341\n",
      "0.9411025403358836\n",
      "0.9330183030440341\n",
      "0.8894062042572703\n"
     ]
    },
    {
     "name": "stderr",
     "output_type": "stream",
     "text": [
      "\n",
      " 19%|█▉        | 300/1567 [00:16<01:06, 19.06it/s]\n",
      "100%|██████████| 1/1 [00:00<00:00, 138.21it/s]\n",
      "\n",
      "100%|██████████| 1/1 [00:00<00:00, 141.32it/s]\n",
      " 19%|█▉        | 302/1567 [00:16<01:06, 19.07it/s]\n",
      "100%|██████████| 1/1 [00:00<00:00, 135.53it/s]\n",
      "\n",
      "100%|██████████| 1/1 [00:00<00:00, 139.56it/s]"
     ]
    },
    {
     "name": "stdout",
     "output_type": "stream",
     "text": [
      "0.8807382189571762\n",
      "0.8862479399377403\n",
      "0.9018809065051839\n",
      "0.9068185995221467\n"
     ]
    },
    {
     "name": "stderr",
     "output_type": "stream",
     "text": [
      "\n",
      " 19%|█▉        | 304/1567 [00:16<01:06, 19.06it/s]\n",
      "100%|██████████| 1/1 [00:00<00:00, 137.45it/s]\n",
      "\n",
      "100%|██████████| 1/1 [00:00<00:00, 126.35it/s]\n",
      " 20%|█▉        | 306/1567 [00:17<01:06, 19.05it/s]\n",
      "100%|██████████| 1/1 [00:00<00:00, 138.88it/s]\n",
      "\n",
      "100%|██████████| 1/1 [00:00<00:00, 137.98it/s]"
     ]
    },
    {
     "name": "stdout",
     "output_type": "stream",
     "text": [
      "0.9210934250822337\n",
      "0.8925513784461153\n",
      "0.9405420085743661\n",
      "0.9485080955292169\n"
     ]
    },
    {
     "name": "stderr",
     "output_type": "stream",
     "text": [
      "\n",
      " 20%|█▉        | 308/1567 [00:17<01:06, 19.03it/s]\n",
      "100%|██████████| 1/1 [00:00<00:00, 137.49it/s]\n",
      "\n",
      "100%|██████████| 1/1 [00:00<00:00, 128.14it/s]\n",
      " 20%|█▉        | 310/1567 [00:17<01:06, 18.99it/s]\n",
      "100%|██████████| 1/1 [00:00<00:00, 136.80it/s]\n",
      "\n",
      "100%|██████████| 1/1 [00:00<00:00, 138.15it/s]"
     ]
    },
    {
     "name": "stdout",
     "output_type": "stream",
     "text": [
      "0.9434732053609678\n",
      "0.9565949260550679\n",
      "0.9519924060347787\n",
      "0.9448261589403973\n"
     ]
    },
    {
     "name": "stderr",
     "output_type": "stream",
     "text": [
      "\n",
      " 20%|█▉        | 312/1567 [00:17<01:05, 19.02it/s]\n",
      "100%|██████████| 1/1 [00:00<00:00, 139.35it/s]\n",
      "\n",
      "100%|██████████| 1/1 [00:00<00:00, 141.55it/s]\n",
      " 20%|██        | 314/1567 [00:17<01:05, 19.07it/s]\n",
      "100%|██████████| 1/1 [00:00<00:00, 133.16it/s]\n",
      "\n",
      "100%|██████████| 1/1 [00:00<00:00, 132.33it/s]"
     ]
    },
    {
     "name": "stdout",
     "output_type": "stream",
     "text": [
      "0.9246079099897716\n",
      "0.9252713046073812\n",
      "0.9547814436442806\n",
      "0.9267348270611269\n"
     ]
    },
    {
     "name": "stderr",
     "output_type": "stream",
     "text": [
      "\n",
      " 20%|██        | 316/1567 [00:17<01:05, 19.06it/s]\n",
      "100%|██████████| 1/1 [00:00<00:00, 139.11it/s]\n",
      "\n",
      "100%|██████████| 1/1 [00:00<00:00, 139.81it/s]\n",
      " 20%|██        | 318/1567 [00:17<01:05, 19.13it/s]\n",
      "100%|██████████| 1/1 [00:00<00:00, 139.67it/s]\n",
      "\n",
      "100%|██████████| 1/1 [00:00<00:00, 135.51it/s]"
     ]
    },
    {
     "name": "stdout",
     "output_type": "stream",
     "text": [
      "0.9295115658752022\n",
      "0.9447842040887646\n",
      "0.8864271042488864\n",
      "0.9093572605749862\n"
     ]
    },
    {
     "name": "stderr",
     "output_type": "stream",
     "text": [
      "\n",
      " 20%|██        | 320/1567 [00:17<01:05, 19.13it/s]\n",
      "100%|██████████| 1/1 [00:00<00:00, 139.05it/s]\n",
      "\n",
      "100%|██████████| 1/1 [00:00<00:00, 134.62it/s]\n",
      " 21%|██        | 322/1567 [00:17<01:04, 19.17it/s]\n",
      "100%|██████████| 1/1 [00:00<00:00, 135.35it/s]\n",
      "\n",
      "100%|██████████| 1/1 [00:00<00:00, 142.76it/s]"
     ]
    },
    {
     "name": "stdout",
     "output_type": "stream",
     "text": [
      "0.9294586997914589\n",
      "0.9350379472352729\n",
      "0.9219157530294287\n",
      "0.9446159433448339\n"
     ]
    },
    {
     "name": "stderr",
     "output_type": "stream",
     "text": [
      "\n",
      " 21%|██        | 324/1567 [00:17<01:04, 19.18it/s]\n",
      "100%|██████████| 1/1 [00:00<00:00, 138.14it/s]\n",
      "\n",
      "100%|██████████| 1/1 [00:00<00:00, 129.96it/s]\n",
      " 21%|██        | 326/1567 [00:18<01:04, 19.12it/s]\n",
      "100%|██████████| 1/1 [00:00<00:00, 137.55it/s]\n",
      "\n",
      "100%|██████████| 1/1 [00:00<00:00, 138.42it/s]"
     ]
    },
    {
     "name": "stdout",
     "output_type": "stream",
     "text": [
      "0.9403177913276062\n",
      "0.9359694347265697\n",
      "0.9357436242545193\n",
      "0.9485079805690493\n"
     ]
    },
    {
     "name": "stderr",
     "output_type": "stream",
     "text": [
      "\n",
      " 21%|██        | 328/1567 [00:18<01:04, 19.10it/s]\n",
      "100%|██████████| 1/1 [00:00<00:00, 121.81it/s]\n",
      "\n",
      "100%|██████████| 1/1 [00:00<00:00, 129.15it/s]\n",
      " 21%|██        | 330/1567 [00:18<01:05, 19.02it/s]\n",
      "100%|██████████| 1/1 [00:00<00:00, 138.95it/s]\n",
      "\n",
      "100%|██████████| 1/1 [00:00<00:00, 141.27it/s]"
     ]
    },
    {
     "name": "stdout",
     "output_type": "stream",
     "text": [
      "0.9449079468655325\n",
      "0.9397045881597412\n",
      "0.7493433824369076\n",
      "0.8636615994712492\n"
     ]
    },
    {
     "name": "stderr",
     "output_type": "stream",
     "text": [
      "\n",
      " 21%|██        | 332/1567 [00:18<01:04, 19.05it/s]\n",
      "100%|██████████| 1/1 [00:00<00:00, 136.54it/s]\n",
      "\n",
      "100%|██████████| 1/1 [00:00<00:00, 126.69it/s]\n",
      " 21%|██▏       | 334/1567 [00:18<01:04, 19.03it/s]\n",
      "100%|██████████| 1/1 [00:00<00:00, 139.33it/s]\n",
      "\n",
      "100%|██████████| 1/1 [00:00<00:00, 137.10it/s]"
     ]
    },
    {
     "name": "stdout",
     "output_type": "stream",
     "text": [
      "0.8362464496395019\n",
      "0.9017925298096918\n",
      "0.9349652525671611\n",
      "0.9196884374506605\n"
     ]
    },
    {
     "name": "stderr",
     "output_type": "stream",
     "text": [
      "\n",
      " 21%|██▏       | 336/1567 [00:18<01:04, 19.05it/s]\n",
      "100%|██████████| 1/1 [00:00<00:00, 134.94it/s]\n",
      "\n",
      "100%|██████████| 1/1 [00:00<00:00, 138.86it/s]\n",
      " 22%|██▏       | 338/1567 [00:18<01:04, 19.08it/s]\n",
      "100%|██████████| 1/1 [00:00<00:00, 123.36it/s]\n",
      "\n",
      "100%|██████████| 1/1 [00:00<00:00, 138.51it/s]"
     ]
    },
    {
     "name": "stdout",
     "output_type": "stream",
     "text": [
      "0.9359786420980998\n",
      "0.9191073919107392\n",
      "0.8721796028880866\n",
      "0.8979683845698667\n"
     ]
    },
    {
     "name": "stderr",
     "output_type": "stream",
     "text": [
      "\n",
      " 22%|██▏       | 340/1567 [00:18<01:04, 19.09it/s]\n",
      "100%|██████████| 1/1 [00:00<00:00, 137.16it/s]\n",
      "\n",
      "100%|██████████| 1/1 [00:00<00:00, 137.73it/s]\n",
      " 22%|██▏       | 342/1567 [00:18<01:04, 19.10it/s]\n",
      "100%|██████████| 1/1 [00:00<00:00, 130.79it/s]\n",
      "\n",
      "100%|██████████| 1/1 [00:00<00:00, 140.66it/s]"
     ]
    },
    {
     "name": "stdout",
     "output_type": "stream",
     "text": [
      "0.9116462470074638\n",
      "0.902093258264761\n",
      "0.9136464007066097\n",
      "0.9234142150327378\n"
     ]
    },
    {
     "name": "stderr",
     "output_type": "stream",
     "text": [
      "\n",
      " 22%|██▏       | 344/1567 [00:18<01:04, 19.10it/s]\n",
      "100%|██████████| 1/1 [00:00<00:00, 141.33it/s]\n",
      "\n",
      "100%|██████████| 1/1 [00:00<00:00, 139.36it/s]\n",
      " 22%|██▏       | 346/1567 [00:19<01:03, 19.13it/s]\n",
      "100%|██████████| 1/1 [00:00<00:00, 138.58it/s]\n",
      "\n",
      "100%|██████████| 1/1 [00:00<00:00, 139.29it/s]"
     ]
    },
    {
     "name": "stdout",
     "output_type": "stream",
     "text": [
      "0.9313133751810719\n",
      "0.9381398791168126\n",
      "0.9223409344602137\n",
      "0.9180283864040533\n"
     ]
    },
    {
     "name": "stderr",
     "output_type": "stream",
     "text": [
      "\n",
      " 22%|██▏       | 348/1567 [00:19<01:03, 19.11it/s]\n",
      "100%|██████████| 1/1 [00:00<00:00, 135.19it/s]\n",
      "\n",
      "100%|██████████| 1/1 [00:00<00:00, 142.38it/s]\n",
      " 22%|██▏       | 350/1567 [00:19<01:03, 19.12it/s]\n",
      "100%|██████████| 1/1 [00:00<00:00, 130.53it/s]\n",
      "\n",
      "100%|██████████| 1/1 [00:00<00:00, 142.76it/s]"
     ]
    },
    {
     "name": "stdout",
     "output_type": "stream",
     "text": [
      "0.9223894637817498\n",
      "0.9021297293541326\n",
      "0.9147260037316012\n",
      "0.888362556561086\n"
     ]
    },
    {
     "name": "stderr",
     "output_type": "stream",
     "text": [
      "\n",
      " 22%|██▏       | 352/1567 [00:19<01:03, 19.16it/s]\n",
      "100%|██████████| 1/1 [00:00<00:00, 135.24it/s]\n",
      "\n",
      "100%|██████████| 1/1 [00:00<00:00, 142.52it/s]\n",
      " 23%|██▎       | 354/1567 [00:19<01:03, 19.16it/s]\n",
      "100%|██████████| 1/1 [00:00<00:00, 139.56it/s]\n",
      "\n",
      "100%|██████████| 1/1 [00:00<00:00, 142.35it/s]"
     ]
    },
    {
     "name": "stdout",
     "output_type": "stream",
     "text": [
      "0.8706570857100526\n",
      "0.8749040675364543\n",
      "0.8304886778945783\n",
      "0.8542665388302972\n"
     ]
    },
    {
     "name": "stderr",
     "output_type": "stream",
     "text": [
      "\n",
      " 23%|██▎       | 356/1567 [00:19<01:03, 19.16it/s]\n",
      "100%|██████████| 1/1 [00:00<00:00, 139.05it/s]\n",
      "\n",
      "100%|██████████| 1/1 [00:00<00:00, 136.48it/s]\n",
      " 23%|██▎       | 358/1567 [00:19<01:03, 19.13it/s]\n",
      "100%|██████████| 1/1 [00:00<00:00, 131.10it/s]\n",
      "\n",
      "100%|██████████| 1/1 [00:00<00:00, 140.08it/s]"
     ]
    },
    {
     "name": "stdout",
     "output_type": "stream",
     "text": [
      "0.850356294536817\n",
      "0.8727454492439705\n",
      "0.8664997742848936\n",
      "0.8585158409525835\n"
     ]
    },
    {
     "name": "stderr",
     "output_type": "stream",
     "text": [
      "\n",
      " 23%|██▎       | 360/1567 [00:19<01:03, 19.13it/s]\n",
      "100%|██████████| 1/1 [00:00<00:00, 134.83it/s]\n",
      "\n",
      "100%|██████████| 1/1 [00:00<00:00, 139.62it/s]\n",
      " 23%|██▎       | 362/1567 [00:19<01:02, 19.13it/s]\n",
      "100%|██████████| 1/1 [00:00<00:00, 140.20it/s]\n",
      "\n",
      "100%|██████████| 1/1 [00:00<00:00, 141.05it/s]"
     ]
    },
    {
     "name": "stdout",
     "output_type": "stream",
     "text": [
      "0.8630172638153899\n",
      "0.866707724793243\n",
      "0.8673059360730594\n",
      "0.8158599101755659\n"
     ]
    },
    {
     "name": "stderr",
     "output_type": "stream",
     "text": [
      "\n",
      " 23%|██▎       | 364/1567 [00:20<01:02, 19.16it/s]\n",
      "100%|██████████| 1/1 [00:00<00:00, 137.76it/s]\n",
      "\n",
      "100%|██████████| 1/1 [00:00<00:00, 137.43it/s]\n",
      " 23%|██▎       | 366/1567 [00:20<01:02, 19.13it/s]\n",
      "100%|██████████| 1/1 [00:00<00:00, 138.32it/s]\n",
      "\n",
      "100%|██████████| 1/1 [00:00<00:00, 128.46it/s]"
     ]
    },
    {
     "name": "stdout",
     "output_type": "stream",
     "text": [
      "0.8470293306593131\n",
      "0.8648372425775461\n",
      "0.8384883352686583\n",
      "0.8534839503411251\n"
     ]
    },
    {
     "name": "stderr",
     "output_type": "stream",
     "text": [
      "\n",
      " 23%|██▎       | 368/1567 [00:20<01:02, 19.13it/s]\n",
      "100%|██████████| 1/1 [00:00<00:00, 138.65it/s]\n",
      "\n",
      "100%|██████████| 1/1 [00:00<00:00, 138.25it/s]\n",
      " 24%|██▎       | 370/1567 [00:20<01:02, 19.15it/s]\n",
      "100%|██████████| 1/1 [00:00<00:00, 138.45it/s]\n",
      "\n",
      "100%|██████████| 1/1 [00:00<00:00, 142.27it/s]"
     ]
    },
    {
     "name": "stdout",
     "output_type": "stream",
     "text": [
      "0.86708131766874\n",
      "0.8456423652339112\n",
      "0.8842199948599332\n",
      "0.8161282487247996\n"
     ]
    },
    {
     "name": "stderr",
     "output_type": "stream",
     "text": [
      "\n",
      " 24%|██▎       | 372/1567 [00:20<01:02, 19.17it/s]\n",
      "100%|██████████| 1/1 [00:00<00:00, 141.01it/s]\n",
      "\n",
      "100%|██████████| 1/1 [00:00<00:00, 144.48it/s]\n",
      " 24%|██▍       | 374/1567 [00:20<01:02, 19.17it/s]\n",
      "100%|██████████| 1/1 [00:00<00:00, 140.88it/s]\n",
      "\n",
      "100%|██████████| 1/1 [00:00<00:00, 145.26it/s]"
     ]
    },
    {
     "name": "stdout",
     "output_type": "stream",
     "text": [
      "0.8654905515654417\n",
      "0.8165571801935438\n",
      "0.7346486673589477\n",
      "0.6964285714285714\n"
     ]
    },
    {
     "name": "stderr",
     "output_type": "stream",
     "text": [
      "\n",
      " 24%|██▍       | 376/1567 [00:20<01:02, 19.21it/s]\n",
      "100%|██████████| 1/1 [00:00<00:00, 140.02it/s]\n",
      "\n",
      "100%|██████████| 1/1 [00:00<00:00, 140.91it/s]\n",
      " 24%|██▍       | 378/1567 [00:20<01:01, 19.21it/s]\n",
      "100%|██████████| 1/1 [00:00<00:00, 137.93it/s]\n",
      "\n",
      "100%|██████████| 1/1 [00:00<00:00, 142.57it/s]"
     ]
    },
    {
     "name": "stdout",
     "output_type": "stream",
     "text": [
      "0.7043241695303551\n",
      "0.659943645261753\n",
      "0.6639839034205232\n",
      "0.5828298649958976\n"
     ]
    },
    {
     "name": "stderr",
     "output_type": "stream",
     "text": [
      "\n",
      " 24%|██▍       | 380/1567 [00:20<01:01, 19.22it/s]\n",
      "100%|██████████| 1/1 [00:00<00:00, 138.62it/s]\n",
      "\n",
      "100%|██████████| 1/1 [00:00<00:00, 142.92it/s]\n",
      " 24%|██▍       | 382/1567 [00:20<01:01, 19.22it/s]\n",
      "100%|██████████| 1/1 [00:00<00:00, 137.36it/s]\n",
      "\n",
      "100%|██████████| 1/1 [00:00<00:00, 144.24it/s]"
     ]
    },
    {
     "name": "stdout",
     "output_type": "stream",
     "text": [
      "0.6198281349458943\n",
      "0.5343795168284121\n",
      "0.40006515719172503\n",
      "0.4627558694656988\n"
     ]
    },
    {
     "name": "stderr",
     "output_type": "stream",
     "text": [
      "\n",
      " 25%|██▍       | 384/1567 [00:21<01:01, 19.23it/s]\n",
      "100%|██████████| 1/1 [00:00<00:00, 137.79it/s]\n",
      "\n",
      "100%|██████████| 1/1 [00:00<00:00, 142.64it/s]\n",
      " 25%|██▍       | 386/1567 [00:21<01:01, 19.22it/s]\n",
      "100%|██████████| 1/1 [00:00<00:00, 136.49it/s]\n",
      "\n",
      "100%|██████████| 1/1 [00:00<00:00, 140.64it/s]"
     ]
    },
    {
     "name": "stdout",
     "output_type": "stream",
     "text": [
      "0.43946015424164525\n",
      "0.42060247783158294\n",
      "0.4330308296324902\n",
      "0.38882817243472984\n"
     ]
    },
    {
     "name": "stderr",
     "output_type": "stream",
     "text": [
      "\n",
      " 25%|██▍       | 388/1567 [00:21<01:01, 19.23it/s]\n",
      "100%|██████████| 1/1 [00:00<00:00, 134.86it/s]\n",
      "\n",
      "100%|██████████| 1/1 [00:00<00:00, 142.18it/s]\n",
      " 25%|██▍       | 390/1567 [00:21<01:01, 19.24it/s]\n",
      "100%|██████████| 1/1 [00:00<00:00, 137.37it/s]\n",
      "\n",
      "100%|██████████| 1/1 [00:00<00:00, 140.79it/s]"
     ]
    },
    {
     "name": "stdout",
     "output_type": "stream",
     "text": [
      "0.3581637800571717\n",
      "0.3560138305754507\n",
      "0.34809526817865943\n",
      "0.2814230933106093\n"
     ]
    },
    {
     "name": "stderr",
     "output_type": "stream",
     "text": [
      "\n",
      " 25%|██▌       | 392/1567 [00:21<01:01, 19.25it/s]\n",
      "100%|██████████| 1/1 [00:00<00:00, 136.69it/s]\n",
      "\n",
      "100%|██████████| 1/1 [00:00<00:00, 144.07it/s]\n",
      " 25%|██▌       | 394/1567 [00:21<01:00, 19.26it/s]\n",
      "100%|██████████| 1/1 [00:00<00:00, 136.39it/s]\n",
      "\n",
      "100%|██████████| 1/1 [00:00<00:00, 142.23it/s]"
     ]
    },
    {
     "name": "stdout",
     "output_type": "stream",
     "text": [
      "0.23692636072572038\n",
      "0.2946165191740413\n",
      "0.2601259605939793\n",
      "0.24264049955396966\n"
     ]
    },
    {
     "name": "stderr",
     "output_type": "stream",
     "text": [
      "\n",
      " 25%|██▌       | 396/1567 [00:21<01:00, 19.25it/s]\n",
      "100%|██████████| 1/1 [00:00<00:00, 138.95it/s]\n",
      "\n",
      "100%|██████████| 1/1 [00:00<00:00, 139.54it/s]\n",
      " 25%|██▌       | 398/1567 [00:21<01:00, 19.20it/s]\n",
      "100%|██████████| 1/1 [00:00<00:00, 139.27it/s]\n",
      "\n",
      "100%|██████████| 1/1 [00:00<00:00, 141.17it/s]"
     ]
    },
    {
     "name": "stdout",
     "output_type": "stream",
     "text": [
      "0.23433345993163693\n",
      "0.14142363038558436\n",
      "0.12312684113905135\n",
      "0.1117699238993417\n"
     ]
    },
    {
     "name": "stderr",
     "output_type": "stream",
     "text": [
      "\n",
      " 26%|██▌       | 400/1567 [00:21<01:00, 19.17it/s]\n",
      "100%|██████████| 1/1 [00:00<00:00, 137.97it/s]\n",
      "\n",
      "100%|██████████| 1/1 [00:00<00:00, 141.32it/s]\n",
      " 26%|██▌       | 402/1567 [00:22<01:00, 19.16it/s]\n",
      "100%|██████████| 1/1 [00:00<00:00, 138.71it/s]\n",
      "\n",
      "100%|██████████| 1/1 [00:00<00:00, 137.90it/s]"
     ]
    },
    {
     "name": "stdout",
     "output_type": "stream",
     "text": [
      "0.0807126334957429\n",
      "0.05603640581779245\n",
      "0.022733953944145027\n",
      "0.014443395839317221\n"
     ]
    },
    {
     "name": "stderr",
     "output_type": "stream",
     "text": [
      "\n",
      " 26%|██▌       | 404/1567 [00:22<01:00, 19.18it/s]\n",
      "100%|██████████| 1/1 [00:00<00:00, 137.10it/s]\n",
      "\n",
      "100%|██████████| 1/1 [00:00<00:00, 141.89it/s]\n",
      " 26%|██▌       | 406/1567 [00:22<01:00, 19.21it/s]\n",
      "100%|██████████| 1/1 [00:00<00:00, 141.26it/s]\n",
      "\n",
      "100%|██████████| 1/1 [00:00<00:00, 144.10it/s]"
     ]
    },
    {
     "name": "stdout",
     "output_type": "stream",
     "text": [
      "0.0\n",
      "0.0\n",
      "0.0\n",
      "0.0\n"
     ]
    },
    {
     "name": "stderr",
     "output_type": "stream",
     "text": [
      "\n",
      " 26%|██▌       | 408/1567 [00:22<01:00, 19.21it/s]\n",
      "100%|██████████| 1/1 [00:00<00:00, 139.33it/s]\n",
      "\n",
      "100%|██████████| 1/1 [00:00<00:00, 142.59it/s]\n",
      " 26%|██▌       | 410/1567 [00:22<01:00, 19.18it/s]\n",
      "100%|██████████| 1/1 [00:00<00:00, 140.21it/s]\n",
      "\n",
      "100%|██████████| 1/1 [00:00<00:00, 140.33it/s]"
     ]
    },
    {
     "name": "stdout",
     "output_type": "stream",
     "text": [
      "0.0\n",
      "0.15566614023063857\n",
      "0.64441819255759\n",
      "0.7437702913521946\n"
     ]
    },
    {
     "name": "stderr",
     "output_type": "stream",
     "text": [
      "\n",
      " 26%|██▋       | 412/1567 [00:22<01:00, 19.14it/s]\n",
      "100%|██████████| 1/1 [00:00<00:00, 137.94it/s]\n",
      "\n",
      "100%|██████████| 1/1 [00:00<00:00, 140.57it/s]\n",
      " 26%|██▋       | 414/1567 [00:22<01:00, 19.17it/s]\n",
      "100%|██████████| 1/1 [00:00<00:00, 137.55it/s]\n",
      "\n",
      "100%|██████████| 1/1 [00:00<00:00, 142.21it/s]"
     ]
    },
    {
     "name": "stdout",
     "output_type": "stream",
     "text": [
      "0.8738957597173145\n",
      "0.8991307863351526\n",
      "0.863606400191766\n",
      "0.9147811149582629\n"
     ]
    },
    {
     "name": "stderr",
     "output_type": "stream",
     "text": [
      "\n",
      " 27%|██▋       | 416/1567 [00:22<01:00, 19.13it/s]\n",
      "100%|██████████| 1/1 [00:00<00:00, 141.38it/s]\n",
      "\n",
      "100%|██████████| 1/1 [00:00<00:00, 147.23it/s]\n",
      " 27%|██▋       | 418/1567 [00:22<01:00, 19.13it/s]\n",
      "100%|██████████| 1/1 [00:00<00:00, 134.29it/s]\n",
      "\n",
      "100%|██████████| 1/1 [00:00<00:00, 145.93it/s]"
     ]
    },
    {
     "name": "stdout",
     "output_type": "stream",
     "text": [
      "0.9225708134781452\n",
      "0.9382033563672261\n",
      "0.9400143678160919\n",
      "0.9403848642253729\n"
     ]
    },
    {
     "name": "stderr",
     "output_type": "stream",
     "text": [
      "\n",
      " 27%|██▋       | 420/1567 [00:22<01:00, 19.09it/s]\n",
      "100%|██████████| 1/1 [00:00<00:00, 141.53it/s]\n",
      "\n",
      "100%|██████████| 1/1 [00:00<00:00, 145.32it/s]\n",
      " 27%|██▋       | 422/1567 [00:23<01:00, 19.06it/s]\n",
      "100%|██████████| 1/1 [00:00<00:00, 135.53it/s]\n",
      "\n",
      "100%|██████████| 1/1 [00:00<00:00, 144.95it/s]"
     ]
    },
    {
     "name": "stdout",
     "output_type": "stream",
     "text": [
      "0.9433602249522981\n",
      "0.9470287460248176\n",
      "0.9333575504396918\n",
      "0.9463169241825369\n"
     ]
    },
    {
     "name": "stderr",
     "output_type": "stream",
     "text": [
      "\n",
      " 27%|██▋       | 424/1567 [00:23<01:00, 19.02it/s]\n",
      "100%|██████████| 1/1 [00:00<00:00, 138.87it/s]\n",
      "\n",
      "100%|██████████| 1/1 [00:00<00:00, 145.57it/s]\n",
      " 27%|██▋       | 426/1567 [00:23<00:59, 19.03it/s]\n",
      "100%|██████████| 1/1 [00:00<00:00, 140.97it/s]\n",
      "\n",
      "100%|██████████| 1/1 [00:00<00:00, 145.26it/s]"
     ]
    },
    {
     "name": "stdout",
     "output_type": "stream",
     "text": [
      "0.9397899617735948\n",
      "0.958541321829343\n",
      "0.9278792439063319\n",
      "0.8944623408498236\n"
     ]
    },
    {
     "name": "stderr",
     "output_type": "stream",
     "text": [
      "\n",
      " 27%|██▋       | 428/1567 [00:23<00:59, 19.05it/s]\n",
      "100%|██████████| 1/1 [00:00<00:00, 145.01it/s]\n",
      "\n",
      "100%|██████████| 1/1 [00:00<00:00, 149.08it/s]\n",
      " 27%|██▋       | 430/1567 [00:23<00:59, 19.10it/s]\n",
      "100%|██████████| 1/1 [00:00<00:00, 144.47it/s]\n",
      "\n",
      "100%|██████████| 1/1 [00:00<00:00, 142.13it/s]"
     ]
    },
    {
     "name": "stdout",
     "output_type": "stream",
     "text": [
      "0.8834282460136674\n",
      "0.8756910542821118\n",
      "0.7760523711654107\n",
      "0.5967044437816881\n"
     ]
    },
    {
     "name": "stderr",
     "output_type": "stream",
     "text": [
      "\n",
      " 28%|██▊       | 432/1567 [00:23<00:59, 19.09it/s]\n",
      "100%|██████████| 1/1 [00:00<00:00, 146.09it/s]\n",
      "\n",
      "100%|██████████| 1/1 [00:00<00:00, 143.72it/s]\n",
      " 28%|██▊       | 434/1567 [00:23<00:59, 19.15it/s]\n",
      "100%|██████████| 1/1 [00:00<00:00, 141.17it/s]\n",
      "\n",
      "100%|██████████| 1/1 [00:00<00:00, 134.82it/s]"
     ]
    },
    {
     "name": "stdout",
     "output_type": "stream",
     "text": [
      "0.45973286621414494\n",
      "0.23823302469135801\n",
      "0.16736401673640167\n",
      "0.18791477471184073\n"
     ]
    },
    {
     "name": "stderr",
     "output_type": "stream",
     "text": [
      "\n",
      " 28%|██▊       | 436/1567 [00:23<00:59, 19.12it/s]\n",
      "100%|██████████| 1/1 [00:00<00:00, 132.67it/s]\n",
      "\n",
      "100%|██████████| 1/1 [00:00<00:00, 143.81it/s]\n",
      " 28%|██▊       | 438/1567 [00:23<00:59, 19.13it/s]\n",
      "100%|██████████| 1/1 [00:00<00:00, 143.83it/s]\n",
      "\n",
      "100%|██████████| 1/1 [00:00<00:00, 140.39it/s]"
     ]
    },
    {
     "name": "stdout",
     "output_type": "stream",
     "text": [
      "0.20103677304390086\n",
      "0.13068382716922425\n",
      "0.08236405695109635\n",
      "0.04330811374902165\n"
     ]
    },
    {
     "name": "stderr",
     "output_type": "stream",
     "text": [
      "\n",
      " 28%|██▊       | 440/1567 [00:24<00:58, 19.15it/s]\n",
      "100%|██████████| 1/1 [00:00<00:00, 142.62it/s]\n",
      "\n",
      "100%|██████████| 1/1 [00:00<00:00, 143.52it/s]\n",
      " 28%|██▊       | 442/1567 [00:24<00:58, 19.15it/s]\n",
      "100%|██████████| 1/1 [00:00<00:00, 139.16it/s]\n",
      "\n",
      "100%|██████████| 1/1 [00:00<00:00, 135.88it/s]"
     ]
    },
    {
     "name": "stdout",
     "output_type": "stream",
     "text": [
      "0.015613088159058335\n",
      "0.22698506455151465\n",
      "0.2524847573707509\n",
      "0.2767000121501762\n"
     ]
    },
    {
     "name": "stderr",
     "output_type": "stream",
     "text": [
      "\n",
      " 28%|██▊       | 444/1567 [00:24<00:58, 19.10it/s]\n",
      "100%|██████████| 1/1 [00:00<00:00, 144.20it/s]\n",
      "\n",
      "100%|██████████| 1/1 [00:00<00:00, 139.35it/s]\n",
      " 28%|██▊       | 446/1567 [00:24<00:58, 19.12it/s]\n",
      "100%|██████████| 1/1 [00:00<00:00, 142.42it/s]\n",
      "\n",
      "100%|██████████| 1/1 [00:00<00:00, 138.62it/s]"
     ]
    },
    {
     "name": "stdout",
     "output_type": "stream",
     "text": [
      "0.27681687737531996\n",
      "0.29736453393454093\n",
      "0.3338315894369706\n",
      "0.2951195897730125\n"
     ]
    },
    {
     "name": "stderr",
     "output_type": "stream",
     "text": [
      "\n",
      " 29%|██▊       | 448/1567 [00:24<00:58, 19.09it/s]\n",
      "100%|██████████| 1/1 [00:00<00:00, 142.65it/s]\n",
      "\n",
      "100%|██████████| 1/1 [00:00<00:00, 142.88it/s]\n",
      " 29%|██▊       | 450/1567 [00:24<00:58, 19.12it/s]\n",
      "100%|██████████| 1/1 [00:00<00:00, 141.69it/s]\n",
      "\n",
      "100%|██████████| 1/1 [00:00<00:00, 144.39it/s]"
     ]
    },
    {
     "name": "stdout",
     "output_type": "stream",
     "text": [
      "0.35930007571296374\n",
      "0.3919168138120463\n",
      "0.009940203463539644\n",
      "0.42603978300180834\n"
     ]
    },
    {
     "name": "stderr",
     "output_type": "stream",
     "text": [
      "\n",
      " 29%|██▉       | 452/1567 [00:24<00:58, 19.13it/s]\n",
      "100%|██████████| 1/1 [00:00<00:00, 141.12it/s]\n",
      "\n",
      "100%|██████████| 1/1 [00:00<00:00, 142.79it/s]\n",
      " 29%|██▉       | 454/1567 [00:24<00:58, 19.16it/s]\n",
      "100%|██████████| 1/1 [00:00<00:00, 137.09it/s]\n",
      "\n",
      "100%|██████████| 1/1 [00:00<00:00, 138.15it/s]"
     ]
    },
    {
     "name": "stdout",
     "output_type": "stream",
     "text": [
      "0.40496156533892386\n",
      "0.4069891603300437\n",
      "0.49917231000752443\n",
      "0.48554415668268885\n"
     ]
    },
    {
     "name": "stderr",
     "output_type": "stream",
     "text": [
      "\n",
      " 29%|██▉       | 456/1567 [00:24<00:58, 19.09it/s]\n",
      "100%|██████████| 1/1 [00:00<00:00, 138.92it/s]\n",
      "\n",
      "100%|██████████| 1/1 [00:00<00:00, 141.02it/s]\n",
      " 29%|██▉       | 458/1567 [00:24<00:58, 19.11it/s]\n",
      "100%|██████████| 1/1 [00:00<00:00, 137.20it/s]\n",
      "\n",
      "100%|██████████| 1/1 [00:00<00:00, 139.34it/s]"
     ]
    },
    {
     "name": "stdout",
     "output_type": "stream",
     "text": [
      "0.5009633911368016\n",
      "0.5341610316668515\n",
      "0.671280276816609\n",
      "0.5417526674829456\n"
     ]
    },
    {
     "name": "stderr",
     "output_type": "stream",
     "text": [
      "\n",
      " 29%|██▉       | 460/1567 [00:25<00:57, 19.09it/s]\n",
      "100%|██████████| 1/1 [00:00<00:00, 144.68it/s]\n",
      "\n",
      "100%|██████████| 1/1 [00:00<00:00, 140.43it/s]\n",
      " 29%|██▉       | 462/1567 [00:25<00:57, 19.14it/s]\n",
      "100%|██████████| 1/1 [00:00<00:00, 143.99it/s]\n",
      "\n",
      "100%|██████████| 1/1 [00:00<00:00, 140.44it/s]"
     ]
    },
    {
     "name": "stdout",
     "output_type": "stream",
     "text": [
      "0.5933827382289093\n",
      "0.028639940558613936\n",
      "0.7353516958798088\n",
      "0.8284960422163589\n"
     ]
    },
    {
     "name": "stderr",
     "output_type": "stream",
     "text": [
      "\n",
      " 30%|██▉       | 464/1567 [00:25<00:57, 19.10it/s]\n",
      "100%|██████████| 1/1 [00:00<00:00, 143.10it/s]\n",
      "\n",
      "100%|██████████| 1/1 [00:00<00:00, 138.99it/s]\n",
      " 30%|██▉       | 466/1567 [00:25<00:57, 19.12it/s]\n",
      "100%|██████████| 1/1 [00:00<00:00, 125.71it/s]\n",
      "\n",
      "100%|██████████| 1/1 [00:00<00:00, 142.46it/s]"
     ]
    },
    {
     "name": "stdout",
     "output_type": "stream",
     "text": [
      "0.6552617123126422\n",
      "0.763190620003553\n",
      "0.6212643874449264\n",
      "0.6993199247576327\n"
     ]
    },
    {
     "name": "stderr",
     "output_type": "stream",
     "text": [
      "\n",
      " 30%|██▉       | 468/1567 [00:25<00:57, 19.06it/s]\n",
      "100%|██████████| 1/1 [00:00<00:00, 141.57it/s]\n",
      "\n",
      "100%|██████████| 1/1 [00:00<00:00, 139.07it/s]\n",
      " 30%|██▉       | 470/1567 [00:25<00:57, 19.06it/s]\n",
      "100%|██████████| 1/1 [00:00<00:00, 140.61it/s]\n",
      "\n",
      "100%|██████████| 1/1 [00:00<00:00, 129.02it/s]"
     ]
    },
    {
     "name": "stdout",
     "output_type": "stream",
     "text": [
      "0.854148025054327\n",
      "0.7664442326024785\n",
      "0.8775792006943622\n",
      "0.9060361867112665\n"
     ]
    },
    {
     "name": "stderr",
     "output_type": "stream",
     "text": [
      "\n",
      " 30%|███       | 472/1567 [00:25<00:57, 19.05it/s]\n",
      "100%|██████████| 1/1 [00:00<00:00, 139.08it/s]\n",
      "\n",
      "100%|██████████| 1/1 [00:00<00:00, 129.36it/s]\n",
      " 30%|███       | 474/1567 [00:25<00:57, 19.02it/s]\n",
      "100%|██████████| 1/1 [00:00<00:00, 136.08it/s]\n",
      "\n",
      "100%|██████████| 1/1 [00:00<00:00, 140.04it/s]"
     ]
    },
    {
     "name": "stdout",
     "output_type": "stream",
     "text": [
      "0.048292832974469395\n",
      "0.8611551050575441\n",
      "0.8689791333356027\n",
      "0.8207803300692474\n"
     ]
    },
    {
     "name": "stderr",
     "output_type": "stream",
     "text": [
      "\n",
      " 30%|███       | 476/1567 [00:25<00:57, 19.06it/s]\n",
      "100%|██████████| 1/1 [00:00<00:00, 142.23it/s]\n",
      "\n",
      "100%|██████████| 1/1 [00:00<00:00, 136.67it/s]\n",
      " 31%|███       | 478/1567 [00:25<00:57, 19.05it/s]\n",
      "100%|██████████| 1/1 [00:00<00:00, 136.72it/s]\n",
      "\n",
      "100%|██████████| 1/1 [00:00<00:00, 136.29it/s]"
     ]
    },
    {
     "name": "stdout",
     "output_type": "stream",
     "text": [
      "0.8510230944118703\n",
      "0.7830114617679385\n",
      "0.750171048773336\n",
      "0.740308019118428\n"
     ]
    },
    {
     "name": "stderr",
     "output_type": "stream",
     "text": [
      "\n",
      " 31%|███       | 480/1567 [00:26<00:57, 19.04it/s]\n",
      "100%|██████████| 1/1 [00:00<00:00, 123.15it/s]\n",
      "\n",
      "100%|██████████| 1/1 [00:00<00:00, 138.73it/s]\n",
      " 31%|███       | 482/1567 [00:26<00:57, 18.97it/s]\n",
      "100%|██████████| 1/1 [00:00<00:00, 142.22it/s]\n",
      "\n",
      "100%|██████████| 1/1 [00:00<00:00, 139.28it/s]"
     ]
    },
    {
     "name": "stdout",
     "output_type": "stream",
     "text": [
      "0.7997906307249412\n",
      "0.9506409554070341\n",
      "0.8989846587119247\n",
      "0.07297357982186962\n"
     ]
    },
    {
     "name": "stderr",
     "output_type": "stream",
     "text": [
      "\n",
      " 31%|███       | 484/1567 [00:26<00:57, 18.98it/s]\n",
      "100%|██████████| 1/1 [00:00<00:00, 136.59it/s]\n",
      "\n",
      "100%|██████████| 1/1 [00:00<00:00, 136.93it/s]\n",
      " 31%|███       | 486/1567 [00:26<00:56, 18.99it/s]\n",
      "100%|██████████| 1/1 [00:00<00:00, 136.11it/s]\n",
      "\n",
      "100%|██████████| 1/1 [00:00<00:00, 140.73it/s]"
     ]
    },
    {
     "name": "stdout",
     "output_type": "stream",
     "text": [
      "0.8199703283235503\n",
      "0.9550021427551069\n",
      "0.9570136774662608\n",
      "0.9599469789020214\n"
     ]
    },
    {
     "name": "stderr",
     "output_type": "stream",
     "text": [
      "\n",
      " 31%|███       | 488/1567 [00:26<00:56, 18.97it/s]\n",
      "100%|██████████| 1/1 [00:00<00:00, 141.20it/s]\n",
      "\n",
      "100%|██████████| 1/1 [00:00<00:00, 138.65it/s]\n",
      " 31%|███▏      | 490/1567 [00:26<00:56, 19.00it/s]\n",
      "100%|██████████| 1/1 [00:00<00:00, 125.18it/s]\n",
      "\n",
      "100%|██████████| 1/1 [00:00<00:00, 131.94it/s]"
     ]
    },
    {
     "name": "stdout",
     "output_type": "stream",
     "text": [
      "0.9571386092349518\n",
      "0.9611928104575164\n",
      "0.9584047173194151\n",
      "0.9573755253016248\n"
     ]
    },
    {
     "name": "stderr",
     "output_type": "stream",
     "text": [
      "\n",
      " 31%|███▏      | 492/1567 [00:26<00:56, 18.92it/s]\n",
      "100%|██████████| 1/1 [00:00<00:00, 135.34it/s]\n",
      "\n",
      "100%|██████████| 1/1 [00:00<00:00, 142.31it/s]\n",
      " 32%|███▏      | 494/1567 [00:26<00:56, 18.96it/s]\n",
      "100%|██████████| 1/1 [00:00<00:00, 135.31it/s]\n",
      "\n",
      "100%|██████████| 1/1 [00:00<00:00, 142.89it/s]"
     ]
    },
    {
     "name": "stdout",
     "output_type": "stream",
     "text": [
      "0.9611565474970658\n",
      "0.9582442277719381\n",
      "0.09774247491638796\n",
      "0.9656916609980291\n"
     ]
    },
    {
     "name": "stderr",
     "output_type": "stream",
     "text": [
      "\n",
      " 32%|███▏      | 496/1567 [00:26<00:56, 18.95it/s]\n",
      "100%|██████████| 1/1 [00:00<00:00, 133.43it/s]\n",
      "\n",
      "100%|██████████| 1/1 [00:00<00:00, 139.57it/s]\n",
      " 32%|███▏      | 498/1567 [00:27<00:56, 18.95it/s]\n",
      "100%|██████████| 1/1 [00:00<00:00, 138.55it/s]\n",
      "\n",
      "100%|██████████| 1/1 [00:00<00:00, 139.78it/s]"
     ]
    },
    {
     "name": "stdout",
     "output_type": "stream",
     "text": [
      "0.9642832776147916\n",
      "0.9606044797468993\n",
      "0.9655419956927495\n",
      "0.969715256713621\n"
     ]
    },
    {
     "name": "stderr",
     "output_type": "stream",
     "text": [
      "\n",
      " 32%|███▏      | 500/1567 [00:27<00:56, 18.94it/s]\n",
      "100%|██████████| 1/1 [00:00<00:00, 123.64it/s]\n",
      "\n",
      "100%|██████████| 1/1 [00:00<00:00, 141.60it/s]\n",
      " 32%|███▏      | 502/1567 [00:27<00:56, 18.91it/s]\n",
      "100%|██████████| 1/1 [00:00<00:00, 138.06it/s]\n",
      "\n",
      "100%|██████████| 1/1 [00:00<00:00, 138.49it/s]"
     ]
    },
    {
     "name": "stdout",
     "output_type": "stream",
     "text": [
      "0.9706043568822138\n",
      "0.9683775864948156\n",
      "0.9728291735166642\n",
      "0.971886483375393\n"
     ]
    },
    {
     "name": "stderr",
     "output_type": "stream",
     "text": [
      "\n",
      " 32%|███▏      | 504/1567 [00:27<00:56, 18.90it/s]\n",
      "100%|██████████| 1/1 [00:00<00:00, 144.38it/s]\n",
      "\n",
      "100%|██████████| 1/1 [00:00<00:00, 139.13it/s]\n",
      " 32%|███▏      | 506/1567 [00:27<00:55, 18.95it/s]\n",
      "100%|██████████| 1/1 [00:00<00:00, 138.78it/s]\n",
      "\n",
      "100%|██████████| 1/1 [00:00<00:00, 139.18it/s]"
     ]
    },
    {
     "name": "stdout",
     "output_type": "stream",
     "text": [
      "0.9723873077990158\n",
      "0.11964868717524256\n",
      "0.9743715760107544\n",
      "0.9751120818484883\n"
     ]
    },
    {
     "name": "stderr",
     "output_type": "stream",
     "text": [
      "\n",
      " 32%|███▏      | 508/1567 [00:27<00:55, 18.94it/s]\n",
      "100%|██████████| 1/1 [00:00<00:00, 140.63it/s]\n",
      "\n",
      "100%|██████████| 1/1 [00:00<00:00, 137.26it/s]\n",
      " 33%|███▎      | 510/1567 [00:27<00:55, 18.95it/s]\n",
      "100%|██████████| 1/1 [00:00<00:00, 137.25it/s]\n",
      "\n",
      "100%|██████████| 1/1 [00:00<00:00, 134.71it/s]"
     ]
    },
    {
     "name": "stdout",
     "output_type": "stream",
     "text": [
      "0.9776424778761061\n",
      "0.9811973504718241\n",
      "0.9717198789771079\n",
      "0.9671750573626671\n"
     ]
    },
    {
     "name": "stderr",
     "output_type": "stream",
     "text": [
      "\n",
      " 33%|███▎      | 512/1567 [00:27<00:55, 18.91it/s]\n",
      "100%|██████████| 1/1 [00:00<00:00, 141.68it/s]\n",
      "\n",
      "100%|██████████| 1/1 [00:00<00:00, 132.95it/s]\n",
      " 33%|███▎      | 514/1567 [00:27<00:55, 18.90it/s]\n",
      "100%|██████████| 1/1 [00:00<00:00, 138.80it/s]\n",
      "\n",
      "100%|██████████| 1/1 [00:00<00:00, 141.14it/s]"
     ]
    },
    {
     "name": "stdout",
     "output_type": "stream",
     "text": [
      "0.9686745100087487\n",
      "0.9740786641445437\n",
      "0.9769004293070129\n",
      "0.9806334607163676\n"
     ]
    },
    {
     "name": "stderr",
     "output_type": "stream",
     "text": [
      "\n",
      " 33%|███▎      | 516/1567 [00:28<00:55, 18.93it/s]\n",
      "100%|██████████| 1/1 [00:00<00:00, 128.51it/s]\n",
      "\n",
      "100%|██████████| 1/1 [00:00<00:00, 138.72it/s]\n",
      " 33%|███▎      | 518/1567 [00:28<00:55, 18.91it/s]\n",
      "100%|██████████| 1/1 [00:00<00:00, 133.38it/s]\n",
      "\n",
      "100%|██████████| 1/1 [00:00<00:00, 132.42it/s]"
     ]
    },
    {
     "name": "stdout",
     "output_type": "stream",
     "text": [
      "0.12240392477514309\n",
      "0.9789918129859431\n",
      "0.9794286451280068\n",
      "0.9595502680088901\n"
     ]
    },
    {
     "name": "stderr",
     "output_type": "stream",
     "text": [
      "\n",
      " 33%|███▎      | 520/1567 [00:28<00:55, 18.88it/s]\n",
      "100%|██████████| 1/1 [00:00<00:00, 133.75it/s]\n",
      "\n",
      "100%|██████████| 1/1 [00:00<00:00, 134.19it/s]\n",
      " 33%|███▎      | 522/1567 [00:28<00:55, 18.93it/s]\n",
      "100%|██████████| 1/1 [00:00<00:00, 132.96it/s]\n",
      "\n",
      "100%|██████████| 1/1 [00:00<00:00, 136.79it/s]"
     ]
    },
    {
     "name": "stdout",
     "output_type": "stream",
     "text": [
      "0.9377866320814001\n",
      "0.9289365567924502\n",
      "0.9278333584244598\n",
      "0.9205774176599099\n"
     ]
    },
    {
     "name": "stderr",
     "output_type": "stream",
     "text": [
      "\n",
      " 33%|███▎      | 524/1567 [00:28<00:54, 18.98it/s]\n",
      "100%|██████████| 1/1 [00:00<00:00, 130.50it/s]\n",
      "\n",
      "100%|██████████| 1/1 [00:00<00:00, 137.11it/s]\n",
      " 34%|███▎      | 526/1567 [00:28<00:54, 18.99it/s]\n",
      "100%|██████████| 1/1 [00:00<00:00, 133.33it/s]\n",
      "\n",
      "100%|██████████| 1/1 [00:00<00:00, 134.95it/s]"
     ]
    },
    {
     "name": "stdout",
     "output_type": "stream",
     "text": [
      "0.9222691123831809\n",
      "0.9454815793821245\n",
      "0.9498815182105825\n",
      "0.17109297404672452\n"
     ]
    },
    {
     "name": "stderr",
     "output_type": "stream",
     "text": [
      "\n",
      " 34%|███▎      | 528/1567 [00:28<00:54, 19.02it/s]\n",
      "100%|██████████| 1/1 [00:00<00:00, 128.06it/s]\n",
      "\n",
      "100%|██████████| 1/1 [00:00<00:00, 133.27it/s]\n",
      " 34%|███▍      | 530/1567 [00:28<00:54, 19.00it/s]\n",
      "100%|██████████| 1/1 [00:00<00:00, 130.99it/s]\n",
      "\n",
      "100%|██████████| 1/1 [00:00<00:00, 139.81it/s]"
     ]
    },
    {
     "name": "stdout",
     "output_type": "stream",
     "text": [
      "0.9305114437497329\n",
      "0.8888691664817691\n",
      "0.8783941186258641\n",
      "0.8854325442498523\n"
     ]
    },
    {
     "name": "stderr",
     "output_type": "stream",
     "text": [
      "\n",
      " 34%|███▍      | 532/1567 [00:28<00:54, 19.01it/s]\n",
      "100%|██████████| 1/1 [00:00<00:00, 130.75it/s]\n",
      "\n",
      "100%|██████████| 1/1 [00:00<00:00, 138.73it/s]\n",
      " 34%|███▍      | 534/1567 [00:28<00:54, 18.99it/s]\n",
      "100%|██████████| 1/1 [00:00<00:00, 140.32it/s]\n",
      "\n",
      "100%|██████████| 1/1 [00:00<00:00, 144.60it/s]"
     ]
    },
    {
     "name": "stdout",
     "output_type": "stream",
     "text": [
      "0.9363233074683294\n",
      "0.9412948259584282\n",
      "0.9608820371468406\n",
      "0.9513179269506891\n"
     ]
    },
    {
     "name": "stderr",
     "output_type": "stream",
     "text": [
      "\n",
      " 34%|███▍      | 536/1567 [00:29<00:54, 19.04it/s]\n",
      "100%|██████████| 1/1 [00:00<00:00, 126.28it/s]\n",
      "\n",
      "100%|██████████| 1/1 [00:00<00:00, 141.58it/s]\n",
      " 34%|███▍      | 538/1567 [00:29<00:54, 19.02it/s]\n",
      "100%|██████████| 1/1 [00:00<00:00, 133.60it/s]\n",
      "\n",
      "100%|██████████| 1/1 [00:00<00:00, 148.90it/s]"
     ]
    },
    {
     "name": "stdout",
     "output_type": "stream",
     "text": [
      "0.9273691313988238\n",
      "0.9232259314263576\n",
      "0.18853492111782347\n",
      "0.9618199377615624\n"
     ]
    },
    {
     "name": "stderr",
     "output_type": "stream",
     "text": [
      "\n",
      " 34%|███▍      | 540/1567 [00:29<00:54, 19.00it/s]\n",
      "100%|██████████| 1/1 [00:00<00:00, 145.53it/s]\n",
      "\n",
      "100%|██████████| 1/1 [00:00<00:00, 147.97it/s]\n",
      " 35%|███▍      | 542/1567 [00:29<00:53, 19.08it/s]\n",
      "100%|██████████| 1/1 [00:00<00:00, 151.02it/s]\n",
      "\n",
      "100%|██████████| 1/1 [00:00<00:00, 149.24it/s]"
     ]
    },
    {
     "name": "stdout",
     "output_type": "stream",
     "text": [
      "0.9553641510816213\n",
      "0.9653754972884425\n",
      "0.9669010427070432\n",
      "0.9596416088219367\n"
     ]
    },
    {
     "name": "stderr",
     "output_type": "stream",
     "text": [
      "\n",
      " 35%|███▍      | 544/1567 [00:29<00:53, 19.08it/s]\n",
      "100%|██████████| 1/1 [00:00<00:00, 133.00it/s]\n",
      "\n",
      "100%|██████████| 1/1 [00:00<00:00, 136.79it/s]\n",
      " 35%|███▍      | 546/1567 [00:29<00:53, 19.06it/s]\n",
      "100%|██████████| 1/1 [00:00<00:00, 138.36it/s]\n",
      "\n",
      "100%|██████████| 1/1 [00:00<00:00, 148.85it/s]"
     ]
    },
    {
     "name": "stdout",
     "output_type": "stream",
     "text": [
      "0.9609694862881422\n",
      "0.9601781754224975\n",
      "0.9661047362704821\n",
      "0.966939064890481\n"
     ]
    },
    {
     "name": "stderr",
     "output_type": "stream",
     "text": [
      "\n",
      " 35%|███▍      | 548/1567 [00:29<00:53, 19.05it/s]\n",
      "100%|██████████| 1/1 [00:00<00:00, 135.52it/s]\n",
      "\n",
      "100%|██████████| 1/1 [00:00<00:00, 144.87it/s]\n",
      " 35%|███▌      | 550/1567 [00:29<00:53, 19.07it/s]\n",
      "100%|██████████| 1/1 [00:00<00:00, 156.99it/s]\n",
      "\n",
      "100%|██████████| 1/1 [00:00<00:00, 144.44it/s]"
     ]
    },
    {
     "name": "stdout",
     "output_type": "stream",
     "text": [
      "0.9671928822738409\n",
      "0.9683234985338305\n",
      "0.9651621208464076\n",
      "0.9647094452559946\n"
     ]
    },
    {
     "name": "stderr",
     "output_type": "stream",
     "text": [
      "\n",
      " 35%|███▌      | 552/1567 [00:29<00:53, 19.10it/s]\n",
      "100%|██████████| 1/1 [00:00<00:00, 139.85it/s]\n",
      "\n",
      "100%|██████████| 1/1 [00:00<00:00, 153.13it/s]\n",
      " 35%|███▌      | 554/1567 [00:30<00:53, 19.08it/s]\n",
      "100%|██████████| 1/1 [00:00<00:00, 150.36it/s]\n",
      "\n",
      "100%|██████████| 1/1 [00:00<00:00, 149.11it/s]"
     ]
    },
    {
     "name": "stdout",
     "output_type": "stream",
     "text": [
      "0.9505620390921458\n",
      "0.959375912118237\n",
      "0.9632515439243193\n",
      "0.9581611706766984\n"
     ]
    },
    {
     "name": "stderr",
     "output_type": "stream",
     "text": [
      "\n",
      " 35%|███▌      | 556/1567 [00:30<00:53, 19.07it/s]\n",
      "100%|██████████| 1/1 [00:00<00:00, 147.53it/s]\n",
      "\n",
      "100%|██████████| 1/1 [00:00<00:00, 150.78it/s]\n",
      " 36%|███▌      | 558/1567 [00:30<00:52, 19.06it/s]\n",
      "100%|██████████| 1/1 [00:00<00:00, 147.44it/s]\n",
      "\n",
      "100%|██████████| 1/1 [00:00<00:00, 149.94it/s]"
     ]
    },
    {
     "name": "stdout",
     "output_type": "stream",
     "text": [
      "0.9583097395243488\n",
      "0.9543552311435524\n",
      "0.9501789154968345\n",
      "0.9397027791496431\n"
     ]
    },
    {
     "name": "stderr",
     "output_type": "stream",
     "text": [
      "\n",
      " 36%|███▌      | 560/1567 [00:30<00:52, 19.04it/s]\n",
      "100%|██████████| 1/1 [00:00<00:00, 155.23it/s]\n",
      "\n",
      "100%|██████████| 1/1 [00:00<00:00, 151.63it/s]\n",
      " 36%|███▌      | 562/1567 [00:30<00:52, 19.09it/s]\n",
      "100%|██████████| 1/1 [00:00<00:00, 141.45it/s]\n",
      "\n",
      "100%|██████████| 1/1 [00:00<00:00, 152.19it/s]"
     ]
    },
    {
     "name": "stdout",
     "output_type": "stream",
     "text": [
      "0.9244069450215903\n",
      "0.8871615687886545\n",
      "0.9489892931716203\n",
      "0.9562433297758804\n"
     ]
    },
    {
     "name": "stderr",
     "output_type": "stream",
     "text": [
      "\n",
      " 36%|███▌      | 564/1567 [00:30<00:52, 19.05it/s]\n",
      "100%|██████████| 1/1 [00:00<00:00, 144.21it/s]\n",
      "\n",
      "100%|██████████| 1/1 [00:00<00:00, 149.59it/s]\n",
      " 36%|███▌      | 566/1567 [00:30<00:52, 19.07it/s]\n",
      "100%|██████████| 1/1 [00:00<00:00, 146.97it/s]\n",
      "\n",
      "100%|██████████| 1/1 [00:00<00:00, 146.61it/s]"
     ]
    },
    {
     "name": "stdout",
     "output_type": "stream",
     "text": [
      "0.9516663383535395\n",
      "0.951336993093678\n",
      "0.9462709649894675\n",
      "0.9412998843391642\n"
     ]
    },
    {
     "name": "stderr",
     "output_type": "stream",
     "text": [
      "\n",
      " 36%|███▌      | 568/1567 [00:30<00:52, 19.06it/s]\n",
      "100%|██████████| 1/1 [00:00<00:00, 140.48it/s]\n",
      "\n",
      "100%|██████████| 1/1 [00:00<00:00, 151.30it/s]\n",
      " 36%|███▋      | 570/1567 [00:30<00:52, 19.05it/s]\n",
      "100%|██████████| 1/1 [00:00<00:00, 146.77it/s]\n",
      "\n",
      "100%|██████████| 1/1 [00:00<00:00, 154.90it/s]"
     ]
    },
    {
     "name": "stdout",
     "output_type": "stream",
     "text": [
      "0.9605584703378325\n",
      "0.9551730792848746\n",
      "0.9515185288381165\n",
      "0.9531782730529987\n"
     ]
    },
    {
     "name": "stderr",
     "output_type": "stream",
     "text": [
      "\n",
      " 37%|███▋      | 572/1567 [00:30<00:52, 19.03it/s]\n",
      "100%|██████████| 1/1 [00:00<00:00, 132.68it/s]\n",
      "\n",
      "100%|██████████| 1/1 [00:00<00:00, 149.36it/s]\n",
      " 37%|███▋      | 574/1567 [00:31<00:52, 19.00it/s]\n",
      "100%|██████████| 1/1 [00:00<00:00, 137.49it/s]\n",
      "\n",
      "100%|██████████| 1/1 [00:00<00:00, 146.74it/s]"
     ]
    },
    {
     "name": "stdout",
     "output_type": "stream",
     "text": [
      "0.9452811069569167\n",
      "0.948728391317534\n",
      "0.9553891465637119\n",
      "0.9533874120068492\n"
     ]
    },
    {
     "name": "stderr",
     "output_type": "stream",
     "text": [
      "\n",
      " 37%|███▋      | 576/1567 [00:31<00:52, 18.97it/s]\n",
      "100%|██████████| 1/1 [00:00<00:00, 138.27it/s]\n",
      "\n",
      "100%|██████████| 1/1 [00:00<00:00, 151.67it/s]\n",
      " 37%|███▋      | 578/1567 [00:31<00:52, 18.98it/s]\n",
      "100%|██████████| 1/1 [00:00<00:00, 145.01it/s]\n",
      "\n",
      "100%|██████████| 1/1 [00:00<00:00, 146.66it/s]"
     ]
    },
    {
     "name": "stdout",
     "output_type": "stream",
     "text": [
      "0.9468315139678443\n",
      "0.9466492426700813\n",
      "0.9385612133961481\n",
      "0.9284062170943094\n"
     ]
    },
    {
     "name": "stderr",
     "output_type": "stream",
     "text": [
      "\n",
      " 37%|███▋      | 580/1567 [00:31<00:52, 18.98it/s]\n",
      "100%|██████████| 1/1 [00:00<00:00, 143.75it/s]\n",
      "\n",
      "100%|██████████| 1/1 [00:00<00:00, 147.81it/s]\n",
      " 37%|███▋      | 582/1567 [00:31<00:51, 19.01it/s]\n",
      "100%|██████████| 1/1 [00:00<00:00, 148.08it/s]\n",
      "\n",
      "100%|██████████| 1/1 [00:00<00:00, 152.18it/s]"
     ]
    },
    {
     "name": "stdout",
     "output_type": "stream",
     "text": [
      "0.9070085689881614\n",
      "0.9256409097074648\n",
      "0.9002512135693104\n",
      "0.9184740969154662\n"
     ]
    },
    {
     "name": "stderr",
     "output_type": "stream",
     "text": [
      "\n",
      " 37%|███▋      | 584/1567 [00:31<00:51, 19.03it/s]\n",
      "100%|██████████| 1/1 [00:00<00:00, 146.26it/s]\n",
      "\n",
      "100%|██████████| 1/1 [00:00<00:00, 147.19it/s]\n",
      " 37%|███▋      | 586/1567 [00:31<00:51, 19.06it/s]\n",
      "100%|██████████| 1/1 [00:00<00:00, 141.71it/s]\n",
      "\n",
      "100%|██████████| 1/1 [00:00<00:00, 147.03it/s]"
     ]
    },
    {
     "name": "stdout",
     "output_type": "stream",
     "text": [
      "0.9152790484903934\n",
      "0.9171001016998401\n",
      "0.9029708853238265\n",
      "0.9475058910371065\n"
     ]
    },
    {
     "name": "stderr",
     "output_type": "stream",
     "text": [
      "\n",
      " 38%|███▊      | 588/1567 [00:31<00:51, 19.04it/s]\n",
      "100%|██████████| 1/1 [00:00<00:00, 149.85it/s]\n",
      "\n",
      "100%|██████████| 1/1 [00:00<00:00, 147.01it/s]\n",
      " 38%|███▊      | 590/1567 [00:31<00:51, 19.05it/s]\n",
      "100%|██████████| 1/1 [00:00<00:00, 141.09it/s]\n",
      "\n",
      "100%|██████████| 1/1 [00:00<00:00, 150.28it/s]"
     ]
    },
    {
     "name": "stdout",
     "output_type": "stream",
     "text": [
      "0.9552914225627159\n",
      "0.9559759097463737\n",
      "0.955349365650445\n",
      "0.9510739743235913\n"
     ]
    },
    {
     "name": "stderr",
     "output_type": "stream",
     "text": [
      "\n",
      " 38%|███▊      | 592/1567 [00:31<00:51, 19.05it/s]\n",
      "100%|██████████| 1/1 [00:00<00:00, 145.82it/s]\n",
      "\n",
      "100%|██████████| 1/1 [00:00<00:00, 156.53it/s]\n",
      " 38%|███▊      | 594/1567 [00:32<00:51, 19.05it/s]\n",
      "100%|██████████| 1/1 [00:00<00:00, 146.75it/s]\n",
      "\n",
      "100%|██████████| 1/1 [00:00<00:00, 149.58it/s]"
     ]
    },
    {
     "name": "stdout",
     "output_type": "stream",
     "text": [
      "0.9515092203480897\n",
      "0.9499660885573104\n",
      "0.926702307259426\n",
      "0.9241506156439994\n"
     ]
    },
    {
     "name": "stderr",
     "output_type": "stream",
     "text": [
      "\n",
      " 38%|███▊      | 596/1567 [00:32<00:51, 19.02it/s]\n",
      "100%|██████████| 1/1 [00:00<00:00, 145.53it/s]\n",
      "\n",
      "100%|██████████| 1/1 [00:00<00:00, 144.47it/s]\n",
      " 38%|███▊      | 598/1567 [00:32<00:50, 19.08it/s]\n",
      "100%|██████████| 1/1 [00:00<00:00, 148.66it/s]\n",
      "\n",
      "100%|██████████| 1/1 [00:00<00:00, 152.29it/s]"
     ]
    },
    {
     "name": "stdout",
     "output_type": "stream",
     "text": [
      "0.9203193407159412\n",
      "0.9242117860680092\n",
      "0.9308701450414035\n",
      "0.9165754603704215\n"
     ]
    },
    {
     "name": "stderr",
     "output_type": "stream",
     "text": [
      "\n",
      " 38%|███▊      | 600/1567 [00:32<00:50, 19.09it/s]\n",
      "100%|██████████| 1/1 [00:00<00:00, 149.95it/s]\n",
      "\n",
      "100%|██████████| 1/1 [00:00<00:00, 139.56it/s]\n",
      " 38%|███▊      | 602/1567 [00:32<00:50, 19.08it/s]\n",
      "100%|██████████| 1/1 [00:00<00:00, 142.58it/s]\n",
      "\n",
      "100%|██████████| 1/1 [00:00<00:00, 150.74it/s]"
     ]
    },
    {
     "name": "stdout",
     "output_type": "stream",
     "text": [
      "0.9084226911103425\n",
      "0.9051655657964895\n",
      "0.9225137146271251\n",
      "0.9297223545718369\n"
     ]
    },
    {
     "name": "stderr",
     "output_type": "stream",
     "text": [
      "\n",
      " 39%|███▊      | 604/1567 [00:32<00:50, 19.08it/s]\n",
      "100%|██████████| 1/1 [00:00<00:00, 150.22it/s]\n",
      "\n",
      "100%|██████████| 1/1 [00:00<00:00, 153.74it/s]\n",
      " 39%|███▊      | 606/1567 [00:32<00:50, 19.10it/s]\n",
      "100%|██████████| 1/1 [00:00<00:00, 151.90it/s]\n",
      "\n",
      "100%|██████████| 1/1 [00:00<00:00, 149.27it/s]"
     ]
    },
    {
     "name": "stdout",
     "output_type": "stream",
     "text": [
      "0.9238738939036862\n",
      "0.9137088011590003\n",
      "0.919393580533801\n",
      "0.9273237475799961\n"
     ]
    },
    {
     "name": "stderr",
     "output_type": "stream",
     "text": [
      "\n",
      " 39%|███▉      | 608/1567 [00:32<00:50, 19.09it/s]\n",
      "100%|██████████| 1/1 [00:00<00:00, 150.21it/s]\n",
      "\n",
      "100%|██████████| 1/1 [00:00<00:00, 146.10it/s]\n",
      " 39%|███▉      | 610/1567 [00:32<00:50, 19.12it/s]\n",
      "100%|██████████| 1/1 [00:00<00:00, 151.26it/s]\n",
      "\n",
      "100%|██████████| 1/1 [00:00<00:00, 152.84it/s]"
     ]
    },
    {
     "name": "stdout",
     "output_type": "stream",
     "text": [
      "0.9384630526787765\n",
      "0.9452942077507166\n",
      "0.9479613264502581\n",
      "0.950832672482157\n"
     ]
    },
    {
     "name": "stderr",
     "output_type": "stream",
     "text": [
      "\n",
      " 39%|███▉      | 612/1567 [00:33<00:49, 19.11it/s]\n",
      "100%|██████████| 1/1 [00:00<00:00, 150.89it/s]\n",
      "\n",
      "100%|██████████| 1/1 [00:00<00:00, 152.05it/s]\n",
      " 39%|███▉      | 614/1567 [00:33<00:49, 19.09it/s]\n",
      "100%|██████████| 1/1 [00:00<00:00, 147.45it/s]\n",
      "\n",
      "100%|██████████| 1/1 [00:00<00:00, 151.63it/s]"
     ]
    },
    {
     "name": "stdout",
     "output_type": "stream",
     "text": [
      "0.9468526363525755\n",
      "0.9488113945635093\n",
      "0.9471529793884383\n",
      "0.9479847282360667\n"
     ]
    },
    {
     "name": "stderr",
     "output_type": "stream",
     "text": [
      "\n",
      " 39%|███▉      | 616/1567 [00:33<00:49, 19.09it/s]\n",
      "100%|██████████| 1/1 [00:00<00:00, 145.12it/s]\n",
      "\n",
      "100%|██████████| 1/1 [00:00<00:00, 144.68it/s]\n",
      " 39%|███▉      | 618/1567 [00:33<00:49, 19.09it/s]\n",
      "100%|██████████| 1/1 [00:00<00:00, 151.17it/s]\n",
      "\n",
      "100%|██████████| 1/1 [00:00<00:00, 144.87it/s]"
     ]
    },
    {
     "name": "stdout",
     "output_type": "stream",
     "text": [
      "0.955794211358927\n",
      "0.9537030782048684\n",
      "0.9403920741495881\n",
      "0.9405336661877959\n"
     ]
    },
    {
     "name": "stderr",
     "output_type": "stream",
     "text": [
      "\n",
      " 40%|███▉      | 620/1567 [00:33<00:49, 19.12it/s]\n",
      "100%|██████████| 1/1 [00:00<00:00, 147.82it/s]\n",
      "\n",
      "100%|██████████| 1/1 [00:00<00:00, 150.05it/s]\n",
      " 40%|███▉      | 622/1567 [00:33<00:49, 19.14it/s]\n",
      "100%|██████████| 1/1 [00:00<00:00, 150.95it/s]\n",
      "\n",
      "100%|██████████| 1/1 [00:00<00:00, 148.63it/s]"
     ]
    },
    {
     "name": "stdout",
     "output_type": "stream",
     "text": [
      "0.9355170352659893\n",
      "0.9329288925412095\n",
      "0.9334306214277028\n",
      "0.9269996161133333\n"
     ]
    },
    {
     "name": "stderr",
     "output_type": "stream",
     "text": [
      "\n",
      " 40%|███▉      | 624/1567 [00:33<00:49, 19.14it/s]\n",
      "100%|██████████| 1/1 [00:00<00:00, 141.44it/s]\n",
      "\n",
      "100%|██████████| 1/1 [00:00<00:00, 153.98it/s]\n",
      " 40%|███▉      | 626/1567 [00:33<00:49, 19.10it/s]\n",
      "100%|██████████| 1/1 [00:00<00:00, 148.53it/s]\n",
      "\n",
      "100%|██████████| 1/1 [00:00<00:00, 145.40it/s]"
     ]
    },
    {
     "name": "stdout",
     "output_type": "stream",
     "text": [
      "0.9278050599863243\n",
      "0.9224069375544364\n",
      "0.9199533314733558\n",
      "0.9261483649319252\n"
     ]
    },
    {
     "name": "stderr",
     "output_type": "stream",
     "text": [
      "\n",
      " 40%|████      | 628/1567 [00:33<00:49, 19.10it/s]\n",
      "100%|██████████| 1/1 [00:00<00:00, 151.91it/s]\n",
      "\n",
      "100%|██████████| 1/1 [00:00<00:00, 150.12it/s]\n",
      " 40%|████      | 630/1567 [00:33<00:48, 19.13it/s]\n",
      "100%|██████████| 1/1 [00:00<00:00, 151.97it/s]\n",
      "\n",
      "100%|██████████| 1/1 [00:00<00:00, 146.27it/s]"
     ]
    },
    {
     "name": "stdout",
     "output_type": "stream",
     "text": [
      "0.9282608695652174\n",
      "0.9172874930897412\n",
      "0.9173704785921093\n",
      "0.9309230911224503\n"
     ]
    },
    {
     "name": "stderr",
     "output_type": "stream",
     "text": [
      "\n",
      " 40%|████      | 632/1567 [00:34<00:48, 19.14it/s]\n",
      "100%|██████████| 1/1 [00:00<00:00, 144.85it/s]\n",
      "\n",
      "100%|██████████| 1/1 [00:00<00:00, 148.29it/s]\n",
      " 40%|████      | 634/1567 [00:34<00:48, 19.14it/s]\n",
      "100%|██████████| 1/1 [00:00<00:00, 144.46it/s]\n",
      "\n",
      "100%|██████████| 1/1 [00:00<00:00, 151.56it/s]"
     ]
    },
    {
     "name": "stdout",
     "output_type": "stream",
     "text": [
      "0.9310573505225741\n",
      "0.9348319406252503\n",
      "0.9393644617380026\n",
      "0.9429605236410944\n"
     ]
    },
    {
     "name": "stderr",
     "output_type": "stream",
     "text": [
      "\n",
      " 41%|████      | 636/1567 [00:34<00:48, 19.12it/s]\n",
      "100%|██████████| 1/1 [00:00<00:00, 143.67it/s]\n",
      "\n",
      "100%|██████████| 1/1 [00:00<00:00, 151.09it/s]\n",
      " 41%|████      | 638/1567 [00:34<00:48, 19.11it/s]\n",
      "100%|██████████| 1/1 [00:00<00:00, 145.06it/s]\n",
      "\n",
      "100%|██████████| 1/1 [00:00<00:00, 149.51it/s]"
     ]
    },
    {
     "name": "stdout",
     "output_type": "stream",
     "text": [
      "0.941861583046052\n",
      "0.9353573303129921\n",
      "0.9349361720055612\n",
      "0.9395880165698208\n"
     ]
    },
    {
     "name": "stderr",
     "output_type": "stream",
     "text": [
      "\n",
      " 41%|████      | 640/1567 [00:34<00:48, 19.13it/s]\n",
      "100%|██████████| 1/1 [00:00<00:00, 143.41it/s]\n",
      "\n",
      "100%|██████████| 1/1 [00:00<00:00, 140.15it/s]\n",
      " 41%|████      | 642/1567 [00:34<00:48, 19.11it/s]\n",
      "100%|██████████| 1/1 [00:00<00:00, 151.00it/s]\n",
      "\n",
      "100%|██████████| 1/1 [00:00<00:00, 149.75it/s]"
     ]
    },
    {
     "name": "stdout",
     "output_type": "stream",
     "text": [
      "0.941013625549708\n",
      "0.9305686923622606\n",
      "0.8961165334827352\n",
      "0.894341297659682\n"
     ]
    },
    {
     "name": "stderr",
     "output_type": "stream",
     "text": [
      "\n",
      " 41%|████      | 644/1567 [00:34<00:48, 19.12it/s]\n",
      "100%|██████████| 1/1 [00:00<00:00, 144.41it/s]\n",
      "\n",
      "100%|██████████| 1/1 [00:00<00:00, 151.60it/s]\n",
      " 41%|████      | 646/1567 [00:34<00:48, 19.15it/s]\n",
      "100%|██████████| 1/1 [00:00<00:00, 151.74it/s]\n",
      "\n",
      "100%|██████████| 1/1 [00:00<00:00, 138.25it/s]"
     ]
    },
    {
     "name": "stdout",
     "output_type": "stream",
     "text": [
      "0.8661802082479299\n",
      "0.8411611906767762\n",
      "0.8546933314555313\n",
      "0.8568555894838757\n"
     ]
    },
    {
     "name": "stderr",
     "output_type": "stream",
     "text": [
      "\n",
      " 41%|████▏     | 648/1567 [00:34<00:48, 19.11it/s]\n",
      "100%|██████████| 1/1 [00:00<00:00, 139.21it/s]\n",
      "\n",
      "100%|██████████| 1/1 [00:00<00:00, 150.44it/s]\n",
      " 41%|████▏     | 650/1567 [00:35<00:47, 19.11it/s]\n",
      "100%|██████████| 1/1 [00:00<00:00, 141.88it/s]\n",
      "\n",
      "100%|██████████| 1/1 [00:00<00:00, 149.05it/s]"
     ]
    },
    {
     "name": "stdout",
     "output_type": "stream",
     "text": [
      "0.8657745415109321\n",
      "0.862328480748033\n",
      "0.8590378103272086\n",
      "0.8843468786570357\n"
     ]
    },
    {
     "name": "stderr",
     "output_type": "stream",
     "text": [
      "\n",
      " 42%|████▏     | 652/1567 [00:35<00:47, 19.11it/s]\n",
      "100%|██████████| 1/1 [00:00<00:00, 147.98it/s]\n",
      "\n",
      "100%|██████████| 1/1 [00:00<00:00, 143.94it/s]\n",
      " 42%|████▏     | 654/1567 [00:35<00:47, 19.14it/s]\n",
      "100%|██████████| 1/1 [00:00<00:00, 147.14it/s]\n",
      "\n",
      "100%|██████████| 1/1 [00:00<00:00, 151.82it/s]"
     ]
    },
    {
     "name": "stdout",
     "output_type": "stream",
     "text": [
      "0.8930881782747995\n",
      "0.9007232084155161\n",
      "0.9010866421517993\n",
      "0.8873889166250624\n"
     ]
    },
    {
     "name": "stderr",
     "output_type": "stream",
     "text": [
      "\n",
      " 42%|████▏     | 656/1567 [00:35<00:47, 19.15it/s]\n",
      "100%|██████████| 1/1 [00:00<00:00, 154.43it/s]\n",
      "\n",
      "100%|██████████| 1/1 [00:00<00:00, 151.20it/s]\n",
      " 42%|████▏     | 658/1567 [00:35<00:47, 19.22it/s]\n",
      "100%|██████████| 1/1 [00:00<00:00, 148.00it/s]\n",
      "\n",
      "100%|██████████| 1/1 [00:00<00:00, 148.93it/s]"
     ]
    },
    {
     "name": "stdout",
     "output_type": "stream",
     "text": [
      "0.8840082361015786\n",
      "0.8694090027559457\n",
      "0.8758973953286\n",
      "0.8902828928730422\n"
     ]
    },
    {
     "name": "stderr",
     "output_type": "stream",
     "text": [
      "\n",
      " 42%|████▏     | 660/1567 [00:35<00:47, 19.20it/s]\n",
      "100%|██████████| 1/1 [00:00<00:00, 144.01it/s]\n",
      "\n",
      "100%|██████████| 1/1 [00:00<00:00, 146.05it/s]\n",
      " 42%|████▏     | 662/1567 [00:35<00:47, 19.16it/s]\n",
      "100%|██████████| 1/1 [00:00<00:00, 142.10it/s]\n",
      "\n",
      "100%|██████████| 1/1 [00:00<00:00, 151.36it/s]"
     ]
    },
    {
     "name": "stdout",
     "output_type": "stream",
     "text": [
      "0.895560304851002\n",
      "0.9059023580750241\n",
      "0.9106126144251081\n",
      "0.8942342933199591\n"
     ]
    },
    {
     "name": "stderr",
     "output_type": "stream",
     "text": [
      "\n",
      " 42%|████▏     | 664/1567 [00:35<00:47, 19.10it/s]\n",
      "100%|██████████| 1/1 [00:00<00:00, 153.24it/s]\n",
      "\n",
      "100%|██████████| 1/1 [00:00<00:00, 146.86it/s]\n",
      " 43%|████▎     | 666/1567 [00:35<00:47, 19.14it/s]\n",
      "100%|██████████| 1/1 [00:00<00:00, 142.44it/s]\n",
      "\n",
      "100%|██████████| 1/1 [00:00<00:00, 147.09it/s]"
     ]
    },
    {
     "name": "stdout",
     "output_type": "stream",
     "text": [
      "0.8989324778146751\n",
      "0.9086206896551724\n",
      "0.9055446060020081\n",
      "0.922426265998887\n"
     ]
    },
    {
     "name": "stderr",
     "output_type": "stream",
     "text": [
      "\n",
      " 43%|████▎     | 668/1567 [00:35<00:47, 19.12it/s]\n",
      "100%|██████████| 1/1 [00:00<00:00, 146.03it/s]\n",
      "\n",
      "100%|██████████| 1/1 [00:00<00:00, 145.42it/s]\n",
      " 43%|████▎     | 670/1567 [00:36<00:46, 19.10it/s]\n",
      "100%|██████████| 1/1 [00:00<00:00, 147.08it/s]\n",
      "\n",
      "100%|██████████| 1/1 [00:00<00:00, 136.81it/s]"
     ]
    },
    {
     "name": "stdout",
     "output_type": "stream",
     "text": [
      "0.9011522819701763\n",
      "0.9097860753119347\n",
      "0.8994129749523396\n",
      "0.9001634794510132\n"
     ]
    },
    {
     "name": "stderr",
     "output_type": "stream",
     "text": [
      "\n",
      " 43%|████▎     | 672/1567 [00:36<00:46, 19.09it/s]\n",
      "100%|██████████| 1/1 [00:00<00:00, 151.38it/s]\n",
      "\n",
      "100%|██████████| 1/1 [00:00<00:00, 149.94it/s]\n",
      " 43%|████▎     | 674/1567 [00:36<00:46, 19.14it/s]\n",
      "100%|██████████| 1/1 [00:00<00:00, 147.57it/s]\n",
      "\n",
      "100%|██████████| 1/1 [00:00<00:00, 149.55it/s]"
     ]
    },
    {
     "name": "stdout",
     "output_type": "stream",
     "text": [
      "0.9049456994740228\n",
      "0.8998752693049099\n",
      "0.9117175558289528\n",
      "0.9267601431980907\n"
     ]
    },
    {
     "name": "stderr",
     "output_type": "stream",
     "text": [
      "\n",
      " 43%|████▎     | 676/1567 [00:36<00:46, 19.14it/s]\n",
      "100%|██████████| 1/1 [00:00<00:00, 152.51it/s]\n",
      "\n",
      "100%|██████████| 1/1 [00:00<00:00, 151.64it/s]\n",
      " 43%|████▎     | 678/1567 [00:36<00:46, 19.18it/s]\n",
      "100%|██████████| 1/1 [00:00<00:00, 146.63it/s]\n",
      "\n",
      "100%|██████████| 1/1 [00:00<00:00, 141.62it/s]"
     ]
    },
    {
     "name": "stdout",
     "output_type": "stream",
     "text": [
      "0.9182431130803314\n",
      "0.9303363746720444\n",
      "0.9377326697754614\n",
      "0.9311227019415743\n"
     ]
    },
    {
     "name": "stderr",
     "output_type": "stream",
     "text": [
      "\n",
      " 43%|████▎     | 680/1567 [00:36<00:46, 19.13it/s]\n",
      "100%|██████████| 1/1 [00:00<00:00, 151.17it/s]\n",
      "\n",
      "100%|██████████| 1/1 [00:00<00:00, 144.82it/s]\n",
      " 44%|████▎     | 682/1567 [00:36<00:46, 19.16it/s]\n",
      "100%|██████████| 1/1 [00:00<00:00, 142.42it/s]\n",
      "\n",
      "100%|██████████| 1/1 [00:00<00:00, 145.90it/s]"
     ]
    },
    {
     "name": "stdout",
     "output_type": "stream",
     "text": [
      "0.9323212145425489\n",
      "0.938972013024631\n",
      "0.9390682451816235\n",
      "0.9360561315320977\n"
     ]
    },
    {
     "name": "stderr",
     "output_type": "stream",
     "text": [
      "\n",
      " 44%|████▎     | 684/1567 [00:36<00:46, 19.15it/s]\n",
      "100%|██████████| 1/1 [00:00<00:00, 150.16it/s]\n",
      "\n",
      "100%|██████████| 1/1 [00:00<00:00, 149.04it/s]\n",
      " 44%|████▍     | 686/1567 [00:36<00:45, 19.19it/s]\n",
      "100%|██████████| 1/1 [00:00<00:00, 142.42it/s]\n",
      "\n",
      "100%|██████████| 1/1 [00:00<00:00, 151.28it/s]"
     ]
    },
    {
     "name": "stdout",
     "output_type": "stream",
     "text": [
      "0.918210009475407\n",
      "0.921117376820745\n",
      "0.9085819652100504\n",
      "0.91671458268831\n"
     ]
    },
    {
     "name": "stderr",
     "output_type": "stream",
     "text": [
      "\n",
      " 44%|████▍     | 688/1567 [00:37<00:45, 19.18it/s]\n",
      "100%|██████████| 1/1 [00:00<00:00, 149.47it/s]\n",
      "\n",
      "100%|██████████| 1/1 [00:00<00:00, 153.38it/s]\n",
      " 44%|████▍     | 690/1567 [00:37<00:45, 19.20it/s]\n",
      "100%|██████████| 1/1 [00:00<00:00, 149.02it/s]\n",
      "\n",
      "100%|██████████| 1/1 [00:00<00:00, 144.05it/s]"
     ]
    },
    {
     "name": "stdout",
     "output_type": "stream",
     "text": [
      "0.925638429519631\n",
      "0.9174160016558195\n",
      "0.9259336629296938\n",
      "0.9424406999953581\n"
     ]
    },
    {
     "name": "stderr",
     "output_type": "stream",
     "text": [
      "\n",
      " 44%|████▍     | 692/1567 [00:37<00:45, 19.22it/s]\n",
      "100%|██████████| 1/1 [00:00<00:00, 136.06it/s]\n",
      "\n",
      "100%|██████████| 1/1 [00:00<00:00, 149.20it/s]\n",
      " 44%|████▍     | 694/1567 [00:37<00:45, 19.18it/s]\n",
      "100%|██████████| 1/1 [00:00<00:00, 149.16it/s]\n",
      "\n",
      "100%|██████████| 1/1 [00:00<00:00, 148.49it/s]"
     ]
    },
    {
     "name": "stdout",
     "output_type": "stream",
     "text": [
      "0.9443102713453616\n",
      "0.9376058860545041\n",
      "0.9399046902432907\n",
      "0.9389441073964115\n"
     ]
    },
    {
     "name": "stderr",
     "output_type": "stream",
     "text": [
      "\n",
      " 44%|████▍     | 696/1567 [00:37<00:45, 19.17it/s]\n",
      "100%|██████████| 1/1 [00:00<00:00, 145.67it/s]\n",
      "\n",
      "100%|██████████| 1/1 [00:00<00:00, 136.76it/s]\n",
      " 45%|████▍     | 698/1567 [00:37<00:45, 19.19it/s]\n",
      "100%|██████████| 1/1 [00:00<00:00, 151.68it/s]\n",
      "\n",
      "100%|██████████| 1/1 [00:00<00:00, 148.88it/s]"
     ]
    },
    {
     "name": "stdout",
     "output_type": "stream",
     "text": [
      "0.9362794678285226\n",
      "0.9278179078106324\n",
      "0.9319754743296229\n",
      "0.9335547297119211\n"
     ]
    },
    {
     "name": "stderr",
     "output_type": "stream",
     "text": [
      "\n",
      " 45%|████▍     | 700/1567 [00:37<00:45, 19.22it/s]\n",
      "100%|██████████| 1/1 [00:00<00:00, 144.60it/s]\n",
      "\n",
      "100%|██████████| 1/1 [00:00<00:00, 152.39it/s]\n",
      " 45%|████▍     | 702/1567 [00:37<00:45, 19.22it/s]\n",
      "100%|██████████| 1/1 [00:00<00:00, 148.16it/s]\n",
      "\n",
      "100%|██████████| 1/1 [00:00<00:00, 149.76it/s]"
     ]
    },
    {
     "name": "stdout",
     "output_type": "stream",
     "text": [
      "0.9304939835338822\n",
      "0.9353567934854453\n",
      "0.9354499579478553\n",
      "0.9370394650583453\n"
     ]
    },
    {
     "name": "stderr",
     "output_type": "stream",
     "text": [
      "\n",
      " 45%|████▍     | 704/1567 [00:37<00:44, 19.19it/s]\n",
      "100%|██████████| 1/1 [00:00<00:00, 149.33it/s]\n",
      "\n",
      "100%|██████████| 1/1 [00:00<00:00, 148.51it/s]\n",
      " 45%|████▌     | 706/1567 [00:37<00:44, 19.22it/s]\n",
      "100%|██████████| 1/1 [00:00<00:00, 148.69it/s]\n",
      "\n",
      "100%|██████████| 1/1 [00:00<00:00, 145.49it/s]"
     ]
    },
    {
     "name": "stdout",
     "output_type": "stream",
     "text": [
      "0.9323519288305224\n",
      "0.9232323232323232\n",
      "0.9171723798589471\n",
      "0.9218890187868737\n"
     ]
    },
    {
     "name": "stderr",
     "output_type": "stream",
     "text": [
      "\n",
      " 45%|████▌     | 708/1567 [00:38<00:44, 19.23it/s]\n",
      "100%|██████████| 1/1 [00:00<00:00, 151.17it/s]\n",
      "\n",
      "100%|██████████| 1/1 [00:00<00:00, 150.38it/s]\n",
      " 45%|████▌     | 710/1567 [00:38<00:44, 19.25it/s]\n",
      "100%|██████████| 1/1 [00:00<00:00, 141.02it/s]\n",
      "\n",
      "100%|██████████| 1/1 [00:00<00:00, 151.96it/s]"
     ]
    },
    {
     "name": "stdout",
     "output_type": "stream",
     "text": [
      "0.9044031830238727\n",
      "0.9194171061932467\n",
      "0.9250234301780693\n",
      "0.9019544325666775\n"
     ]
    },
    {
     "name": "stderr",
     "output_type": "stream",
     "text": [
      "\n",
      " 45%|████▌     | 712/1567 [00:38<00:44, 19.24it/s]\n",
      "100%|██████████| 1/1 [00:00<00:00, 149.96it/s]\n",
      "\n",
      "100%|██████████| 1/1 [00:00<00:00, 145.63it/s]\n",
      " 46%|████▌     | 714/1567 [00:38<00:44, 19.22it/s]\n",
      "100%|██████████| 1/1 [00:00<00:00, 144.88it/s]\n",
      "\n",
      "100%|██████████| 1/1 [00:00<00:00, 149.84it/s]"
     ]
    },
    {
     "name": "stdout",
     "output_type": "stream",
     "text": [
      "0.9124755791236394\n",
      "0.9098346969443981\n",
      "0.9177654976199595\n",
      "0.8956188717168699\n"
     ]
    },
    {
     "name": "stderr",
     "output_type": "stream",
     "text": [
      "\n",
      " 46%|████▌     | 716/1567 [00:38<00:44, 19.19it/s]\n",
      "100%|██████████| 1/1 [00:00<00:00, 148.75it/s]\n",
      "\n",
      "100%|██████████| 1/1 [00:00<00:00, 149.28it/s]\n",
      " 46%|████▌     | 718/1567 [00:38<00:44, 19.19it/s]\n",
      "100%|██████████| 1/1 [00:00<00:00, 142.59it/s]\n",
      "\n",
      "100%|██████████| 1/1 [00:00<00:00, 145.30it/s]"
     ]
    },
    {
     "name": "stdout",
     "output_type": "stream",
     "text": [
      "0.8573773095452379\n",
      "0.9061219940368378\n",
      "0.9127784488328324\n",
      "0.9048781188090385\n"
     ]
    },
    {
     "name": "stderr",
     "output_type": "stream",
     "text": [
      "\n",
      " 46%|████▌     | 720/1567 [00:38<00:44, 19.17it/s]\n",
      "100%|██████████| 1/1 [00:00<00:00, 144.27it/s]\n",
      "\n",
      "100%|██████████| 1/1 [00:00<00:00, 148.91it/s]\n",
      " 46%|████▌     | 722/1567 [00:38<00:44, 19.18it/s]\n",
      "100%|██████████| 1/1 [00:00<00:00, 144.24it/s]\n",
      "\n",
      "100%|██████████| 1/1 [00:00<00:00, 147.94it/s]"
     ]
    },
    {
     "name": "stdout",
     "output_type": "stream",
     "text": [
      "0.9021874187303147\n",
      "0.9138647414174157\n",
      "0.9233135309550375\n",
      "0.9204033469212616\n"
     ]
    },
    {
     "name": "stderr",
     "output_type": "stream",
     "text": [
      "\n",
      " 46%|████▌     | 724/1567 [00:38<00:44, 19.16it/s]\n",
      "100%|██████████| 1/1 [00:00<00:00, 145.41it/s]\n",
      "\n",
      "100%|██████████| 1/1 [00:00<00:00, 150.66it/s]\n",
      " 46%|████▋     | 726/1567 [00:38<00:43, 19.19it/s]\n",
      "100%|██████████| 1/1 [00:00<00:00, 146.06it/s]\n",
      "\n",
      "100%|██████████| 1/1 [00:00<00:00, 154.47it/s]"
     ]
    },
    {
     "name": "stdout",
     "output_type": "stream",
     "text": [
      "0.9218634912840658\n",
      "0.9140715289707949\n",
      "0.9089594467148695\n",
      "0.9092789968652037\n"
     ]
    },
    {
     "name": "stderr",
     "output_type": "stream",
     "text": [
      "\n",
      " 46%|████▋     | 728/1567 [00:39<00:43, 19.19it/s]\n",
      "100%|██████████| 1/1 [00:00<00:00, 146.29it/s]\n",
      "\n",
      "100%|██████████| 1/1 [00:00<00:00, 148.77it/s]\n",
      " 47%|████▋     | 730/1567 [00:39<00:43, 19.21it/s]\n",
      "100%|██████████| 1/1 [00:00<00:00, 141.85it/s]\n",
      "\n",
      "100%|██████████| 1/1 [00:00<00:00, 148.97it/s]"
     ]
    },
    {
     "name": "stdout",
     "output_type": "stream",
     "text": [
      "0.9034402734656757\n",
      "0.8998931019304534\n",
      "0.8916324597410799\n",
      "0.8852573681365847\n"
     ]
    },
    {
     "name": "stderr",
     "output_type": "stream",
     "text": [
      "\n",
      " 47%|████▋     | 732/1567 [00:39<00:43, 19.19it/s]\n",
      "100%|██████████| 1/1 [00:00<00:00, 149.05it/s]\n",
      "\n",
      "100%|██████████| 1/1 [00:00<00:00, 146.81it/s]\n",
      " 47%|████▋     | 734/1567 [00:39<00:43, 19.19it/s]\n",
      "100%|██████████| 1/1 [00:00<00:00, 143.36it/s]\n",
      "\n",
      "100%|██████████| 1/1 [00:00<00:00, 147.94it/s]"
     ]
    },
    {
     "name": "stdout",
     "output_type": "stream",
     "text": [
      "0.8996107422066665\n",
      "0.9065562177997778\n",
      "0.8917318672023684\n",
      "0.8938956019082773\n"
     ]
    },
    {
     "name": "stderr",
     "output_type": "stream",
     "text": [
      "\n",
      " 47%|████▋     | 736/1567 [00:39<00:43, 19.16it/s]\n",
      "100%|██████████| 1/1 [00:00<00:00, 154.07it/s]\n",
      "\n",
      "100%|██████████| 1/1 [00:00<00:00, 151.09it/s]\n",
      " 47%|████▋     | 738/1567 [00:39<00:43, 19.24it/s]\n",
      "100%|██████████| 1/1 [00:00<00:00, 129.59it/s]\n",
      "\n",
      "100%|██████████| 1/1 [00:00<00:00, 146.83it/s]"
     ]
    },
    {
     "name": "stdout",
     "output_type": "stream",
     "text": [
      "0.8928264235334595\n",
      "0.8762699688707967\n",
      "0.885453659215932\n",
      "0.8850021548628071\n"
     ]
    },
    {
     "name": "stderr",
     "output_type": "stream",
     "text": [
      "\n",
      " 47%|████▋     | 740/1567 [00:39<00:43, 19.17it/s]\n",
      "100%|██████████| 1/1 [00:00<00:00, 142.29it/s]\n",
      "\n",
      "100%|██████████| 1/1 [00:00<00:00, 148.83it/s]\n",
      " 47%|████▋     | 742/1567 [00:39<00:43, 19.16it/s]\n",
      "100%|██████████| 1/1 [00:00<00:00, 139.12it/s]\n",
      "\n",
      "100%|██████████| 1/1 [00:00<00:00, 145.01it/s]"
     ]
    },
    {
     "name": "stdout",
     "output_type": "stream",
     "text": [
      "0.8819743306546826\n",
      "0.8758084886524551\n",
      "0.8551389263555436\n",
      "0.8526264591439688\n"
     ]
    },
    {
     "name": "stderr",
     "output_type": "stream",
     "text": [
      "\n",
      " 47%|████▋     | 744/1567 [00:39<00:43, 19.12it/s]\n",
      "100%|██████████| 1/1 [00:00<00:00, 149.08it/s]\n",
      "\n",
      "100%|██████████| 1/1 [00:00<00:00, 145.40it/s]\n",
      " 48%|████▊     | 746/1567 [00:40<00:42, 19.16it/s]\n",
      "100%|██████████| 1/1 [00:00<00:00, 153.68it/s]\n",
      "\n",
      "100%|██████████| 1/1 [00:00<00:00, 149.47it/s]"
     ]
    },
    {
     "name": "stdout",
     "output_type": "stream",
     "text": [
      "0.877877917273407\n",
      "0.8803357314148681\n",
      "0.8777406471595077\n",
      "0.8533974744437763\n"
     ]
    },
    {
     "name": "stderr",
     "output_type": "stream",
     "text": [
      "\n",
      " 48%|████▊     | 748/1567 [00:40<00:42, 19.15it/s]\n",
      "100%|██████████| 1/1 [00:00<00:00, 148.84it/s]\n",
      "\n",
      "100%|██████████| 1/1 [00:00<00:00, 139.93it/s]\n",
      " 48%|████▊     | 750/1567 [00:40<00:42, 19.15it/s]\n",
      "100%|██████████| 1/1 [00:00<00:00, 147.78it/s]\n",
      "\n",
      "100%|██████████| 1/1 [00:00<00:00, 151.86it/s]"
     ]
    },
    {
     "name": "stdout",
     "output_type": "stream",
     "text": [
      "0.8564320680523233\n",
      "0.8547934215804252\n",
      "0.8293351074237859\n",
      "0.829308387803828\n"
     ]
    },
    {
     "name": "stderr",
     "output_type": "stream",
     "text": [
      "\n",
      " 48%|████▊     | 752/1567 [00:40<00:42, 19.19it/s]\n",
      "100%|██████████| 1/1 [00:00<00:00, 150.52it/s]\n",
      "\n",
      "100%|██████████| 1/1 [00:00<00:00, 153.93it/s]\n",
      " 48%|████▊     | 754/1567 [00:40<00:42, 19.26it/s]\n",
      "100%|██████████| 1/1 [00:00<00:00, 148.04it/s]\n",
      "\n",
      "100%|██████████| 1/1 [00:00<00:00, 146.99it/s]"
     ]
    },
    {
     "name": "stdout",
     "output_type": "stream",
     "text": [
      "0.8134019421983208\n",
      "0.7853236098450319\n",
      "0.7614887818718035\n",
      "0.7396003697646306\n"
     ]
    },
    {
     "name": "stderr",
     "output_type": "stream",
     "text": [
      "\n",
      " 48%|████▊     | 756/1567 [00:40<00:42, 19.25it/s]\n",
      "100%|██████████| 1/1 [00:00<00:00, 150.61it/s]\n",
      "\n",
      "100%|██████████| 1/1 [00:00<00:00, 150.76it/s]\n",
      " 48%|████▊     | 758/1567 [00:40<00:42, 19.23it/s]\n",
      "100%|██████████| 1/1 [00:00<00:00, 145.89it/s]\n",
      "\n",
      "100%|██████████| 1/1 [00:00<00:00, 150.92it/s]"
     ]
    },
    {
     "name": "stdout",
     "output_type": "stream",
     "text": [
      "0.7733770441809934\n",
      "0.727151136870263\n",
      "0.7517123287671232\n",
      "0.8013354181633774\n"
     ]
    },
    {
     "name": "stderr",
     "output_type": "stream",
     "text": [
      "\n",
      " 49%|████▊     | 760/1567 [00:40<00:41, 19.22it/s]\n",
      "100%|██████████| 1/1 [00:00<00:00, 149.41it/s]\n",
      "\n",
      "100%|██████████| 1/1 [00:00<00:00, 147.29it/s]\n",
      " 49%|████▊     | 762/1567 [00:40<00:41, 19.22it/s]\n",
      "100%|██████████| 1/1 [00:00<00:00, 131.85it/s]\n",
      "\n",
      "100%|██████████| 1/1 [00:00<00:00, 152.95it/s]"
     ]
    },
    {
     "name": "stdout",
     "output_type": "stream",
     "text": [
      "0.7164031620553359\n",
      "0.6034521551862685\n",
      "0.5705068830048867\n",
      "0.5395661284358437\n"
     ]
    },
    {
     "name": "stderr",
     "output_type": "stream",
     "text": [
      "\n",
      " 49%|████▉     | 764/1567 [00:40<00:41, 19.17it/s]\n",
      "100%|██████████| 1/1 [00:00<00:00, 151.71it/s]\n",
      "\n",
      "100%|██████████| 1/1 [00:00<00:00, 149.79it/s]\n",
      " 49%|████▉     | 766/1567 [00:41<00:41, 19.20it/s]\n",
      "100%|██████████| 1/1 [00:00<00:00, 149.54it/s]\n",
      "\n",
      "100%|██████████| 1/1 [00:00<00:00, 148.22it/s]"
     ]
    },
    {
     "name": "stdout",
     "output_type": "stream",
     "text": [
      "0.5706020023403978\n",
      "0.5616584326261745\n",
      "0.6758266309204647\n",
      "0.7319877774203924\n"
     ]
    },
    {
     "name": "stderr",
     "output_type": "stream",
     "text": [
      "\n",
      " 49%|████▉     | 768/1567 [00:41<00:41, 19.20it/s]\n",
      "100%|██████████| 1/1 [00:00<00:00, 149.00it/s]\n",
      "\n",
      "100%|██████████| 1/1 [00:00<00:00, 147.37it/s]\n",
      " 49%|████▉     | 770/1567 [00:41<00:41, 19.21it/s]\n",
      "100%|██████████| 1/1 [00:00<00:00, 127.38it/s]\n",
      "\n",
      "100%|██████████| 1/1 [00:00<00:00, 151.64it/s]"
     ]
    },
    {
     "name": "stdout",
     "output_type": "stream",
     "text": [
      "0.8018001636512411\n",
      "0.7711081202332885\n",
      "0.7383169360505973\n",
      "0.7613114455913783\n"
     ]
    },
    {
     "name": "stderr",
     "output_type": "stream",
     "text": [
      "\n",
      " 49%|████▉     | 772/1567 [00:41<00:41, 19.14it/s]\n",
      "100%|██████████| 1/1 [00:00<00:00, 148.79it/s]\n",
      "\n",
      "100%|██████████| 1/1 [00:00<00:00, 151.13it/s]\n",
      " 49%|████▉     | 774/1567 [00:41<00:41, 19.19it/s]\n",
      "100%|██████████| 1/1 [00:00<00:00, 147.51it/s]\n",
      "\n",
      "100%|██████████| 1/1 [00:00<00:00, 152.36it/s]"
     ]
    },
    {
     "name": "stdout",
     "output_type": "stream",
     "text": [
      "0.4867901609474643\n",
      "0.4287084677770995\n",
      "0.48013964824451616\n",
      "0.5282122905027933\n"
     ]
    },
    {
     "name": "stderr",
     "output_type": "stream",
     "text": [
      "\n",
      " 50%|████▉     | 776/1567 [00:41<00:41, 19.21it/s]\n",
      "100%|██████████| 1/1 [00:00<00:00, 148.98it/s]\n",
      "\n",
      "100%|██████████| 1/1 [00:00<00:00, 146.93it/s]\n",
      " 50%|████▉     | 778/1567 [00:41<00:41, 19.23it/s]\n",
      "100%|██████████| 1/1 [00:00<00:00, 142.04it/s]\n",
      "\n",
      "100%|██████████| 1/1 [00:00<00:00, 148.79it/s]"
     ]
    },
    {
     "name": "stdout",
     "output_type": "stream",
     "text": [
      "0.4980788675429727\n",
      "0.45626448700744177\n",
      "0.3385064917165146\n",
      "0.2931847406772396\n"
     ]
    },
    {
     "name": "stderr",
     "output_type": "stream",
     "text": [
      "\n",
      " 50%|████▉     | 780/1567 [00:41<00:40, 19.20it/s]\n",
      "100%|██████████| 1/1 [00:00<00:00, 146.35it/s]\n",
      "\n",
      "100%|██████████| 1/1 [00:00<00:00, 137.28it/s]\n",
      " 50%|████▉     | 782/1567 [00:41<00:40, 19.20it/s]\n",
      "100%|██████████| 1/1 [00:00<00:00, 148.57it/s]\n",
      "\n",
      "100%|██████████| 1/1 [00:00<00:00, 152.21it/s]"
     ]
    },
    {
     "name": "stdout",
     "output_type": "stream",
     "text": [
      "0.22025987801644126\n",
      "0.22895756170657922\n",
      "0.1969848687138407\n",
      "0.2280293036180425\n"
     ]
    },
    {
     "name": "stderr",
     "output_type": "stream",
     "text": [
      "\n",
      " 50%|█████     | 784/1567 [00:42<00:40, 19.22it/s]\n",
      "100%|██████████| 1/1 [00:00<00:00, 153.49it/s]\n",
      "\n",
      "100%|██████████| 1/1 [00:00<00:00, 147.82it/s]\n",
      " 50%|█████     | 786/1567 [00:42<00:40, 19.24it/s]\n",
      "100%|██████████| 1/1 [00:00<00:00, 148.11it/s]\n",
      "\n",
      "100%|██████████| 1/1 [00:00<00:00, 149.51it/s]"
     ]
    },
    {
     "name": "stdout",
     "output_type": "stream",
     "text": [
      "0.22233201581027667\n",
      "0.15107772514505144\n",
      "0.12824675324675325\n",
      "0.1824759270096292\n"
     ]
    },
    {
     "name": "stderr",
     "output_type": "stream",
     "text": [
      "\n",
      " 50%|█████     | 788/1567 [00:42<00:40, 19.25it/s]\n",
      "100%|██████████| 1/1 [00:00<00:00, 144.96it/s]\n",
      "\n",
      "100%|██████████| 1/1 [00:00<00:00, 149.90it/s]\n",
      " 50%|█████     | 790/1567 [00:42<00:40, 19.25it/s]\n",
      "100%|██████████| 1/1 [00:00<00:00, 144.78it/s]\n",
      "\n",
      "100%|██████████| 1/1 [00:00<00:00, 148.44it/s]"
     ]
    },
    {
     "name": "stdout",
     "output_type": "stream",
     "text": [
      "0.22487232574189095\n",
      "0.15127461869801967\n",
      "0.13260318841321425\n",
      "0.15445604940153998\n"
     ]
    },
    {
     "name": "stderr",
     "output_type": "stream",
     "text": [
      "\n",
      " 51%|█████     | 792/1567 [00:42<00:40, 19.25it/s]\n",
      "100%|██████████| 1/1 [00:00<00:00, 148.32it/s]\n",
      "\n",
      "100%|██████████| 1/1 [00:00<00:00, 155.56it/s]\n",
      " 51%|█████     | 794/1567 [00:42<00:40, 19.26it/s]\n",
      "100%|██████████| 1/1 [00:00<00:00, 138.62it/s]\n",
      "\n",
      "100%|██████████| 1/1 [00:00<00:00, 152.98it/s]"
     ]
    },
    {
     "name": "stdout",
     "output_type": "stream",
     "text": [
      "0.2290139269204723\n",
      "0.3171107685531821\n",
      "0.3425016371971185\n",
      "0.29313237941239284\n"
     ]
    },
    {
     "name": "stderr",
     "output_type": "stream",
     "text": [
      "\n",
      " 51%|█████     | 796/1567 [00:42<00:40, 19.22it/s]\n",
      "100%|██████████| 1/1 [00:00<00:00, 144.07it/s]\n",
      "\n",
      "100%|██████████| 1/1 [00:00<00:00, 146.88it/s]\n",
      " 51%|█████     | 798/1567 [00:42<00:40, 19.22it/s]\n",
      "100%|██████████| 1/1 [00:00<00:00, 153.88it/s]\n",
      "\n",
      "100%|██████████| 1/1 [00:00<00:00, 146.76it/s]"
     ]
    },
    {
     "name": "stdout",
     "output_type": "stream",
     "text": [
      "0.3409271066689643\n",
      "0.35211320052131817\n",
      "0.2669012957926732\n",
      "0.30515702359871344\n"
     ]
    },
    {
     "name": "stderr",
     "output_type": "stream",
     "text": [
      "\n",
      " 51%|█████     | 800/1567 [00:42<00:39, 19.22it/s]\n",
      "100%|██████████| 1/1 [00:00<00:00, 149.73it/s]\n",
      "\n",
      "100%|██████████| 1/1 [00:00<00:00, 149.82it/s]\n",
      " 51%|█████     | 802/1567 [00:42<00:39, 19.26it/s]\n",
      "100%|██████████| 1/1 [00:00<00:00, 150.34it/s]\n",
      "\n",
      "100%|██████████| 1/1 [00:00<00:00, 147.68it/s]"
     ]
    },
    {
     "name": "stdout",
     "output_type": "stream",
     "text": [
      "0.3129075371592888\n",
      "0.29655143793833255\n",
      "0.25551102204408815\n",
      "0.253358053653184\n"
     ]
    },
    {
     "name": "stderr",
     "output_type": "stream",
     "text": [
      "\n",
      " 51%|█████▏    | 804/1567 [00:43<00:39, 19.26it/s]\n",
      "100%|██████████| 1/1 [00:00<00:00, 150.92it/s]\n",
      "\n",
      "100%|██████████| 1/1 [00:00<00:00, 151.25it/s]\n",
      " 51%|█████▏    | 806/1567 [00:43<00:39, 19.29it/s]\n",
      "100%|██████████| 1/1 [00:00<00:00, 148.20it/s]\n",
      "\n",
      "100%|██████████| 1/1 [00:00<00:00, 148.18it/s]"
     ]
    },
    {
     "name": "stdout",
     "output_type": "stream",
     "text": [
      "0.22870294036823302\n",
      "0.1708796157310117\n",
      "0.21727161068993267\n",
      "0.14543049694526675\n"
     ]
    },
    {
     "name": "stderr",
     "output_type": "stream",
     "text": [
      "\n",
      " 52%|█████▏    | 808/1567 [00:43<00:39, 19.31it/s]\n",
      "100%|██████████| 1/1 [00:00<00:00, 155.89it/s]\n",
      "\n",
      "100%|██████████| 1/1 [00:00<00:00, 150.04it/s]\n",
      " 52%|█████▏    | 810/1567 [00:43<00:39, 19.34it/s]\n",
      "100%|██████████| 1/1 [00:00<00:00, 150.89it/s]\n",
      "\n",
      "100%|██████████| 1/1 [00:00<00:00, 147.89it/s]"
     ]
    },
    {
     "name": "stdout",
     "output_type": "stream",
     "text": [
      "0.14613201368168255\n",
      "0.14536864931846344\n",
      "0.1432489858991694\n",
      "0.1128013687976357\n"
     ]
    },
    {
     "name": "stderr",
     "output_type": "stream",
     "text": [
      "\n",
      " 52%|█████▏    | 812/1567 [00:43<00:39, 19.29it/s]\n",
      "100%|██████████| 1/1 [00:00<00:00, 143.87it/s]\n",
      "\n",
      "100%|██████████| 1/1 [00:00<00:00, 154.30it/s]\n",
      " 52%|█████▏    | 814/1567 [00:43<00:39, 19.30it/s]\n",
      "100%|██████████| 1/1 [00:00<00:00, 150.71it/s]\n",
      "\n",
      "100%|██████████| 1/1 [00:00<00:00, 143.92it/s]"
     ]
    },
    {
     "name": "stdout",
     "output_type": "stream",
     "text": [
      "0.11590328287792412\n",
      "0.12568995426588866\n",
      "0.0964737409719272\n",
      "0.06471816283924843\n"
     ]
    },
    {
     "name": "stderr",
     "output_type": "stream",
     "text": [
      "\n",
      " 52%|█████▏    | 816/1567 [00:43<00:39, 19.24it/s]\n",
      "100%|██████████| 1/1 [00:00<00:00, 154.91it/s]\n",
      "\n",
      "100%|██████████| 1/1 [00:00<00:00, 150.80it/s]\n",
      " 52%|█████▏    | 818/1567 [00:43<00:38, 19.29it/s]\n",
      "100%|██████████| 1/1 [00:00<00:00, 152.40it/s]\n",
      "\n",
      "100%|██████████| 1/1 [00:00<00:00, 147.13it/s]"
     ]
    },
    {
     "name": "stdout",
     "output_type": "stream",
     "text": [
      "0.028313572818970095\n",
      "0.021295164950253097\n",
      "0.008018005345336896\n",
      "0.0\n"
     ]
    },
    {
     "name": "stderr",
     "output_type": "stream",
     "text": [
      "\n",
      " 52%|█████▏    | 820/1567 [00:43<00:38, 19.30it/s]\n",
      "100%|██████████| 1/1 [00:00<00:00, 155.38it/s]\n",
      "\n",
      "100%|██████████| 1/1 [00:00<00:00, 149.53it/s]\n",
      " 52%|█████▏    | 822/1567 [00:43<00:38, 19.39it/s]\n",
      "100%|██████████| 1/1 [00:00<00:00, 144.96it/s]\n",
      "\n",
      "100%|██████████| 1/1 [00:00<00:00, 155.05it/s]"
     ]
    },
    {
     "name": "stdout",
     "output_type": "stream",
     "text": [
      "0.0\n",
      "0.0\n",
      "0.0\n",
      "0.0\n"
     ]
    },
    {
     "name": "stderr",
     "output_type": "stream",
     "text": [
      "\n",
      " 53%|█████▎    | 824/1567 [00:44<00:38, 19.36it/s]\n",
      "100%|██████████| 1/1 [00:00<00:00, 151.62it/s]\n",
      "\n",
      "100%|██████████| 1/1 [00:00<00:00, 158.71it/s]\n",
      " 53%|█████▎    | 826/1567 [00:44<00:38, 19.37it/s]\n",
      "100%|██████████| 1/1 [00:00<00:00, 148.77it/s]\n",
      "\n",
      "100%|██████████| 1/1 [00:00<00:00, 147.56it/s]"
     ]
    },
    {
     "name": "stdout",
     "output_type": "stream",
     "text": [
      "0.03478810879190386\n",
      "0.4690803952876192\n",
      "0.6297988298469184\n",
      "0.661091047329405\n"
     ]
    },
    {
     "name": "stderr",
     "output_type": "stream",
     "text": [
      "\n",
      " 53%|█████▎    | 828/1567 [00:44<00:38, 19.31it/s]\n",
      "100%|██████████| 1/1 [00:00<00:00, 140.77it/s]\n",
      "\n",
      "100%|██████████| 1/1 [00:00<00:00, 153.59it/s]\n",
      " 53%|█████▎    | 830/1567 [00:44<00:38, 19.26it/s]\n",
      "100%|██████████| 1/1 [00:00<00:00, 153.29it/s]\n",
      "\n",
      "100%|██████████| 1/1 [00:00<00:00, 153.72it/s]"
     ]
    },
    {
     "name": "stdout",
     "output_type": "stream",
     "text": [
      "0.8859060402684564\n",
      "0.9085159250056472\n",
      "0.9002370659601171\n",
      "0.9230513781488685\n"
     ]
    },
    {
     "name": "stderr",
     "output_type": "stream",
     "text": [
      "\n",
      " 53%|█████▎    | 832/1567 [00:44<00:38, 19.25it/s]\n",
      "100%|██████████| 1/1 [00:00<00:00, 147.25it/s]\n",
      "\n",
      "100%|██████████| 1/1 [00:00<00:00, 153.66it/s]\n",
      " 53%|█████▎    | 834/1567 [00:44<00:38, 19.22it/s]\n",
      "100%|██████████| 1/1 [00:00<00:00, 156.38it/s]\n",
      "\n",
      "100%|██████████| 1/1 [00:00<00:00, 150.57it/s]"
     ]
    },
    {
     "name": "stdout",
     "output_type": "stream",
     "text": [
      "0.9191869555505919\n",
      "0.929177208784536\n",
      "0.9383724137931034\n",
      "0.9299159806500891\n"
     ]
    },
    {
     "name": "stderr",
     "output_type": "stream",
     "text": [
      "\n",
      " 53%|█████▎    | 836/1567 [00:44<00:38, 19.21it/s]\n",
      "100%|██████████| 1/1 [00:00<00:00, 151.39it/s]\n",
      "\n",
      "100%|██████████| 1/1 [00:00<00:00, 145.23it/s]\n",
      " 53%|█████▎    | 838/1567 [00:44<00:37, 19.19it/s]\n",
      "100%|██████████| 1/1 [00:00<00:00, 143.36it/s]\n",
      "\n",
      "100%|██████████| 1/1 [00:00<00:00, 151.89it/s]"
     ]
    },
    {
     "name": "stdout",
     "output_type": "stream",
     "text": [
      "0.93268363682387\n",
      "0.935064935064935\n",
      "0.9508360093012955\n",
      "0.9461478039753438\n"
     ]
    },
    {
     "name": "stderr",
     "output_type": "stream",
     "text": [
      "\n",
      " 54%|█████▎    | 840/1567 [00:44<00:37, 19.16it/s]\n",
      "100%|██████████| 1/1 [00:00<00:00, 145.90it/s]\n",
      "\n",
      "100%|██████████| 1/1 [00:00<00:00, 152.33it/s]\n",
      " 54%|█████▎    | 842/1567 [00:45<00:37, 19.16it/s]\n",
      "100%|██████████| 1/1 [00:00<00:00, 147.91it/s]\n",
      "\n",
      "100%|██████████| 1/1 [00:00<00:00, 152.27it/s]"
     ]
    },
    {
     "name": "stdout",
     "output_type": "stream",
     "text": [
      "0.9461190944128232\n",
      "0.9526326091211588\n",
      "0.9622122860210234\n",
      "0.9585426567096628\n"
     ]
    },
    {
     "name": "stderr",
     "output_type": "stream",
     "text": [
      "\n",
      " 54%|█████▍    | 844/1567 [00:45<00:37, 19.12it/s]\n",
      "100%|██████████| 1/1 [00:00<00:00, 150.70it/s]\n",
      "\n",
      "100%|██████████| 1/1 [00:00<00:00, 148.45it/s]\n",
      " 54%|█████▍    | 846/1567 [00:45<00:37, 19.19it/s]\n",
      "100%|██████████| 1/1 [00:00<00:00, 143.10it/s]\n",
      "\n",
      "100%|██████████| 1/1 [00:00<00:00, 145.91it/s]"
     ]
    },
    {
     "name": "stdout",
     "output_type": "stream",
     "text": [
      "0.9617531025184825\n",
      "0.016206634591035704\n",
      "0.02673624344053238\n",
      "0.04900890750977009\n"
     ]
    },
    {
     "name": "stderr",
     "output_type": "stream",
     "text": [
      "\n",
      " 54%|█████▍    | 848/1567 [00:45<00:37, 19.18it/s]\n",
      "100%|██████████| 1/1 [00:00<00:00, 143.94it/s]\n",
      "\n",
      "100%|██████████| 1/1 [00:00<00:00, 147.12it/s]\n",
      " 54%|█████▍    | 850/1567 [00:45<00:37, 19.18it/s]\n",
      "100%|██████████| 1/1 [00:00<00:00, 147.60it/s]\n",
      "\n",
      "100%|██████████| 1/1 [00:00<00:00, 148.15it/s]"
     ]
    },
    {
     "name": "stdout",
     "output_type": "stream",
     "text": [
      "0.08586550205411007\n",
      "0.11305587968365098\n",
      "0.13514172013319256\n",
      "0.1691890404497032\n"
     ]
    },
    {
     "name": "stderr",
     "output_type": "stream",
     "text": [
      "\n",
      " 54%|█████▍    | 852/1567 [00:45<00:37, 19.19it/s]\n",
      "100%|██████████| 1/1 [00:00<00:00, 149.54it/s]\n",
      "\n",
      "100%|██████████| 1/1 [00:00<00:00, 143.91it/s]\n",
      " 54%|█████▍    | 854/1567 [00:45<00:37, 19.19it/s]\n",
      "100%|██████████| 1/1 [00:00<00:00, 139.88it/s]\n",
      "\n",
      "100%|██████████| 1/1 [00:00<00:00, 146.39it/s]"
     ]
    },
    {
     "name": "stdout",
     "output_type": "stream",
     "text": [
      "0.217316423986222\n",
      "0.3474891344190187\n",
      "0.4683192026406058\n",
      "0.5418009256546956\n"
     ]
    },
    {
     "name": "stderr",
     "output_type": "stream",
     "text": [
      "\n",
      " 55%|█████▍    | 856/1567 [00:45<00:37, 19.16it/s]\n",
      "100%|██████████| 1/1 [00:00<00:00, 142.02it/s]\n",
      "\n",
      "100%|██████████| 1/1 [00:00<00:00, 152.92it/s]\n",
      " 55%|█████▍    | 858/1567 [00:45<00:36, 19.18it/s]\n",
      "100%|██████████| 1/1 [00:00<00:00, 147.05it/s]\n",
      "\n",
      "100%|██████████| 1/1 [00:00<00:00, 148.46it/s]"
     ]
    },
    {
     "name": "stdout",
     "output_type": "stream",
     "text": [
      "0.7058079032484883\n",
      "0.8208622899939275\n",
      "0.9057386494584005\n",
      "0.9199917729329494\n"
     ]
    },
    {
     "name": "stderr",
     "output_type": "stream",
     "text": [
      "\n",
      " 55%|█████▍    | 860/1567 [00:45<00:36, 19.20it/s]\n",
      "100%|██████████| 1/1 [00:00<00:00, 148.65it/s]\n",
      "\n",
      "100%|██████████| 1/1 [00:00<00:00, 144.86it/s]\n",
      " 55%|█████▌    | 862/1567 [00:46<00:36, 19.18it/s]\n",
      "100%|██████████| 1/1 [00:00<00:00, 127.23it/s]\n",
      "\n",
      "100%|██████████| 1/1 [00:00<00:00, 150.13it/s]"
     ]
    },
    {
     "name": "stdout",
     "output_type": "stream",
     "text": [
      "0.8478250967888864\n",
      "0.9067599067599068\n",
      "0.9285891132882963\n",
      "0.9459099387156941\n"
     ]
    },
    {
     "name": "stderr",
     "output_type": "stream",
     "text": [
      "\n",
      " 55%|█████▌    | 864/1567 [00:46<00:36, 19.14it/s]\n",
      "100%|██████████| 1/1 [00:00<00:00, 148.16it/s]\n",
      "\n",
      "100%|██████████| 1/1 [00:00<00:00, 145.69it/s]\n",
      " 55%|█████▌    | 866/1567 [00:46<00:36, 19.13it/s]\n",
      "100%|██████████| 1/1 [00:00<00:00, 143.92it/s]\n",
      "\n",
      "100%|██████████| 1/1 [00:00<00:00, 149.60it/s]"
     ]
    },
    {
     "name": "stdout",
     "output_type": "stream",
     "text": [
      "0.9399132253332084\n",
      "0.9272938575356444\n",
      "0.9417917578134822\n",
      "0.917502706604114\n"
     ]
    },
    {
     "name": "stderr",
     "output_type": "stream",
     "text": [
      "\n",
      " 55%|█████▌    | 868/1567 [00:46<00:36, 19.12it/s]\n",
      "100%|██████████| 1/1 [00:00<00:00, 147.19it/s]\n",
      "\n",
      "100%|██████████| 1/1 [00:00<00:00, 137.52it/s]\n",
      " 56%|█████▌    | 870/1567 [00:46<00:36, 19.11it/s]\n",
      "100%|██████████| 1/1 [00:00<00:00, 144.17it/s]\n",
      "\n",
      "100%|██████████| 1/1 [00:00<00:00, 145.29it/s]"
     ]
    },
    {
     "name": "stdout",
     "output_type": "stream",
     "text": [
      "0.9305621983564503\n",
      "0.9294575380415963\n",
      "0.9243396042499269\n",
      "0.9249199254447078\n"
     ]
    },
    {
     "name": "stderr",
     "output_type": "stream",
     "text": [
      "\n",
      " 56%|█████▌    | 872/1567 [00:46<00:36, 19.09it/s]\n",
      "100%|██████████| 1/1 [00:00<00:00, 146.91it/s]\n",
      "\n",
      "100%|██████████| 1/1 [00:00<00:00, 132.07it/s]\n",
      " 56%|█████▌    | 874/1567 [00:46<00:36, 19.08it/s]\n",
      "100%|██████████| 1/1 [00:00<00:00, 145.68it/s]\n",
      "\n",
      "100%|██████████| 1/1 [00:00<00:00, 132.44it/s]"
     ]
    },
    {
     "name": "stdout",
     "output_type": "stream",
     "text": [
      "0.9241031620824474\n",
      "0.9270877909081932\n",
      "0.9170129746534277\n",
      "0.9287295793190115\n"
     ]
    },
    {
     "name": "stderr",
     "output_type": "stream",
     "text": [
      "\n",
      " 56%|█████▌    | 876/1567 [00:46<00:36, 19.05it/s]\n",
      "100%|██████████| 1/1 [00:00<00:00, 138.44it/s]\n",
      "\n",
      "100%|██████████| 1/1 [00:00<00:00, 137.38it/s]\n",
      " 56%|█████▌    | 878/1567 [00:46<00:36, 19.00it/s]\n",
      "100%|██████████| 1/1 [00:00<00:00, 146.51it/s]\n",
      "\n",
      "100%|██████████| 1/1 [00:00<00:00, 143.53it/s]"
     ]
    },
    {
     "name": "stdout",
     "output_type": "stream",
     "text": [
      "0.9426553434793576\n",
      "0.9446702345982053\n",
      "0.9446760038315168\n",
      "0.9362778109553881\n"
     ]
    },
    {
     "name": "stderr",
     "output_type": "stream",
     "text": [
      "\n",
      " 56%|█████▌    | 880/1567 [00:47<00:36, 19.01it/s]\n",
      "100%|██████████| 1/1 [00:00<00:00, 133.46it/s]\n",
      "\n",
      "100%|██████████| 1/1 [00:00<00:00, 140.98it/s]\n",
      " 56%|█████▋    | 882/1567 [00:47<00:35, 19.03it/s]\n",
      "100%|██████████| 1/1 [00:00<00:00, 141.92it/s]\n",
      "\n",
      "100%|██████████| 1/1 [00:00<00:00, 139.63it/s]"
     ]
    },
    {
     "name": "stdout",
     "output_type": "stream",
     "text": [
      "0.9404047170646005\n",
      "0.9340550066083454\n",
      "0.9384001690049831\n",
      "0.946404088246292\n"
     ]
    },
    {
     "name": "stderr",
     "output_type": "stream",
     "text": [
      "\n",
      " 56%|█████▋    | 884/1567 [00:47<00:35, 19.00it/s]\n",
      "100%|██████████| 1/1 [00:00<00:00, 131.17it/s]\n",
      "\n",
      "100%|██████████| 1/1 [00:00<00:00, 143.82it/s]\n",
      " 57%|█████▋    | 886/1567 [00:47<00:35, 19.00it/s]\n",
      "100%|██████████| 1/1 [00:00<00:00, 140.11it/s]\n",
      "\n",
      "100%|██████████| 1/1 [00:00<00:00, 144.22it/s]"
     ]
    },
    {
     "name": "stdout",
     "output_type": "stream",
     "text": [
      "0.9610212600245823\n",
      "0.9323400679734628\n",
      "0.9130429096425722\n",
      "0.907884826301254\n"
     ]
    },
    {
     "name": "stderr",
     "output_type": "stream",
     "text": [
      "\n",
      " 57%|█████▋    | 888/1567 [00:47<00:35, 19.00it/s]\n",
      "100%|██████████| 1/1 [00:00<00:00, 144.47it/s]\n",
      "\n",
      "100%|██████████| 1/1 [00:00<00:00, 140.59it/s]\n",
      " 57%|█████▋    | 890/1567 [00:47<00:35, 19.03it/s]\n",
      "100%|██████████| 1/1 [00:00<00:00, 133.56it/s]\n",
      "\n",
      "100%|██████████| 1/1 [00:00<00:00, 143.90it/s]"
     ]
    },
    {
     "name": "stdout",
     "output_type": "stream",
     "text": [
      "0.9575738892528226\n",
      "0.9767860125126862\n",
      "0.973747530009544\n",
      "0.9634914937908262\n"
     ]
    },
    {
     "name": "stderr",
     "output_type": "stream",
     "text": [
      "\n",
      " 57%|█████▋    | 892/1567 [00:47<00:35, 19.01it/s]\n",
      "100%|██████████| 1/1 [00:00<00:00, 147.45it/s]\n",
      "\n",
      "100%|██████████| 1/1 [00:00<00:00, 132.89it/s]\n",
      " 57%|█████▋    | 894/1567 [00:47<00:35, 19.02it/s]\n",
      "100%|██████████| 1/1 [00:00<00:00, 130.87it/s]\n",
      "\n",
      "100%|██████████| 1/1 [00:00<00:00, 133.85it/s]"
     ]
    },
    {
     "name": "stdout",
     "output_type": "stream",
     "text": [
      "0.9015565976292823\n",
      "0.8889961569166218\n",
      "0.8903324093861746\n",
      "0.9573260026205586\n"
     ]
    },
    {
     "name": "stderr",
     "output_type": "stream",
     "text": [
      "\n",
      " 57%|█████▋    | 896/1567 [00:47<00:35, 19.03it/s]\n",
      "100%|██████████| 1/1 [00:00<00:00, 137.27it/s]\n",
      "\n",
      "100%|██████████| 1/1 [00:00<00:00, 144.22it/s]\n",
      " 57%|█████▋    | 898/1567 [00:47<00:35, 19.10it/s]\n",
      "100%|██████████| 1/1 [00:00<00:00, 144.11it/s]\n",
      "\n",
      "100%|██████████| 1/1 [00:00<00:00, 146.61it/s]"
     ]
    },
    {
     "name": "stdout",
     "output_type": "stream",
     "text": [
      "0.9649771317586617\n",
      "0.962261314088107\n",
      "0.9428625664388762\n",
      "0.9275862068965517\n"
     ]
    },
    {
     "name": "stderr",
     "output_type": "stream",
     "text": [
      "\n",
      " 57%|█████▋    | 900/1567 [00:48<00:34, 19.22it/s]\n",
      "100%|██████████| 1/1 [00:00<00:00, 142.30it/s]\n",
      "\n",
      "100%|██████████| 1/1 [00:00<00:00, 142.46it/s]\n",
      " 58%|█████▊    | 902/1567 [00:48<00:34, 19.26it/s]\n",
      "100%|██████████| 1/1 [00:00<00:00, 137.97it/s]\n",
      "\n",
      "100%|██████████| 1/1 [00:00<00:00, 138.39it/s]"
     ]
    },
    {
     "name": "stdout",
     "output_type": "stream",
     "text": [
      "0.893460690668626\n",
      "0.5711215580926796\n",
      "0.2225520546202451\n",
      "0.04983894375420339\n"
     ]
    },
    {
     "name": "stderr",
     "output_type": "stream",
     "text": [
      "\n",
      " 58%|█████▊    | 904/1567 [00:48<00:34, 19.22it/s]\n",
      "100%|██████████| 1/1 [00:00<00:00, 141.14it/s]\n",
      "\n",
      "100%|██████████| 1/1 [00:00<00:00, 135.86it/s]\n",
      " 58%|█████▊    | 906/1567 [00:48<00:34, 19.23it/s]\n",
      "100%|██████████| 1/1 [00:00<00:00, 129.18it/s]\n",
      "\n",
      "100%|██████████| 1/1 [00:00<00:00, 136.57it/s]"
     ]
    },
    {
     "name": "stdout",
     "output_type": "stream",
     "text": [
      "0.08347454967677148\n",
      "0.13104181171900767\n",
      "0.18315104472931124\n",
      "0.25836865323068936\n"
     ]
    },
    {
     "name": "stderr",
     "output_type": "stream",
     "text": [
      "\n",
      " 58%|█████▊    | 908/1567 [00:48<00:34, 19.21it/s]\n",
      "100%|██████████| 1/1 [00:00<00:00, 140.61it/s]\n",
      "\n",
      "100%|██████████| 1/1 [00:00<00:00, 129.62it/s]\n",
      " 58%|█████▊    | 910/1567 [00:48<00:34, 19.17it/s]\n",
      "100%|██████████| 1/1 [00:00<00:00, 140.46it/s]\n",
      "\n",
      "100%|██████████| 1/1 [00:00<00:00, 140.91it/s]"
     ]
    },
    {
     "name": "stdout",
     "output_type": "stream",
     "text": [
      "0.3107296900707012\n",
      "0.35891678268289395\n",
      "0.37076553747666047\n",
      "0.43262879788639363\n"
     ]
    },
    {
     "name": "stderr",
     "output_type": "stream",
     "text": [
      "\n",
      " 58%|█████▊    | 912/1567 [00:48<00:34, 19.13it/s]\n",
      "100%|██████████| 1/1 [00:00<00:00, 135.78it/s]\n",
      "\n",
      "100%|██████████| 1/1 [00:00<00:00, 131.71it/s]\n",
      " 58%|█████▊    | 914/1567 [00:48<00:34, 19.12it/s]\n",
      "100%|██████████| 1/1 [00:00<00:00, 136.40it/s]\n",
      "\n",
      "100%|██████████| 1/1 [00:00<00:00, 145.44it/s]"
     ]
    },
    {
     "name": "stdout",
     "output_type": "stream",
     "text": [
      "0.5476268874359095\n",
      "0.6073187216375399\n",
      "0.5996319073483862\n",
      "0.6176709228338386\n"
     ]
    },
    {
     "name": "stderr",
     "output_type": "stream",
     "text": [
      "\n",
      " 58%|█████▊    | 916/1567 [00:48<00:34, 19.13it/s]\n",
      "100%|██████████| 1/1 [00:00<00:00, 127.85it/s]\n",
      "\n",
      "100%|██████████| 1/1 [00:00<00:00, 130.93it/s]\n",
      " 59%|█████▊    | 918/1567 [00:49<00:33, 19.11it/s]\n",
      "100%|██████████| 1/1 [00:00<00:00, 136.28it/s]\n",
      "\n",
      "100%|██████████| 1/1 [00:00<00:00, 130.98it/s]"
     ]
    },
    {
     "name": "stdout",
     "output_type": "stream",
     "text": [
      "0.7131564601126659\n",
      "0.8148513873802705\n",
      "0.8923698837796867\n",
      "0.8812461877727209\n"
     ]
    },
    {
     "name": "stderr",
     "output_type": "stream",
     "text": [
      "\n",
      " 59%|█████▊    | 920/1567 [00:49<00:33, 19.08it/s]\n",
      "100%|██████████| 1/1 [00:00<00:00, 138.31it/s]\n",
      "\n",
      "100%|██████████| 1/1 [00:00<00:00, 131.65it/s]\n",
      " 59%|█████▉    | 922/1567 [00:49<00:33, 19.05it/s]\n",
      "100%|██████████| 1/1 [00:00<00:00, 132.63it/s]\n",
      "\n",
      "100%|██████████| 1/1 [00:00<00:00, 144.55it/s]"
     ]
    },
    {
     "name": "stdout",
     "output_type": "stream",
     "text": [
      "0.9144397035706265\n",
      "0.9077688480673556\n",
      "0.9413821815154039\n",
      "0.9310916410134975\n"
     ]
    },
    {
     "name": "stderr",
     "output_type": "stream",
     "text": [
      "\n",
      " 59%|█████▉    | 924/1567 [00:49<00:33, 19.11it/s]\n",
      "100%|██████████| 1/1 [00:00<00:00, 148.47it/s]\n",
      "\n",
      "100%|██████████| 1/1 [00:00<00:00, 136.76it/s]\n",
      " 59%|█████▉    | 926/1567 [00:49<00:33, 19.17it/s]\n",
      "100%|██████████| 1/1 [00:00<00:00, 142.19it/s]\n",
      "\n",
      "100%|██████████| 1/1 [00:00<00:00, 141.21it/s]"
     ]
    },
    {
     "name": "stdout",
     "output_type": "stream",
     "text": [
      "0.9499657820698045\n",
      "0.9517739380319051\n",
      "0.9467430360382796\n",
      "0.9486126840317101\n"
     ]
    },
    {
     "name": "stderr",
     "output_type": "stream",
     "text": [
      "\n",
      " 59%|█████▉    | 928/1567 [00:49<00:33, 19.12it/s]\n",
      "100%|██████████| 1/1 [00:00<00:00, 124.66it/s]\n",
      "\n",
      "100%|██████████| 1/1 [00:00<00:00, 142.64it/s]\n",
      " 59%|█████▉    | 930/1567 [00:49<00:33, 19.07it/s]\n",
      "100%|██████████| 1/1 [00:00<00:00, 137.61it/s]\n",
      "\n",
      "100%|██████████| 1/1 [00:00<00:00, 144.52it/s]"
     ]
    },
    {
     "name": "stdout",
     "output_type": "stream",
     "text": [
      "0.9544631666898761\n",
      "0.9592474336526247\n",
      "0.9527162977867203\n",
      "0.9538139474028523\n"
     ]
    },
    {
     "name": "stderr",
     "output_type": "stream",
     "text": [
      "\n",
      " 59%|█████▉    | 932/1567 [00:49<00:33, 19.07it/s]\n",
      "100%|██████████| 1/1 [00:00<00:00, 142.70it/s]\n",
      "\n",
      "100%|██████████| 1/1 [00:00<00:00, 143.03it/s]\n",
      " 60%|█████▉    | 934/1567 [00:49<00:33, 19.10it/s]\n",
      "100%|██████████| 1/1 [00:00<00:00, 141.84it/s]\n",
      "\n",
      "100%|██████████| 1/1 [00:00<00:00, 144.29it/s]"
     ]
    },
    {
     "name": "stdout",
     "output_type": "stream",
     "text": [
      "0.9519653436962477\n",
      "0.947042043904254\n",
      "0.9586690125628916\n",
      "0.9568865209137118\n"
     ]
    },
    {
     "name": "stderr",
     "output_type": "stream",
     "text": [
      "\n",
      " 60%|█████▉    | 936/1567 [00:49<00:33, 19.11it/s]\n",
      "100%|██████████| 1/1 [00:00<00:00, 142.28it/s]\n",
      "\n",
      "100%|██████████| 1/1 [00:00<00:00, 126.90it/s]\n",
      " 60%|█████▉    | 938/1567 [00:50<00:32, 19.07it/s]\n",
      "100%|██████████| 1/1 [00:00<00:00, 139.03it/s]\n",
      "\n",
      "100%|██████████| 1/1 [00:00<00:00, 141.20it/s]"
     ]
    },
    {
     "name": "stdout",
     "output_type": "stream",
     "text": [
      "0.9531966590736523\n",
      "0.9474883790673264\n",
      "0.9412594813900159\n",
      "0.9433148849402855\n"
     ]
    },
    {
     "name": "stderr",
     "output_type": "stream",
     "text": [
      "\n",
      " 60%|█████▉    | 940/1567 [00:50<00:32, 19.09it/s]\n",
      "100%|██████████| 1/1 [00:00<00:00, 141.24it/s]\n",
      "\n",
      "100%|██████████| 1/1 [00:00<00:00, 138.07it/s]\n",
      " 60%|██████    | 942/1567 [00:50<00:32, 19.07it/s]\n",
      "100%|██████████| 1/1 [00:00<00:00, 144.92it/s]\n",
      "\n",
      "100%|██████████| 1/1 [00:00<00:00, 137.66it/s]"
     ]
    },
    {
     "name": "stdout",
     "output_type": "stream",
     "text": [
      "0.9469738473515757\n",
      "0.9409201662605704\n",
      "0.9332532257603067\n",
      "0.9285147392290249\n"
     ]
    },
    {
     "name": "stderr",
     "output_type": "stream",
     "text": [
      "\n",
      " 60%|██████    | 944/1567 [00:50<00:32, 19.10it/s]\n",
      "100%|██████████| 1/1 [00:00<00:00, 123.71it/s]\n",
      "\n",
      "100%|██████████| 1/1 [00:00<00:00, 141.58it/s]\n",
      " 60%|██████    | 946/1567 [00:50<00:32, 19.08it/s]\n",
      "100%|██████████| 1/1 [00:00<00:00, 135.61it/s]\n",
      "\n",
      "100%|██████████| 1/1 [00:00<00:00, 141.18it/s]"
     ]
    },
    {
     "name": "stdout",
     "output_type": "stream",
     "text": [
      "0.9303006806237615\n",
      "0.9310814334134825\n",
      "0.9304676892856111\n",
      "0.9277502678597284\n"
     ]
    },
    {
     "name": "stderr",
     "output_type": "stream",
     "text": [
      "\n",
      " 60%|██████    | 948/1567 [00:50<00:32, 19.07it/s]\n",
      "100%|██████████| 1/1 [00:00<00:00, 137.20it/s]\n",
      "\n",
      "100%|██████████| 1/1 [00:00<00:00, 141.92it/s]\n",
      " 61%|██████    | 950/1567 [00:50<00:32, 19.11it/s]\n",
      "100%|██████████| 1/1 [00:00<00:00, 131.79it/s]\n",
      "\n",
      "100%|██████████| 1/1 [00:00<00:00, 141.91it/s]"
     ]
    },
    {
     "name": "stdout",
     "output_type": "stream",
     "text": [
      "0.9210825297870481\n",
      "0.9046688635502027\n",
      "0.8968192856719778\n",
      "0.9007281122358374\n"
     ]
    },
    {
     "name": "stderr",
     "output_type": "stream",
     "text": [
      "\n",
      " 61%|██████    | 952/1567 [00:50<00:32, 19.09it/s]\n",
      "100%|██████████| 1/1 [00:00<00:00, 140.80it/s]\n",
      "\n",
      "100%|██████████| 1/1 [00:00<00:00, 143.78it/s]\n",
      " 61%|██████    | 954/1567 [00:50<00:32, 19.11it/s]\n",
      "100%|██████████| 1/1 [00:00<00:00, 129.26it/s]\n",
      "\n",
      "100%|██████████| 1/1 [00:00<00:00, 145.34it/s]"
     ]
    },
    {
     "name": "stdout",
     "output_type": "stream",
     "text": [
      "0.8982739189750282\n",
      "0.9068282970250644\n",
      "0.9002110863719168\n",
      "0.8961651239004197\n"
     ]
    },
    {
     "name": "stderr",
     "output_type": "stream",
     "text": [
      "\n",
      " 61%|██████    | 956/1567 [00:50<00:32, 19.09it/s]\n",
      "100%|██████████| 1/1 [00:00<00:00, 141.12it/s]\n",
      "\n",
      "100%|██████████| 1/1 [00:00<00:00, 140.65it/s]\n",
      " 61%|██████    | 958/1567 [00:51<00:31, 19.06it/s]\n",
      "100%|██████████| 1/1 [00:00<00:00, 134.07it/s]\n",
      "\n",
      "100%|██████████| 1/1 [00:00<00:00, 137.41it/s]"
     ]
    },
    {
     "name": "stdout",
     "output_type": "stream",
     "text": [
      "0.897390101976148\n",
      "0.8896472612560941\n",
      "0.8933272809804812\n",
      "0.9020937188434696\n"
     ]
    },
    {
     "name": "stderr",
     "output_type": "stream",
     "text": [
      "\n",
      " 61%|██████▏   | 960/1567 [00:51<00:31, 19.12it/s]\n",
      "100%|██████████| 1/1 [00:00<00:00, 142.46it/s]\n",
      "\n",
      "100%|██████████| 1/1 [00:00<00:00, 142.45it/s]\n",
      " 61%|██████▏   | 962/1567 [00:51<00:31, 19.12it/s]\n",
      "100%|██████████| 1/1 [00:00<00:00, 139.34it/s]\n",
      "\n",
      "100%|██████████| 1/1 [00:00<00:00, 145.06it/s]"
     ]
    },
    {
     "name": "stdout",
     "output_type": "stream",
     "text": [
      "0.8995647996382751\n",
      "0.9055241506688309\n",
      "0.9024125553051173\n",
      "0.8960978418844435\n"
     ]
    },
    {
     "name": "stderr",
     "output_type": "stream",
     "text": [
      "\n",
      " 62%|██████▏   | 964/1567 [00:51<00:31, 19.11it/s]\n",
      "100%|██████████| 1/1 [00:00<00:00, 139.27it/s]\n",
      "\n",
      "100%|██████████| 1/1 [00:00<00:00, 130.83it/s]\n",
      " 62%|██████▏   | 966/1567 [00:51<00:31, 19.02it/s]\n",
      "100%|██████████| 1/1 [00:00<00:00, 138.92it/s]\n",
      "\n",
      "100%|██████████| 1/1 [00:00<00:00, 140.03it/s]"
     ]
    },
    {
     "name": "stdout",
     "output_type": "stream",
     "text": [
      "0.908691231830297\n",
      "0.9145216258901111\n",
      "0.8939482389569955\n",
      "0.8784309336616211\n"
     ]
    },
    {
     "name": "stderr",
     "output_type": "stream",
     "text": [
      "\n",
      " 62%|██████▏   | 968/1567 [00:51<00:31, 19.02it/s]\n",
      "100%|██████████| 1/1 [00:00<00:00, 141.50it/s]\n",
      "\n",
      "100%|██████████| 1/1 [00:00<00:00, 142.91it/s]\n",
      " 62%|██████▏   | 970/1567 [00:51<00:31, 19.03it/s]\n",
      "100%|██████████| 1/1 [00:00<00:00, 142.39it/s]\n",
      "\n",
      "100%|██████████| 1/1 [00:00<00:00, 144.08it/s]"
     ]
    },
    {
     "name": "stdout",
     "output_type": "stream",
     "text": [
      "0.8793219577907498\n",
      "0.8827414893016429\n",
      "0.8859345767900675\n",
      "0.902575967045679\n"
     ]
    },
    {
     "name": "stderr",
     "output_type": "stream",
     "text": [
      "\n",
      " 62%|██████▏   | 972/1567 [00:51<00:31, 19.03it/s]\n",
      "100%|██████████| 1/1 [00:00<00:00, 140.29it/s]\n",
      "\n",
      "100%|██████████| 1/1 [00:00<00:00, 142.15it/s]\n",
      " 62%|██████▏   | 974/1567 [00:51<00:31, 19.04it/s]\n",
      "100%|██████████| 1/1 [00:00<00:00, 140.65it/s]\n",
      "\n",
      "100%|██████████| 1/1 [00:00<00:00, 144.16it/s]"
     ]
    },
    {
     "name": "stdout",
     "output_type": "stream",
     "text": [
      "0.9148574343858058\n",
      "0.9091221636488654\n",
      "0.9073064979199625\n",
      "0.91439427151834\n"
     ]
    },
    {
     "name": "stderr",
     "output_type": "stream",
     "text": [
      "\n",
      " 62%|██████▏   | 976/1567 [00:52<00:31, 19.00it/s]\n",
      "100%|██████████| 1/1 [00:00<00:00, 133.76it/s]\n",
      "\n",
      "100%|██████████| 1/1 [00:00<00:00, 145.43it/s]\n",
      " 62%|██████▏   | 978/1567 [00:52<00:31, 18.99it/s]\n",
      "100%|██████████| 1/1 [00:00<00:00, 126.82it/s]\n",
      "\n",
      "100%|██████████| 1/1 [00:00<00:00, 145.98it/s]"
     ]
    },
    {
     "name": "stdout",
     "output_type": "stream",
     "text": [
      "0.9197363775450159\n",
      "0.9106393115564423\n",
      "0.9063367531683766\n",
      "0.9072010094030702\n"
     ]
    },
    {
     "name": "stderr",
     "output_type": "stream",
     "text": [
      "\n",
      " 63%|██████▎   | 980/1567 [00:52<00:30, 18.96it/s]\n",
      "100%|██████████| 1/1 [00:00<00:00, 139.18it/s]\n",
      "\n",
      "100%|██████████| 1/1 [00:00<00:00, 128.08it/s]\n",
      " 63%|██████▎   | 982/1567 [00:52<00:30, 18.92it/s]\n",
      "100%|██████████| 1/1 [00:00<00:00, 140.06it/s]\n",
      "\n",
      "100%|██████████| 1/1 [00:00<00:00, 142.83it/s]"
     ]
    },
    {
     "name": "stdout",
     "output_type": "stream",
     "text": [
      "0.908937554598307\n",
      "0.9191630287520699\n",
      "0.9198587502992578\n",
      "0.8985019871598899\n"
     ]
    },
    {
     "name": "stderr",
     "output_type": "stream",
     "text": [
      "\n",
      " 63%|██████▎   | 984/1567 [00:52<00:30, 18.93it/s]\n",
      "100%|██████████| 1/1 [00:00<00:00, 141.54it/s]\n",
      "\n",
      "100%|██████████| 1/1 [00:00<00:00, 130.55it/s]\n",
      " 63%|██████▎   | 986/1567 [00:52<00:30, 18.93it/s]\n",
      "100%|██████████| 1/1 [00:00<00:00, 139.52it/s]\n",
      "\n",
      "100%|██████████| 1/1 [00:00<00:00, 142.67it/s]"
     ]
    },
    {
     "name": "stdout",
     "output_type": "stream",
     "text": [
      "0.9112665684830633\n",
      "0.9028954355797193\n",
      "0.9029541249282205\n",
      "0.8997724286034808\n"
     ]
    },
    {
     "name": "stderr",
     "output_type": "stream",
     "text": [
      "\n",
      " 63%|██████▎   | 988/1567 [00:52<00:30, 18.90it/s]\n",
      "100%|██████████| 1/1 [00:00<00:00, 139.55it/s]\n",
      "\n",
      "100%|██████████| 1/1 [00:00<00:00, 145.10it/s]\n",
      " 63%|██████▎   | 990/1567 [00:52<00:30, 18.93it/s]\n",
      "100%|██████████| 1/1 [00:00<00:00, 141.48it/s]\n",
      "\n",
      "100%|██████████| 1/1 [00:00<00:00, 144.98it/s]"
     ]
    },
    {
     "name": "stdout",
     "output_type": "stream",
     "text": [
      "0.894620811287478\n",
      "0.8881695861893881\n",
      "0.8674470703309879\n",
      "0.8702354940519543\n"
     ]
    },
    {
     "name": "stderr",
     "output_type": "stream",
     "text": [
      "\n",
      " 63%|██████▎   | 992/1567 [00:52<00:30, 18.96it/s]\n",
      "100%|██████████| 1/1 [00:00<00:00, 141.22it/s]\n",
      "\n",
      "100%|██████████| 1/1 [00:00<00:00, 146.82it/s]\n",
      " 63%|██████▎   | 994/1567 [00:52<00:30, 18.97it/s]\n",
      "100%|██████████| 1/1 [00:00<00:00, 142.29it/s]\n",
      "\n",
      "100%|██████████| 1/1 [00:00<00:00, 141.06it/s]"
     ]
    },
    {
     "name": "stdout",
     "output_type": "stream",
     "text": [
      "0.8584965446479765\n",
      "0.8572045931596494\n",
      "0.8545839339938043\n",
      "0.8594800607318811\n"
     ]
    },
    {
     "name": "stderr",
     "output_type": "stream",
     "text": [
      "\n",
      " 64%|██████▎   | 996/1567 [00:53<00:30, 18.95it/s]\n",
      "100%|██████████| 1/1 [00:00<00:00, 143.67it/s]\n",
      "\n",
      "100%|██████████| 1/1 [00:00<00:00, 146.70it/s]\n",
      " 64%|██████▎   | 998/1567 [00:53<00:29, 18.99it/s]\n",
      "100%|██████████| 1/1 [00:00<00:00, 141.06it/s]\n",
      "\n",
      "100%|██████████| 1/1 [00:00<00:00, 143.73it/s]"
     ]
    },
    {
     "name": "stdout",
     "output_type": "stream",
     "text": [
      "0.8610203255828431\n",
      "0.8704238472286911\n",
      "0.8673574805121623\n",
      "0.8554828411811652\n"
     ]
    },
    {
     "name": "stderr",
     "output_type": "stream",
     "text": [
      "\n",
      " 64%|██████▍   | 1000/1567 [00:53<00:29, 18.99it/s]\n",
      "100%|██████████| 1/1 [00:00<00:00, 141.17it/s]\n",
      "\n",
      "100%|██████████| 1/1 [00:00<00:00, 146.27it/s]\n",
      " 64%|██████▍   | 1002/1567 [00:53<00:29, 19.04it/s]\n",
      "100%|██████████| 1/1 [00:00<00:00, 138.95it/s]\n",
      "\n",
      "100%|██████████| 1/1 [00:00<00:00, 146.03it/s]"
     ]
    },
    {
     "name": "stdout",
     "output_type": "stream",
     "text": [
      "0.8628508316008316\n",
      "0.8529392446633826\n",
      "0.836698476477482\n",
      "0.8121712497503163\n"
     ]
    },
    {
     "name": "stderr",
     "output_type": "stream",
     "text": [
      "\n",
      " 64%|██████▍   | 1004/1567 [00:53<00:29, 19.04it/s]\n",
      "100%|██████████| 1/1 [00:00<00:00, 136.52it/s]\n",
      "\n",
      "100%|██████████| 1/1 [00:00<00:00, 144.10it/s]\n",
      " 64%|██████▍   | 1006/1567 [00:53<00:29, 19.01it/s]\n",
      "100%|██████████| 1/1 [00:00<00:00, 141.22it/s]\n",
      "\n",
      "100%|██████████| 1/1 [00:00<00:00, 142.61it/s]"
     ]
    },
    {
     "name": "stdout",
     "output_type": "stream",
     "text": [
      "0.7061104425725364\n",
      "0.6785767993022347\n",
      "0.549356426272951\n",
      "0.7090819456617002\n"
     ]
    },
    {
     "name": "stderr",
     "output_type": "stream",
     "text": [
      "\n",
      " 64%|██████▍   | 1008/1567 [00:53<00:29, 18.99it/s]\n",
      "100%|██████████| 1/1 [00:00<00:00, 145.52it/s]\n",
      "\n",
      "100%|██████████| 1/1 [00:00<00:00, 140.17it/s]\n",
      " 64%|██████▍   | 1010/1567 [00:53<00:29, 19.02it/s]\n",
      "100%|██████████| 1/1 [00:00<00:00, 140.99it/s]\n",
      "\n",
      "100%|██████████| 1/1 [00:00<00:00, 144.55it/s]"
     ]
    },
    {
     "name": "stdout",
     "output_type": "stream",
     "text": [
      "0.8148031595178903\n",
      "0.7422085889570552\n",
      "0.6474249172090899\n",
      "0.5817530319735391\n"
     ]
    },
    {
     "name": "stderr",
     "output_type": "stream",
     "text": [
      "\n",
      " 65%|██████▍   | 1012/1567 [00:53<00:29, 19.07it/s]\n",
      "100%|██████████| 1/1 [00:00<00:00, 140.90it/s]\n",
      "\n",
      "100%|██████████| 1/1 [00:00<00:00, 144.37it/s]\n",
      " 65%|██████▍   | 1014/1567 [00:54<00:28, 19.08it/s]\n",
      "100%|██████████| 1/1 [00:00<00:00, 130.12it/s]\n",
      "\n",
      "100%|██████████| 1/1 [00:00<00:00, 140.72it/s]"
     ]
    },
    {
     "name": "stdout",
     "output_type": "stream",
     "text": [
      "0.5812205307827024\n",
      "0.5800599421796674\n",
      "0.5447592847317744\n",
      "0.5619994719704303\n"
     ]
    },
    {
     "name": "stderr",
     "output_type": "stream",
     "text": [
      "\n",
      " 65%|██████▍   | 1016/1567 [00:54<00:28, 19.03it/s]\n",
      "100%|██████████| 1/1 [00:00<00:00, 146.62it/s]\n",
      "\n",
      "100%|██████████| 1/1 [00:00<00:00, 145.64it/s]\n",
      " 65%|██████▍   | 1018/1567 [00:54<00:28, 19.05it/s]\n",
      "100%|██████████| 1/1 [00:00<00:00, 139.89it/s]\n",
      "\n",
      "100%|██████████| 1/1 [00:00<00:00, 142.90it/s]"
     ]
    },
    {
     "name": "stdout",
     "output_type": "stream",
     "text": [
      "0.5973715651135006\n",
      "0.5536229298605536\n",
      "0.6042983565107459\n",
      "0.6728056561476117\n"
     ]
    },
    {
     "name": "stderr",
     "output_type": "stream",
     "text": [
      "\n",
      " 65%|██████▌   | 1020/1567 [00:54<00:28, 19.04it/s]\n",
      "100%|██████████| 1/1 [00:00<00:00, 139.20it/s]\n",
      "\n",
      "100%|██████████| 1/1 [00:00<00:00, 141.35it/s]\n",
      " 65%|██████▌   | 1022/1567 [00:54<00:28, 19.05it/s]\n",
      "100%|██████████| 1/1 [00:00<00:00, 142.46it/s]\n",
      "\n",
      "100%|██████████| 1/1 [00:00<00:00, 145.00it/s]"
     ]
    },
    {
     "name": "stdout",
     "output_type": "stream",
     "text": [
      "0.7201028088856252\n",
      "0.6635395624336632\n",
      "0.6899539297256412\n",
      "0.5978408839079368\n"
     ]
    },
    {
     "name": "stderr",
     "output_type": "stream",
     "text": [
      "\n",
      " 65%|██████▌   | 1024/1567 [00:54<00:28, 19.05it/s]\n",
      "100%|██████████| 1/1 [00:00<00:00, 138.67it/s]\n",
      "\n",
      "100%|██████████| 1/1 [00:00<00:00, 136.70it/s]\n",
      " 65%|██████▌   | 1026/1567 [00:54<00:28, 19.06it/s]\n",
      "100%|██████████| 1/1 [00:00<00:00, 138.30it/s]\n",
      "\n",
      "100%|██████████| 1/1 [00:00<00:00, 142.50it/s]"
     ]
    },
    {
     "name": "stdout",
     "output_type": "stream",
     "text": [
      "0.5234912394548994\n",
      "0.4367218663120996\n",
      "0.39952138797487285\n",
      "0.3957947959057837\n"
     ]
    },
    {
     "name": "stderr",
     "output_type": "stream",
     "text": [
      "\n",
      " 66%|██████▌   | 1028/1567 [00:54<00:28, 19.02it/s]\n",
      "100%|██████████| 1/1 [00:00<00:00, 126.34it/s]\n",
      "\n",
      "100%|██████████| 1/1 [00:00<00:00, 141.37it/s]\n",
      " 66%|██████▌   | 1030/1567 [00:54<00:28, 19.00it/s]\n",
      "100%|██████████| 1/1 [00:00<00:00, 121.26it/s]\n",
      "\n",
      "100%|██████████| 1/1 [00:00<00:00, 142.33it/s]"
     ]
    },
    {
     "name": "stdout",
     "output_type": "stream",
     "text": [
      "0.43250177227154574\n",
      "0.4111366571131618\n",
      "0.4126917920452853\n",
      "0.4446592858256666\n"
     ]
    },
    {
     "name": "stderr",
     "output_type": "stream",
     "text": [
      "\n",
      " 66%|██████▌   | 1032/1567 [00:54<00:28, 18.95it/s]\n",
      "100%|██████████| 1/1 [00:00<00:00, 139.73it/s]\n",
      "\n",
      "100%|██████████| 1/1 [00:00<00:00, 144.85it/s]\n",
      " 66%|██████▌   | 1034/1567 [00:55<00:28, 18.95it/s]\n",
      "100%|██████████| 1/1 [00:00<00:00, 143.10it/s]\n",
      "\n",
      "100%|██████████| 1/1 [00:00<00:00, 145.05it/s]"
     ]
    },
    {
     "name": "stdout",
     "output_type": "stream",
     "text": [
      "0.525790710283752\n",
      "0.49123208295211956\n",
      "0.5933152664859982\n",
      "0.6693182962440842\n"
     ]
    },
    {
     "name": "stderr",
     "output_type": "stream",
     "text": [
      "\n",
      " 66%|██████▌   | 1036/1567 [00:55<00:27, 18.99it/s]\n",
      "100%|██████████| 1/1 [00:00<00:00, 141.68it/s]\n",
      "\n",
      "100%|██████████| 1/1 [00:00<00:00, 137.22it/s]\n",
      " 66%|██████▌   | 1038/1567 [00:55<00:27, 18.99it/s]\n",
      "100%|██████████| 1/1 [00:00<00:00, 138.07it/s]\n",
      "\n",
      "100%|██████████| 1/1 [00:00<00:00, 143.08it/s]"
     ]
    },
    {
     "name": "stdout",
     "output_type": "stream",
     "text": [
      "0.6681294009592815\n",
      "0.6126694277108434\n",
      "0.6309042775532953\n",
      "0.6186363636363637\n"
     ]
    },
    {
     "name": "stderr",
     "output_type": "stream",
     "text": [
      "\n",
      " 66%|██████▋   | 1040/1567 [00:55<00:27, 19.02it/s]\n",
      "100%|██████████| 1/1 [00:00<00:00, 145.83it/s]\n",
      "\n",
      "100%|██████████| 1/1 [00:00<00:00, 145.99it/s]\n",
      " 66%|██████▋   | 1042/1567 [00:55<00:27, 19.06it/s]\n",
      "100%|██████████| 1/1 [00:00<00:00, 137.21it/s]\n",
      "\n",
      "100%|██████████| 1/1 [00:00<00:00, 140.49it/s]"
     ]
    },
    {
     "name": "stdout",
     "output_type": "stream",
     "text": [
      "0.6111940298507462\n",
      "0.6405543542362886\n",
      "0.6525636083269083\n",
      "0.6657610062893081\n"
     ]
    },
    {
     "name": "stderr",
     "output_type": "stream",
     "text": [
      "\n",
      " 67%|██████▋   | 1044/1567 [00:55<00:27, 19.03it/s]\n",
      "100%|██████████| 1/1 [00:00<00:00, 142.28it/s]\n",
      "\n",
      "100%|██████████| 1/1 [00:00<00:00, 143.20it/s]\n",
      " 67%|██████▋   | 1046/1567 [00:55<00:27, 19.06it/s]\n",
      "100%|██████████| 1/1 [00:00<00:00, 139.40it/s]\n",
      "\n",
      "100%|██████████| 1/1 [00:00<00:00, 145.22it/s]"
     ]
    },
    {
     "name": "stdout",
     "output_type": "stream",
     "text": [
      "0.6512641673931997\n",
      "0.6120942557017128\n",
      "0.5614702702702703\n",
      "0.5798266209138523\n"
     ]
    },
    {
     "name": "stderr",
     "output_type": "stream",
     "text": [
      "\n",
      " 67%|██████▋   | 1048/1567 [00:55<00:27, 19.02it/s]\n",
      "100%|██████████| 1/1 [00:00<00:00, 127.24it/s]\n",
      "\n",
      "100%|██████████| 1/1 [00:00<00:00, 145.68it/s]\n",
      " 67%|██████▋   | 1050/1567 [00:55<00:27, 19.04it/s]\n",
      "100%|██████████| 1/1 [00:00<00:00, 140.32it/s]\n",
      "\n",
      "100%|██████████| 1/1 [00:00<00:00, 141.11it/s]"
     ]
    },
    {
     "name": "stdout",
     "output_type": "stream",
     "text": [
      "0.5852318775326429\n",
      "0.5640555410007859\n",
      "0.5596595894016494\n",
      "0.6239109390125847\n"
     ]
    },
    {
     "name": "stderr",
     "output_type": "stream",
     "text": [
      "\n",
      " 67%|██████▋   | 1052/1567 [00:56<00:27, 19.02it/s]\n",
      "100%|██████████| 1/1 [00:00<00:00, 143.21it/s]\n",
      "\n",
      "100%|██████████| 1/1 [00:00<00:00, 146.45it/s]\n",
      " 67%|██████▋   | 1054/1567 [00:56<00:26, 19.04it/s]\n",
      "100%|██████████| 1/1 [00:00<00:00, 139.64it/s]\n",
      "\n",
      "100%|██████████| 1/1 [00:00<00:00, 142.54it/s]"
     ]
    },
    {
     "name": "stdout",
     "output_type": "stream",
     "text": [
      "0.565598946906538\n",
      "0.5878504248262074\n",
      "0.6168949334354947\n",
      "0.6783342119135477\n"
     ]
    },
    {
     "name": "stderr",
     "output_type": "stream",
     "text": [
      "\n",
      " 67%|██████▋   | 1056/1567 [00:56<00:26, 19.02it/s]\n",
      "100%|██████████| 1/1 [00:00<00:00, 141.69it/s]\n",
      "\n",
      "100%|██████████| 1/1 [00:00<00:00, 145.21it/s]\n",
      " 68%|██████▊   | 1058/1567 [00:56<00:26, 19.04it/s]\n",
      "100%|██████████| 1/1 [00:00<00:00, 139.66it/s]\n",
      "\n",
      "100%|██████████| 1/1 [00:00<00:00, 142.98it/s]"
     ]
    },
    {
     "name": "stdout",
     "output_type": "stream",
     "text": [
      "0.6951819607419023\n",
      "0.6488297762655943\n",
      "0.5087847137883572\n",
      "0.6767960363336086\n"
     ]
    },
    {
     "name": "stderr",
     "output_type": "stream",
     "text": [
      "\n",
      " 68%|██████▊   | 1060/1567 [00:56<00:26, 19.05it/s]\n",
      "100%|██████████| 1/1 [00:00<00:00, 139.87it/s]\n",
      "\n",
      "100%|██████████| 1/1 [00:00<00:00, 140.90it/s]\n",
      " 68%|██████▊   | 1062/1567 [00:56<00:26, 19.05it/s]\n",
      "100%|██████████| 1/1 [00:00<00:00, 133.03it/s]\n",
      "\n",
      "100%|██████████| 1/1 [00:00<00:00, 146.35it/s]"
     ]
    },
    {
     "name": "stdout",
     "output_type": "stream",
     "text": [
      "0.4502026097624447\n",
      "0.45050151012342\n",
      "0.46711556529909176\n",
      "0.4921786538058293\n"
     ]
    },
    {
     "name": "stderr",
     "output_type": "stream",
     "text": [
      "\n",
      " 68%|██████▊   | 1064/1567 [00:56<00:26, 19.01it/s]\n",
      "100%|██████████| 1/1 [00:00<00:00, 139.42it/s]\n",
      "\n",
      "100%|██████████| 1/1 [00:00<00:00, 128.10it/s]\n",
      " 68%|██████▊   | 1066/1567 [00:56<00:26, 18.96it/s]\n",
      "100%|██████████| 1/1 [00:00<00:00, 137.75it/s]\n",
      "\n",
      "100%|██████████| 1/1 [00:00<00:00, 145.53it/s]"
     ]
    },
    {
     "name": "stdout",
     "output_type": "stream",
     "text": [
      "0.4294067260064802\n",
      "0.4880141530296329\n",
      "0.4139111905939652\n",
      "0.4721022476862054\n"
     ]
    },
    {
     "name": "stderr",
     "output_type": "stream",
     "text": [
      "\n",
      " 68%|██████▊   | 1068/1567 [00:56<00:26, 18.97it/s]\n",
      "100%|██████████| 1/1 [00:00<00:00, 140.21it/s]\n",
      "\n",
      "100%|██████████| 1/1 [00:00<00:00, 131.85it/s]\n",
      " 68%|██████▊   | 1070/1567 [00:56<00:26, 18.96it/s]\n",
      "100%|██████████| 1/1 [00:00<00:00, 126.69it/s]\n",
      "\n",
      "100%|██████████| 1/1 [00:00<00:00, 124.42it/s]"
     ]
    },
    {
     "name": "stdout",
     "output_type": "stream",
     "text": [
      "0.44240848499855556\n",
      "0.5321229050279329\n",
      "0.560105390273356\n",
      "0.46359367163634707\n"
     ]
    },
    {
     "name": "stderr",
     "output_type": "stream",
     "text": [
      "\n",
      " 68%|██████▊   | 1072/1567 [00:57<00:26, 18.89it/s]\n",
      "100%|██████████| 1/1 [00:00<00:00, 137.23it/s]\n",
      "\n",
      "100%|██████████| 1/1 [00:00<00:00, 127.82it/s]\n",
      " 69%|██████▊   | 1074/1567 [00:57<00:26, 18.90it/s]\n",
      "100%|██████████| 1/1 [00:00<00:00, 141.59it/s]\n",
      "\n",
      "100%|██████████| 1/1 [00:00<00:00, 141.25it/s]"
     ]
    },
    {
     "name": "stdout",
     "output_type": "stream",
     "text": [
      "0.5335784689239569\n",
      "0.5743182834152883\n",
      "0.6416692619121769\n",
      "0.5613746157224418\n"
     ]
    },
    {
     "name": "stderr",
     "output_type": "stream",
     "text": [
      "\n",
      " 69%|██████▊   | 1076/1567 [00:57<00:25, 18.94it/s]\n",
      "100%|██████████| 1/1 [00:00<00:00, 141.27it/s]\n",
      "\n",
      "100%|██████████| 1/1 [00:00<00:00, 142.87it/s]\n",
      " 69%|██████▉   | 1078/1567 [00:57<00:25, 18.97it/s]\n",
      "100%|██████████| 1/1 [00:00<00:00, 140.13it/s]\n",
      "\n",
      "100%|██████████| 1/1 [00:00<00:00, 144.17it/s]"
     ]
    },
    {
     "name": "stdout",
     "output_type": "stream",
     "text": [
      "0.6446601941747573\n",
      "0.6065386236377868\n",
      "0.5611098103488644\n",
      "0.4512965582272513\n"
     ]
    },
    {
     "name": "stderr",
     "output_type": "stream",
     "text": [
      "\n",
      " 69%|██████▉   | 1080/1567 [00:57<00:25, 18.98it/s]\n",
      "100%|██████████| 1/1 [00:00<00:00, 139.50it/s]\n",
      "\n",
      "100%|██████████| 1/1 [00:00<00:00, 145.27it/s]\n",
      " 69%|██████▉   | 1082/1567 [00:57<00:25, 19.02it/s]\n",
      "100%|██████████| 1/1 [00:00<00:00, 139.16it/s]\n",
      "\n",
      "100%|██████████| 1/1 [00:00<00:00, 145.25it/s]"
     ]
    },
    {
     "name": "stdout",
     "output_type": "stream",
     "text": [
      "0.4268436846412658\n",
      "0.46335186329009675\n",
      "0.48025567412382864\n",
      "0.376646027731752\n"
     ]
    },
    {
     "name": "stderr",
     "output_type": "stream",
     "text": [
      "\n",
      " 69%|██████▉   | 1084/1567 [00:57<00:25, 19.04it/s]\n",
      "100%|██████████| 1/1 [00:00<00:00, 139.77it/s]\n",
      "\n",
      "100%|██████████| 1/1 [00:00<00:00, 144.39it/s]\n",
      " 69%|██████▉   | 1086/1567 [00:57<00:25, 19.05it/s]\n",
      "100%|██████████| 1/1 [00:00<00:00, 140.30it/s]\n",
      "\n",
      "100%|██████████| 1/1 [00:00<00:00, 139.77it/s]"
     ]
    },
    {
     "name": "stdout",
     "output_type": "stream",
     "text": [
      "0.36681893865004483\n",
      "0.4855223796353785\n",
      "0.4419324868380303\n",
      "0.4136796788081072\n"
     ]
    },
    {
     "name": "stderr",
     "output_type": "stream",
     "text": [
      "\n",
      " 69%|██████▉   | 1088/1567 [00:57<00:25, 19.04it/s]\n",
      "100%|██████████| 1/1 [00:00<00:00, 141.36it/s]\n",
      "\n",
      "100%|██████████| 1/1 [00:00<00:00, 142.50it/s]\n",
      " 70%|██████▉   | 1090/1567 [00:58<00:25, 19.05it/s]\n",
      "100%|██████████| 1/1 [00:00<00:00, 141.96it/s]\n",
      "\n",
      "100%|██████████| 1/1 [00:00<00:00, 143.42it/s]"
     ]
    },
    {
     "name": "stdout",
     "output_type": "stream",
     "text": [
      "0.3656313447665126\n",
      "0.34217166494312307\n",
      "0.4320600483265642\n",
      "0.41721554628186436\n"
     ]
    },
    {
     "name": "stderr",
     "output_type": "stream",
     "text": [
      "\n",
      " 70%|██████▉   | 1092/1567 [00:58<00:24, 19.06it/s]\n",
      "100%|██████████| 1/1 [00:00<00:00, 143.96it/s]\n",
      "\n",
      "100%|██████████| 1/1 [00:00<00:00, 141.76it/s]\n",
      " 70%|██████▉   | 1094/1567 [00:58<00:24, 19.05it/s]\n",
      "100%|██████████| 1/1 [00:00<00:00, 141.93it/s]\n",
      "\n",
      "100%|██████████| 1/1 [00:00<00:00, 139.44it/s]"
     ]
    },
    {
     "name": "stdout",
     "output_type": "stream",
     "text": [
      "0.4300305359587238\n",
      "0.4836016696481813\n",
      "0.4567894292943492\n",
      "0.39780658025922233\n"
     ]
    },
    {
     "name": "stderr",
     "output_type": "stream",
     "text": [
      "\n",
      " 70%|██████▉   | 1096/1567 [00:58<00:24, 19.06it/s]\n",
      "100%|██████████| 1/1 [00:00<00:00, 137.13it/s]\n",
      "\n",
      "100%|██████████| 1/1 [00:00<00:00, 144.74it/s]\n",
      " 70%|███████   | 1098/1567 [00:58<00:24, 19.07it/s]\n",
      "100%|██████████| 1/1 [00:00<00:00, 135.27it/s]\n",
      "\n",
      "100%|██████████| 1/1 [00:00<00:00, 145.37it/s]"
     ]
    },
    {
     "name": "stdout",
     "output_type": "stream",
     "text": [
      "0.35306195322263884\n",
      "0.3445656060064355\n",
      "0.346152087429695\n",
      "0.3528452163899818\n"
     ]
    },
    {
     "name": "stderr",
     "output_type": "stream",
     "text": [
      "\n",
      " 70%|███████   | 1100/1567 [00:58<00:24, 19.06it/s]\n",
      "100%|██████████| 1/1 [00:00<00:00, 143.29it/s]\n",
      "\n",
      "100%|██████████| 1/1 [00:00<00:00, 144.35it/s]\n",
      " 70%|███████   | 1102/1567 [00:58<00:24, 19.06it/s]\n",
      "100%|██████████| 1/1 [00:00<00:00, 141.47it/s]\n",
      "\n",
      "100%|██████████| 1/1 [00:00<00:00, 145.21it/s]"
     ]
    },
    {
     "name": "stdout",
     "output_type": "stream",
     "text": [
      "0.33362835980807753\n",
      "0.3296510284261613\n",
      "0.32344268337633614\n",
      "0.3123206516708322\n"
     ]
    },
    {
     "name": "stderr",
     "output_type": "stream",
     "text": [
      "\n",
      " 70%|███████   | 1104/1567 [00:58<00:24, 19.08it/s]\n",
      "100%|██████████| 1/1 [00:00<00:00, 142.85it/s]\n",
      "\n",
      "100%|██████████| 1/1 [00:00<00:00, 143.16it/s]\n",
      " 71%|███████   | 1106/1567 [00:58<00:24, 19.07it/s]\n",
      "100%|██████████| 1/1 [00:00<00:00, 144.42it/s]\n",
      "\n",
      "100%|██████████| 1/1 [00:00<00:00, 145.02it/s]"
     ]
    },
    {
     "name": "stdout",
     "output_type": "stream",
     "text": [
      "0.3486366581925128\n",
      "0.3125028038221704\n",
      "0.31410113611049234\n",
      "0.32244048157870914\n"
     ]
    },
    {
     "name": "stderr",
     "output_type": "stream",
     "text": [
      "\n",
      " 71%|███████   | 1108/1567 [00:58<00:24, 19.05it/s]\n",
      "100%|██████████| 1/1 [00:00<00:00, 140.52it/s]\n",
      "\n",
      "100%|██████████| 1/1 [00:00<00:00, 139.60it/s]\n",
      " 71%|███████   | 1110/1567 [00:59<00:23, 19.05it/s]\n",
      "100%|██████████| 1/1 [00:00<00:00, 139.68it/s]\n",
      "\n",
      "100%|██████████| 1/1 [00:00<00:00, 146.27it/s]"
     ]
    },
    {
     "name": "stdout",
     "output_type": "stream",
     "text": [
      "0.2960786818239877\n",
      "0.2587029089175012\n",
      "0.28422413408817365\n",
      "0.2886879061946098\n"
     ]
    },
    {
     "name": "stderr",
     "output_type": "stream",
     "text": [
      "\n",
      " 71%|███████   | 1112/1567 [00:59<00:23, 19.07it/s]\n",
      "100%|██████████| 1/1 [00:00<00:00, 125.31it/s]\n",
      "\n",
      "100%|██████████| 1/1 [00:00<00:00, 137.98it/s]\n",
      " 71%|███████   | 1114/1567 [00:59<00:23, 19.01it/s]\n",
      "100%|██████████| 1/1 [00:00<00:00, 141.04it/s]\n",
      "\n",
      "100%|██████████| 1/1 [00:00<00:00, 140.83it/s]"
     ]
    },
    {
     "name": "stdout",
     "output_type": "stream",
     "text": [
      "0.28428927680798005\n",
      "0.2643895157395618\n",
      "0.25982980580405846\n",
      "0.23127236825866962\n"
     ]
    },
    {
     "name": "stderr",
     "output_type": "stream",
     "text": [
      "\n",
      " 71%|███████   | 1116/1567 [00:59<00:23, 19.03it/s]\n",
      "100%|██████████| 1/1 [00:00<00:00, 138.71it/s]\n",
      "\n",
      "100%|██████████| 1/1 [00:00<00:00, 143.16it/s]\n",
      " 71%|███████▏  | 1118/1567 [00:59<00:23, 19.06it/s]\n",
      "100%|██████████| 1/1 [00:00<00:00, 136.28it/s]\n",
      "\n",
      "100%|██████████| 1/1 [00:00<00:00, 143.80it/s]"
     ]
    },
    {
     "name": "stdout",
     "output_type": "stream",
     "text": [
      "0.21565917795238282\n",
      "0.21231628810883033\n",
      "0.1782340251431972\n",
      "0.1842169359421937\n"
     ]
    },
    {
     "name": "stderr",
     "output_type": "stream",
     "text": [
      "\n",
      " 71%|███████▏  | 1120/1567 [00:59<00:23, 19.06it/s]\n",
      "100%|██████████| 1/1 [00:00<00:00, 126.50it/s]\n",
      "\n",
      "100%|██████████| 1/1 [00:00<00:00, 126.63it/s]\n",
      " 72%|███████▏  | 1122/1567 [00:59<00:23, 18.99it/s]\n",
      "100%|██████████| 1/1 [00:00<00:00, 144.98it/s]\n",
      "\n",
      "100%|██████████| 1/1 [00:00<00:00, 141.24it/s]"
     ]
    },
    {
     "name": "stdout",
     "output_type": "stream",
     "text": [
      "0.17334372564302417\n",
      "0.17114225319032333\n",
      "0.1564263572053096\n",
      "0.16477272727272727\n"
     ]
    },
    {
     "name": "stderr",
     "output_type": "stream",
     "text": [
      "\n",
      " 72%|███████▏  | 1124/1567 [00:59<00:23, 18.99it/s]\n",
      "100%|██████████| 1/1 [00:00<00:00, 140.81it/s]\n",
      "\n",
      "100%|██████████| 1/1 [00:00<00:00, 141.92it/s]\n",
      " 72%|███████▏  | 1126/1567 [00:59<00:23, 19.06it/s]\n",
      "100%|██████████| 1/1 [00:00<00:00, 144.07it/s]\n",
      "\n",
      "100%|██████████| 1/1 [00:00<00:00, 143.56it/s]"
     ]
    },
    {
     "name": "stdout",
     "output_type": "stream",
     "text": [
      "0.1476049982644915\n",
      "0.13817748659916618\n",
      "0.127678391959799\n",
      "0.14292716400352906\n"
     ]
    },
    {
     "name": "stderr",
     "output_type": "stream",
     "text": [
      "\n",
      " 72%|███████▏  | 1128/1567 [01:00<00:23, 19.05it/s]\n",
      "100%|██████████| 1/1 [00:00<00:00, 138.27it/s]\n",
      "\n",
      "100%|██████████| 1/1 [00:00<00:00, 146.17it/s]\n",
      " 72%|███████▏  | 1130/1567 [01:00<00:22, 19.06it/s]\n",
      "100%|██████████| 1/1 [00:00<00:00, 140.64it/s]\n",
      "\n",
      "100%|██████████| 1/1 [00:00<00:00, 145.37it/s]"
     ]
    },
    {
     "name": "stdout",
     "output_type": "stream",
     "text": [
      "0.1171076892410425\n",
      "0.09284070916226823\n",
      "0.07871983481739579\n",
      "0.061296334644854004\n"
     ]
    },
    {
     "name": "stderr",
     "output_type": "stream",
     "text": [
      "\n",
      " 72%|███████▏  | 1132/1567 [01:00<00:22, 19.06it/s]\n",
      "100%|██████████| 1/1 [00:00<00:00, 139.58it/s]\n",
      "\n",
      "100%|██████████| 1/1 [00:00<00:00, 147.14it/s]\n",
      " 72%|███████▏  | 1134/1567 [01:00<00:22, 19.07it/s]\n",
      "100%|██████████| 1/1 [00:00<00:00, 140.32it/s]\n",
      "\n",
      "100%|██████████| 1/1 [00:00<00:00, 144.30it/s]"
     ]
    },
    {
     "name": "stdout",
     "output_type": "stream",
     "text": [
      "0.05912640521754055\n",
      "0.05629426547863833\n",
      "0.03728480956203729\n",
      "0.03137223912442214\n"
     ]
    },
    {
     "name": "stderr",
     "output_type": "stream",
     "text": [
      "\n",
      " 72%|███████▏  | 1136/1567 [01:00<00:22, 19.08it/s]\n",
      "100%|██████████| 1/1 [00:00<00:00, 140.35it/s]\n",
      "\n",
      "100%|██████████| 1/1 [00:00<00:00, 145.09it/s]\n",
      " 73%|███████▎  | 1138/1567 [01:00<00:22, 19.12it/s]\n",
      "100%|██████████| 1/1 [00:00<00:00, 140.34it/s]\n",
      "\n",
      "100%|██████████| 1/1 [00:00<00:00, 145.05it/s]"
     ]
    },
    {
     "name": "stdout",
     "output_type": "stream",
     "text": [
      "0.03347245753956775\n",
      "0.02806206668867613\n",
      "0.02817945865776789\n",
      "0.023728204206363474\n"
     ]
    },
    {
     "name": "stderr",
     "output_type": "stream",
     "text": [
      "\n",
      " 73%|███████▎  | 1140/1567 [01:00<00:22, 19.10it/s]\n",
      "100%|██████████| 1/1 [00:00<00:00, 138.81it/s]\n",
      "\n",
      "100%|██████████| 1/1 [00:00<00:00, 140.39it/s]\n",
      " 73%|███████▎  | 1142/1567 [01:00<00:22, 19.06it/s]\n",
      "100%|██████████| 1/1 [00:00<00:00, 143.59it/s]\n",
      "\n",
      "100%|██████████| 1/1 [00:00<00:00, 142.01it/s]"
     ]
    },
    {
     "name": "stdout",
     "output_type": "stream",
     "text": [
      "0.02141912736888497\n",
      "0.022220206783965173\n",
      "0.02060501580265156\n",
      "0.022160907458503045\n"
     ]
    },
    {
     "name": "stderr",
     "output_type": "stream",
     "text": [
      "\n",
      " 73%|███████▎  | 1144/1567 [01:00<00:22, 19.06it/s]\n",
      "100%|██████████| 1/1 [00:00<00:00, 141.14it/s]\n",
      "\n",
      "100%|██████████| 1/1 [00:00<00:00, 146.00it/s]\n",
      " 73%|███████▎  | 1146/1567 [01:00<00:22, 19.09it/s]\n",
      "100%|██████████| 1/1 [00:00<00:00, 141.87it/s]\n",
      "\n",
      "100%|██████████| 1/1 [00:00<00:00, 141.62it/s]"
     ]
    },
    {
     "name": "stdout",
     "output_type": "stream",
     "text": [
      "0.021095550434320157\n",
      "0.016795580110497237\n",
      "0.01761189206656972\n",
      "0.022362438526491602\n"
     ]
    },
    {
     "name": "stderr",
     "output_type": "stream",
     "text": [
      "\n",
      " 73%|███████▎  | 1148/1567 [01:01<00:21, 19.09it/s]\n",
      "100%|██████████| 1/1 [00:00<00:00, 143.94it/s]\n",
      "\n",
      "100%|██████████| 1/1 [00:00<00:00, 140.35it/s]\n",
      " 73%|███████▎  | 1150/1567 [01:01<00:21, 19.09it/s]\n",
      "100%|██████████| 1/1 [00:00<00:00, 141.63it/s]\n",
      "\n",
      "100%|██████████| 1/1 [00:00<00:00, 137.39it/s]"
     ]
    },
    {
     "name": "stdout",
     "output_type": "stream",
     "text": [
      "0.014693246262244372\n",
      "0.006252916472235184\n",
      "0.0007895429423633652\n",
      "0.0005945808205215323\n"
     ]
    },
    {
     "name": "stderr",
     "output_type": "stream",
     "text": [
      "\n",
      " 74%|███████▎  | 1152/1567 [01:01<00:21, 19.05it/s]\n",
      "100%|██████████| 1/1 [00:00<00:00, 142.46it/s]\n",
      "\n",
      "100%|██████████| 1/1 [00:00<00:00, 143.30it/s]\n",
      " 74%|███████▎  | 1154/1567 [01:01<00:21, 19.10it/s]\n",
      "100%|██████████| 1/1 [00:00<00:00, 141.58it/s]\n",
      "\n",
      "100%|██████████| 1/1 [00:00<00:00, 145.30it/s]"
     ]
    },
    {
     "name": "stdout",
     "output_type": "stream",
     "text": [
      "0.0002490556639408908\n",
      "0.0\n",
      "0.0\n",
      "0.0\n"
     ]
    },
    {
     "name": "stderr",
     "output_type": "stream",
     "text": [
      "\n",
      " 74%|███████▍  | 1156/1567 [01:01<00:21, 19.12it/s]\n",
      "100%|██████████| 1/1 [00:00<00:00, 144.66it/s]\n",
      "\n",
      "100%|██████████| 1/1 [00:00<00:00, 144.86it/s]\n",
      " 74%|███████▍  | 1158/1567 [01:01<00:21, 19.20it/s]\n",
      "100%|██████████| 1/1 [00:00<00:00, 136.98it/s]\n",
      "\n",
      "100%|██████████| 1/1 [00:00<00:00, 143.93it/s]"
     ]
    },
    {
     "name": "stdout",
     "output_type": "stream",
     "text": [
      "0.0\n",
      "0.0\n",
      "0.0\n",
      "0.0\n"
     ]
    },
    {
     "name": "stderr",
     "output_type": "stream",
     "text": [
      "\n",
      " 74%|███████▍  | 1160/1567 [01:01<00:21, 19.19it/s]\n",
      "100%|██████████| 1/1 [00:00<00:00, 138.48it/s]\n",
      "\n",
      "100%|██████████| 1/1 [00:00<00:00, 145.13it/s]\n",
      " 74%|███████▍  | 1162/1567 [01:01<00:21, 19.23it/s]\n",
      "100%|██████████| 1/1 [00:00<00:00, 140.72it/s]\n",
      "\n",
      "100%|██████████| 1/1 [00:00<00:00, 139.87it/s]"
     ]
    },
    {
     "name": "stdout",
     "output_type": "stream",
     "text": [
      "0.0\n",
      "0.0\n",
      "0.0\n",
      "0.0\n"
     ]
    },
    {
     "name": "stderr",
     "output_type": "stream",
     "text": [
      "\n",
      " 74%|███████▍  | 1164/1567 [01:01<00:20, 19.21it/s]\n",
      "100%|██████████| 1/1 [00:00<00:00, 140.82it/s]\n",
      "\n",
      "100%|██████████| 1/1 [00:00<00:00, 147.04it/s]\n",
      " 74%|███████▍  | 1166/1567 [01:02<00:20, 19.26it/s]\n",
      "100%|██████████| 1/1 [00:00<00:00, 141.93it/s]\n",
      "\n",
      "100%|██████████| 1/1 [00:00<00:00, 147.07it/s]"
     ]
    },
    {
     "name": "stdout",
     "output_type": "stream",
     "text": [
      "0.0\n",
      "0.0\n",
      "0.0\n",
      "0.029524065609034686\n"
     ]
    },
    {
     "name": "stderr",
     "output_type": "stream",
     "text": [
      "\n",
      " 75%|███████▍  | 1168/1567 [01:02<00:20, 19.22it/s]\n",
      "100%|██████████| 1/1 [00:00<00:00, 137.82it/s]\n",
      "\n",
      "100%|██████████| 1/1 [00:00<00:00, 149.36it/s]\n",
      " 75%|███████▍  | 1170/1567 [01:02<00:20, 19.21it/s]\n",
      "100%|██████████| 1/1 [00:00<00:00, 145.00it/s]\n",
      "\n",
      "100%|██████████| 1/1 [00:00<00:00, 132.03it/s]"
     ]
    },
    {
     "name": "stdout",
     "output_type": "stream",
     "text": [
      "0.0680646710421002\n",
      "0.007067528021644304\n",
      "0.016224188790560472\n",
      "0.03611187360844237\n"
     ]
    },
    {
     "name": "stderr",
     "output_type": "stream",
     "text": [
      "\n",
      " 75%|███████▍  | 1172/1567 [01:02<00:20, 19.17it/s]\n",
      "100%|██████████| 1/1 [00:00<00:00, 150.15it/s]\n",
      "\n",
      "100%|██████████| 1/1 [00:00<00:00, 147.92it/s]\n",
      " 75%|███████▍  | 1174/1567 [01:02<00:20, 19.19it/s]\n",
      "100%|██████████| 1/1 [00:00<00:00, 142.21it/s]\n",
      "\n",
      "100%|██████████| 1/1 [00:00<00:00, 149.55it/s]"
     ]
    },
    {
     "name": "stdout",
     "output_type": "stream",
     "text": [
      "0.0458753957350218\n",
      "0.05852638913081345\n",
      "0.07381401421732192\n",
      "0.11670565896992506\n"
     ]
    },
    {
     "name": "stderr",
     "output_type": "stream",
     "text": [
      "\n",
      " 75%|███████▌  | 1176/1567 [01:02<00:20, 19.16it/s]\n",
      "100%|██████████| 1/1 [00:00<00:00, 147.24it/s]\n",
      "\n",
      "100%|██████████| 1/1 [00:00<00:00, 147.70it/s]\n",
      " 75%|███████▌  | 1178/1567 [01:02<00:20, 19.16it/s]\n",
      "100%|██████████| 1/1 [00:00<00:00, 140.59it/s]\n",
      "\n",
      "100%|██████████| 1/1 [00:00<00:00, 144.62it/s]"
     ]
    },
    {
     "name": "stdout",
     "output_type": "stream",
     "text": [
      "0.14080011875603057\n",
      "0.20473570916048792\n",
      "0.33463242752656025\n",
      "0.5010118354081069\n"
     ]
    },
    {
     "name": "stderr",
     "output_type": "stream",
     "text": [
      "\n",
      " 75%|███████▌  | 1180/1567 [01:02<00:20, 19.14it/s]\n",
      "100%|██████████| 1/1 [00:00<00:00, 140.15it/s]\n",
      "\n",
      "100%|██████████| 1/1 [00:00<00:00, 146.32it/s]\n",
      " 75%|███████▌  | 1182/1567 [01:02<00:20, 19.15it/s]\n",
      "100%|██████████| 1/1 [00:00<00:00, 129.01it/s]\n",
      "\n",
      "100%|██████████| 1/1 [00:00<00:00, 145.04it/s]"
     ]
    },
    {
     "name": "stdout",
     "output_type": "stream",
     "text": [
      "0.6238816652749613\n",
      "0.6899822787449181\n",
      "0.7598311912526376\n",
      "0.8214634146341463\n"
     ]
    },
    {
     "name": "stderr",
     "output_type": "stream",
     "text": [
      "\n",
      " 76%|███████▌  | 1184/1567 [01:02<00:20, 19.08it/s]\n",
      "100%|██████████| 1/1 [00:00<00:00, 144.38it/s]\n",
      "\n",
      "100%|██████████| 1/1 [00:00<00:00, 137.04it/s]\n",
      " 76%|███████▌  | 1186/1567 [01:03<00:19, 19.12it/s]\n",
      "100%|██████████| 1/1 [00:00<00:00, 145.48it/s]\n",
      "\n",
      "100%|██████████| 1/1 [00:00<00:00, 148.03it/s]"
     ]
    },
    {
     "name": "stdout",
     "output_type": "stream",
     "text": [
      "0.9358016005628352\n",
      "0.9480690287354031\n",
      "0.9220740958974737\n",
      "0.9118035384209137\n"
     ]
    },
    {
     "name": "stderr",
     "output_type": "stream",
     "text": [
      "\n",
      " 76%|███████▌  | 1188/1567 [01:03<00:19, 19.14it/s]\n",
      "100%|██████████| 1/1 [00:00<00:00, 146.69it/s]\n",
      "\n",
      "100%|██████████| 1/1 [00:00<00:00, 143.64it/s]\n",
      " 76%|███████▌  | 1190/1567 [01:03<00:19, 19.12it/s]\n",
      "100%|██████████| 1/1 [00:00<00:00, 147.33it/s]\n",
      "\n",
      "100%|██████████| 1/1 [00:00<00:00, 150.70it/s]"
     ]
    },
    {
     "name": "stdout",
     "output_type": "stream",
     "text": [
      "0.931208546105535\n",
      "0.9354005167958657\n",
      "0.9634233567640893\n",
      "0.9540117193734468\n"
     ]
    },
    {
     "name": "stderr",
     "output_type": "stream",
     "text": [
      "\n",
      " 76%|███████▌  | 1192/1567 [01:03<00:19, 19.09it/s]\n",
      "100%|██████████| 1/1 [00:00<00:00, 145.45it/s]\n",
      "\n",
      "100%|██████████| 1/1 [00:00<00:00, 146.41it/s]\n",
      " 76%|███████▌  | 1194/1567 [01:03<00:19, 19.09it/s]\n",
      "100%|██████████| 1/1 [00:00<00:00, 137.55it/s]\n",
      "\n",
      "100%|██████████| 1/1 [00:00<00:00, 132.58it/s]"
     ]
    },
    {
     "name": "stdout",
     "output_type": "stream",
     "text": [
      "0.9363858790632646\n",
      "0.9617637329493491\n",
      "0.9636757726372436\n",
      "0.9621305642291773\n"
     ]
    },
    {
     "name": "stderr",
     "output_type": "stream",
     "text": [
      "\n",
      " 76%|███████▋  | 1196/1567 [01:03<00:19, 19.00it/s]\n",
      "100%|██████████| 1/1 [00:00<00:00, 143.57it/s]\n",
      "\n",
      "100%|██████████| 1/1 [00:00<00:00, 143.74it/s]\n",
      " 76%|███████▋  | 1198/1567 [01:03<00:19, 19.03it/s]\n",
      "100%|██████████| 1/1 [00:00<00:00, 144.16it/s]\n",
      "\n",
      "100%|██████████| 1/1 [00:00<00:00, 150.15it/s]"
     ]
    },
    {
     "name": "stdout",
     "output_type": "stream",
     "text": [
      "0.9724593388836197\n",
      "0.9789370808479089\n",
      "0.9801249667641585\n",
      "0.9756348036373875\n"
     ]
    },
    {
     "name": "stderr",
     "output_type": "stream",
     "text": [
      "\n",
      " 77%|███████▋  | 1200/1567 [01:03<00:19, 19.04it/s]\n",
      "100%|██████████| 1/1 [00:00<00:00, 151.13it/s]\n",
      "\n",
      "100%|██████████| 1/1 [00:00<00:00, 147.50it/s]\n",
      " 77%|███████▋  | 1202/1567 [01:03<00:19, 19.09it/s]\n",
      "100%|██████████| 1/1 [00:00<00:00, 147.29it/s]\n",
      "\n",
      "100%|██████████| 1/1 [00:00<00:00, 145.42it/s]"
     ]
    },
    {
     "name": "stdout",
     "output_type": "stream",
     "text": [
      "0.9580335731414868\n",
      "0.9648389996298842\n",
      "0.9695878801514981\n",
      "0.9355992844364938\n"
     ]
    },
    {
     "name": "stderr",
     "output_type": "stream",
     "text": [
      "\n",
      " 77%|███████▋  | 1204/1567 [01:04<00:19, 19.06it/s]\n",
      "100%|██████████| 1/1 [00:00<00:00, 138.85it/s]\n",
      "\n",
      "100%|██████████| 1/1 [00:00<00:00, 146.12it/s]\n",
      " 77%|███████▋  | 1206/1567 [01:04<00:18, 19.08it/s]\n",
      "100%|██████████| 1/1 [00:00<00:00, 146.28it/s]\n",
      "\n",
      "100%|██████████| 1/1 [00:00<00:00, 137.52it/s]"
     ]
    },
    {
     "name": "stdout",
     "output_type": "stream",
     "text": [
      "0.9248829779329817\n",
      "0.9041343747172884\n",
      "0.8817046855733662\n",
      "0.6360122968818621\n"
     ]
    },
    {
     "name": "stderr",
     "output_type": "stream",
     "text": [
      "\n",
      " 77%|███████▋  | 1208/1567 [01:04<00:18, 19.10it/s]\n",
      "100%|██████████| 1/1 [00:00<00:00, 151.16it/s]\n",
      "\n",
      "100%|██████████| 1/1 [00:00<00:00, 120.26it/s]\n",
      " 77%|███████▋  | 1210/1567 [01:04<00:18, 19.05it/s]\n",
      "100%|██████████| 1/1 [00:00<00:00, 121.07it/s]\n",
      "\n",
      "100%|██████████| 1/1 [00:00<00:00, 126.23it/s]"
     ]
    },
    {
     "name": "stdout",
     "output_type": "stream",
     "text": [
      "0.4261187416925122\n",
      "0.10965228682729765\n",
      "0.8383835131218805\n",
      "0.8222489512130724\n"
     ]
    },
    {
     "name": "stderr",
     "output_type": "stream",
     "text": [
      "\n",
      " 77%|███████▋  | 1212/1567 [01:04<00:18, 18.94it/s]\n",
      "100%|██████████| 1/1 [00:00<00:00, 112.92it/s]\n",
      "\n",
      "100%|██████████| 1/1 [00:00<00:00, 125.83it/s]\n",
      " 77%|███████▋  | 1214/1567 [01:04<00:18, 18.81it/s]\n",
      "100%|██████████| 1/1 [00:00<00:00, 123.22it/s]\n",
      "\n",
      "100%|██████████| 1/1 [00:00<00:00, 125.98it/s]"
     ]
    },
    {
     "name": "stdout",
     "output_type": "stream",
     "text": [
      "0.8546749777382012\n",
      "0.9500237079184448\n",
      "0.8574896551724138\n",
      "0.8836929471928241\n"
     ]
    },
    {
     "name": "stderr",
     "output_type": "stream",
     "text": [
      "\n",
      " 78%|███████▊  | 1216/1567 [01:04<00:18, 18.79it/s]\n",
      "100%|██████████| 1/1 [00:00<00:00, 113.71it/s]\n",
      "\n",
      "100%|██████████| 1/1 [00:00<00:00, 117.44it/s]\n",
      " 78%|███████▊  | 1218/1567 [01:04<00:18, 18.73it/s]\n",
      "100%|██████████| 1/1 [00:00<00:00, 128.68it/s]\n",
      "\n",
      "100%|██████████| 1/1 [00:00<00:00, 122.83it/s]"
     ]
    },
    {
     "name": "stdout",
     "output_type": "stream",
     "text": [
      "0.8641968978336111\n",
      "0.9016346429595641\n",
      "0.8521972621131116\n",
      "0.8483538951232545\n"
     ]
    },
    {
     "name": "stderr",
     "output_type": "stream",
     "text": [
      "\n",
      " 78%|███████▊  | 1220/1567 [01:04<00:18, 18.75it/s]\n",
      "100%|██████████| 1/1 [00:00<00:00, 125.17it/s]\n",
      "\n",
      "100%|██████████| 1/1 [00:00<00:00, 128.27it/s]\n",
      " 78%|███████▊  | 1222/1567 [01:04<00:18, 18.74it/s]\n",
      "100%|██████████| 1/1 [00:00<00:00, 122.58it/s]\n",
      "\n",
      "100%|██████████| 1/1 [00:00<00:00, 125.15it/s]"
     ]
    },
    {
     "name": "stdout",
     "output_type": "stream",
     "text": [
      "0.8657226675290476\n",
      "0.8706847700432939\n",
      "0.9153728714034057\n",
      "0.8930547713156409\n"
     ]
    },
    {
     "name": "stderr",
     "output_type": "stream",
     "text": [
      "\n",
      " 78%|███████▊  | 1224/1567 [01:05<00:18, 18.74it/s]\n",
      "100%|██████████| 1/1 [00:00<00:00, 126.46it/s]\n",
      "\n",
      "100%|██████████| 1/1 [00:00<00:00, 122.32it/s]\n",
      " 78%|███████▊  | 1226/1567 [01:05<00:18, 18.71it/s]\n",
      "100%|██████████| 1/1 [00:00<00:00, 124.92it/s]\n",
      "\n",
      "100%|██████████| 1/1 [00:00<00:00, 125.56it/s]"
     ]
    },
    {
     "name": "stdout",
     "output_type": "stream",
     "text": [
      "0.9505395683453237\n",
      "0.9176786914631414\n",
      "0.9326286211279855\n",
      "0.9533209214687871\n"
     ]
    },
    {
     "name": "stderr",
     "output_type": "stream",
     "text": [
      "\n",
      " 78%|███████▊  | 1228/1567 [01:05<00:18, 18.69it/s]\n",
      "100%|██████████| 1/1 [00:00<00:00, 107.49it/s]\n",
      "\n",
      "100%|██████████| 1/1 [00:00<00:00, 125.79it/s]\n",
      " 78%|███████▊  | 1230/1567 [01:05<00:18, 18.61it/s]\n",
      "100%|██████████| 1/1 [00:00<00:00, 124.64it/s]\n",
      "\n",
      "100%|██████████| 1/1 [00:00<00:00, 126.48it/s]"
     ]
    },
    {
     "name": "stdout",
     "output_type": "stream",
     "text": [
      "0.9595997609191331\n",
      "0.9611332138329034\n",
      "0.9696444058976583\n",
      "0.9700858406312322\n"
     ]
    },
    {
     "name": "stderr",
     "output_type": "stream",
     "text": [
      "\n",
      " 79%|███████▊  | 1232/1567 [01:05<00:18, 18.61it/s]\n",
      "100%|██████████| 1/1 [00:00<00:00, 125.38it/s]\n",
      "\n",
      "100%|██████████| 1/1 [00:00<00:00, 127.49it/s]\n",
      " 79%|███████▊  | 1234/1567 [01:05<00:17, 18.62it/s]\n",
      "100%|██████████| 1/1 [00:00<00:00, 122.38it/s]\n",
      "\n",
      "100%|██████████| 1/1 [00:00<00:00, 123.10it/s]"
     ]
    },
    {
     "name": "stdout",
     "output_type": "stream",
     "text": [
      "0.965749196415267\n",
      "0.970292054851879\n",
      "0.9747098706376607\n",
      "0.9713812383516256\n"
     ]
    },
    {
     "name": "stderr",
     "output_type": "stream",
     "text": [
      "\n",
      " 79%|███████▉  | 1236/1567 [01:05<00:17, 18.63it/s]\n",
      "100%|██████████| 1/1 [00:00<00:00, 121.84it/s]\n",
      "\n",
      "100%|██████████| 1/1 [00:00<00:00, 126.12it/s]\n",
      " 79%|███████▉  | 1238/1567 [01:05<00:17, 18.61it/s]\n",
      "100%|██████████| 1/1 [00:00<00:00, 115.19it/s]\n",
      "\n",
      "100%|██████████| 1/1 [00:00<00:00, 117.69it/s]"
     ]
    },
    {
     "name": "stdout",
     "output_type": "stream",
     "text": [
      "0.9679213264909734\n",
      "0.9687608116083603\n",
      "0.9687506280018489\n",
      "0.9675509142559917\n"
     ]
    },
    {
     "name": "stderr",
     "output_type": "stream",
     "text": [
      "\n",
      " 79%|███████▉  | 1240/1567 [01:05<00:17, 18.56it/s]\n",
      "100%|██████████| 1/1 [00:00<00:00, 116.69it/s]\n",
      "\n",
      "100%|██████████| 1/1 [00:00<00:00, 123.28it/s]\n",
      " 79%|███████▉  | 1242/1567 [01:06<00:17, 18.61it/s]\n",
      "100%|██████████| 1/1 [00:00<00:00, 116.03it/s]\n",
      "\n",
      "100%|██████████| 1/1 [00:00<00:00, 126.11it/s]"
     ]
    },
    {
     "name": "stdout",
     "output_type": "stream",
     "text": [
      "0.9685045616818723\n",
      "0.9688074846213185\n",
      "0.9698041295848805\n",
      "0.9718602011662949\n"
     ]
    },
    {
     "name": "stderr",
     "output_type": "stream",
     "text": [
      "\n",
      " 79%|███████▉  | 1244/1567 [01:06<00:17, 18.62it/s]\n",
      "100%|██████████| 1/1 [00:00<00:00, 123.05it/s]\n",
      "\n",
      "100%|██████████| 1/1 [00:00<00:00, 123.90it/s]\n",
      " 80%|███████▉  | 1246/1567 [01:06<00:17, 18.63it/s]\n",
      "100%|██████████| 1/1 [00:00<00:00, 126.02it/s]\n",
      "\n",
      "100%|██████████| 1/1 [00:00<00:00, 128.85it/s]"
     ]
    },
    {
     "name": "stdout",
     "output_type": "stream",
     "text": [
      "0.9657505950858695\n",
      "0.9618422603843282\n",
      "0.9617501375894332\n",
      "0.9663746710138665\n"
     ]
    },
    {
     "name": "stderr",
     "output_type": "stream",
     "text": [
      "\n",
      " 80%|███████▉  | 1248/1567 [01:06<00:17, 18.66it/s]\n",
      "100%|██████████| 1/1 [00:00<00:00, 128.32it/s]\n",
      "\n",
      "100%|██████████| 1/1 [00:00<00:00, 125.82it/s]\n",
      " 80%|███████▉  | 1250/1567 [01:06<00:16, 18.70it/s]\n",
      "100%|██████████| 1/1 [00:00<00:00, 125.50it/s]\n",
      "\n",
      "100%|██████████| 1/1 [00:00<00:00, 126.59it/s]"
     ]
    },
    {
     "name": "stdout",
     "output_type": "stream",
     "text": [
      "0.9663027256303511\n",
      "0.9671200473092845\n",
      "0.9729910363264664\n",
      "0.972465483234714\n"
     ]
    },
    {
     "name": "stderr",
     "output_type": "stream",
     "text": [
      "\n",
      " 80%|███████▉  | 1252/1567 [01:06<00:16, 18.69it/s]\n",
      "100%|██████████| 1/1 [00:00<00:00, 123.59it/s]\n",
      "\n",
      "100%|██████████| 1/1 [00:00<00:00, 125.18it/s]\n",
      " 80%|████████  | 1254/1567 [01:06<00:16, 18.67it/s]\n",
      "100%|██████████| 1/1 [00:00<00:00, 124.89it/s]\n",
      "\n",
      "100%|██████████| 1/1 [00:00<00:00, 128.55it/s]"
     ]
    },
    {
     "name": "stdout",
     "output_type": "stream",
     "text": [
      "0.9726780277569096\n",
      "0.9717482628864953\n",
      "0.9724419647304972\n",
      "0.9715578150957747\n"
     ]
    },
    {
     "name": "stderr",
     "output_type": "stream",
     "text": [
      "\n",
      " 80%|████████  | 1256/1567 [01:06<00:16, 18.67it/s]\n",
      "100%|██████████| 1/1 [00:00<00:00, 126.13it/s]\n",
      "\n",
      "100%|██████████| 1/1 [00:00<00:00, 125.14it/s]\n",
      " 80%|████████  | 1258/1567 [01:06<00:16, 18.69it/s]\n",
      "100%|██████████| 1/1 [00:00<00:00, 113.55it/s]\n",
      "\n",
      "100%|██████████| 1/1 [00:00<00:00, 124.83it/s]"
     ]
    },
    {
     "name": "stdout",
     "output_type": "stream",
     "text": [
      "0.9713347088399672\n",
      "0.9704161052229351\n",
      "0.9697262479871176\n",
      "0.9679852395531315\n"
     ]
    },
    {
     "name": "stderr",
     "output_type": "stream",
     "text": [
      "\n",
      " 80%|████████  | 1260/1567 [01:07<00:16, 18.67it/s]\n",
      "100%|██████████| 1/1 [00:00<00:00, 126.52it/s]\n",
      "\n",
      "100%|██████████| 1/1 [00:00<00:00, 123.65it/s]\n",
      " 81%|████████  | 1262/1567 [01:07<00:16, 18.65it/s]\n",
      "100%|██████████| 1/1 [00:00<00:00, 123.46it/s]\n",
      "\n",
      "100%|██████████| 1/1 [00:00<00:00, 122.94it/s]"
     ]
    },
    {
     "name": "stdout",
     "output_type": "stream",
     "text": [
      "0.9694755642149699\n",
      "0.9682662224208687\n",
      "0.9670455241088007\n",
      "0.9666932466417224\n"
     ]
    },
    {
     "name": "stderr",
     "output_type": "stream",
     "text": [
      "\n",
      " 81%|████████  | 1264/1567 [01:07<00:16, 18.68it/s]\n",
      "100%|██████████| 1/1 [00:00<00:00, 122.93it/s]\n",
      "\n",
      "100%|██████████| 1/1 [00:00<00:00, 127.89it/s]\n",
      " 81%|████████  | 1266/1567 [01:07<00:16, 18.66it/s]\n",
      "100%|██████████| 1/1 [00:00<00:00, 115.74it/s]\n",
      "\n",
      "100%|██████████| 1/1 [00:00<00:00, 125.83it/s]"
     ]
    },
    {
     "name": "stdout",
     "output_type": "stream",
     "text": [
      "0.9683178068699471\n",
      "0.969848416009252\n",
      "0.9653910149750417\n",
      "0.9621318373071529\n"
     ]
    },
    {
     "name": "stderr",
     "output_type": "stream",
     "text": [
      "\n",
      " 81%|████████  | 1268/1567 [01:07<00:16, 18.62it/s]\n",
      "100%|██████████| 1/1 [00:00<00:00, 112.38it/s]\n",
      "\n",
      "100%|██████████| 1/1 [00:00<00:00, 114.11it/s]\n",
      " 81%|████████  | 1270/1567 [01:07<00:16, 18.55it/s]\n",
      "100%|██████████| 1/1 [00:00<00:00, 112.37it/s]\n",
      "\n",
      "100%|██████████| 1/1 [00:00<00:00, 115.53it/s]"
     ]
    },
    {
     "name": "stdout",
     "output_type": "stream",
     "text": [
      "0.9624732401460773\n",
      "0.9635474596545718\n",
      "0.9601167315175098\n",
      "0.9584352078239609\n"
     ]
    },
    {
     "name": "stderr",
     "output_type": "stream",
     "text": [
      "\n",
      " 81%|████████  | 1272/1567 [01:07<00:15, 18.52it/s]\n",
      "100%|██████████| 1/1 [00:00<00:00, 123.21it/s]\n",
      "\n",
      "100%|██████████| 1/1 [00:00<00:00, 120.94it/s]\n",
      " 81%|████████▏ | 1274/1567 [01:07<00:15, 18.54it/s]\n",
      "100%|██████████| 1/1 [00:00<00:00, 122.76it/s]\n",
      "\n",
      "100%|██████████| 1/1 [00:00<00:00, 124.19it/s]"
     ]
    },
    {
     "name": "stdout",
     "output_type": "stream",
     "text": [
      "0.959058540048622\n",
      "0.9620089593383874\n",
      "0.9578912972443089\n",
      "0.9564644957430001\n"
     ]
    },
    {
     "name": "stderr",
     "output_type": "stream",
     "text": [
      "\n",
      " 81%|████████▏ | 1276/1567 [01:07<00:15, 18.57it/s]\n",
      "100%|██████████| 1/1 [00:00<00:00, 112.83it/s]\n",
      "\n",
      "100%|██████████| 1/1 [00:00<00:00, 115.85it/s]\n",
      " 82%|████████▏ | 1278/1567 [01:07<00:15, 18.53it/s]\n",
      "100%|██████████| 1/1 [00:00<00:00, 124.21it/s]\n",
      "\n",
      "100%|██████████| 1/1 [00:00<00:00, 124.00it/s]"
     ]
    },
    {
     "name": "stdout",
     "output_type": "stream",
     "text": [
      "0.9555570347689099\n",
      "0.9521370186418405\n",
      "0.9467698625809509\n",
      "0.9463212529593881\n"
     ]
    },
    {
     "name": "stderr",
     "output_type": "stream",
     "text": [
      "\n",
      " 82%|████████▏ | 1280/1567 [01:08<00:15, 18.55it/s]\n",
      "100%|██████████| 1/1 [00:00<00:00, 111.07it/s]\n",
      "\n",
      "100%|██████████| 1/1 [00:00<00:00, 113.78it/s]\n",
      " 82%|████████▏ | 1282/1567 [01:08<00:15, 18.53it/s]\n",
      "100%|██████████| 1/1 [00:00<00:00, 127.40it/s]\n",
      "\n",
      "100%|██████████| 1/1 [00:00<00:00, 124.75it/s]"
     ]
    },
    {
     "name": "stdout",
     "output_type": "stream",
     "text": [
      "0.9446068165604216\n",
      "0.9464636083341119\n",
      "0.9434165787313871\n",
      "0.960264261947244\n"
     ]
    },
    {
     "name": "stderr",
     "output_type": "stream",
     "text": [
      "\n",
      " 82%|████████▏ | 1284/1567 [01:08<00:15, 18.58it/s]\n",
      "100%|██████████| 1/1 [00:00<00:00, 119.00it/s]\n",
      "\n",
      "100%|██████████| 1/1 [00:00<00:00, 124.14it/s]\n",
      " 82%|████████▏ | 1286/1567 [01:08<00:15, 18.58it/s]\n",
      "100%|██████████| 1/1 [00:00<00:00, 125.23it/s]\n",
      "\n",
      "100%|██████████| 1/1 [00:00<00:00, 124.54it/s]"
     ]
    },
    {
     "name": "stdout",
     "output_type": "stream",
     "text": [
      "0.952519098733198\n",
      "0.9463983358328093\n",
      "0.9600258539253219\n",
      "0.9615210729894007\n"
     ]
    },
    {
     "name": "stderr",
     "output_type": "stream",
     "text": [
      "\n",
      " 82%|████████▏ | 1288/1567 [01:08<00:14, 18.60it/s]\n",
      "100%|██████████| 1/1 [00:00<00:00, 122.37it/s]\n",
      "\n",
      "100%|██████████| 1/1 [00:00<00:00, 125.76it/s]\n",
      " 82%|████████▏ | 1290/1567 [01:08<00:14, 18.61it/s]\n",
      "100%|██████████| 1/1 [00:00<00:00, 112.67it/s]\n",
      "\n",
      "100%|██████████| 1/1 [00:00<00:00, 120.35it/s]"
     ]
    },
    {
     "name": "stdout",
     "output_type": "stream",
     "text": [
      "0.9592857142857143\n",
      "0.957945491581363\n",
      "0.9577361264241088\n",
      "0.9597155764655564\n"
     ]
    },
    {
     "name": "stderr",
     "output_type": "stream",
     "text": [
      "\n",
      " 82%|████████▏ | 1292/1567 [01:08<00:14, 18.60it/s]\n",
      "100%|██████████| 1/1 [00:00<00:00, 124.12it/s]\n",
      "\n",
      "100%|██████████| 1/1 [00:00<00:00, 122.98it/s]\n",
      " 83%|████████▎ | 1294/1567 [01:08<00:14, 18.62it/s]\n",
      "100%|██████████| 1/1 [00:00<00:00, 111.60it/s]\n",
      "\n",
      "100%|██████████| 1/1 [00:00<00:00, 124.86it/s]"
     ]
    },
    {
     "name": "stdout",
     "output_type": "stream",
     "text": [
      "0.9599262512878911\n",
      "0.9570917102726522\n",
      "0.9599754553314925\n",
      "0.9461343653074581\n"
     ]
    },
    {
     "name": "stderr",
     "output_type": "stream",
     "text": [
      "\n",
      " 83%|████████▎ | 1296/1567 [01:08<00:14, 18.60it/s]\n",
      "100%|██████████| 1/1 [00:00<00:00, 109.75it/s]\n",
      "\n",
      "100%|██████████| 1/1 [00:00<00:00, 127.70it/s]\n",
      " 83%|████████▎ | 1298/1567 [01:09<00:14, 18.56it/s]\n",
      "100%|██████████| 1/1 [00:00<00:00, 124.18it/s]\n",
      "\n",
      "100%|██████████| 1/1 [00:00<00:00, 125.80it/s]"
     ]
    },
    {
     "name": "stdout",
     "output_type": "stream",
     "text": [
      "0.950991094513071\n",
      "0.9520996235157834\n",
      "0.9457154866990932\n",
      "0.9485396383866481\n"
     ]
    },
    {
     "name": "stderr",
     "output_type": "stream",
     "text": [
      "\n",
      " 83%|████████▎ | 1300/1567 [01:09<00:14, 18.59it/s]\n",
      "100%|██████████| 1/1 [00:00<00:00, 124.46it/s]\n",
      "\n",
      "100%|██████████| 1/1 [00:00<00:00, 124.70it/s]\n",
      " 83%|████████▎ | 1302/1567 [01:09<00:14, 18.60it/s]\n",
      "100%|██████████| 1/1 [00:00<00:00, 122.87it/s]\n",
      "\n",
      "100%|██████████| 1/1 [00:00<00:00, 124.91it/s]"
     ]
    },
    {
     "name": "stdout",
     "output_type": "stream",
     "text": [
      "0.9529231711049893\n",
      "0.9445659646272108\n",
      "0.9517175267614635\n",
      "0.9428991665304788\n"
     ]
    },
    {
     "name": "stderr",
     "output_type": "stream",
     "text": [
      "\n",
      " 83%|████████▎ | 1304/1567 [01:09<00:14, 18.61it/s]\n",
      "100%|██████████| 1/1 [00:00<00:00, 122.85it/s]\n",
      "\n",
      "100%|██████████| 1/1 [00:00<00:00, 125.22it/s]\n",
      " 83%|████████▎ | 1306/1567 [01:09<00:14, 18.64it/s]\n",
      "100%|██████████| 1/1 [00:00<00:00, 121.78it/s]\n",
      "\n",
      "100%|██████████| 1/1 [00:00<00:00, 114.89it/s]"
     ]
    },
    {
     "name": "stdout",
     "output_type": "stream",
     "text": [
      "0.9585655765227319\n",
      "0.9494956356349556\n",
      "0.9489841986455982\n",
      "0.9472648010125159\n"
     ]
    },
    {
     "name": "stderr",
     "output_type": "stream",
     "text": [
      "\n",
      " 83%|████████▎ | 1308/1567 [01:09<00:13, 18.60it/s]\n",
      "100%|██████████| 1/1 [00:00<00:00, 116.07it/s]\n",
      "\n",
      "100%|██████████| 1/1 [00:00<00:00, 122.19it/s]\n",
      " 84%|████████▎ | 1310/1567 [01:09<00:13, 18.60it/s]\n",
      "100%|██████████| 1/1 [00:00<00:00, 124.34it/s]\n",
      "\n",
      "100%|██████████| 1/1 [00:00<00:00, 124.46it/s]"
     ]
    },
    {
     "name": "stdout",
     "output_type": "stream",
     "text": [
      "0.9518129596428964\n",
      "0.952226122298171\n",
      "0.9480945380526971\n",
      "0.9555024292434642\n"
     ]
    },
    {
     "name": "stderr",
     "output_type": "stream",
     "text": [
      "\n",
      " 84%|████████▎ | 1312/1567 [01:09<00:13, 18.65it/s]\n",
      "100%|██████████| 1/1 [00:00<00:00, 126.58it/s]\n",
      "\n",
      "100%|██████████| 1/1 [00:00<00:00, 125.34it/s]\n",
      " 84%|████████▍ | 1314/1567 [01:09<00:13, 18.66it/s]\n",
      "100%|██████████| 1/1 [00:00<00:00, 126.56it/s]\n",
      "\n",
      "100%|██████████| 1/1 [00:00<00:00, 124.60it/s]"
     ]
    },
    {
     "name": "stdout",
     "output_type": "stream",
     "text": [
      "0.9516110225815227\n",
      "0.9413370809074483\n",
      "0.9357630979498861\n",
      "0.9354497354497354\n"
     ]
    },
    {
     "name": "stderr",
     "output_type": "stream",
     "text": [
      "\n",
      " 84%|████████▍ | 1316/1567 [01:10<00:13, 18.68it/s]\n",
      "100%|██████████| 1/1 [00:00<00:00, 112.78it/s]\n",
      "\n",
      "100%|██████████| 1/1 [00:00<00:00, 127.82it/s]\n",
      " 84%|████████▍ | 1318/1567 [01:10<00:13, 18.65it/s]\n",
      "100%|██████████| 1/1 [00:00<00:00, 126.51it/s]\n",
      "\n",
      "100%|██████████| 1/1 [00:00<00:00, 120.60it/s]"
     ]
    },
    {
     "name": "stdout",
     "output_type": "stream",
     "text": [
      "0.9446304403811486\n",
      "0.9395213024819714\n",
      "0.9119433198380567\n",
      "0.9204219487369297\n"
     ]
    },
    {
     "name": "stderr",
     "output_type": "stream",
     "text": [
      "\n",
      " 84%|████████▍ | 1320/1567 [01:10<00:13, 18.67it/s]\n",
      "100%|██████████| 1/1 [00:00<00:00, 113.20it/s]\n",
      "\n",
      "100%|██████████| 1/1 [00:00<00:00, 127.70it/s]\n",
      " 84%|████████▍ | 1322/1567 [01:10<00:13, 18.66it/s]\n",
      "100%|██████████| 1/1 [00:00<00:00, 120.16it/s]\n",
      "\n",
      "100%|██████████| 1/1 [00:00<00:00, 124.38it/s]"
     ]
    },
    {
     "name": "stdout",
     "output_type": "stream",
     "text": [
      "0.9164115409592727\n",
      "0.9110287727002424\n",
      "0.9178885630498533\n",
      "0.9087936046511628\n"
     ]
    },
    {
     "name": "stderr",
     "output_type": "stream",
     "text": [
      "\n",
      " 84%|████████▍ | 1324/1567 [01:10<00:13, 18.65it/s]\n",
      "100%|██████████| 1/1 [00:00<00:00, 124.07it/s]\n",
      "\n",
      "100%|██████████| 1/1 [00:00<00:00, 124.73it/s]\n",
      " 85%|████████▍ | 1326/1567 [01:10<00:12, 18.67it/s]\n",
      "100%|██████████| 1/1 [00:00<00:00, 123.58it/s]\n",
      "\n",
      "100%|██████████| 1/1 [00:00<00:00, 124.22it/s]"
     ]
    },
    {
     "name": "stdout",
     "output_type": "stream",
     "text": [
      "0.888650772390392\n",
      "0.8914899234357124\n",
      "0.8690232240437158\n",
      "0.8817684394834756\n"
     ]
    },
    {
     "name": "stderr",
     "output_type": "stream",
     "text": [
      "\n",
      " 85%|████████▍ | 1328/1567 [01:10<00:12, 18.69it/s]\n",
      "100%|██████████| 1/1 [00:00<00:00, 124.98it/s]\n",
      "\n",
      "100%|██████████| 1/1 [00:00<00:00, 124.05it/s]\n",
      " 85%|████████▍ | 1330/1567 [01:10<00:12, 18.71it/s]\n",
      "100%|██████████| 1/1 [00:00<00:00, 122.45it/s]\n",
      "\n",
      "100%|██████████| 1/1 [00:00<00:00, 124.18it/s]"
     ]
    },
    {
     "name": "stdout",
     "output_type": "stream",
     "text": [
      "0.8895201468403111\n",
      "0.8797521353207168\n",
      "0.8953705273868069\n",
      "0.8808097500516422\n"
     ]
    },
    {
     "name": "stderr",
     "output_type": "stream",
     "text": [
      "\n",
      " 85%|████████▌ | 1332/1567 [01:10<00:12, 18.69it/s]\n",
      "100%|██████████| 1/1 [00:00<00:00, 121.54it/s]\n",
      "\n",
      "100%|██████████| 1/1 [00:00<00:00, 113.16it/s]\n",
      " 85%|████████▌ | 1334/1567 [01:10<00:12, 18.66it/s]\n",
      "100%|██████████| 1/1 [00:00<00:00, 120.86it/s]\n",
      "\n",
      "100%|██████████| 1/1 [00:00<00:00, 118.86it/s]"
     ]
    },
    {
     "name": "stdout",
     "output_type": "stream",
     "text": [
      "0.8719252213840604\n",
      "0.8951208198034833\n",
      "0.8986052879267562\n",
      "0.8642816115532945\n"
     ]
    },
    {
     "name": "stderr",
     "output_type": "stream",
     "text": [
      "\n",
      " 85%|████████▌ | 1336/1567 [01:11<00:12, 18.64it/s]\n",
      "100%|██████████| 1/1 [00:00<00:00, 123.79it/s]\n",
      "\n",
      "100%|██████████| 1/1 [00:00<00:00, 121.71it/s]\n",
      " 85%|████████▌ | 1338/1567 [01:11<00:12, 18.65it/s]\n",
      "100%|██████████| 1/1 [00:00<00:00, 123.70it/s]\n",
      "\n",
      "100%|██████████| 1/1 [00:00<00:00, 124.06it/s]"
     ]
    },
    {
     "name": "stdout",
     "output_type": "stream",
     "text": [
      "0.881696611699073\n",
      "0.9068962606567064\n",
      "0.9338490615797108\n",
      "0.9244977458747319\n"
     ]
    },
    {
     "name": "stderr",
     "output_type": "stream",
     "text": [
      "\n",
      " 86%|████████▌ | 1340/1567 [01:11<00:12, 18.65it/s]\n",
      "100%|██████████| 1/1 [00:00<00:00, 124.10it/s]\n",
      "\n",
      "100%|██████████| 1/1 [00:00<00:00, 121.99it/s]\n",
      " 86%|████████▌ | 1342/1567 [01:11<00:12, 18.66it/s]\n",
      "100%|██████████| 1/1 [00:00<00:00, 117.51it/s]\n",
      "\n",
      "100%|██████████| 1/1 [00:00<00:00, 124.25it/s]"
     ]
    },
    {
     "name": "stdout",
     "output_type": "stream",
     "text": [
      "0.9209741329415431\n",
      "0.9383608657850181\n",
      "0.9475314435892622\n",
      "0.9430086149768059\n"
     ]
    },
    {
     "name": "stderr",
     "output_type": "stream",
     "text": [
      "\n",
      " 86%|████████▌ | 1344/1567 [01:11<00:11, 18.63it/s]\n",
      "100%|██████████| 1/1 [00:00<00:00, 111.89it/s]\n",
      "\n",
      "100%|██████████| 1/1 [00:00<00:00, 126.81it/s]\n",
      " 86%|████████▌ | 1346/1567 [01:11<00:11, 18.60it/s]\n",
      "100%|██████████| 1/1 [00:00<00:00, 123.83it/s]\n",
      "\n",
      "100%|██████████| 1/1 [00:00<00:00, 127.04it/s]"
     ]
    },
    {
     "name": "stdout",
     "output_type": "stream",
     "text": [
      "0.9440380047505939\n",
      "0.9441166594713868\n",
      "0.9482063977476821\n",
      "0.948610433934666\n"
     ]
    },
    {
     "name": "stderr",
     "output_type": "stream",
     "text": [
      "\n",
      " 86%|████████▌ | 1348/1567 [01:11<00:11, 18.63it/s]\n",
      "100%|██████████| 1/1 [00:00<00:00, 111.45it/s]\n",
      "\n",
      "100%|██████████| 1/1 [00:00<00:00, 123.88it/s]\n",
      " 86%|████████▌ | 1350/1567 [01:11<00:11, 18.60it/s]\n",
      "100%|██████████| 1/1 [00:00<00:00, 121.16it/s]\n",
      "\n",
      "100%|██████████| 1/1 [00:00<00:00, 112.31it/s]"
     ]
    },
    {
     "name": "stdout",
     "output_type": "stream",
     "text": [
      "0.9416776847363009\n",
      "0.9419653863221734\n",
      "0.934323300777357\n",
      "0.9395471087747674\n"
     ]
    },
    {
     "name": "stderr",
     "output_type": "stream",
     "text": [
      "\n",
      " 86%|████████▋ | 1352/1567 [01:11<00:11, 18.58it/s]\n",
      "100%|██████████| 1/1 [00:00<00:00, 123.19it/s]\n",
      "\n",
      "100%|██████████| 1/1 [00:00<00:00, 123.61it/s]\n",
      " 86%|████████▋ | 1354/1567 [01:12<00:11, 18.62it/s]\n",
      "100%|██████████| 1/1 [00:00<00:00, 109.69it/s]\n",
      "\n",
      "100%|██████████| 1/1 [00:00<00:00, 111.40it/s]"
     ]
    },
    {
     "name": "stdout",
     "output_type": "stream",
     "text": [
      "0.9442948850693725\n",
      "0.9427672955974843\n",
      "0.9440828086650304\n",
      "0.944812120549144\n"
     ]
    },
    {
     "name": "stderr",
     "output_type": "stream",
     "text": [
      "\n",
      " 87%|████████▋ | 1356/1567 [01:12<00:11, 18.58it/s]\n",
      "100%|██████████| 1/1 [00:00<00:00, 112.32it/s]\n",
      "\n",
      "100%|██████████| 1/1 [00:00<00:00, 116.24it/s]\n",
      " 87%|████████▋ | 1358/1567 [01:12<00:11, 18.55it/s]\n",
      "100%|██████████| 1/1 [00:00<00:00, 114.62it/s]\n",
      "\n",
      "100%|██████████| 1/1 [00:00<00:00, 113.07it/s]"
     ]
    },
    {
     "name": "stdout",
     "output_type": "stream",
     "text": [
      "0.9472084646555605\n",
      "0.9448444031583837\n",
      "0.9353867941228536\n",
      "0.9357177380376994\n"
     ]
    },
    {
     "name": "stderr",
     "output_type": "stream",
     "text": [
      "\n",
      " 87%|████████▋ | 1360/1567 [01:12<00:11, 18.55it/s]\n",
      "100%|██████████| 1/1 [00:00<00:00, 123.14it/s]\n",
      "\n",
      "100%|██████████| 1/1 [00:00<00:00, 115.01it/s]\n",
      " 87%|████████▋ | 1362/1567 [01:12<00:11, 18.57it/s]\n",
      "100%|██████████| 1/1 [00:00<00:00, 125.63it/s]\n",
      "\n",
      "100%|██████████| 1/1 [00:00<00:00, 124.03it/s]"
     ]
    },
    {
     "name": "stdout",
     "output_type": "stream",
     "text": [
      "0.9303081442590162\n",
      "0.915929203539823\n",
      "0.9216177051771836\n",
      "0.9132932531730127\n"
     ]
    },
    {
     "name": "stderr",
     "output_type": "stream",
     "text": [
      "\n",
      " 87%|████████▋ | 1364/1567 [01:12<00:10, 18.62it/s]\n",
      "100%|██████████| 1/1 [00:00<00:00, 122.03it/s]\n",
      "\n",
      "100%|██████████| 1/1 [00:00<00:00, 112.45it/s]\n",
      " 87%|████████▋ | 1366/1567 [01:12<00:10, 18.62it/s]\n",
      "100%|██████████| 1/1 [00:00<00:00, 122.62it/s]\n",
      "\n",
      "100%|██████████| 1/1 [00:00<00:00, 115.48it/s]"
     ]
    },
    {
     "name": "stdout",
     "output_type": "stream",
     "text": [
      "0.9022426299327877\n",
      "0.9090546204510678\n",
      "0.9208535926526202\n",
      "0.9311624072547403\n"
     ]
    },
    {
     "name": "stderr",
     "output_type": "stream",
     "text": [
      "\n",
      " 87%|████████▋ | 1368/1567 [01:12<00:10, 18.60it/s]\n",
      "100%|██████████| 1/1 [00:00<00:00, 119.78it/s]\n",
      "\n",
      "100%|██████████| 1/1 [00:00<00:00, 123.96it/s]\n",
      " 87%|████████▋ | 1370/1567 [01:12<00:10, 18.59it/s]\n",
      "100%|██████████| 1/1 [00:00<00:00, 124.23it/s]\n",
      "\n",
      "100%|██████████| 1/1 [00:00<00:00, 117.62it/s]"
     ]
    },
    {
     "name": "stdout",
     "output_type": "stream",
     "text": [
      "0.9304908143679737\n",
      "0.9210342417889588\n",
      "0.9234328986116954\n",
      "0.9242084617539927\n"
     ]
    },
    {
     "name": "stderr",
     "output_type": "stream",
     "text": [
      "\n",
      " 88%|████████▊ | 1372/1567 [01:13<00:10, 18.58it/s]\n",
      "100%|██████████| 1/1 [00:00<00:00, 124.02it/s]\n",
      "\n",
      "100%|██████████| 1/1 [00:00<00:00, 122.83it/s]\n",
      " 88%|████████▊ | 1374/1567 [01:13<00:10, 18.60it/s]\n",
      "100%|██████████| 1/1 [00:00<00:00, 111.70it/s]\n",
      "\n",
      "100%|██████████| 1/1 [00:00<00:00, 120.75it/s]"
     ]
    },
    {
     "name": "stdout",
     "output_type": "stream",
     "text": [
      "0.9291725105189341\n",
      "0.9256476865828828\n",
      "0.925636286079909\n",
      "0.9311775647445987\n"
     ]
    },
    {
     "name": "stderr",
     "output_type": "stream",
     "text": [
      "\n",
      " 88%|████████▊ | 1376/1567 [01:13<00:10, 18.57it/s]\n",
      "100%|██████████| 1/1 [00:00<00:00, 115.45it/s]\n",
      "\n",
      "100%|██████████| 1/1 [00:00<00:00, 115.41it/s]\n",
      " 88%|████████▊ | 1378/1567 [01:13<00:10, 18.56it/s]\n",
      "100%|██████████| 1/1 [00:00<00:00, 121.92it/s]\n",
      "\n",
      "100%|██████████| 1/1 [00:00<00:00, 125.33it/s]"
     ]
    },
    {
     "name": "stdout",
     "output_type": "stream",
     "text": [
      "0.9329743104577541\n",
      "0.9334314086061052\n",
      "0.9294890510948906\n",
      "0.9267826980979658\n"
     ]
    },
    {
     "name": "stderr",
     "output_type": "stream",
     "text": [
      "\n",
      " 88%|████████▊ | 1380/1567 [01:13<00:10, 18.61it/s]\n",
      "100%|██████████| 1/1 [00:00<00:00, 120.98it/s]\n",
      "\n",
      "100%|██████████| 1/1 [00:00<00:00, 124.33it/s]\n",
      " 88%|████████▊ | 1382/1567 [01:13<00:09, 18.61it/s]\n",
      "100%|██████████| 1/1 [00:00<00:00, 124.82it/s]\n",
      "\n",
      "100%|██████████| 1/1 [00:00<00:00, 113.72it/s]"
     ]
    },
    {
     "name": "stdout",
     "output_type": "stream",
     "text": [
      "0.9288683951923804\n",
      "0.931840682354733\n",
      "0.9181467181467181\n",
      "0.917869120973403\n"
     ]
    },
    {
     "name": "stderr",
     "output_type": "stream",
     "text": [
      "\n",
      " 88%|████████▊ | 1384/1567 [01:13<00:09, 18.58it/s]\n",
      "100%|██████████| 1/1 [00:00<00:00, 123.29it/s]\n",
      "\n",
      "100%|██████████| 1/1 [00:00<00:00, 125.64it/s]\n",
      " 88%|████████▊ | 1386/1567 [01:13<00:09, 18.61it/s]\n",
      "100%|██████████| 1/1 [00:00<00:00, 112.64it/s]\n",
      "\n",
      "100%|██████████| 1/1 [00:00<00:00, 116.88it/s]"
     ]
    },
    {
     "name": "stdout",
     "output_type": "stream",
     "text": [
      "0.9155231220750377\n",
      "0.9010327722208669\n",
      "0.9064327485380117\n",
      "0.9036759700476514\n"
     ]
    },
    {
     "name": "stderr",
     "output_type": "stream",
     "text": [
      "\n",
      " 89%|████████▊ | 1388/1567 [01:13<00:09, 18.53it/s]\n",
      "100%|██████████| 1/1 [00:00<00:00, 125.32it/s]\n",
      "\n",
      "100%|██████████| 1/1 [00:00<00:00, 114.16it/s]\n",
      " 89%|████████▊ | 1390/1567 [01:13<00:09, 18.56it/s]\n",
      "100%|██████████| 1/1 [00:00<00:00, 125.25it/s]\n",
      "\n",
      "100%|██████████| 1/1 [00:00<00:00, 125.10it/s]"
     ]
    },
    {
     "name": "stdout",
     "output_type": "stream",
     "text": [
      "0.9085495533815398\n",
      "0.9038461538461539\n",
      "0.8859164653089403\n",
      "0.8961073825503356\n"
     ]
    },
    {
     "name": "stderr",
     "output_type": "stream",
     "text": [
      "\n",
      " 89%|████████▉ | 1392/1567 [01:14<00:09, 18.63it/s]\n",
      "100%|██████████| 1/1 [00:00<00:00, 125.44it/s]\n",
      "\n",
      "100%|██████████| 1/1 [00:00<00:00, 125.30it/s]\n",
      " 89%|████████▉ | 1394/1567 [01:14<00:09, 18.68it/s]\n",
      "100%|██████████| 1/1 [00:00<00:00, 127.34it/s]\n",
      "\n",
      "100%|██████████| 1/1 [00:00<00:00, 115.62it/s]"
     ]
    },
    {
     "name": "stdout",
     "output_type": "stream",
     "text": [
      "0.9030264473325457\n",
      "0.8960072595281307\n",
      "0.8889525993883792\n",
      "0.8801556420233463\n"
     ]
    },
    {
     "name": "stderr",
     "output_type": "stream",
     "text": [
      "\n",
      " 89%|████████▉ | 1396/1567 [01:14<00:09, 18.66it/s]\n",
      "100%|██████████| 1/1 [00:00<00:00, 125.23it/s]\n",
      "\n",
      "100%|██████████| 1/1 [00:00<00:00, 125.83it/s]\n",
      " 89%|████████▉ | 1398/1567 [01:14<00:09, 18.71it/s]\n",
      "100%|██████████| 1/1 [00:00<00:00, 121.68it/s]\n",
      "\n",
      "100%|██████████| 1/1 [00:00<00:00, 125.50it/s]"
     ]
    },
    {
     "name": "stdout",
     "output_type": "stream",
     "text": [
      "0.5160678287679354\n",
      "0.5210320371729029\n",
      "0.5250334842783341\n",
      "0.524592409919167\n"
     ]
    },
    {
     "name": "stderr",
     "output_type": "stream",
     "text": [
      "\n",
      " 89%|████████▉ | 1400/1567 [01:14<00:08, 18.70it/s]\n",
      "100%|██████████| 1/1 [00:00<00:00, 125.48it/s]\n",
      "\n",
      "100%|██████████| 1/1 [00:00<00:00, 124.74it/s]\n",
      " 89%|████████▉ | 1402/1567 [01:14<00:08, 18.73it/s]\n",
      "100%|██████████| 1/1 [00:00<00:00, 128.04it/s]\n",
      "\n",
      "100%|██████████| 1/1 [00:00<00:00, 117.26it/s]"
     ]
    },
    {
     "name": "stdout",
     "output_type": "stream",
     "text": [
      "0.49748144220572643\n",
      "0.5765535875112578\n",
      "0.46353851735397267\n",
      "0.4398185835562275\n"
     ]
    },
    {
     "name": "stderr",
     "output_type": "stream",
     "text": [
      "\n",
      " 90%|████████▉ | 1404/1567 [01:14<00:08, 18.72it/s]\n",
      "100%|██████████| 1/1 [00:00<00:00, 107.91it/s]\n",
      "\n",
      "100%|██████████| 1/1 [00:00<00:00, 121.64it/s]\n",
      " 90%|████████▉ | 1406/1567 [01:14<00:08, 18.66it/s]\n",
      "100%|██████████| 1/1 [00:00<00:00, 121.25it/s]\n",
      "\n",
      "100%|██████████| 1/1 [00:00<00:00, 114.42it/s]"
     ]
    },
    {
     "name": "stdout",
     "output_type": "stream",
     "text": [
      "0.5036546683216108\n",
      "0.4759387284804121\n",
      "0.37787759685569905\n",
      "0.38965738633047337\n"
     ]
    },
    {
     "name": "stderr",
     "output_type": "stream",
     "text": [
      "\n",
      " 90%|████████▉ | 1408/1567 [01:14<00:08, 18.61it/s]\n",
      "100%|██████████| 1/1 [00:00<00:00, 124.95it/s]\n",
      "\n",
      "100%|██████████| 1/1 [00:00<00:00, 114.91it/s]\n",
      " 90%|████████▉ | 1410/1567 [01:15<00:08, 18.62it/s]\n",
      "100%|██████████| 1/1 [00:00<00:00, 124.27it/s]\n",
      "\n",
      "100%|██████████| 1/1 [00:00<00:00, 116.88it/s]"
     ]
    },
    {
     "name": "stdout",
     "output_type": "stream",
     "text": [
      "0.3871518254403608\n",
      "0.3635168250552866\n",
      "0.3115350683722982\n",
      "0.4576759966072943\n"
     ]
    },
    {
     "name": "stderr",
     "output_type": "stream",
     "text": [
      "\n",
      " 90%|█████████ | 1412/1567 [01:15<00:08, 18.62it/s]\n",
      "100%|██████████| 1/1 [00:00<00:00, 127.83it/s]\n",
      "\n",
      "100%|██████████| 1/1 [00:00<00:00, 125.29it/s]\n",
      " 90%|█████████ | 1414/1567 [01:15<00:08, 18.69it/s]\n",
      "100%|██████████| 1/1 [00:00<00:00, 123.69it/s]\n",
      "\n",
      "100%|██████████| 1/1 [00:00<00:00, 125.73it/s]"
     ]
    },
    {
     "name": "stdout",
     "output_type": "stream",
     "text": [
      "0.44334301828747225\n",
      "0.42245806230742894\n",
      "0.37154337036161666\n",
      "0.3366739743188224\n"
     ]
    },
    {
     "name": "stderr",
     "output_type": "stream",
     "text": [
      "\n",
      " 90%|█████████ | 1416/1567 [01:15<00:08, 18.69it/s]\n",
      "100%|██████████| 1/1 [00:00<00:00, 124.31it/s]\n",
      "\n",
      "100%|██████████| 1/1 [00:00<00:00, 126.75it/s]\n",
      " 90%|█████████ | 1418/1567 [01:15<00:07, 18.71it/s]\n",
      "100%|██████████| 1/1 [00:00<00:00, 122.60it/s]\n",
      "\n",
      "100%|██████████| 1/1 [00:00<00:00, 125.50it/s]"
     ]
    },
    {
     "name": "stdout",
     "output_type": "stream",
     "text": [
      "0.3162890385793019\n",
      "0.2841676134465014\n",
      "0.2560997982021647\n",
      "0.24746632456703016\n"
     ]
    },
    {
     "name": "stderr",
     "output_type": "stream",
     "text": [
      "\n",
      " 91%|█████████ | 1420/1567 [01:15<00:07, 18.69it/s]\n",
      "100%|██████████| 1/1 [00:00<00:00, 125.30it/s]\n",
      "\n",
      "100%|██████████| 1/1 [00:00<00:00, 125.39it/s]\n",
      " 91%|█████████ | 1422/1567 [01:15<00:07, 18.70it/s]\n",
      "100%|██████████| 1/1 [00:00<00:00, 123.98it/s]\n",
      "\n",
      "100%|██████████| 1/1 [00:00<00:00, 126.96it/s]"
     ]
    },
    {
     "name": "stdout",
     "output_type": "stream",
     "text": [
      "0.2930351735383182\n",
      "0.3160539318315049\n",
      "0.28296319304239786\n",
      "0.24816616477492084\n"
     ]
    },
    {
     "name": "stderr",
     "output_type": "stream",
     "text": [
      "\n",
      " 91%|█████████ | 1424/1567 [01:15<00:07, 18.69it/s]\n",
      "100%|██████████| 1/1 [00:00<00:00, 122.22it/s]\n",
      "\n",
      "100%|██████████| 1/1 [00:00<00:00, 125.34it/s]\n",
      " 91%|█████████ | 1426/1567 [01:15<00:07, 18.71it/s]\n",
      "100%|██████████| 1/1 [00:00<00:00, 112.08it/s]\n",
      "\n",
      "100%|██████████| 1/1 [00:00<00:00, 127.70it/s]"
     ]
    },
    {
     "name": "stdout",
     "output_type": "stream",
     "text": [
      "0.1840342033054687\n",
      "0.23776932826362485\n",
      "0.2093782205427688\n",
      "0.20210562651018293\n"
     ]
    },
    {
     "name": "stderr",
     "output_type": "stream",
     "text": [
      "\n",
      " 91%|█████████ | 1428/1567 [01:16<00:07, 18.71it/s]\n",
      "100%|██████████| 1/1 [00:00<00:00, 122.30it/s]\n",
      "\n",
      "100%|██████████| 1/1 [00:00<00:00, 114.41it/s]\n",
      " 91%|█████████▏| 1430/1567 [01:16<00:07, 18.70it/s]\n",
      "100%|██████████| 1/1 [00:00<00:00, 112.25it/s]\n",
      "\n",
      "100%|██████████| 1/1 [00:00<00:00, 116.29it/s]"
     ]
    },
    {
     "name": "stdout",
     "output_type": "stream",
     "text": [
      "0.11261324041811847\n",
      "0.09716678025508714\n",
      "0.09687127363579581\n",
      "0.0932008161653393\n"
     ]
    },
    {
     "name": "stderr",
     "output_type": "stream",
     "text": [
      "\n",
      " 91%|█████████▏| 1432/1567 [01:16<00:07, 18.67it/s]\n",
      "100%|██████████| 1/1 [00:00<00:00, 124.44it/s]\n",
      "\n",
      "100%|██████████| 1/1 [00:00<00:00, 123.06it/s]\n",
      " 92%|█████████▏| 1434/1567 [01:16<00:07, 18.69it/s]\n",
      "100%|██████████| 1/1 [00:00<00:00, 113.52it/s]\n",
      "\n",
      "100%|██████████| 1/1 [00:00<00:00, 124.31it/s]"
     ]
    },
    {
     "name": "stdout",
     "output_type": "stream",
     "text": [
      "0.1026526447967352\n",
      "0.12466026454067766\n",
      "0.10634146341463414\n",
      "0.0755551774015145\n"
     ]
    },
    {
     "name": "stderr",
     "output_type": "stream",
     "text": [
      "\n",
      " 92%|█████████▏| 1436/1567 [01:16<00:07, 18.67it/s]\n",
      "100%|██████████| 1/1 [00:00<00:00, 125.41it/s]\n",
      "\n",
      "100%|██████████| 1/1 [00:00<00:00, 124.81it/s]\n",
      " 92%|█████████▏| 1438/1567 [01:16<00:06, 18.69it/s]\n",
      "100%|██████████| 1/1 [00:00<00:00, 128.07it/s]\n",
      "\n",
      "100%|██████████| 1/1 [00:00<00:00, 123.40it/s]"
     ]
    },
    {
     "name": "stdout",
     "output_type": "stream",
     "text": [
      "0.08210180623973727\n",
      "0.0579950289975145\n",
      "0.054173674426838986\n",
      "0.04534155314706175\n"
     ]
    },
    {
     "name": "stderr",
     "output_type": "stream",
     "text": [
      "\n",
      " 92%|█████████▏| 1440/1567 [01:16<00:06, 18.71it/s]\n",
      "100%|██████████| 1/1 [00:00<00:00, 112.10it/s]\n",
      "\n",
      "100%|██████████| 1/1 [00:00<00:00, 118.74it/s]\n",
      " 92%|█████████▏| 1442/1567 [01:16<00:06, 18.67it/s]\n",
      "100%|██████████| 1/1 [00:00<00:00, 123.90it/s]\n",
      "\n",
      "100%|██████████| 1/1 [00:00<00:00, 124.75it/s]"
     ]
    },
    {
     "name": "stdout",
     "output_type": "stream",
     "text": [
      "0.043458901059755986\n",
      "0.04326923076923077\n",
      "0.04348969750109601\n",
      "0.04252104467947335\n"
     ]
    },
    {
     "name": "stderr",
     "output_type": "stream",
     "text": [
      "\n",
      " 92%|█████████▏| 1444/1567 [01:16<00:06, 18.68it/s]\n",
      "100%|██████████| 1/1 [00:00<00:00, 123.13it/s]\n",
      "\n",
      "100%|██████████| 1/1 [00:00<00:00, 125.17it/s]\n",
      " 92%|█████████▏| 1446/1567 [01:16<00:06, 18.69it/s]\n",
      "100%|██████████| 1/1 [00:00<00:00, 126.62it/s]\n",
      "\n",
      "100%|██████████| 1/1 [00:00<00:00, 125.92it/s]"
     ]
    },
    {
     "name": "stdout",
     "output_type": "stream",
     "text": [
      "0.03488822845328854\n",
      "0.03275478415665332\n",
      "0.033601033877965474\n",
      "0.027686532144533083\n"
     ]
    },
    {
     "name": "stderr",
     "output_type": "stream",
     "text": [
      "\n",
      " 92%|█████████▏| 1448/1567 [01:17<00:06, 18.70it/s]\n",
      "100%|██████████| 1/1 [00:00<00:00, 123.80it/s]\n",
      "\n",
      "100%|██████████| 1/1 [00:00<00:00, 125.92it/s]\n",
      " 93%|█████████▎| 1450/1567 [01:17<00:06, 18.72it/s]\n",
      "100%|██████████| 1/1 [00:00<00:00, 121.37it/s]\n",
      "\n",
      "100%|██████████| 1/1 [00:00<00:00, 123.42it/s]"
     ]
    },
    {
     "name": "stdout",
     "output_type": "stream",
     "text": [
      "0.007824610614896288\n",
      "0.008369691033745881\n",
      "0.006122092006297009\n",
      "0.005929962336725699\n"
     ]
    },
    {
     "name": "stderr",
     "output_type": "stream",
     "text": [
      "\n",
      " 93%|█████████▎| 1452/1567 [01:17<00:06, 18.70it/s]\n",
      "100%|██████████| 1/1 [00:00<00:00, 124.28it/s]\n",
      "\n",
      "100%|██████████| 1/1 [00:00<00:00, 121.30it/s]\n",
      " 93%|█████████▎| 1454/1567 [01:17<00:06, 18.76it/s]\n",
      "100%|██████████| 1/1 [00:00<00:00, 124.74it/s]\n",
      "\n",
      "100%|██████████| 1/1 [00:00<00:00, 125.21it/s]"
     ]
    },
    {
     "name": "stdout",
     "output_type": "stream",
     "text": [
      "0.005224132119986518\n",
      "0.0\n",
      "0.0\n",
      "0.0\n"
     ]
    },
    {
     "name": "stderr",
     "output_type": "stream",
     "text": [
      "\n",
      " 93%|█████████▎| 1456/1567 [01:17<00:05, 18.82it/s]\n",
      "100%|██████████| 1/1 [00:00<00:00, 127.41it/s]\n",
      "\n",
      "100%|██████████| 1/1 [00:00<00:00, 128.99it/s]\n",
      " 93%|█████████▎| 1458/1567 [01:17<00:05, 18.84it/s]\n",
      "100%|██████████| 1/1 [00:00<00:00, 129.21it/s]\n",
      "\n",
      "100%|██████████| 1/1 [00:00<00:00, 127.63it/s]"
     ]
    },
    {
     "name": "stdout",
     "output_type": "stream",
     "text": [
      "0.0\n",
      "0.0\n",
      "0.0026754958028159595\n",
      "0.0026475162987722144\n"
     ]
    },
    {
     "name": "stderr",
     "output_type": "stream",
     "text": [
      "\n",
      " 93%|█████████▎| 1460/1567 [01:17<00:05, 18.82it/s]\n",
      "100%|██████████| 1/1 [00:00<00:00, 126.92it/s]\n",
      "\n",
      "100%|██████████| 1/1 [00:00<00:00, 126.18it/s]\n",
      " 93%|█████████▎| 1462/1567 [01:17<00:05, 18.82it/s]\n",
      "100%|██████████| 1/1 [00:00<00:00, 124.53it/s]\n",
      "\n",
      "100%|██████████| 1/1 [00:00<00:00, 128.89it/s]"
     ]
    },
    {
     "name": "stdout",
     "output_type": "stream",
     "text": [
      "0.013879620979580943\n",
      "0.017078811599359544\n",
      "0.034221548881561356\n",
      "0.03605069629166015\n"
     ]
    },
    {
     "name": "stderr",
     "output_type": "stream",
     "text": [
      "\n",
      " 93%|█████████▎| 1464/1567 [01:17<00:05, 18.80it/s]\n",
      "100%|██████████| 1/1 [00:00<00:00, 125.96it/s]\n",
      "\n",
      "100%|██████████| 1/1 [00:00<00:00, 129.62it/s]\n",
      " 94%|█████████▎| 1466/1567 [01:18<00:05, 18.81it/s]\n",
      "100%|██████████| 1/1 [00:00<00:00, 126.23it/s]\n",
      "\n",
      "100%|██████████| 1/1 [00:00<00:00, 126.83it/s]"
     ]
    },
    {
     "name": "stdout",
     "output_type": "stream",
     "text": [
      "0.03556323897138271\n",
      "0.056811164628874894\n",
      "0.0722515522794435\n",
      "0.1265502015741985\n"
     ]
    },
    {
     "name": "stderr",
     "output_type": "stream",
     "text": [
      "\n",
      " 94%|█████████▎| 1468/1567 [01:18<00:05, 18.78it/s]\n",
      "100%|██████████| 1/1 [00:00<00:00, 127.90it/s]\n",
      "\n",
      "100%|██████████| 1/1 [00:00<00:00, 126.70it/s]\n",
      " 94%|█████████▍| 1470/1567 [01:18<00:05, 18.77it/s]\n",
      "100%|██████████| 1/1 [00:00<00:00, 126.54it/s]\n",
      "\n",
      "100%|██████████| 1/1 [00:00<00:00, 126.09it/s]"
     ]
    },
    {
     "name": "stdout",
     "output_type": "stream",
     "text": [
      "0.16487122779482058\n",
      "0.21407713221226463\n",
      "0.23196441628077016\n",
      "0.26112346129599523\n"
     ]
    },
    {
     "name": "stderr",
     "output_type": "stream",
     "text": [
      "\n",
      " 94%|█████████▍| 1472/1567 [01:18<00:05, 18.80it/s]\n",
      "100%|██████████| 1/1 [00:00<00:00, 129.19it/s]\n",
      "\n",
      "100%|██████████| 1/1 [00:00<00:00, 128.47it/s]\n",
      " 94%|█████████▍| 1474/1567 [01:18<00:04, 18.80it/s]\n",
      "100%|██████████| 1/1 [00:00<00:00, 126.68it/s]\n",
      "\n",
      "100%|██████████| 1/1 [00:00<00:00, 128.05it/s]"
     ]
    },
    {
     "name": "stdout",
     "output_type": "stream",
     "text": [
      "0.3752665245202559\n",
      "0.3895105608652767\n",
      "0.49107441083688996\n",
      "0.5136003710698075\n"
     ]
    },
    {
     "name": "stderr",
     "output_type": "stream",
     "text": [
      "\n",
      " 94%|█████████▍| 1476/1567 [01:18<00:04, 18.80it/s]\n",
      "100%|██████████| 1/1 [00:00<00:00, 129.73it/s]\n",
      "\n",
      "100%|██████████| 1/1 [00:00<00:00, 128.71it/s]\n",
      " 94%|█████████▍| 1478/1567 [01:18<00:04, 18.82it/s]\n",
      "100%|██████████| 1/1 [00:00<00:00, 128.53it/s]\n",
      "\n",
      "100%|██████████| 1/1 [00:00<00:00, 128.59it/s]"
     ]
    },
    {
     "name": "stdout",
     "output_type": "stream",
     "text": [
      "0.559042761867399\n",
      "0.600622063397525\n",
      "0.6759437765081145\n",
      "0.630761357136406\n"
     ]
    },
    {
     "name": "stderr",
     "output_type": "stream",
     "text": [
      "\n",
      " 94%|█████████▍| 1480/1567 [01:18<00:04, 18.83it/s]\n",
      "100%|██████████| 1/1 [00:00<00:00, 125.53it/s]\n",
      "\n",
      "100%|██████████| 1/1 [00:00<00:00, 130.12it/s]\n",
      " 95%|█████████▍| 1482/1567 [01:18<00:04, 18.82it/s]\n",
      "100%|██████████| 1/1 [00:00<00:00, 135.41it/s]\n",
      "\n",
      "100%|██████████| 1/1 [00:00<00:00, 152.45it/s]"
     ]
    },
    {
     "name": "stdout",
     "output_type": "stream",
     "text": [
      "0.7326783045565837\n",
      "0.7847427557658191\n",
      "0.8609226362985442\n",
      "0.012762138987669912\n"
     ]
    },
    {
     "name": "stderr",
     "output_type": "stream",
     "text": [
      "\n",
      " 95%|█████████▍| 1484/1567 [01:19<00:04, 18.89it/s]\n",
      "100%|██████████| 1/1 [00:00<00:00, 152.37it/s]\n",
      "\n",
      "100%|██████████| 1/1 [00:00<00:00, 146.80it/s]\n",
      " 95%|█████████▍| 1486/1567 [01:19<00:04, 19.02it/s]\n",
      "100%|██████████| 1/1 [00:00<00:00, 148.29it/s]\n",
      "\n",
      "100%|██████████| 1/1 [00:00<00:00, 146.11it/s]"
     ]
    },
    {
     "name": "stdout",
     "output_type": "stream",
     "text": [
      "0.03129584352078239\n",
      "0.05343121032522037\n",
      "0.07315308203407671\n",
      "0.10761815696712466\n"
     ]
    },
    {
     "name": "stderr",
     "output_type": "stream",
     "text": [
      "\n",
      " 95%|█████████▍| 1488/1567 [01:19<00:04, 19.07it/s]\n",
      "100%|██████████| 1/1 [00:00<00:00, 148.91it/s]\n",
      "\n",
      "100%|██████████| 1/1 [00:00<00:00, 149.28it/s]\n",
      " 95%|█████████▌| 1490/1567 [01:19<00:04, 19.12it/s]\n",
      "100%|██████████| 1/1 [00:00<00:00, 145.90it/s]\n",
      "\n",
      "100%|██████████| 1/1 [00:00<00:00, 141.55it/s]"
     ]
    },
    {
     "name": "stdout",
     "output_type": "stream",
     "text": [
      "0.12653426373233137\n",
      "0.15278380617922108\n",
      "0.180222304253312\n",
      "0.1971953387319771\n"
     ]
    },
    {
     "name": "stderr",
     "output_type": "stream",
     "text": [
      "\n",
      " 95%|█████████▌| 1492/1567 [01:19<00:03, 19.14it/s]\n",
      "100%|██████████| 1/1 [00:00<00:00, 144.93it/s]\n",
      "\n",
      "100%|██████████| 1/1 [00:00<00:00, 149.30it/s]\n",
      " 95%|█████████▌| 1494/1567 [01:19<00:03, 19.14it/s]\n",
      "100%|██████████| 1/1 [00:00<00:00, 127.91it/s]\n",
      "\n",
      "100%|██████████| 1/1 [00:00<00:00, 133.04it/s]"
     ]
    },
    {
     "name": "stdout",
     "output_type": "stream",
     "text": [
      "0.23072141880412714\n",
      "0.2786312849162011\n",
      "0.38651842948717946\n",
      "0.42375801665549917\n"
     ]
    },
    {
     "name": "stderr",
     "output_type": "stream",
     "text": [
      "\n",
      " 95%|█████████▌| 1496/1567 [01:19<00:03, 19.08it/s]\n",
      "100%|██████████| 1/1 [00:00<00:00, 143.13it/s]\n",
      "\n",
      "100%|██████████| 1/1 [00:00<00:00, 148.79it/s]\n",
      " 96%|█████████▌| 1498/1567 [01:19<00:03, 19.13it/s]\n",
      "100%|██████████| 1/1 [00:00<00:00, 129.27it/s]\n",
      "\n",
      "100%|██████████| 1/1 [00:00<00:00, 143.23it/s]"
     ]
    },
    {
     "name": "stdout",
     "output_type": "stream",
     "text": [
      "0.5690342715136103\n",
      "0.7732279383179992\n",
      "0.9057189101699488\n",
      "0.9029928392190465\n"
     ]
    },
    {
     "name": "stderr",
     "output_type": "stream",
     "text": [
      "\n",
      " 96%|█████████▌| 1500/1567 [01:19<00:03, 19.05it/s]\n",
      "100%|██████████| 1/1 [00:00<00:00, 143.93it/s]\n",
      "\n",
      "100%|██████████| 1/1 [00:00<00:00, 149.27it/s]\n",
      " 96%|█████████▌| 1502/1567 [01:19<00:03, 19.06it/s]\n",
      "100%|██████████| 1/1 [00:00<00:00, 146.79it/s]\n",
      "\n",
      "100%|██████████| 1/1 [00:00<00:00, 147.11it/s]"
     ]
    },
    {
     "name": "stdout",
     "output_type": "stream",
     "text": [
      "0.9343099371359364\n",
      "0.9439694088905412\n",
      "0.9499320686358376\n",
      "0.9477935094633387\n"
     ]
    },
    {
     "name": "stderr",
     "output_type": "stream",
     "text": [
      "\n",
      " 96%|█████████▌| 1504/1567 [01:20<00:03, 19.07it/s]\n",
      "100%|██████████| 1/1 [00:00<00:00, 144.66it/s]\n",
      "\n",
      "100%|██████████| 1/1 [00:00<00:00, 144.27it/s]\n",
      " 96%|█████████▌| 1506/1567 [01:20<00:03, 19.10it/s]\n",
      "100%|██████████| 1/1 [00:00<00:00, 146.43it/s]\n",
      "\n",
      "100%|██████████| 1/1 [00:00<00:00, 147.63it/s]"
     ]
    },
    {
     "name": "stdout",
     "output_type": "stream",
     "text": [
      "0.9544966630886265\n",
      "0.956451029996386\n",
      "0.9467084639498433\n",
      "0.9429158110882957\n"
     ]
    },
    {
     "name": "stderr",
     "output_type": "stream",
     "text": [
      "\n",
      " 96%|█████████▌| 1508/1567 [01:20<00:03, 19.07it/s]\n",
      "100%|██████████| 1/1 [00:00<00:00, 146.82it/s]\n",
      "\n",
      "100%|██████████| 1/1 [00:00<00:00, 138.86it/s]\n",
      " 96%|█████████▋| 1510/1567 [01:20<00:02, 19.06it/s]\n",
      "100%|██████████| 1/1 [00:00<00:00, 144.94it/s]\n",
      "\n",
      "100%|██████████| 1/1 [00:00<00:00, 146.14it/s]"
     ]
    },
    {
     "name": "stdout",
     "output_type": "stream",
     "text": [
      "0.9254980079681275\n",
      "0.9516059957173447\n",
      "0.9517782945145428\n",
      "0.9485501151863093\n"
     ]
    },
    {
     "name": "stderr",
     "output_type": "stream",
     "text": [
      "\n",
      " 96%|█████████▋| 1512/1567 [01:20<00:02, 19.05it/s]\n",
      "100%|██████████| 1/1 [00:00<00:00, 150.67it/s]\n",
      "\n",
      "100%|██████████| 1/1 [00:00<00:00, 150.62it/s]\n",
      " 97%|█████████▋| 1514/1567 [01:20<00:02, 19.08it/s]\n",
      "100%|██████████| 1/1 [00:00<00:00, 147.44it/s]\n",
      "\n",
      "100%|██████████| 1/1 [00:00<00:00, 147.84it/s]"
     ]
    },
    {
     "name": "stdout",
     "output_type": "stream",
     "text": [
      "0.9610780539026952\n",
      "0.9526959517657192\n",
      "0.9639183673469388\n",
      "0.9519721289038199\n"
     ]
    },
    {
     "name": "stderr",
     "output_type": "stream",
     "text": [
      "\n",
      " 97%|█████████▋| 1516/1567 [01:20<00:02, 19.12it/s]\n",
      "100%|██████████| 1/1 [00:00<00:00, 147.11it/s]\n",
      "\n",
      "100%|██████████| 1/1 [00:00<00:00, 143.82it/s]\n",
      " 97%|█████████▋| 1518/1567 [01:20<00:02, 19.12it/s]\n",
      "100%|██████████| 1/1 [00:00<00:00, 146.40it/s]\n",
      "\n",
      "100%|██████████| 1/1 [00:00<00:00, 148.56it/s]"
     ]
    },
    {
     "name": "stdout",
     "output_type": "stream",
     "text": [
      "0.9551935435659842\n",
      "0.959789856536674\n",
      "0.95736318542813\n",
      "0.9572671377911575\n"
     ]
    },
    {
     "name": "stderr",
     "output_type": "stream",
     "text": [
      "\n",
      " 97%|█████████▋| 1520/1567 [01:20<00:02, 19.11it/s]\n",
      "100%|██████████| 1/1 [00:00<00:00, 145.55it/s]\n",
      "\n",
      "100%|██████████| 1/1 [00:00<00:00, 149.68it/s]\n",
      " 97%|█████████▋| 1522/1567 [01:21<00:02, 19.12it/s]\n",
      "100%|██████████| 1/1 [00:00<00:00, 145.30it/s]\n",
      "\n",
      "100%|██████████| 1/1 [00:00<00:00, 139.63it/s]"
     ]
    },
    {
     "name": "stdout",
     "output_type": "stream",
     "text": [
      "0.9648098854672886\n",
      "0.9565237926555674\n",
      "0.9368445475638051\n",
      "0.9512086937236638\n"
     ]
    },
    {
     "name": "stderr",
     "output_type": "stream",
     "text": [
      "\n",
      " 97%|█████████▋| 1524/1567 [01:21<00:02, 19.07it/s]\n",
      "100%|██████████| 1/1 [00:00<00:00, 141.18it/s]\n",
      "\n",
      "100%|██████████| 1/1 [00:00<00:00, 146.57it/s]\n",
      " 97%|█████████▋| 1526/1567 [01:21<00:02, 19.04it/s]\n",
      "100%|██████████| 1/1 [00:00<00:00, 130.67it/s]\n",
      "\n",
      "100%|██████████| 1/1 [00:00<00:00, 127.59it/s]"
     ]
    },
    {
     "name": "stdout",
     "output_type": "stream",
     "text": [
      "0.9579508054737571\n",
      "0.9631024250486033\n",
      "0.9644624204822115\n",
      "0.9641915683746705\n"
     ]
    },
    {
     "name": "stderr",
     "output_type": "stream",
     "text": [
      "\n",
      " 98%|█████████▊| 1528/1567 [01:21<00:02, 18.94it/s]\n",
      "100%|██████████| 1/1 [00:00<00:00, 144.78it/s]\n",
      "\n",
      "100%|██████████| 1/1 [00:00<00:00, 146.14it/s]\n",
      " 98%|█████████▊| 1530/1567 [01:21<00:01, 18.95it/s]\n",
      "100%|██████████| 1/1 [00:00<00:00, 145.76it/s]\n",
      "\n",
      "100%|██████████| 1/1 [00:00<00:00, 142.52it/s]"
     ]
    },
    {
     "name": "stdout",
     "output_type": "stream",
     "text": [
      "0.9635044790818356\n",
      "0.9602256908999796\n",
      "0.9535177489335994\n",
      "0.9504094714096348\n"
     ]
    },
    {
     "name": "stderr",
     "output_type": "stream",
     "text": [
      "\n",
      " 98%|█████████▊| 1532/1567 [01:21<00:01, 18.95it/s]\n",
      "100%|██████████| 1/1 [00:00<00:00, 136.37it/s]\n",
      "\n",
      "100%|██████████| 1/1 [00:00<00:00, 140.74it/s]\n",
      " 98%|█████████▊| 1534/1567 [01:21<00:01, 18.96it/s]\n",
      "100%|██████████| 1/1 [00:00<00:00, 127.65it/s]\n",
      "\n",
      "100%|██████████| 1/1 [00:00<00:00, 143.51it/s]"
     ]
    },
    {
     "name": "stdout",
     "output_type": "stream",
     "text": [
      "0.9480001399727053\n",
      "0.9324552632486295\n",
      "0.9353939787666901\n",
      "0.9430266056600576\n"
     ]
    },
    {
     "name": "stderr",
     "output_type": "stream",
     "text": [
      "\n",
      " 98%|█████████▊| 1536/1567 [01:21<00:01, 18.94it/s]\n",
      "100%|██████████| 1/1 [00:00<00:00, 143.70it/s]\n",
      "\n",
      "100%|██████████| 1/1 [00:00<00:00, 145.23it/s]\n",
      " 98%|█████████▊| 1538/1567 [01:21<00:01, 18.95it/s]\n",
      "100%|██████████| 1/1 [00:00<00:00, 143.61it/s]\n",
      "\n",
      "100%|██████████| 1/1 [00:00<00:00, 149.04it/s]"
     ]
    },
    {
     "name": "stdout",
     "output_type": "stream",
     "text": [
      "0.9475772269505951\n",
      "0.9539761632213319\n",
      "0.954949494949495\n",
      "0.9545009619603739\n"
     ]
    },
    {
     "name": "stderr",
     "output_type": "stream",
     "text": [
      "\n",
      " 98%|█████████▊| 1540/1567 [01:21<00:01, 18.98it/s]\n",
      "100%|██████████| 1/1 [00:00<00:00, 125.45it/s]\n",
      "\n",
      "100%|██████████| 1/1 [00:00<00:00, 138.82it/s]\n",
      " 98%|█████████▊| 1542/1567 [01:22<00:01, 18.92it/s]\n",
      "100%|██████████| 1/1 [00:00<00:00, 149.18it/s]\n",
      "\n",
      "100%|██████████| 1/1 [00:00<00:00, 145.08it/s]"
     ]
    },
    {
     "name": "stdout",
     "output_type": "stream",
     "text": [
      "0.9556938727704715\n",
      "0.957145957496536\n",
      "0.9649811979586355\n",
      "0.9646158534520706\n"
     ]
    },
    {
     "name": "stderr",
     "output_type": "stream",
     "text": [
      "\n",
      " 99%|█████████▊| 1544/1567 [01:22<00:01, 18.96it/s]\n",
      "100%|██████████| 1/1 [00:00<00:00, 141.43it/s]\n",
      "\n",
      "100%|██████████| 1/1 [00:00<00:00, 142.42it/s]\n",
      " 99%|█████████▊| 1546/1567 [01:22<00:01, 18.95it/s]\n",
      "100%|██████████| 1/1 [00:00<00:00, 130.23it/s]\n",
      "\n",
      "100%|██████████| 1/1 [00:00<00:00, 145.96it/s]"
     ]
    },
    {
     "name": "stdout",
     "output_type": "stream",
     "text": [
      "0.9655510977942545\n",
      "0.9669122710370472\n",
      "0.9736623807548735\n",
      "0.9741991773650754\n"
     ]
    },
    {
     "name": "stderr",
     "output_type": "stream",
     "text": [
      "\n",
      " 99%|█████████▉| 1548/1567 [01:22<00:01, 18.94it/s]\n",
      "100%|██████████| 1/1 [00:00<00:00, 144.81it/s]\n",
      "\n",
      "100%|██████████| 1/1 [00:00<00:00, 146.76it/s]\n",
      " 99%|█████████▉| 1550/1567 [01:22<00:00, 18.96it/s]\n",
      "100%|██████████| 1/1 [00:00<00:00, 147.86it/s]\n",
      "\n",
      "100%|██████████| 1/1 [00:00<00:00, 146.95it/s]"
     ]
    },
    {
     "name": "stdout",
     "output_type": "stream",
     "text": [
      "0.9732714176021061\n",
      "0.9731752733172323\n",
      "0.972383471955235\n",
      "0.9771602739183787\n"
     ]
    },
    {
     "name": "stderr",
     "output_type": "stream",
     "text": [
      "\n",
      " 99%|█████████▉| 1552/1567 [01:22<00:00, 18.95it/s]\n",
      "100%|██████████| 1/1 [00:00<00:00, 149.59it/s]\n",
      "\n",
      "100%|██████████| 1/1 [00:00<00:00, 149.98it/s]\n",
      " 99%|█████████▉| 1554/1567 [01:22<00:00, 19.01it/s]\n",
      "100%|██████████| 1/1 [00:00<00:00, 130.37it/s]\n",
      "\n",
      "100%|██████████| 1/1 [00:00<00:00, 149.10it/s]"
     ]
    },
    {
     "name": "stdout",
     "output_type": "stream",
     "text": [
      "0.9590720861978853\n",
      "0.9634590377113134\n",
      "0.9562557792161605\n",
      "0.9422035584042435\n"
     ]
    },
    {
     "name": "stderr",
     "output_type": "stream",
     "text": [
      "\n",
      " 99%|█████████▉| 1556/1567 [01:22<00:00, 18.97it/s]\n",
      "100%|██████████| 1/1 [00:00<00:00, 148.26it/s]\n",
      "\n",
      "100%|██████████| 1/1 [00:00<00:00, 148.26it/s]\n",
      " 99%|█████████▉| 1558/1567 [01:22<00:00, 19.06it/s]\n",
      "100%|██████████| 1/1 [00:00<00:00, 135.05it/s]\n",
      "\n",
      "100%|██████████| 1/1 [00:00<00:00, 152.65it/s]"
     ]
    },
    {
     "name": "stdout",
     "output_type": "stream",
     "text": [
      "0.9406836568285741\n",
      "0.9099691909779012\n",
      "0.9111325301204819\n",
      "0.9124965668772316\n"
     ]
    },
    {
     "name": "stderr",
     "output_type": "stream",
     "text": [
      "\n",
      "100%|█████████▉| 1560/1567 [01:23<00:00, 19.09it/s]\n",
      "100%|██████████| 1/1 [00:00<00:00, 147.62it/s]\n",
      "\n",
      "100%|██████████| 1/1 [00:00<00:00, 151.40it/s]\n",
      "100%|█████████▉| 1562/1567 [01:23<00:00, 19.13it/s]\n",
      "100%|██████████| 1/1 [00:00<00:00, 137.06it/s]\n",
      "\n",
      "100%|██████████| 1/1 [00:00<00:00, 135.87it/s]"
     ]
    },
    {
     "name": "stdout",
     "output_type": "stream",
     "text": [
      "0.9248152446100287\n",
      "0.9333516559021575\n",
      "0.9192301624861966\n",
      "0.8934047663033438\n"
     ]
    },
    {
     "name": "stderr",
     "output_type": "stream",
     "text": [
      "\n",
      "100%|█████████▉| 1564/1567 [01:23<00:00, 19.07it/s]\n",
      "100%|██████████| 1/1 [00:00<00:00, 132.35it/s]\n",
      "\n",
      "100%|██████████| 1/1 [00:00<00:00, 142.08it/s]\n",
      "100%|█████████▉| 1566/1567 [01:23<00:00, 19.10it/s]\n",
      "100%|██████████| 1/1 [00:00<00:00, 145.70it/s]\n",
      "100%|██████████| 1567/1567 [01:23<00:00, 18.80it/s]\n"
     ]
    },
    {
     "name": "stdout",
     "output_type": "stream",
     "text": [
      "0.8034400580250751\n",
      "0.2145020333996712\n",
      "0.11696635831341164\n",
      "0.0017795573351128907\n"
     ]
    }
   ],
   "source": [
    "diceScoreList = []\n",
    "\n",
    "for i in tqdm(range(len(testDf))):\n",
    "    \n",
    "    _,_,diceScore = testSample(testDf, i, learner.model, returnOutput = True, plot = False)\n",
    "    diceScoreList.append(diceScore)\n",
    "    "
   ]
  },
  {
   "cell_type": "code",
   "execution_count": 206,
   "metadata": {},
   "outputs": [
    {
     "name": "stdout",
     "output_type": "stream",
     "text": [
      "Average DICE score for test samples : 0.7283885188808751\n"
     ]
    },
    {
     "name": "stderr",
     "output_type": "stream",
     "text": [
      "/home/roshansk/Covid_Bert/env/lib/python3.6/site-packages/ipykernel_launcher.py:1: SettingWithCopyWarning: \n",
      "A value is trying to be set on a copy of a slice from a DataFrame.\n",
      "Try using .loc[row_indexer,col_indexer] = value instead\n",
      "\n",
      "See the caveats in the documentation: https://pandas.pydata.org/pandas-docs/stable/user_guide/indexing.html#returning-a-view-versus-a-copy\n",
      "  \"\"\"Entry point for launching an IPython kernel.\n"
     ]
    }
   ],
   "source": [
    "testDf['dice'] = diceScoreList\n",
    "\n",
    "\n",
    "\n",
    "print(f\"Average DICE score for test samples : {np.mean(diceScoreList)}\")"
   ]
  },
  {
   "cell_type": "code",
   "execution_count": 204,
   "metadata": {},
   "outputs": [
    {
     "name": "stderr",
     "output_type": "stream",
     "text": [
      "100%|██████████| 1/1 [00:00<00:00, 62.91it/s]\n"
     ]
    },
    {
     "name": "stdout",
     "output_type": "stream",
     "text": [
      "0.0\n"
     ]
    },
    {
     "data": {
      "image/png": "[encoded data removed]",
      "text/plain": [
       "<Figure size 720x360 with 2 Axes>"
      ]
     },
     "metadata": {
      "needs_background": "light"
     },
     "output_type": "display_data"
    }
   ],
   "source": [
    "testSample(testDf.sort_values('dice',ascending=True), 2, learner.model)"
   ]
  },
  {
   "cell_type": "code",
   "execution_count": 205,
   "metadata": {},
   "outputs": [
    {
     "data": {
      "text/plain": [
       "count    1567.000000\n",
       "mean        0.728389\n",
       "std         0.313800\n",
       "min         0.000000\n",
       "25%         0.548492\n",
       "50%         0.905524\n",
       "75%         0.943018\n",
       "max         0.981197\n",
       "Name: dice, dtype: float64"
      ]
     },
     "execution_count": 205,
     "metadata": {},
     "output_type": "execute_result"
    }
   ],
   "source": [
    "testDf.dice.describe()"
   ]
  },
  {
   "cell_type": "code",
   "execution_count": null,
   "metadata": {},
   "outputs": [],
   "source": []
  }
 ],
 "metadata": {
  "kernelspec": {
   "display_name": "env",
   "language": "python",
   "name": "env"
  },
  "language_info": {
   "codemirror_mode": {
    "name": "ipython",
    "version": 3
   },
   "file_extension": ".py",
   "mimetype": "text/x-python",
   "name": "python",
   "nbconvert_exporter": "python",
   "pygments_lexer": "ipython3",
   "version": "3.6.4"
  }
 },
 "nbformat": 4,
 "nbformat_minor": 4
}
