{
 "cells": [
  {
   "cell_type": "code",
   "execution_count": 1,
   "metadata": {},
   "outputs": [],
   "source": [
    "import pandas as pd\n",
    "import numpy as np\n",
    "import os\n",
    "\n",
    "from tqdm import tqdm\n",
    "\n",
    "import nibabel as nib\n",
    "\n",
    "import matplotlib.pyplot as plt\n",
    "%matplotlib inline\n",
    "\n",
    "from PIL import Image\n",
    "\n",
    "\n",
    "import sys\n",
    "import torch\n",
    "from torch import Tensor\n",
    "import torchvision.transforms as transforms\n",
    "from torchvision.transforms import Resize, ToTensor\n",
    "# from models import *\n",
    "\n",
    "%load_ext autoreload\n",
    "%autoreload 2\n",
    "\n",
    "sys.path.insert(0,'/home/roshansk/Covid/CXRData/')\n",
    "from SegLearner import *\n",
    "\n",
    "import segmentation_models_pytorch as smp\n",
    "\n",
    "sys.path.insert(0,'/home/roshansk/Covid/RibFrac/Models/')\n",
    "from models import *"
   ]
  },
  {
   "cell_type": "code",
   "execution_count": 2,
   "metadata": {},
   "outputs": [
    {
     "name": "stdout",
     "output_type": "stream",
     "text": [
      "2073\n"
     ]
    }
   ],
   "source": [
    "trainFolder = '/home/roshansk/Covid/Live/ircad-dataset/train/'\n",
    "sliceFolder = '/home/roshansk/Covid/Live/ircad-dataset/Slices/'\n",
    "\n",
    "dataFiles = os.listdir(trainFolder)\n",
    "\n",
    "imgFiles = [x for x in dataFiles if 'orig' in x]\n",
    "\n",
    "sliceList = sorted(os.listdir(sliceFolder))\n",
    "imgFiles = [x for x in sliceList if 'image' in x]\n",
    "labelFiles = [x.replace('image','label') for x in imgFiles]\n",
    "\n",
    "df = pd.DataFrame({'imgPath':imgFiles,'maskPath':labelFiles})\n",
    "df.imgPath = df.imgPath.apply(lambda x : os.path.join(sliceFolder, x))\n",
    "df.maskPath = df.maskPath.apply(lambda x : os.path.join(sliceFolder, x))\n",
    "\n",
    "print(len(df))"
   ]
  },
  {
   "cell_type": "code",
   "execution_count": 3,
   "metadata": {},
   "outputs": [
    {
     "data": {
      "text/plain": [
       "1658.4"
      ]
     },
     "execution_count": 3,
     "metadata": {},
     "output_type": "execute_result"
    }
   ],
   "source": [
    "0.8*2073"
   ]
  },
  {
   "cell_type": "markdown",
   "metadata": {},
   "source": [
    "## Modeling"
   ]
  },
  {
   "cell_type": "markdown",
   "metadata": {},
   "source": [
    "### Setup"
   ]
  },
  {
   "cell_type": "code",
   "execution_count": 4,
   "metadata": {},
   "outputs": [],
   "source": [
    "device = 'cuda:0'\n",
    "\n",
    "batchSize = 10\n",
    "imgSize = 256\n",
    "\n",
    "\n",
    "model = ResNetDUC(num_classes=1)\n",
    "\n",
    "# model = smp.Unet('resnet34', encoder_weights='imagenet')\n",
    "# model = smp.PSPNet('resnet34', encoder_weights='imagenet')\n",
    "\n",
    "\n",
    "\n",
    "criterion = torch.nn.BCELoss()\n",
    "\n",
    "\n",
    "optimizer = torch.optim.Adam([ \n",
    "    dict(params=model.parameters(), lr=0.0001),\n",
    "])\n",
    "\n",
    "model.to(device)\n",
    "\n",
    "\n",
    "trainTransforms = transforms.Compose([transforms.Resize((imgSize,imgSize)), \n",
    "                                      ToTensor()])\n",
    "\n",
    "\n",
    "# trainTransforms = transforms.Compose([transforms.RandomResizedCrop(size = 256,scale = (0.06,0.5), ratio=(0.75, 1.3)), \n",
    "#                                       ToTensor()])\n",
    "\n",
    "classLoss = nn.CrossEntropyLoss()\n",
    "reconLoss = nn.MSELoss()\n",
    "\n",
    "# optimizer = torch.optim.Adam(filter(lambda p: p.requires_grad, model.parameters()), lr=0.0001)\n",
    "\n",
    "\n",
    "trainDataset = SegDataset(df.iloc[0:1650], trainTransforms)\n",
    "testDataset = SegDataset(df.iloc[1650:len(df)], trainTransforms)\n",
    "\n",
    "trainLoader = torch.utils.data.DataLoader(trainDataset, batch_size=batchSize, \n",
    "                                          shuffle=True, num_workers=1)\n",
    "\n",
    "\n",
    "testLoader = torch.utils.data.DataLoader(testDataset, batch_size=batchSize, \n",
    "                                          shuffle=False, num_workers=1)"
   ]
  },
  {
   "cell_type": "code",
   "execution_count": 47,
   "metadata": {},
   "outputs": [
    {
     "data": {
      "text/plain": [
       "torch.Size([3, 256, 256])"
      ]
     },
     "execution_count": 47,
     "metadata": {},
     "output_type": "execute_result"
    }
   ],
   "source": [
    "trainDataset[0][0].shape"
   ]
  },
  {
   "cell_type": "code",
   "execution_count": 48,
   "metadata": {},
   "outputs": [
    {
     "data": {
      "text/plain": [
       "torch.Size([256, 256])"
      ]
     },
     "execution_count": 48,
     "metadata": {},
     "output_type": "execute_result"
    }
   ],
   "source": [
    "trainDataset[0][1].shape"
   ]
  },
  {
   "cell_type": "markdown",
   "metadata": {},
   "source": [
    "### Training"
   ]
  },
  {
   "cell_type": "code",
   "execution_count": 5,
   "metadata": {},
   "outputs": [],
   "source": [
    "learner = SegLearner(model, trainLoader, optimizer, criterion, testLoader, device = 'cuda:0')"
   ]
  },
  {
   "cell_type": "code",
   "execution_count": 6,
   "metadata": {
    "scrolled": true
   },
   "outputs": [
    {
     "name": "stderr",
     "output_type": "stream",
     "text": [
      "100%|██████████| 165/165 [13:18<00:00,  4.84s/it]\n",
      "100%|██████████| 165/165 [01:14<00:00,  2.23it/s]\n",
      "  0%|          | 0/43 [00:00<?, ?it/s]"
     ]
    },
    {
     "name": "stdout",
     "output_type": "stream",
     "text": [
      "Epoch Time : 0:14:32.442324\n",
      "Train Loss : 0.6633532495209665  Train IOU : 0.700848400592804\n"
     ]
    },
    {
     "name": "stderr",
     "output_type": "stream",
     "text": [
      "100%|██████████| 43/43 [00:19<00:00,  2.23it/s]\n",
      "  0%|          | 0/165 [00:00<?, ?it/s]"
     ]
    },
    {
     "name": "stdout",
     "output_type": "stream",
     "text": [
      "Test IOU : 0.6023641228675842\n"
     ]
    },
    {
     "name": "stderr",
     "output_type": "stream",
     "text": [
      "100%|██████████| 165/165 [13:23<00:00,  4.87s/it]\n",
      "100%|██████████| 165/165 [01:14<00:00,  2.22it/s]\n",
      "  0%|          | 0/43 [00:00<?, ?it/s]"
     ]
    },
    {
     "name": "stdout",
     "output_type": "stream",
     "text": [
      "Epoch Time : 0:14:38.185765\n",
      "Train Loss : 0.6530515956156182  Train IOU : 0.8144847750663757\n"
     ]
    },
    {
     "name": "stderr",
     "output_type": "stream",
     "text": [
      "100%|██████████| 43/43 [00:19<00:00,  2.23it/s]\n",
      "  0%|          | 0/165 [00:00<?, ?it/s]"
     ]
    },
    {
     "name": "stdout",
     "output_type": "stream",
     "text": [
      "Test IOU : 0.6513002514839172\n"
     ]
    },
    {
     "name": "stderr",
     "output_type": "stream",
     "text": [
      "100%|██████████| 165/165 [13:23<00:00,  4.87s/it]\n",
      "100%|██████████| 165/165 [01:14<00:00,  2.23it/s]\n",
      "  0%|          | 0/43 [00:00<?, ?it/s]"
     ]
    },
    {
     "name": "stdout",
     "output_type": "stream",
     "text": [
      "Epoch Time : 0:14:38.055117\n",
      "Train Loss : 0.6512809038162232  Train IOU : 0.8215151429176331\n"
     ]
    },
    {
     "name": "stderr",
     "output_type": "stream",
     "text": [
      "100%|██████████| 43/43 [00:19<00:00,  2.23it/s]\n"
     ]
    },
    {
     "name": "stdout",
     "output_type": "stream",
     "text": [
      "Test IOU : 0.6586288809776306\n"
     ]
    }
   ],
   "source": [
    "learner.fit(num_epochs=3, save_best_model=False, save_every_epoch=False, useLogger = False)"
   ]
  },
  {
   "cell_type": "code",
   "execution_count": 7,
   "metadata": {},
   "outputs": [
    {
     "name": "stderr",
     "output_type": "stream",
     "text": [
      "100%|██████████| 165/165 [13:19<00:00,  4.84s/it]\n",
      "100%|██████████| 165/165 [01:14<00:00,  2.21it/s]\n",
      "  0%|          | 0/43 [00:00<?, ?it/s]"
     ]
    },
    {
     "name": "stdout",
     "output_type": "stream",
     "text": [
      "Epoch Time : 0:14:33.934375\n",
      "Train Loss : 0.6504858367370837  Train IOU : 0.8757575750350952\n"
     ]
    },
    {
     "name": "stderr",
     "output_type": "stream",
     "text": [
      "100%|██████████| 43/43 [00:19<00:00,  2.22it/s]\n",
      "  0%|          | 0/165 [00:00<?, ?it/s]"
     ]
    },
    {
     "name": "stdout",
     "output_type": "stream",
     "text": [
      "Test IOU : 0.6794326305389404\n"
     ]
    },
    {
     "name": "stderr",
     "output_type": "stream",
     "text": [
      "100%|██████████| 165/165 [13:24<00:00,  4.88s/it]\n",
      "100%|██████████| 165/165 [01:13<00:00,  2.23it/s]\n",
      "  0%|          | 0/43 [00:00<?, ?it/s]"
     ]
    },
    {
     "name": "stdout",
     "output_type": "stream",
     "text": [
      "Epoch Time : 0:14:38.391424\n",
      "Train Loss : 0.6498676997242552  Train IOU : 0.9229090213775635\n"
     ]
    },
    {
     "name": "stderr",
     "output_type": "stream",
     "text": [
      "100%|██████████| 43/43 [00:19<00:00,  2.24it/s]\n"
     ]
    },
    {
     "name": "stdout",
     "output_type": "stream",
     "text": [
      "Test IOU : 0.7063829302787781\n"
     ]
    }
   ],
   "source": [
    "learner.fit(num_epochs=2, save_best_model=False, save_every_epoch=False, useLogger = False)"
   ]
  },
  {
   "cell_type": "code",
   "execution_count": null,
   "metadata": {},
   "outputs": [],
   "source": []
  },
  {
   "cell_type": "markdown",
   "metadata": {},
   "source": [
    "### Using NPY files"
   ]
  },
  {
   "cell_type": "code",
   "execution_count": 11,
   "metadata": {},
   "outputs": [],
   "source": [
    "trainX = '/home/roshansk/Covid/Live/Deep-Learning-liver-segmentation/imgs_train.npy'\n",
    "testX = '/home/roshansk/Covid/Live/Deep-Learning-liver-segmentation/imgs_test.npy'\n",
    "\n",
    "trainy = '/home/roshansk/Covid/Live/Deep-Learning-liver-segmentation/masks_train.npy'\n",
    "testy = '/home/roshansk/Covid/Live/Deep-Learning-liver-segmentation/masks_test.npy'"
   ]
  },
  {
   "cell_type": "code",
   "execution_count": 12,
   "metadata": {},
   "outputs": [],
   "source": [
    "trainX = np.load(trainX)\n",
    "testX = np.load(testX)\n",
    "\n",
    "trainy = np.load(trainy)\n",
    "testy = np.load(testy)"
   ]
  },
  {
   "cell_type": "code",
   "execution_count": 70,
   "metadata": {},
   "outputs": [],
   "source": [
    "class SegDataset2(torch.utils.data.Dataset):\n",
    "    \n",
    "  def __init__(self, matrix, mask):\n",
    "\n",
    "\n",
    "    self.matrix = matrix\n",
    "    self.mask = mask\n",
    "    self.transforms = transforms\n",
    "\n",
    "\n",
    "  def __len__(self):\n",
    "\n",
    "    return self.matrix.shape[0]\n",
    "\n",
    "  def __getitem__(self, index):\n",
    "        \n",
    "        \n",
    "    img = self.matrix[index,:,:]\n",
    "    mask = self.mask[index,:,:]\n",
    "    \n",
    "    img = Tensor(img).unsqueeze(0).repeat(3,1,1)\n",
    "    mask = Tensor(mask).unsqueeze(0)\n",
    "    \n",
    "#     mask = mask.type(torch.uint8)\n",
    "\n",
    "    return img, mask"
   ]
  },
  {
   "cell_type": "code",
   "execution_count": 71,
   "metadata": {},
   "outputs": [],
   "source": [
    "trainDataset = SegDataset2(trainX, trainy)\n",
    "testDataset = SegDataset2(testX, testy)"
   ]
  },
  {
   "cell_type": "code",
   "execution_count": 72,
   "metadata": {},
   "outputs": [],
   "source": [
    "trainLoader = torch.utils.data.DataLoader(trainDataset, batch_size=batchSize, \n",
    "                                          shuffle=True, num_workers=1)\n",
    "\n",
    "\n",
    "testLoader = torch.utils.data.DataLoader(testDataset, batch_size=batchSize, \n",
    "                                          shuffle=False, num_workers=1)"
   ]
  },
  {
   "cell_type": "code",
   "execution_count": 53,
   "metadata": {},
   "outputs": [],
   "source": [
    "a = trainDataset[0][0]"
   ]
  },
  {
   "cell_type": "code",
   "execution_count": 62,
   "metadata": {},
   "outputs": [
    {
     "data": {
      "text/plain": [
       "torch.Size([3, 256, 256])"
      ]
     },
     "execution_count": 62,
     "metadata": {},
     "output_type": "execute_result"
    }
   ],
   "source": [
    "a.unsqueeze(0).repeat(3,1,1).shape"
   ]
  },
  {
   "cell_type": "code",
   "execution_count": 37,
   "metadata": {},
   "outputs": [
    {
     "data": {
      "text/plain": [
       "torch.float32"
      ]
     },
     "execution_count": 37,
     "metadata": {},
     "output_type": "execute_result"
    }
   ],
   "source": [
    "a[1].dtype"
   ]
  },
  {
   "cell_type": "code",
   "execution_count": 73,
   "metadata": {},
   "outputs": [],
   "source": [
    "learner = SegLearner(model, trainLoader, optimizer, criterion, testLoader, device = 'cuda:0')"
   ]
  },
  {
   "cell_type": "code",
   "execution_count": 74,
   "metadata": {},
   "outputs": [
    {
     "name": "stderr",
     "output_type": "stream",
     "text": [
      "100%|██████████| 272/272 [03:20<00:00,  1.35it/s]\n",
      "100%|██████████| 272/272 [01:03<00:00,  4.31it/s]\n",
      "  0%|          | 0/204 [00:00<?, ?it/s]"
     ]
    },
    {
     "name": "stdout",
     "output_type": "stream",
     "text": [
      "Epoch Time : 0:04:23.890350\n",
      "Train Loss : 0.6960874767426182  Train IOU : 0.309492290019989\n"
     ]
    },
    {
     "name": "stderr",
     "output_type": "stream",
     "text": [
      "100%|██████████| 204/204 [00:47<00:00,  4.32it/s]\n",
      "  0%|          | 0/272 [00:00<?, ?it/s]"
     ]
    },
    {
     "name": "stdout",
     "output_type": "stream",
     "text": [
      "Test IOU : 0.2537856101989746\n"
     ]
    },
    {
     "name": "stderr",
     "output_type": "stream",
     "text": [
      "100%|██████████| 272/272 [03:24<00:00,  1.33it/s]\n",
      "100%|██████████| 272/272 [01:03<00:00,  4.31it/s]\n",
      "  0%|          | 0/204 [00:00<?, ?it/s]"
     ]
    },
    {
     "name": "stdout",
     "output_type": "stream",
     "text": [
      "Epoch Time : 0:04:27.899459\n",
      "Train Loss : 0.6619658693671227  Train IOU : 0.5513613224029541\n"
     ]
    },
    {
     "name": "stderr",
     "output_type": "stream",
     "text": [
      "100%|██████████| 204/204 [00:47<00:00,  4.32it/s]\n",
      "  0%|          | 0/272 [00:00<?, ?it/s]"
     ]
    },
    {
     "name": "stdout",
     "output_type": "stream",
     "text": [
      "Test IOU : 0.35437560081481934\n"
     ]
    },
    {
     "name": "stderr",
     "output_type": "stream",
     "text": [
      "100%|██████████| 272/272 [03:25<00:00,  1.32it/s]\n",
      "100%|██████████| 272/272 [01:03<00:00,  4.31it/s]\n",
      "  0%|          | 0/204 [00:00<?, ?it/s]"
     ]
    },
    {
     "name": "stdout",
     "output_type": "stream",
     "text": [
      "Epoch Time : 0:04:28.421801\n",
      "Train Loss : 0.6582859603359419  Train IOU : 0.580426812171936\n"
     ]
    },
    {
     "name": "stderr",
     "output_type": "stream",
     "text": [
      "100%|██████████| 204/204 [00:47<00:00,  4.31it/s]\n"
     ]
    },
    {
     "name": "stdout",
     "output_type": "stream",
     "text": [
      "Test IOU : 0.3651917278766632\n"
     ]
    }
   ],
   "source": [
    "learner.fit(num_epochs=3, save_best_model=False, save_every_epoch=False, useLogger = False)"
   ]
  },
  {
   "cell_type": "code",
   "execution_count": 75,
   "metadata": {},
   "outputs": [
    {
     "name": "stderr",
     "output_type": "stream",
     "text": [
      "100%|██████████| 272/272 [03:21<00:00,  1.35it/s]\n",
      "100%|██████████| 272/272 [01:03<00:00,  4.31it/s]\n",
      "  0%|          | 0/204 [00:00<?, ?it/s]"
     ]
    },
    {
     "name": "stdout",
     "output_type": "stream",
     "text": [
      "Epoch Time : 0:04:24.470512\n",
      "Train Loss : 0.6563309336848119  Train IOU : 0.6831493973731995\n"
     ]
    },
    {
     "name": "stderr",
     "output_type": "stream",
     "text": [
      "100%|██████████| 204/204 [00:47<00:00,  4.32it/s]\n",
      "  0%|          | 0/272 [00:00<?, ?it/s]"
     ]
    },
    {
     "name": "stdout",
     "output_type": "stream",
     "text": [
      "Test IOU : 0.4163225293159485\n"
     ]
    },
    {
     "name": "stderr",
     "output_type": "stream",
     "text": [
      "100%|██████████| 272/272 [03:25<00:00,  1.33it/s]\n",
      "100%|██████████| 272/272 [01:03<00:00,  4.31it/s]\n",
      "  0%|          | 0/204 [00:00<?, ?it/s]"
     ]
    },
    {
     "name": "stdout",
     "output_type": "stream",
     "text": [
      "Epoch Time : 0:04:28.303623\n",
      "Train Loss : 0.6551946469527834  Train IOU : 0.6875644326210022\n"
     ]
    },
    {
     "name": "stderr",
     "output_type": "stream",
     "text": [
      "100%|██████████| 204/204 [00:47<00:00,  4.31it/s]\n",
      "  0%|          | 0/272 [00:00<?, ?it/s]"
     ]
    },
    {
     "name": "stdout",
     "output_type": "stream",
     "text": [
      "Test IOU : 0.45044249296188354\n"
     ]
    },
    {
     "name": "stderr",
     "output_type": "stream",
     "text": [
      "100%|██████████| 272/272 [03:25<00:00,  1.33it/s]\n",
      "100%|██████████| 272/272 [01:03<00:00,  4.31it/s]\n",
      "  0%|          | 0/204 [00:00<?, ?it/s]"
     ]
    },
    {
     "name": "stdout",
     "output_type": "stream",
     "text": [
      "Epoch Time : 0:04:28.197490\n",
      "Train Loss : 0.6542562193730298  Train IOU : 0.7507726550102234\n"
     ]
    },
    {
     "name": "stderr",
     "output_type": "stream",
     "text": [
      "100%|██████████| 204/204 [00:47<00:00,  4.31it/s]"
     ]
    },
    {
     "name": "stdout",
     "output_type": "stream",
     "text": [
      "Test IOU : 0.44316619634628296\n"
     ]
    },
    {
     "name": "stderr",
     "output_type": "stream",
     "text": [
      "\n"
     ]
    }
   ],
   "source": [
    "learner.fit(num_epochs=3, save_best_model=False, save_every_epoch=False, useLogger = False)"
   ]
  },
  {
   "cell_type": "code",
   "execution_count": 77,
   "metadata": {},
   "outputs": [
    {
     "name": "stderr",
     "output_type": "stream",
     "text": [
      "100%|██████████| 272/272 [03:20<00:00,  1.36it/s]\n",
      "100%|██████████| 272/272 [01:03<00:00,  4.30it/s]\n",
      "  0%|          | 0/204 [00:00<?, ?it/s]"
     ]
    },
    {
     "name": "stdout",
     "output_type": "stream",
     "text": [
      "Epoch Time : 0:04:23.707304\n",
      "Train Loss : 0.6510335700038601  Train IOU : 0.8704193830490112\n"
     ]
    },
    {
     "name": "stderr",
     "output_type": "stream",
     "text": [
      "100%|██████████| 204/204 [00:47<00:00,  4.31it/s]\n",
      "  0%|          | 0/272 [00:00<?, ?it/s]"
     ]
    },
    {
     "name": "stdout",
     "output_type": "stream",
     "text": [
      "Test IOU : 0.45024585723876953\n"
     ]
    },
    {
     "name": "stderr",
     "output_type": "stream",
     "text": [
      "100%|██████████| 272/272 [03:25<00:00,  1.33it/s]\n",
      "100%|██████████| 272/272 [01:03<00:00,  4.31it/s]\n",
      "  0%|          | 0/204 [00:00<?, ?it/s]"
     ]
    },
    {
     "name": "stdout",
     "output_type": "stream",
     "text": [
      "Epoch Time : 0:04:28.368771\n",
      "Train Loss : 0.6509412632269018  Train IOU : 0.8578366637229919\n"
     ]
    },
    {
     "name": "stderr",
     "output_type": "stream",
     "text": [
      "100%|██████████| 204/204 [00:47<00:00,  4.31it/s]\n",
      "  0%|          | 0/272 [00:00<?, ?it/s]"
     ]
    },
    {
     "name": "stdout",
     "output_type": "stream",
     "text": [
      "Test IOU : 0.44591936469078064\n"
     ]
    },
    {
     "name": "stderr",
     "output_type": "stream",
     "text": [
      "100%|██████████| 272/272 [03:25<00:00,  1.32it/s]\n",
      "100%|██████████| 272/272 [01:03<00:00,  4.31it/s]\n",
      "  0%|          | 0/204 [00:00<?, ?it/s]"
     ]
    },
    {
     "name": "stdout",
     "output_type": "stream",
     "text": [
      "Epoch Time : 0:04:28.423233\n",
      "Train Loss : 0.6506421730360564  Train IOU : 0.8682854771614075\n"
     ]
    },
    {
     "name": "stderr",
     "output_type": "stream",
     "text": [
      "100%|██████████| 204/204 [00:47<00:00,  4.31it/s]\n",
      "  0%|          | 0/272 [00:00<?, ?it/s]"
     ]
    },
    {
     "name": "stdout",
     "output_type": "stream",
     "text": [
      "Test IOU : 0.44542771577835083\n"
     ]
    },
    {
     "name": "stderr",
     "output_type": "stream",
     "text": [
      "100%|██████████| 272/272 [03:25<00:00,  1.32it/s]\n",
      "100%|██████████| 272/272 [01:03<00:00,  4.31it/s]\n",
      "  0%|          | 0/204 [00:00<?, ?it/s]"
     ]
    },
    {
     "name": "stdout",
     "output_type": "stream",
     "text": [
      "Epoch Time : 0:04:28.534365\n",
      "Train Loss : 0.6505153851912302  Train IOU : 0.8940397500991821\n"
     ]
    },
    {
     "name": "stderr",
     "output_type": "stream",
     "text": [
      "100%|██████████| 204/204 [00:47<00:00,  4.31it/s]\n",
      "  0%|          | 0/272 [00:00<?, ?it/s]"
     ]
    },
    {
     "name": "stdout",
     "output_type": "stream",
     "text": [
      "Test IOU : 0.45929205417633057\n"
     ]
    },
    {
     "name": "stderr",
     "output_type": "stream",
     "text": [
      "100%|██████████| 272/272 [03:25<00:00,  1.32it/s]\n",
      "100%|██████████| 272/272 [01:03<00:00,  4.31it/s]\n",
      "  0%|          | 0/204 [00:00<?, ?it/s]"
     ]
    },
    {
     "name": "stdout",
     "output_type": "stream",
     "text": [
      "Epoch Time : 0:04:28.514696\n",
      "Train Loss : 0.6504148880348486  Train IOU : 0.8957321643829346\n"
     ]
    },
    {
     "name": "stderr",
     "output_type": "stream",
     "text": [
      "100%|██████████| 204/204 [00:47<00:00,  4.31it/s]\n",
      "  0%|          | 0/272 [00:00<?, ?it/s]"
     ]
    },
    {
     "name": "stdout",
     "output_type": "stream",
     "text": [
      "Test IOU : 0.4533923268318176\n"
     ]
    },
    {
     "name": "stderr",
     "output_type": "stream",
     "text": [
      "100%|██████████| 272/272 [03:25<00:00,  1.33it/s]\n",
      "100%|██████████| 272/272 [01:03<00:00,  4.31it/s]\n",
      "  0%|          | 0/204 [00:00<?, ?it/s]"
     ]
    },
    {
     "name": "stdout",
     "output_type": "stream",
     "text": [
      "Epoch Time : 0:04:28.445800\n",
      "Train Loss : 0.6502281506271923  Train IOU : 0.9022810459136963\n"
     ]
    },
    {
     "name": "stderr",
     "output_type": "stream",
     "text": [
      "100%|██████████| 204/204 [00:47<00:00,  4.32it/s]\n",
      "  0%|          | 0/272 [00:00<?, ?it/s]"
     ]
    },
    {
     "name": "stdout",
     "output_type": "stream",
     "text": [
      "Test IOU : 0.4574238061904907\n"
     ]
    },
    {
     "name": "stderr",
     "output_type": "stream",
     "text": [
      "100%|██████████| 272/272 [03:25<00:00,  1.33it/s]\n",
      "100%|██████████| 272/272 [01:03<00:00,  4.31it/s]\n",
      "  0%|          | 0/204 [00:00<?, ?it/s]"
     ]
    },
    {
     "name": "stdout",
     "output_type": "stream",
     "text": [
      "Epoch Time : 0:04:28.303801\n",
      "Train Loss : 0.6500961554839331  Train IOU : 0.9001471996307373\n"
     ]
    },
    {
     "name": "stderr",
     "output_type": "stream",
     "text": [
      "100%|██████████| 204/204 [00:47<00:00,  4.32it/s]\n",
      "  0%|          | 0/272 [00:00<?, ?it/s]"
     ]
    },
    {
     "name": "stdout",
     "output_type": "stream",
     "text": [
      "Test IOU : 0.44660767912864685\n"
     ]
    },
    {
     "name": "stderr",
     "output_type": "stream",
     "text": [
      "100%|██████████| 272/272 [03:24<00:00,  1.33it/s]\n",
      "100%|██████████| 272/272 [01:03<00:00,  4.30it/s]\n",
      "  0%|          | 0/204 [00:00<?, ?it/s]"
     ]
    },
    {
     "name": "stdout",
     "output_type": "stream",
     "text": [
      "Epoch Time : 0:04:28.158554\n",
      "Train Loss : 0.649992504321477  Train IOU : 0.8989697694778442\n"
     ]
    },
    {
     "name": "stderr",
     "output_type": "stream",
     "text": [
      "100%|██████████| 204/204 [00:47<00:00,  4.31it/s]"
     ]
    },
    {
     "name": "stdout",
     "output_type": "stream",
     "text": [
      "Test IOU : 0.44739434123039246\n"
     ]
    },
    {
     "name": "stderr",
     "output_type": "stream",
     "text": [
      "\n"
     ]
    }
   ],
   "source": [
    "learner.fit(num_epochs=8, save_best_model=False, save_every_epoch=False, useLogger = False)"
   ]
  },
  {
   "cell_type": "code",
   "execution_count": null,
   "metadata": {},
   "outputs": [],
   "source": [
    "learner.fit(num_epochs=8, save_best_model=False, save_every_epoch=False, useLogger = False)"
   ]
  }
 ],
 "metadata": {
  "kernelspec": {
   "display_name": "env",
   "language": "python",
   "name": "env"
  },
  "language_info": {
   "codemirror_mode": {
    "name": "ipython",
    "version": 3
   },
   "file_extension": ".py",
   "mimetype": "text/x-python",
   "name": "python",
   "nbconvert_exporter": "python",
   "pygments_lexer": "ipython3",
   "version": "3.6.4"
  }
 },
 "nbformat": 4,
 "nbformat_minor": 4
}
