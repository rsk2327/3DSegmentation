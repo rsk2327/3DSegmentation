{
 "cells": [
  {
   "cell_type": "code",
   "execution_count": 1,
   "metadata": {},
   "outputs": [],
   "source": [
    "import os\n",
    "import numpy as np\n",
    "import nibabel\n",
    "\n",
    "data_path = '/home/roshansk/Covid/Live/ircad-dataset'\n",
    "#we will undersample our training 2D images later (for memory and speed)\n",
    "image_rows = int(512/2)\n",
    "image_cols = int(512/2) "
   ]
  },
  {
   "cell_type": "code",
   "execution_count": null,
   "metadata": {},
   "outputs": [],
   "source": [
    "def create_train_data():\n",
    "    print('-'*30)\n",
    "    print('Creating training data...')\n",
    "    print('-'*30)\n",
    "    train_data_path = os.path.join(data_path, 'train')\n",
    "    images = os.listdir(train_data_path)\n",
    "    #training images\n",
    "    imgs_train = [] \n",
    "    #training masks (corresponding to the liver)\n",
    "    masks_train = []    \n",
    "    #file names corresponding to training masks\n",
    "    training_masks = images[::2]\n",
    "    #file names corresponding to training images\n",
    "    training_images = images[1::2] \n",
    "        \n",
    "    for liver, orig in zip(training_masks, training_images):\n",
    "        #we load 3D training mask (shape=(512,512,129))\n",
    "        training_mask = nibabel.load(os.path.join(train_data_path, liver))\n",
    "        #we load 3D training image\n",
    "        training_image = nibabel.load(os.path.join(train_data_path, orig)) \n",
    "        \n",
    "        for k in range(training_mask.shape[2]):\n",
    "            #axial cuts are made along the z axis with undersampling\n",
    "            mask_2d = np.array(training_mask.get_data()[::2, ::2, k]) \n",
    "            image_2d = np.array(training_image.get_data()[::2, ::2, k])\n",
    "            #we only recover the 2D sections containing the liver\n",
    "            #if mask_2d contains only 0, it means that there is no liver\n",
    "            if len(np.unique(mask_2d)) != 1:\n",
    "                masks_train.append(mask_2d)\n",
    "                imgs_train.append(image_2d)\n",
    "                    \n",
    "    imgs = np.ndarray(\n",
    "            (len(imgs_train), image_rows, image_cols), dtype=np.uint8\n",
    "            )\n",
    "    imgs_mask = np.ndarray(\n",
    "            (len(masks_train), image_rows, image_cols), dtype=np.uint8\n",
    "            )\n",
    "    \n",
    "    for index, img in enumerate(imgs_train):\n",
    "        imgs[index, :, :] = img\n",
    "        \n",
    "    for index, img in enumerate(masks_train):\n",
    "        imgs_mask[index, :, :] = img\n",
    "\n",
    "    np.save('imgs_train.npy', imgs)\n",
    "    np.save('masks_train.npy', imgs_mask)\n",
    "    print('Saving to .npy files done.')"
   ]
  },
  {
   "cell_type": "code",
   "execution_count": 4,
   "metadata": {},
   "outputs": [],
   "source": [
    "train_data_path = os.path.join(data_path, 'train')\n",
    "images = sorted(os.listdir(train_data_path))\n",
    "#training images\n",
    "imgs_train = [] \n",
    "#training masks (corresponding to the liver)\n",
    "masks_train = []    \n",
    "#file names corresponding to training masks\n",
    "training_masks = images[::2]\n",
    "#file names corresponding to training images\n",
    "training_images = images[1::2] \n",
    "\n"
   ]
  },
  {
   "cell_type": "code",
   "execution_count": 5,
   "metadata": {},
   "outputs": [
    {
     "data": {
      "text/plain": [
       "['ircad_e08_orig.nii.gz',\n",
       " 'ircad_e09_orig.nii.gz',\n",
       " 'ircad_e10_orig.nii.gz',\n",
       " 'ircad_e11_orig.nii.gz',\n",
       " 'ircad_e12_orig.nii.gz',\n",
       " 'ircad_e13_orig.nii.gz',\n",
       " 'ircad_e14_orig.nii.gz',\n",
       " 'ircad_e15_orig.nii.gz',\n",
       " 'ircad_e16_orig.nii.gz',\n",
       " 'ircad_e17_orig.nii.gz',\n",
       " 'ircad_e18_orig.nii.gz',\n",
       " 'ircad_e19_orig.nii.gz',\n",
       " 'ircad_e20_orig.nii.gz']"
      ]
     },
     "execution_count": 5,
     "metadata": {},
     "output_type": "execute_result"
    }
   ],
   "source": [
    "training_images"
   ]
  },
  {
   "cell_type": "code",
   "execution_count": null,
   "metadata": {},
   "outputs": [],
   "source": []
  },
  {
   "cell_type": "code",
   "execution_count": null,
   "metadata": {},
   "outputs": [],
   "source": []
  },
  {
   "cell_type": "code",
   "execution_count": null,
   "metadata": {},
   "outputs": [],
   "source": []
  },
  {
   "cell_type": "code",
   "execution_count": null,
   "metadata": {},
   "outputs": [],
   "source": []
  },
  {
   "cell_type": "code",
   "execution_count": null,
   "metadata": {},
   "outputs": [],
   "source": []
  }
 ],
 "metadata": {
  "kernelspec": {
   "display_name": "env",
   "language": "python",
   "name": "env"
  },
  "language_info": {
   "codemirror_mode": {
    "name": "ipython",
    "version": 3
   },
   "file_extension": ".py",
   "mimetype": "text/x-python",
   "name": "python",
   "nbconvert_exporter": "python",
   "pygments_lexer": "ipython3",
   "version": "3.6.4"
  }
 },
 "nbformat": 4,
 "nbformat_minor": 4
}
